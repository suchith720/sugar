{
 "cells": [
  {
   "cell_type": "code",
   "execution_count": 1,
   "id": "41d81492-99f7-4fa5-9b40-cc5a1f7d4bdb",
   "metadata": {},
   "outputs": [],
   "source": [
    "#| default_exp core"
   ]
  },
  {
   "cell_type": "code",
   "execution_count": 11,
   "id": "e663bf41-c7b8-4b99-9fa7-8d48d303a859",
   "metadata": {},
   "outputs": [],
   "source": [
    "#| hide\n",
    "from nbdev.showdoc import *\n",
    "import nbdev; nbdev.nbdev_export()"
   ]
  },
  {
   "cell_type": "code",
   "execution_count": 4,
   "id": "f338a506-6a12-42d5-bb2d-e0bfb9683f0e",
   "metadata": {},
   "outputs": [],
   "source": [
    "#| export\n",
    "import scipy.sparse as sp, numpy as np\n",
    "from tqdm.auto import tqdm\n",
    "from typing import Dict"
   ]
  },
  {
   "cell_type": "code",
   "execution_count": 13,
   "id": "0af8fcb7-aeeb-4960-88a8-d9d938376faa",
   "metadata": {},
   "outputs": [],
   "source": [
    "#| export\n",
    "def load_raw_txt(fname:str, encoding:str='utf-8'):\n",
    "    ids, raw_txt = [], []\n",
    "    with open(fname, 'r', encoding=encoding) as file:\n",
    "        for line in file:\n",
    "            k, v = line[:-1].split('->', maxsplit=1)\n",
    "            ids.append(k); raw_txt.append(v)\n",
    "    return ids, raw_txt\n",
    "    "
   ]
  },
  {
   "cell_type": "code",
   "execution_count": 14,
   "id": "529e38e5-509c-4c91-8abf-4dcd2732639e",
   "metadata": {},
   "outputs": [],
   "source": [
    "#| export\n",
    "def get_all_ids(raw_dir, encoding='utf-8'):\n",
    "    trn_ids, _ = load_raw_txt(f'{raw_dir}/train.raw.txt', encoding=encoding)\n",
    "    tst_ids, _ = load_raw_txt(f'{raw_dir}/test.raw.txt', encoding=encoding)\n",
    "    lbl_ids, _ = load_raw_txt(f'{raw_dir}/label.raw.txt', encoding=encoding)\n",
    "    return set(trn_ids + tst_ids + lbl_ids)\n",
    "    "
   ]
  },
  {
   "cell_type": "code",
   "execution_count": 1,
   "id": "b94f2f54-c101-4695-92f3-254e7f602120",
   "metadata": {},
   "outputs": [],
   "source": [
    "#| export\n",
    "def filter_mapping(mapping, ids):\n",
    "    return {id:mapping[id] for id in ids if id in mapping}\n",
    "    "
   ]
  },
  {
   "cell_type": "code",
   "execution_count": 17,
   "id": "b1d31288-64a6-44e8-9432-0ab8b0a2623b",
   "metadata": {},
   "outputs": [],
   "source": [
    "#| export\n",
    "def create_vocab_and_item2idx(mapping):\n",
    "    mapping_item2idx, vocab = dict(), dict()\n",
    "    for k,v in tqdm(mapping.items()):\n",
    "        for o in v:\n",
    "            idx = vocab.setdefault(o, len(vocab))\n",
    "            l = mapping_item2idx.setdefault(k, [])\n",
    "            l.append(idx)\n",
    "    return vocab, mapping_item2idx\n",
    "    "
   ]
  },
  {
   "cell_type": "code",
   "execution_count": 3,
   "id": "13527bef-38d5-4f9f-8d1f-5134cdb32b89",
   "metadata": {},
   "outputs": [],
   "source": [
    "#| export\n",
    "def save_raw_txt(fname, ids, raw_txt, encoding='utf-8'):\n",
    "    assert len(ids) == len(raw_txt), \"Number of identifiers and elements in raw text should be the same.\"\n",
    "    with open(fname, 'w', encoding=encoding) as file:\n",
    "        for i,txt in zip(ids, raw_txt):\n",
    "            file.write(f'{i}->{txt}\\n')\n",
    "            "
   ]
  },
  {
   "cell_type": "code",
   "execution_count": 11,
   "id": "5a015e31-2def-4833-a296-c0e8d0e56410",
   "metadata": {},
   "outputs": [],
   "source": [
    "#| export\n",
    "def get_matrix_from_item2idx(mapping, vocab_size, ids=None):\n",
    "    data, indices, indptr = [], [], [0]\n",
    "    ids = list(mapping) if ids is None else ids\n",
    "    for i in tqdm(ids):\n",
    "        if i in mapping:\n",
    "            item_idx = mapping[i]\n",
    "            data.extend([1]*len(item_idx))\n",
    "            indices.extend(item_idx)\n",
    "        indptr.append(len(data))\n",
    "    return sp.csr_matrix((data, indices, indptr), shape=(len(ids), vocab_size), dtype=np.int64), ids\n",
    "    "
   ]
  },
  {
   "cell_type": "code",
   "execution_count": 2,
   "id": "8d98b719-921d-4773-908e-a65ece8052c6",
   "metadata": {},
   "outputs": [],
   "source": [
    "#| export\n",
    "def get_matrix_from_mapping(mapping, ids=None):\n",
    "    if ids is not None:\n",
    "        mapping = filter_mapping(mapping, ids)\n",
    "    vocab, mapping_item2idx = create_vocab_and_item2idx(mapping)\n",
    "    matrix, ids = get_matrix_from_item2idx(mapping_item2idx, len(vocab))\n",
    "    return matrix, ids, vocab\n",
    "    "
   ]
  },
  {
   "cell_type": "code",
   "execution_count": null,
   "id": "d1acc558-7db6-4ff1-b567-5d0fc1826c8c",
   "metadata": {},
   "outputs": [],
   "source": []
  }
 ],
 "metadata": {
  "kernelspec": {
   "display_name": "Python 3 (ipykernel)",
   "language": "python",
   "name": "python3"
  },
  "language_info": {
   "codemirror_mode": {
    "name": "ipython",
    "version": 3
   },
   "file_extension": ".py",
   "mimetype": "text/x-python",
   "name": "python",
   "nbconvert_exporter": "python",
   "pygments_lexer": "ipython3",
   "version": "3.9.19"
  }
 },
 "nbformat": 4,
 "nbformat_minor": 5
}
