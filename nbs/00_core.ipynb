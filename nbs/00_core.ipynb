{
 "cells": [
  {
   "cell_type": "code",
   "execution_count": null,
   "id": "41d81492-99f7-4fa5-9b40-cc5a1f7d4bdb",
   "metadata": {},
   "outputs": [],
   "source": [
    "#| default_exp core"
   ]
  },
  {
   "cell_type": "code",
   "execution_count": null,
   "id": "e663bf41-c7b8-4b99-9fa7-8d48d303a859",
   "metadata": {},
   "outputs": [],
   "source": [
    "#| hide\n",
    "from nbdev.showdoc import *\n",
    "import nbdev; nbdev.nbdev_export()"
   ]
  },
  {
   "cell_type": "code",
   "execution_count": null,
   "id": "f338a506-6a12-42d5-bb2d-e0bfb9683f0e",
   "metadata": {},
   "outputs": [],
   "source": [
    "#| export\n",
    "import scipy.sparse as sp, numpy as np, pandas as pd\n",
    "from tqdm.auto import tqdm\n",
    "from typing import Dict"
   ]
  },
  {
   "cell_type": "code",
   "execution_count": null,
   "id": "003846d8-85aa-464e-a44d-6b6405802990",
   "metadata": {},
   "outputs": [],
   "source": []
  },
  {
   "cell_type": "code",
   "execution_count": null,
   "id": "0af8fcb7-aeeb-4960-88a8-d9d938376faa",
   "metadata": {},
   "outputs": [],
   "source": [
    "#| export\n",
    "def load_raw_txt(fname:str, encoding:str='utf-8'):\n",
    "    ids, raw = [], []\n",
    "    with open(fname, 'r', encoding=encoding) as file:\n",
    "        for line in file:\n",
    "            k, v = line[:-1].split('->', maxsplit=1)\n",
    "            ids.append(k); raw.append(v)\n",
    "    return ids, raw\n",
    "\n",
    "def load_raw_csv(fname:str, id_name:str=\"identifier\", raw_name:str=\"text\"):\n",
    "    df = pd.read_csv(fname)\n",
    "    df.fillna('', inplace=True)\n",
    "    ids, raw = df[id_name].tolist(), df[raw_name].tolist()\n",
    "    return ids, raw\n",
    "\n",
    "def load_raw_file(fname:str, id_name:str=\"identifier\", raw_name:str=\"text\", encoding:str='utf-8'):\n",
    "    if fname.endswith(\".txt\"): \n",
    "        return load_raw_txt(fname, encoding=encoding)\n",
    "    elif fname.endswith(\".csv\"): \n",
    "        return load_raw_csv(fname, id_name=id_name, raw_name=raw_name)\n",
    "    else: \n",
    "        raise ValueError(f\"Invalid filename: {fname}.\")\n",
    "    "
   ]
  },
  {
   "cell_type": "code",
   "execution_count": null,
   "id": "4bf3acf8-3ad4-45ee-8c98-0a0e8b5669f9",
   "metadata": {},
   "outputs": [],
   "source": []
  },
  {
   "cell_type": "code",
   "execution_count": null,
   "id": "529e38e5-509c-4c91-8abf-4dcd2732639e",
   "metadata": {},
   "outputs": [],
   "source": [
    "#| export\n",
    "def get_all_ids(raw_dir, encoding='utf-8'):\n",
    "    trn_ids, _ = load_raw_txt(f'{raw_dir}/train.raw.txt', encoding=encoding)\n",
    "    tst_ids, _ = load_raw_txt(f'{raw_dir}/test.raw.txt', encoding=encoding)\n",
    "    lbl_ids, _ = load_raw_txt(f'{raw_dir}/label.raw.txt', encoding=encoding)\n",
    "    return set(trn_ids + tst_ids + lbl_ids)\n",
    "    "
   ]
  },
  {
   "cell_type": "code",
   "execution_count": null,
   "id": "b94f2f54-c101-4695-92f3-254e7f602120",
   "metadata": {},
   "outputs": [],
   "source": [
    "#| export\n",
    "def filter_mapping(mapping, ids):\n",
    "    return {id:mapping[id] for id in ids if id in mapping}\n",
    "    "
   ]
  },
  {
   "cell_type": "code",
   "execution_count": null,
   "id": "b1d31288-64a6-44e8-9432-0ab8b0a2623b",
   "metadata": {},
   "outputs": [],
   "source": [
    "#| export\n",
    "def create_vocab_and_item2idx(mapping):\n",
    "    mapping_item2idx, vocab = dict(), dict()\n",
    "    for k,v in tqdm(mapping.items()):\n",
    "        for o in v:\n",
    "            idx = vocab.setdefault(o, len(vocab))\n",
    "            l = mapping_item2idx.setdefault(k, [])\n",
    "            l.append(idx)\n",
    "    return vocab, mapping_item2idx\n",
    "    "
   ]
  },
  {
   "cell_type": "code",
   "execution_count": null,
   "id": "2dccb4d3-f7f8-43d0-95c4-cf16294a4563",
   "metadata": {},
   "outputs": [],
   "source": []
  },
  {
   "cell_type": "code",
   "execution_count": null,
   "id": "13527bef-38d5-4f9f-8d1f-5134cdb32b89",
   "metadata": {},
   "outputs": [],
   "source": [
    "#| export\n",
    "def save_raw_txt(fname, ids, raw, encoding='utf-8'):\n",
    "    assert len(ids) == len(raw), \"Number of identifiers and elements in raw text should be the same.\"\n",
    "    with open(fname, 'w', encoding=encoding) as file:\n",
    "        for i,r in zip(ids, raw):\n",
    "            i = str(i).replace(\"\\n\", \"\").replace(\"\\t\", \"\").replace(\"->\", \"\")\n",
    "            r = r.replace(\"\\n\", \"\").replace(\"\\t\", \"\").replace(\"->\", \"\")\n",
    "            file.write(f'{i}->{r}\\n')\n",
    "            \n",
    "def save_raw_csv(fname, ids, raw, id_name=\"identifier\", raw_name=\"text\"):\n",
    "    assert len(ids) == len(raw), \"Number of identifiers and elements in raw text should be the same.\"\n",
    "    df = pd.DataFrame({id_name: ids, raw_name: raw})\n",
    "    df.to_csv(fname, index=False)\n",
    "\n",
    "def save_raw_file(fname, ids, raw, id_name=\"identifier\", raw_name=\"text\", encoding='utf-8'):\n",
    "    if fname.endswith(\".txt\"): \n",
    "        save_raw_txt(fname, ids, raw, encoding=encoding)\n",
    "    elif fname.endswith(\".csv\"): \n",
    "        save_raw_csv(fname, ids, raw, id_name=id_name, raw_name=raw_name)\n",
    "    else: \n",
    "        raise ValueError(f\"Invalid filename: {fname}.\")\n",
    "            "
   ]
  },
  {
   "cell_type": "code",
   "execution_count": null,
   "id": "5aaabf89-363d-4997-8d0d-3aec366d1d08",
   "metadata": {},
   "outputs": [],
   "source": []
  },
  {
   "cell_type": "code",
   "execution_count": null,
   "id": "5a015e31-2def-4833-a296-c0e8d0e56410",
   "metadata": {},
   "outputs": [],
   "source": [
    "#| export\n",
    "def get_matrix_from_item2idx(mapping, vocab_size, ids=None):\n",
    "    data, indices, indptr = [], [], [0]\n",
    "    ids = list(mapping) if ids is None else ids\n",
    "    for i in tqdm(ids):\n",
    "        if i in mapping:\n",
    "            item_idx = mapping[i]\n",
    "            data.extend([1]*len(item_idx))\n",
    "            indices.extend(item_idx)\n",
    "        indptr.append(len(data))\n",
    "    return sp.csr_matrix((data, indices, indptr), shape=(len(ids), vocab_size), dtype=np.int64), ids\n",
    "    "
   ]
  },
  {
   "cell_type": "code",
   "execution_count": null,
   "id": "2a71dc6d-37a6-416d-b64c-dfacc3b2896a",
   "metadata": {},
   "outputs": [],
   "source": []
  },
  {
   "cell_type": "code",
   "execution_count": null,
   "id": "8d98b719-921d-4773-908e-a65ece8052c6",
   "metadata": {},
   "outputs": [],
   "source": [
    "#| export\n",
    "def get_matrix_from_mapping(mapping, ids=None):\n",
    "    if ids is not None:\n",
    "        mapping = filter_mapping(mapping, ids)\n",
    "    vocab, mapping_item2idx = create_vocab_and_item2idx(mapping)\n",
    "    matrix, ids = get_matrix_from_item2idx(mapping_item2idx, len(vocab))\n",
    "    return matrix, ids, vocab\n",
    "    "
   ]
  },
  {
   "cell_type": "code",
   "execution_count": null,
   "id": "d1acc558-7db6-4ff1-b567-5d0fc1826c8c",
   "metadata": {},
   "outputs": [],
   "source": []
  }
 ],
 "metadata": {
  "kernelspec": {
   "display_name": "python3",
   "language": "python",
   "name": "python3"
  }
 },
 "nbformat": 4,
 "nbformat_minor": 5
}
