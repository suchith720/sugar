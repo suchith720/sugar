{
 "cells": [
  {
   "cell_type": "markdown",
   "id": "71849b83-1575-4773-960d-17765fcad9c4",
   "metadata": {},
   "source": [
    "# Amazon Review 2018\n",
    "\n",
    "> https://cseweb.ucsd.edu/~jmcauley/datasets/amazon_v2/"
   ]
  },
  {
   "cell_type": "markdown",
   "id": "887129fe-8984-481b-a124-8bfe4795a3f2",
   "metadata": {},
   "source": [
    "- run `sugar/process_amazon2018_reviews.py` to create the reviews dataset."
   ]
  },
  {
   "cell_type": "code",
   "execution_count": 5,
   "id": "ee11dc90-b561-42c5-9f86-45e716bc58ef",
   "metadata": {},
   "outputs": [],
   "source": [
    "#| default_exp amazon_helper"
   ]
  },
  {
   "cell_type": "code",
   "execution_count": 4,
   "id": "daf1a9a7-f8a1-4ab7-accb-6d28c5670d27",
   "metadata": {},
   "outputs": [],
   "source": [
    "#| hide\n",
    "from nbdev.showdoc import *\n",
    "import nbdev; nbdev.nbdev_export()"
   ]
  },
  {
   "cell_type": "code",
   "execution_count": 3,
   "id": "0fdaaf09-2d14-4d52-b7ef-f38d5a30c271",
   "metadata": {},
   "outputs": [],
   "source": [
    "#| export\n",
    "import requests, os, gzip, json, scipy.sparse as sp, numpy as np, argparse, pandas as pd, multiprocessing as mp\n",
    "from bs4 import BeautifulSoup\n",
    "from urllib.parse import urljoin\n",
    "from tqdm.auto import tqdm"
   ]
  },
  {
   "cell_type": "markdown",
   "id": "4b53664d-adfa-46e5-bf32-dd726ce17419",
   "metadata": {
    "jp-MarkdownHeadingCollapsed": true
   },
   "source": [
    "## Download"
   ]
  },
  {
   "cell_type": "code",
   "execution_count": 13,
   "id": "249cb3db-f371-4d34-80a0-99567f4dbce0",
   "metadata": {},
   "outputs": [],
   "source": [
    "def get_urls(url):\n",
    "    response = requests.get(url)\n",
    "    assert response.status_code == 200, f'Invalid url: {url}'\n",
    "    soup = BeautifulSoup(response.text, 'html.parser')\n",
    "    return [link.get('href') for link in soup.find_all('a') if link.get('href').endswith('.gz')]\n",
    "\n",
    "def download(url, fname):\n",
    "    file_response = requests.get(url, stream=True)\n",
    "    with open(fname, 'wb') as f:\n",
    "        for chunk in file_response.iter_content(chunk_size=1024):\n",
    "            f.write(chunk)\n",
    "\n",
    "def download_amazon_dataset(url, data_dir):\n",
    "    os.makedirs(data_dir, exist_ok=True)\n",
    "    file_links = get_urls(url)\n",
    "    for link in tqdm(file_links):\n",
    "        furl, fname = urljoin(url, link), os.path.join(data_dir, link)\n",
    "        download(furl, fname)\n"
   ]
  },
  {
   "cell_type": "code",
   "execution_count": 21,
   "id": "02ed10ea-8629-4ad8-8b89-a40452c61845",
   "metadata": {},
   "outputs": [],
   "source": [
    "url = 'https://datarepo.eng.ucsd.edu/mcauley_group/data/amazon_v2/metaFiles2/'\n",
    "cache_dir = '/scratch/scai/phd/aiz218323/Projects/sugar/data/amazon_review_2018/cache/products'"
   ]
  },
  {
   "cell_type": "code",
   "execution_count": 11,
   "id": "660294c3-7616-4bb7-867c-4f00aba338da",
   "metadata": {},
   "outputs": [],
   "source": [
    "url = 'https://datarepo.eng.ucsd.edu/mcauley_group/data/amazon_v2/categoryFiles/'\n",
    "cache_dir = '/scratch/scai/phd/aiz218323/Projects/sugar/data/amazon_review_2018/cache/reviews'"
   ]
  },
  {
   "cell_type": "code",
   "execution_count": 12,
   "id": "d6b741e3-46eb-4041-ad65-6166eb3be278",
   "metadata": {},
   "outputs": [],
   "source": [
    "output_dir = '/scratch/scai/phd/aiz218323/Projects/sugar/data/amazon_review_2018'"
   ]
  },
  {
   "cell_type": "code",
   "execution_count": 8,
   "id": "dd093e93-c1b0-486a-a73d-3134fc416b3a",
   "metadata": {},
   "outputs": [],
   "source": [
    "download_amazon_dataset(url, cache_dir)"
   ]
  },
  {
   "cell_type": "markdown",
   "id": "5df21ff3-51c7-42a3-a0e3-ea3d80af733f",
   "metadata": {
    "jp-MarkdownHeadingCollapsed": true
   },
   "source": [
    "## Delete invalid rows and columns"
   ]
  },
  {
   "cell_type": "code",
   "execution_count": 45,
   "id": "9be50f3f-4052-4984-bcf1-673370dc2ff3",
   "metadata": {},
   "outputs": [],
   "source": [
    "#| export\n",
    "def remove_invalid_lbl(item2col, item_info):\n",
    "    invalid_lbl, valid_item2col = [], {}\n",
    "    for o in item2col:\n",
    "        if o in item_info: \n",
    "            valid_item2col[o] = len(valid_item2col)\n",
    "        else: \n",
    "            invalid_lbl.append(item2col[o])\n",
    "    return valid_item2col, invalid_lbl\n",
    "\n",
    "def remove_invalid_data(item2row, matrix):\n",
    "    invalid_data, valid_item2row = [], {}\n",
    "    valid_data_mask = matrix.getnnz(axis=1) > 0\n",
    "    \n",
    "    for o,m in zip(item2row, valid_data_mask):\n",
    "        if m: valid_item2row[o] = len(valid_item2row)\n",
    "        else: invalid_data.append(item2row[o])\n",
    "            \n",
    "    return valid_item2row, invalid_data\n",
    "    "
   ]
  },
  {
   "cell_type": "code",
   "execution_count": 46,
   "id": "a8363931-0269-48c4-a213-6a44bae70a3e",
   "metadata": {},
   "outputs": [],
   "source": [
    "#| export\n",
    "def delete_rows(matrix, invalid_idx):\n",
    "    num_lbl = matrix.shape[1]\n",
    "    \n",
    "    prev_idx, num_deleted_items = 0, 0\n",
    "    data, indices, indptr = [], [], []\n",
    "    m_data, m_indices, m_indptr = matrix.data, matrix.indices, matrix.indptr\n",
    "    \n",
    "    for idx in invalid_idx:\n",
    "        start, end = m_indptr[prev_idx], m_indptr[idx]\n",
    "\n",
    "        if end > start:\n",
    "            data.append(m_data[start:end])\n",
    "            indices.append(m_indices[start:end])\n",
    "        indptr.append(m_indptr[prev_idx:idx] - num_deleted_items)\n",
    "        \n",
    "        prev_idx = idx+1\n",
    "        num_deleted_items += m_indptr[idx+1] - m_indptr[idx]\n",
    "\n",
    "    start = m_indptr[prev_idx]\n",
    "    data.append(m_data[start:])\n",
    "    indices.append(m_indices[start:])\n",
    "    indptr.append(m_indptr[prev_idx:] - num_deleted_items)\n",
    "\n",
    "    data, indices, indptr = np.hstack(data), np.hstack(indices), np.hstack(indptr)\n",
    "    num_data = len(indptr)-1\n",
    "    \n",
    "    return sp.csr_matrix((data, indices, indptr), shape=(num_data, num_lbl), dtype=matrix.dtype)\n",
    "    "
   ]
  },
  {
   "cell_type": "code",
   "execution_count": 47,
   "id": "0bddf111-07da-4ea3-8abd-1ef0c5b193dd",
   "metadata": {},
   "outputs": [],
   "source": [
    "#| export\n",
    "def clean_dataset(matrix, item2row, item2col, item_info):\n",
    "    valid_item2col, invalid_lbl = remove_invalid_lbl(item2col, item_info)\n",
    "    valid_matrix_t = delete_rows(matrix.transpose().tocsr(), invalid_lbl)\n",
    "    valid_matrix = valid_matrix_t.transpose().tocsr()\n",
    "\n",
    "    valid_item2row, invalid_data = remove_invalid_data(item2row, valid_matrix)\n",
    "    valid_matrix = delete_rows(valid_matrix, invalid_data)\n",
    "    \n",
    "    return valid_matrix, valid_item2row, valid_item2col\n",
    "    "
   ]
  },
  {
   "cell_type": "markdown",
   "id": "186907cc-0ba9-4ca1-ac07-db8929d1393e",
   "metadata": {
    "jp-MarkdownHeadingCollapsed": true
   },
   "source": [
    "## Sequentially constructing `data_lbl`"
   ]
  },
  {
   "cell_type": "markdown",
   "id": "aa4aad90-e3ca-42e1-93dd-0f05f67f6526",
   "metadata": {},
   "source": [
    "> Item inserted if it has `identifier` and `title`."
   ]
  },
  {
   "cell_type": "code",
   "execution_count": 14,
   "id": "881c8225-2ba9-4016-9378-66857dc5ec31",
   "metadata": {},
   "outputs": [],
   "source": [
    "#| export\n",
    "def construct_dataset(files):\n",
    "    item_info, item2row, item2col = {}, {}, {}\n",
    "    data, indices, indptr = [], [], [0]\n",
    "\n",
    "    for file_idx,fname in enumerate(files):\n",
    "        with gzip.open(fname, 'rt', encoding='utf-8') as f:\n",
    "            items = [json.loads(d) for d in f]\n",
    "\n",
    "        progress_bar = None\n",
    "        for item in items:\n",
    "            if progress_bar is None:\n",
    "                progress_bar = tqdm(total=len(items), unit='items', desc=f'File {file_idx+1}')\n",
    "            progress_bar.update(1)\n",
    "            \n",
    "            identifier = item['asin'] \n",
    "            short_text = item['title'] if 'title' in item else None\n",
    "            full_text = ''\n",
    "            if 'description' in item:\n",
    "                full_text += ''.join(item['description'])\n",
    "            elif 'feature' in item:\n",
    "                full_text += ''.join(item['feature'])\n",
    "\n",
    "            category = item['category'] if 'category' in item else None\n",
    "            also_view = item['also_view'] if 'also_view' in item else None\n",
    "            brand = item['brand'] if 'brand' in item else None\n",
    "            similar_item = item['similar_item'] if 'similar_item' in item else None\n",
    "            \n",
    "            if identifier and len(identifier) > 0 and short_text and len(short_text) > 0:\n",
    "                if identifier not in item_info:\n",
    "                    item_info[identifier] = {'short_text': short_text, 'full_text': full_text, 'category': category, \n",
    "                                             'also_view': also_view, 'brand': brand, 'similar_item': similar_item}\n",
    "                    \n",
    "                    if ('also_buy' in item) and (identifier not in item2row):\n",
    "                        item2row.setdefault(identifier, len(item2row))\n",
    "                        data.extend([1] * len(item['also_buy']))\n",
    "                        indices.extend([item2col.setdefault(o, len(item2col)) for o in item['also_buy']])\n",
    "                        indptr.append(len(indices))\n",
    "                \n",
    "    matrix = sp.csr_matrix((data, indices, indptr), dtype=np.float16)\n",
    "    return item_info, item2row, item2col, matrix\n",
    "        "
   ]
  },
  {
   "cell_type": "code",
   "execution_count": 48,
   "id": "eefccb87-d0ce-4880-bbd8-a3bb566f2ae0",
   "metadata": {},
   "outputs": [],
   "source": [
    "#| export\n",
    "def save_dataset(output_dir, matrix, item2row, item2col, item_info):\n",
    "    data_lbl = f'{output_dir}/data_lbl.npz'\n",
    "    sp.save_npz(data_lbl, matrix)\n",
    "\n",
    "    data_info = pd.DataFrame({'identifier':list(item2row), 'text':[item_info[o]['short_text'] for o in item2row]})\n",
    "    data_info.to_csv(f'{output_dir}/data_info.csv', index=False)\n",
    "\n",
    "    lbl_info = pd.DataFrame({'identifier':list(item2col), 'text':[item_info[o]['short_text'] for o in item2col]})\n",
    "    lbl_info.to_csv(f'{output_dir}/lbl_info.csv', index=False)\n",
    "\n",
    "    with open(f'{output_dir}/item_info.json', 'w') as f:\n",
    "        json.dump(item_info, f)\n",
    "    "
   ]
  },
  {
   "cell_type": "code",
   "execution_count": 49,
   "id": "4d5d7132-84d0-4fcc-9262-35f8b9727df5",
   "metadata": {},
   "outputs": [],
   "source": [
    "#| export\n",
    "def parse_args():\n",
    "    parser = argparse.ArgumentParser()\n",
    "    parser.add_argument('--data_url', type=str, required=True)\n",
    "    parser.add_argument('--cache_dir', type=str, required=True)\n",
    "    parser.add_argument('--output_dir', type=str, required=True)\n",
    "    return parser.parse_args()\n",
    "    "
   ]
  },
  {
   "cell_type": "markdown",
   "id": "85e4658f-e380-400e-a712-67bdf8b868db",
   "metadata": {
    "jp-MarkdownHeadingCollapsed": true
   },
   "source": [
    "### Run"
   ]
  },
  {
   "cell_type": "code",
   "execution_count": 50,
   "id": "2386dcd7-bd8b-4c47-89cd-c94d87d11de2",
   "metadata": {},
   "outputs": [
    {
     "data": {
      "application/vnd.jupyter.widget-view+json": {
       "model_id": "0bc733b9d6da4337aa5e1ab505fdac00",
       "version_major": 2,
       "version_minor": 0
      },
      "text/plain": [
       "File 1:   0%|          | 0/933 [00:00<?, ?items/s]"
      ]
     },
     "metadata": {},
     "output_type": "display_data"
    },
    {
     "data": {
      "application/vnd.jupyter.widget-view+json": {
       "model_id": "162fd41734524fd48cda11a368eccc3a",
       "version_major": 2,
       "version_minor": 0
      },
      "text/plain": [
       "File 2:   0%|          | 0/120310 [00:00<?, ?items/s]"
      ]
     },
     "metadata": {},
     "output_type": "display_data"
    }
   ],
   "source": [
    "files = [f'{cache_dir}/{file}' for file in os.listdir(cache_dir) if file.endswith('.gz')][3:5]\n",
    "item_info_1, item2row_1, item2col_1, matrix_1 = construct_dataset(files)"
   ]
  },
  {
   "cell_type": "code",
   "execution_count": null,
   "id": "429dbf03-a510-43ba-a6c9-d490abc74788",
   "metadata": {},
   "outputs": [],
   "source": []
  },
  {
   "cell_type": "code",
   "execution_count": 803,
   "id": "4b3fc7b1-8aaf-4ea4-98c2-676a33dbd004",
   "metadata": {},
   "outputs": [
    {
     "data": {
      "text/plain": [
       "matrix([[1., 1., 0., 0., 0.],\n",
       "        [0., 0., 1., 1., 1.],\n",
       "        [0., 0., 1., 0., 0.],\n",
       "        [1., 1., 1., 1., 0.],\n",
       "        [1., 0., 0., 0., 1.]], dtype=float32)"
      ]
     },
     "execution_count": 803,
     "metadata": {},
     "output_type": "execute_result"
    }
   ],
   "source": [
    "matrix_1.astype(np.float32).todense()"
   ]
  },
  {
   "cell_type": "code",
   "execution_count": 804,
   "id": "90aec4ac-6448-4d9d-9eb5-f203ee76fe30",
   "metadata": {},
   "outputs": [
    {
     "data": {
      "text/plain": [
       "({'a': {'short_text': 'a', 'full_text': ''},\n",
       "  'b': {'short_text': 'b', 'full_text': ''},\n",
       "  'c': {'short_text': 'c', 'full_text': ''},\n",
       "  'd': {'short_text': 'd', 'full_text': ''},\n",
       "  'e': {'short_text': 'e', 'full_text': ''}},\n",
       " {'a': 0, 'b': 1, 'c': 2, 'd': 3, 'e': 4},\n",
       " {'a': 0, 'd': 1, 'b': 2, 'c': 3, 'f': 4})"
      ]
     },
     "execution_count": 804,
     "metadata": {},
     "output_type": "execute_result"
    }
   ],
   "source": [
    "item_info_1, item2row_1, item2col_1"
   ]
  },
  {
   "cell_type": "code",
   "execution_count": 805,
   "id": "3a540f00-6c5d-4902-ab32-e887e93ed046",
   "metadata": {},
   "outputs": [
    {
     "data": {
      "text/plain": [
       "array([[1, 1, 0, 0],\n",
       "       [0, 0, 1, 1],\n",
       "       [0, 0, 1, 0],\n",
       "       [1, 1, 1, 1]])"
      ]
     },
     "execution_count": 805,
     "metadata": {},
     "output_type": "execute_result"
    }
   ],
   "source": [
    "np.array(output)[:, [0, 3, 1, 2]]"
   ]
  },
  {
   "cell_type": "code",
   "execution_count": 755,
   "id": "6213de8e-ecdf-464c-8bc5-c5431748c18a",
   "metadata": {},
   "outputs": [
    {
     "data": {
      "application/vnd.jupyter.widget-view+json": {
       "model_id": "13d9f53b7ceb4e0d9b95b54c819c1b6c",
       "version_major": 2,
       "version_minor": 0
      },
      "text/plain": [
       "File 1:   0%|          | 0/808 [00:00<?, ?items/s]"
      ]
     },
     "metadata": {},
     "output_type": "display_data"
    },
    {
     "data": {
      "application/vnd.jupyter.widget-view+json": {
       "model_id": "8ce0a78e49d0406f939893eb0d45c38c",
       "version_major": 2,
       "version_minor": 0
      },
      "text/plain": [
       "File 2:   0%|          | 0/839 [00:00<?, ?items/s]"
      ]
     },
     "metadata": {},
     "output_type": "display_data"
    },
    {
     "data": {
      "application/vnd.jupyter.widget-view+json": {
       "model_id": "e70f1f2f7403477cbb3eb1fdf64aa284",
       "version_major": 2,
       "version_minor": 0
      },
      "text/plain": [
       "File 3:   0%|          | 0/994 [00:00<?, ?items/s]"
      ]
     },
     "metadata": {},
     "output_type": "display_data"
    }
   ],
   "source": [
    "item_info_1, item2row_1, item2col_1, matrix_1 = construct_dataset(files)"
   ]
  },
  {
   "cell_type": "code",
   "execution_count": 21,
   "id": "74237299-9f5a-4b4c-87ba-8ea67f3b4cdd",
   "metadata": {},
   "outputs": [],
   "source": [
    "valid_matrix, valid_item2row, valid_item2col = clean_dataset(matrix_1, item2row_1, item2col_1, item_info_1)"
   ]
  },
  {
   "cell_type": "code",
   "execution_count": 807,
   "id": "0522e2e0-d034-4f6a-bc5b-dda790217e40",
   "metadata": {},
   "outputs": [
    {
     "data": {
      "text/plain": [
       "({'a': 0, 'b': 1, 'c': 2, 'd': 3, 'e': 4}, {'a': 0, 'd': 1, 'b': 2, 'c': 3})"
      ]
     },
     "execution_count": 807,
     "metadata": {},
     "output_type": "execute_result"
    }
   ],
   "source": [
    "valid_item2row, valid_item2col"
   ]
  },
  {
   "cell_type": "code",
   "execution_count": 808,
   "id": "d67c0ab4-d770-47d5-a11c-5f0233bf110a",
   "metadata": {},
   "outputs": [
    {
     "data": {
      "text/plain": [
       "matrix([[1., 1., 0., 0.],\n",
       "        [0., 0., 1., 1.],\n",
       "        [0., 0., 1., 0.],\n",
       "        [1., 1., 1., 1.],\n",
       "        [1., 0., 0., 0.]], dtype=float32)"
      ]
     },
     "execution_count": 808,
     "metadata": {},
     "output_type": "execute_result"
    }
   ],
   "source": [
    "valid_matrix.todense()"
   ]
  },
  {
   "cell_type": "code",
   "execution_count": 35,
   "id": "c7e633f5-081f-4aa7-9c56-e67cb81130fc",
   "metadata": {},
   "outputs": [],
   "source": [
    "save_dataset(output_dir, valid_matrix, valid_item2row, valid_item2col, item_info_1)"
   ]
  },
  {
   "cell_type": "code",
   "execution_count": null,
   "id": "6648cad6-8b94-4b30-a378-48945dc0b168",
   "metadata": {},
   "outputs": [],
   "source": []
  },
  {
   "cell_type": "code",
   "execution_count": 292,
   "id": "bee7595f-76a7-45b4-bb47-04f541832b41",
   "metadata": {},
   "outputs": [],
   "source": [
    "valid_item2col, invalid_lbl = remove_invalid_lbl(item2col, item_info)\n",
    "\n",
    "valid_matrix_t = delete_rows(matrix.transpose().tocsr(), invalid_lbl)\n",
    "valid_matrix = valid_matrix_t.transpose().tocsr()"
   ]
  },
  {
   "cell_type": "code",
   "execution_count": 293,
   "id": "53204c02-07c5-4898-b97a-97c217c79937",
   "metadata": {},
   "outputs": [],
   "source": [
    "valid_item2row, invalid_data = remove_invalid_data(item2row, valid_matrix)\n",
    "\n",
    "valid_matrix = delete_rows(valid_matrix, invalid_data)"
   ]
  },
  {
   "cell_type": "code",
   "execution_count": null,
   "id": "55e241da-b363-4242-a310-d4a3e3db9d78",
   "metadata": {},
   "outputs": [],
   "source": []
  },
  {
   "cell_type": "code",
   "execution_count": 296,
   "id": "dbf15465-5f71-4dbf-b51c-355a3e5e2cd2",
   "metadata": {},
   "outputs": [],
   "source": [
    "data_lbl = f'{output_dir}/data_lbl.npz'\n",
    "sp.save_npz(data_lbl, valid_matrix)"
   ]
  },
  {
   "cell_type": "code",
   "execution_count": 297,
   "id": "7a388a9b-496f-4b8f-86c6-39f1ec4e698c",
   "metadata": {},
   "outputs": [],
   "source": [
    "data_info = pd.DataFrame({'identifier':list(valid_item2row), 'text':[item_info[o]['short_text'] for o in valid_item2row]})\n",
    "data_info.to_csv(f'{output_dir}/data_info.csv', index=False)"
   ]
  },
  {
   "cell_type": "code",
   "execution_count": 298,
   "id": "6dcae4d8-4041-4ee8-b1fc-c2c68d499099",
   "metadata": {},
   "outputs": [],
   "source": [
    "lbl_info = pd.DataFrame({'identifier':list(valid_item2col), 'text':[item_info[o]['short_text'] for o in valid_item2col]})\n",
    "lbl_info.to_csv(f'{output_dir}/lbl_info.csv', index=False)"
   ]
  },
  {
   "cell_type": "markdown",
   "id": "0afccd66-5755-4995-814d-fce265ea523c",
   "metadata": {
    "jp-MarkdownHeadingCollapsed": true
   },
   "source": [
    "## Multi-processing 1"
   ]
  },
  {
   "cell_type": "code",
   "execution_count": 18,
   "id": "aa83b9a6-3db3-4c6c-9e2a-1dfa50ded8dd",
   "metadata": {},
   "outputs": [],
   "source": [
    "def construct_chunk_matrix(items):\n",
    "    item_info, item2row, item2col = {}, {}, {}\n",
    "    data, indices, indptr = [], [], [0]\n",
    "    \n",
    "    for item in items:\n",
    "        identifier = item['asin'] \n",
    "        short_text = item['title'] if 'title' in item else None\n",
    "        full_text = ''\n",
    "        if 'description' in item:\n",
    "            full_text += ''.join(item['description'])\n",
    "        elif 'feature' in item:\n",
    "            full_text += ''.join(item['feature'])\n",
    "        \n",
    "        if identifier and len(identifier) > 0 and short_text and len(short_text) > 0:\n",
    "            item_info[identifier] = {'short_text': short_text, 'full_text': full_text}\n",
    "            \n",
    "            if ('also_buy' in item) and (identifier not in item2row):\n",
    "                item2row.setdefault(identifier, len(item2row))\n",
    "                data.extend([1] * len(item['also_buy']))\n",
    "                indices.extend([item2col.setdefault(o, len(item2col)) for o in item['also_buy']])\n",
    "                indptr.append(len(indices))\n",
    "                \n",
    "    matrix = sp.csr_matrix((data, indices, indptr), shape=(len(item2row), len(item2col)), dtype=np.float16)\n",
    "    return item_info, item2row, item2col, matrix\n",
    "    "
   ]
  },
  {
   "cell_type": "code",
   "execution_count": 19,
   "id": "0c59a42d-27ef-4922-a860-ea19b7442378",
   "metadata": {},
   "outputs": [],
   "source": [
    "def remove_invalid_rows(item2row, matrix, invalid_idx):\n",
    "    valid_item2row = {}\n",
    "    \n",
    "    ctr = 0\n",
    "    for o,i in item2row.items():\n",
    "        if ctr < len(invalid_idx) and i == invalid_idx[ctr]:\n",
    "            ctr += 1\n",
    "        else:\n",
    "            valid_item2row[o] = len(valid_item2row)\n",
    "\n",
    "    valid_matrix = delete_rows(matrix, invalid_idx)\n",
    "    return valid_item2row, valid_matrix\n",
    "        "
   ]
  },
  {
   "cell_type": "code",
   "execution_count": null,
   "id": "05ad2a5b-eeaf-404c-9851-09b53d651b71",
   "metadata": {},
   "outputs": [],
   "source": []
  },
  {
   "cell_type": "code",
   "execution_count": 544,
   "id": "de9f5457-68dd-4d39-b701-ea7851307d84",
   "metadata": {},
   "outputs": [],
   "source": [
    "files = [f'{cache_dir}/{file}' for file in os.listdir(cache_dir) if file.endswith('.gz')]"
   ]
  },
  {
   "cell_type": "code",
   "execution_count": 613,
   "id": "f19b161d-ac43-4260-a6dd-7199996c8598",
   "metadata": {},
   "outputs": [],
   "source": [
    "files = files[1:2]"
   ]
  },
  {
   "cell_type": "code",
   "execution_count": 547,
   "id": "bb00c3d6-d9e5-4a0e-b6b4-bb3c29df82dd",
   "metadata": {},
   "outputs": [],
   "source": [
    "for file_idx,fname in enumerate(files):\n",
    "    with gzip.open(fname, 'rt', encoding='utf-8') as f:\n",
    "        items = [json.loads(d) for d in f]\n",
    "    break\n",
    "        "
   ]
  },
  {
   "cell_type": "code",
   "execution_count": 600,
   "id": "1b8a439c-1403-43ed-b99b-4b3881cb694c",
   "metadata": {},
   "outputs": [],
   "source": [
    "chunk_size = 10_000\n",
    "chunks = [construct_chunk_matrix(items[i:i+chunk_size]) for i in range(0, len(items), chunk_size)]"
   ]
  },
  {
   "cell_type": "code",
   "execution_count": 569,
   "id": "433de867-081a-4881-af3f-c528120436e7",
   "metadata": {},
   "outputs": [],
   "source": [
    "item_info, item2row, item2col, matrix = chunks[0]"
   ]
  },
  {
   "cell_type": "code",
   "execution_count": 570,
   "id": "55727dd8-c081-45e8-929e-8475799b687b",
   "metadata": {},
   "outputs": [],
   "source": [
    "for chunk in chunks:\n",
    "    info, row, col, mat = chunk\n",
    "    \n",
    "    offset = len(item2row)\n",
    "    invalid_rows = [i for o,i in row.items() if o in item2row]\n",
    "    valid_row, valid_mat = remove_invalid_rows(row, mat, invalid_rows)\n",
    "    valid_row = {k:v+offset for k,v in valid_row.items()}\n",
    "\n",
    "    offset = len(item2col)\n",
    "    col_remap = {i:item2col[o] if o in item2col else i+offset for o,i in col.items()}\n",
    "    valid_col = {o:item2col[o] if o in item2col else i+offset for o,i in col.items()}\n",
    "\n",
    "    valid_indices = [col_remap[i] for i in valid_mat.indices]\n",
    "    r,c = valid_mat.shape[0], max(v for v in col_remap.values())\n",
    "    valid_matrix = sp.csr_matrix((valid_mat.data, valid_indices, valid_mat.indptr), shape=(r,c), dtype=valid_mat.dtype)\n",
    "\n",
    "    matrix.resize(matrix.shape[0], valid_matrix.shape[1])\n",
    "\n",
    "    item_info.update(info)\n",
    "    item2row.update(valid_row)\n",
    "    item2col.update(valid_col)\n",
    "    matrix = sp.vstack([matrix, valid_matrix])\n",
    "    "
   ]
  },
  {
   "cell_type": "code",
   "execution_count": 571,
   "id": "9ed4390c-a692-42f4-b658-5c99dc253ca2",
   "metadata": {},
   "outputs": [
    {
     "data": {
      "text/plain": [
       "<32487x70383 sparse matrix of type '<class 'numpy.float16'>'\n",
       "\twith 102955 stored elements in Compressed Sparse Row format>"
      ]
     },
     "execution_count": 571,
     "metadata": {},
     "output_type": "execute_result"
    }
   ],
   "source": [
    "matrix"
   ]
  },
  {
   "cell_type": "code",
   "execution_count": null,
   "id": "25fe4c5b-cbd7-4c6a-b612-c76aaaff0792",
   "metadata": {},
   "outputs": [],
   "source": []
  },
  {
   "cell_type": "code",
   "execution_count": 20,
   "id": "f490a356-6053-475e-a410-b09473b8d612",
   "metadata": {},
   "outputs": [],
   "source": [
    "def construct_dataset(files, chunk_size=10_000):\n",
    "    nprocs = max(1, os.cpu_count()//2)\n",
    "    with mp.Pool(nprocs) as pool:\n",
    "        \n",
    "        item_info, item2row, item2col, matrix = None, None, None, None\n",
    "\n",
    "        for file_idx,fname in enumerate(files):\n",
    "            with gzip.open(fname, 'rt', encoding='utf-8') as f:\n",
    "                items = [json.loads(d) for d in f]\n",
    "                chunks = [items[i:i+chunk_size] for i in range(0, len(items), chunk_size)]\n",
    "\n",
    "            progress_bar = tqdm(total=len(items), unit=\"items\", desc=f\"File {file_idx}\")\n",
    "            \n",
    "            for chunk in pool.imap(construct_chunk_matrix, chunks, chunksize=2):\n",
    "                progress_bar.update(chunk_size)\n",
    "                \n",
    "                if item_info is None:\n",
    "                    item_info, item2row, item2col, matrix = chunk\n",
    "                    continue\n",
    "                    \n",
    "                info, row, col, mat = chunk\n",
    "                \n",
    "                offset = len(item2row)\n",
    "                invalid_rows = [i for o,i in row.items() if o in item2row]\n",
    "                valid_row, valid_mat = remove_invalid_rows(row, mat, invalid_rows)\n",
    "                valid_row = {k:v+offset for k,v in valid_row.items()}\n",
    "            \n",
    "                new_cols, offset = 0, len(item2col)\n",
    "                col_remap, valid_col = {}, {}\n",
    "                for o,i in col.items():\n",
    "                    if o in item2col:\n",
    "                        valid_col[o] = col_remap[i] = item2col[o]\n",
    "                    else:\n",
    "                        valid_col[o] = col_remap[i] = new_cols+offset\n",
    "                        new_cols += 1\n",
    "                    \n",
    "                valid_indices = [col_remap[i] for i in valid_mat.indices]\n",
    "                r,c = valid_mat.shape[0], offset+new_cols\n",
    "                valid_matrix = sp.csr_matrix((valid_mat.data, valid_indices, valid_mat.indptr), shape=(r,c), dtype=valid_mat.dtype)\n",
    "            \n",
    "                matrix.resize(matrix.shape[0], valid_matrix.shape[1])\n",
    "            \n",
    "                item_info.update(info)\n",
    "                item2row.update(valid_row)\n",
    "                item2col.update(valid_col)\n",
    "                matrix = sp.vstack([matrix, valid_matrix])\n",
    "                \n",
    "    return item_info, item2row, item2col, matrix\n",
    "                "
   ]
  },
  {
   "cell_type": "markdown",
   "id": "7158bee9-e7f4-4a9a-ac1d-d85434efad2c",
   "metadata": {
    "jp-MarkdownHeadingCollapsed": true
   },
   "source": [
    "### Run"
   ]
  },
  {
   "cell_type": "code",
   "execution_count": 780,
   "id": "9bcf1dbe-7005-429b-86b2-d395be5989ec",
   "metadata": {
    "scrolled": true
   },
   "outputs": [
    {
     "data": {
      "application/vnd.jupyter.widget-view+json": {
       "model_id": "b22cad4d26eb4d9585b2e0a4085cc977",
       "version_major": 2,
       "version_minor": 0
      },
      "text/plain": [
       "File 0:   0%|          | 0/933 [00:00<?, ?items/s]"
      ]
     },
     "metadata": {},
     "output_type": "display_data"
    },
    {
     "data": {
      "application/vnd.jupyter.widget-view+json": {
       "model_id": "8a547b5c44644b3f9a3bd5ae11395bde",
       "version_major": 2,
       "version_minor": 0
      },
      "text/plain": [
       "File 1:   0%|          | 0/32892 [00:00<?, ?items/s]"
      ]
     },
     "metadata": {},
     "output_type": "display_data"
    },
    {
     "data": {
      "application/vnd.jupyter.widget-view+json": {
       "model_id": "5cf11c4a6c7b4f2a9094cced9a1b1634",
       "version_major": 2,
       "version_minor": 0
      },
      "text/plain": [
       "File 2:   0%|          | 0/186637 [00:00<?, ?items/s]"
      ]
     },
     "metadata": {},
     "output_type": "display_data"
    }
   ],
   "source": [
    "files = [f'{cache_dir}/{file}' for file in os.listdir(cache_dir) if file.endswith('.gz')]\n",
    "item_info_2, item2row_2, item2col_2, matrix_2 = construct_dataset(files)"
   ]
  },
  {
   "cell_type": "code",
   "execution_count": null,
   "id": "03cc40c0-5902-444b-a2bd-e9e23ec6da47",
   "metadata": {},
   "outputs": [],
   "source": []
  },
  {
   "cell_type": "code",
   "execution_count": 737,
   "id": "f5f9cce0-965f-4a0f-af78-2dfb6aedf84d",
   "metadata": {},
   "outputs": [
    {
     "data": {
      "text/plain": [
       "{'a': {'short_text': 'a', 'full_text': ''},\n",
       " 'b': {'short_text': 'b', 'full_text': ''},\n",
       " 'c': {'short_text': 'c', 'full_text': ''},\n",
       " 'd': {'short_text': 'd', 'full_text': ''}}"
      ]
     },
     "execution_count": 737,
     "metadata": {},
     "output_type": "execute_result"
    }
   ],
   "source": [
    "item_info"
   ]
  },
  {
   "cell_type": "code",
   "execution_count": 738,
   "id": "7ad31019-83bd-43f2-bc57-c3d9cfa49ad5",
   "metadata": {},
   "outputs": [
    {
     "data": {
      "text/plain": [
       "{'a': 0, 'b': 1, 'c': 2, 'd': 3}"
      ]
     },
     "execution_count": 738,
     "metadata": {},
     "output_type": "execute_result"
    }
   ],
   "source": [
    "item2row"
   ]
  },
  {
   "cell_type": "code",
   "execution_count": 739,
   "id": "2043cef7-dcf3-46e8-9b1c-2edcda656ca3",
   "metadata": {},
   "outputs": [
    {
     "data": {
      "text/plain": [
       "matrix([[1., 1., 0., 0.],\n",
       "        [0., 0., 1., 1.],\n",
       "        [0., 0., 1., 0.],\n",
       "        [1., 1., 1., 1.]], dtype=float32)"
      ]
     },
     "execution_count": 739,
     "metadata": {},
     "output_type": "execute_result"
    }
   ],
   "source": [
    "matrix.astype(np.float32).todense()"
   ]
  },
  {
   "cell_type": "code",
   "execution_count": 740,
   "id": "d77469ff-632a-43f1-9746-b061d7da36f1",
   "metadata": {},
   "outputs": [
    {
     "data": {
      "text/plain": [
       "array([[1, 1, 0, 0],\n",
       "       [0, 0, 1, 1],\n",
       "       [0, 0, 1, 0],\n",
       "       [1, 1, 1, 1]])"
      ]
     },
     "execution_count": 740,
     "metadata": {},
     "output_type": "execute_result"
    }
   ],
   "source": [
    "np.array(output)[:, [0, 3, 1, 2]]"
   ]
  },
  {
   "cell_type": "code",
   "execution_count": null,
   "id": "08f46b6e-450a-4161-8171-a6b719219ae8",
   "metadata": {},
   "outputs": [],
   "source": []
  },
  {
   "cell_type": "code",
   "execution_count": 761,
   "id": "9fdce9cf-e414-4ba0-b50d-15d23f725e66",
   "metadata": {},
   "outputs": [
    {
     "data": {
      "application/vnd.jupyter.widget-view+json": {
       "model_id": "f4dc5f0077d24de788fa60af4afe0a69",
       "version_major": 2,
       "version_minor": 0
      },
      "text/plain": [
       "File 0:   0%|          | 0/808 [00:00<?, ?items/s]"
      ]
     },
     "metadata": {},
     "output_type": "display_data"
    },
    {
     "data": {
      "application/vnd.jupyter.widget-view+json": {
       "model_id": "1c185cf4b3ac4226b59eab87ac72295e",
       "version_major": 2,
       "version_minor": 0
      },
      "text/plain": [
       "File 1:   0%|          | 0/839 [00:00<?, ?items/s]"
      ]
     },
     "metadata": {},
     "output_type": "display_data"
    },
    {
     "data": {
      "application/vnd.jupyter.widget-view+json": {
       "model_id": "04d0e0d3f87349c685f775fe36826131",
       "version_major": 2,
       "version_minor": 0
      },
      "text/plain": [
       "File 2:   0%|          | 0/994 [00:00<?, ?items/s]"
      ]
     },
     "metadata": {},
     "output_type": "display_data"
    }
   ],
   "source": [
    "item_info_2, item2row_2, item2col_2, matrix_2 = construct_dataset(files)"
   ]
  },
  {
   "cell_type": "code",
   "execution_count": null,
   "id": "5da46102-3150-45cb-92bd-6ac3331439ab",
   "metadata": {},
   "outputs": [],
   "source": []
  },
  {
   "cell_type": "code",
   "execution_count": 781,
   "id": "fd59a0cf-1274-40a4-b6b1-29a012fa2991",
   "metadata": {},
   "outputs": [
    {
     "data": {
      "text/plain": [
       "(True, True, True)"
      ]
     },
     "execution_count": 781,
     "metadata": {},
     "output_type": "execute_result"
    }
   ],
   "source": [
    "np.all(matrix_1.data == matrix_2.data), np.all(matrix_1.indices == matrix_2.indices), np.all(matrix_1.indptr == matrix_2.indptr)"
   ]
  },
  {
   "cell_type": "code",
   "execution_count": 782,
   "id": "6c875223-a6e5-4d62-a786-e80f16dfbf02",
   "metadata": {},
   "outputs": [
    {
     "data": {
      "text/plain": [
       "(True, True, True)"
      ]
     },
     "execution_count": 782,
     "metadata": {},
     "output_type": "execute_result"
    }
   ],
   "source": [
    "item_info_1 == item_info_2, item2row_1 == item2row_2, item2col_1 == item2col_2"
   ]
  },
  {
   "cell_type": "code",
   "execution_count": null,
   "id": "013d2f2b-5b27-4d9f-a6a7-efa1640c5350",
   "metadata": {},
   "outputs": [],
   "source": []
  },
  {
   "cell_type": "code",
   "execution_count": 744,
   "id": "9889c454-a453-4f2a-a4cb-b21c6bef6aa2",
   "metadata": {},
   "outputs": [],
   "source": [
    "def get_examples(max_items=1_000, max_indices=30, num_examples=3, seed=None):\n",
    "    if seed is not None:\n",
    "        np.random.seed(seed)\n",
    "        \n",
    "    examples = []\n",
    "    for _ in range(num_examples):\n",
    "        items = []\n",
    "        for _ in range(np.random.randint(int(0.8 * max_items), max_items)):\n",
    "            title = ''.join(map(chr, np.random.randint(97, 123, size=3)))\n",
    "            also_buy = list(map(chr, np.random.randint(97, 123, size=np.random.randint(2, max_indices))))\n",
    "            item = {'asin': title, 'title': title, 'also_buy': also_buy}\n",
    "            items.append(item)\n",
    "        examples.append(items)\n",
    "    return examples\n",
    "    "
   ]
  },
  {
   "cell_type": "code",
   "execution_count": 751,
   "id": "186b8823-bfec-448e-b336-0712b0ce182a",
   "metadata": {},
   "outputs": [],
   "source": [
    "examples = get_examples(seed=100)"
   ]
  },
  {
   "cell_type": "code",
   "execution_count": null,
   "id": "39b85104-d870-4760-8648-f02a07cf791e",
   "metadata": {},
   "outputs": [],
   "source": []
  },
  {
   "cell_type": "code",
   "execution_count": 18,
   "id": "ba096f35-7ef1-4d06-b054-3b7352f8f651",
   "metadata": {},
   "outputs": [],
   "source": [
    "output = [[1, 0, 0, 1], [0, 1, 1, 0], [0, 1, 0, 0], [1, 1, 1, 1]]"
   ]
  },
  {
   "cell_type": "code",
   "execution_count": 19,
   "id": "5c81d0cc-5d1b-4454-aa93-efe6d9d6055b",
   "metadata": {},
   "outputs": [],
   "source": [
    "examples = [[ {'asin': 'a', 'title': 'a', 'also_buy': ['a', 'd']}, {'asin': 'b', 'title': 'b', 'also_buy': ['b', 'c']}],\n",
    "            [{'asin': 'c', 'title': 'c', 'also_buy': ['b']},{'asin': 'd', 'title': 'd', 'also_buy': ['a', 'b', 'c', 'd']}]]"
   ]
  },
  {
   "cell_type": "code",
   "execution_count": null,
   "id": "422abdf4-8fd3-467a-8f9e-097a0cc4dc3b",
   "metadata": {},
   "outputs": [],
   "source": [
    "examples = [[ {'asin': 'a', 'title': 'a', 'also_buy': ['a', 'd']}, {'asin': 'b', 'title': 'b', 'also_buy': ['b', 'c', 'f']}],\n",
    "                [{'asin': 'c', 'title': 'c', 'also_buy': ['b']},{'asin': 'd', 'title': 'd', 'also_buy': ['a', 'b', 'c', 'd']}],\n",
    "                [{'asin': 'e', 'title': 'e', 'also_buy': ['f']}]]"
   ]
  },
  {
   "cell_type": "code",
   "execution_count": null,
   "id": "def262e7-e756-4da0-9fb7-30877e3e1ee9",
   "metadata": {},
   "outputs": [],
   "source": []
  },
  {
   "cell_type": "markdown",
   "id": "2aeaf8ec-d10f-4348-9f25-a7857a2fc93b",
   "metadata": {
    "jp-MarkdownHeadingCollapsed": true
   },
   "source": [
    "## Multi-processing 2"
   ]
  },
  {
   "cell_type": "code",
   "execution_count": 71,
   "id": "6b1839a7-8f1a-40d6-9b8d-902a4dd5fce0",
   "metadata": {},
   "outputs": [],
   "source": [
    "def construct_file_matrix(fname):\n",
    "    with gzip.open(fname, 'rt', encoding='utf-8') as f:\n",
    "        items = [json.loads(d) for d in f]\n",
    "        \n",
    "    item_info, item2row, item2col = {}, {}, {}\n",
    "    data, indices, indptr = [], [], [0]\n",
    "    \n",
    "    for item in tqdm(items):\n",
    "        identifier = item['asin'] \n",
    "        short_text = item['title'] if 'title' in item else None\n",
    "        full_text = ''\n",
    "        if 'description' in item:\n",
    "            full_text += ''.join(item['description'])\n",
    "        elif 'feature' in item:\n",
    "            full_text += ''.join(item['feature'])\n",
    "\n",
    "        category = item['category'] if 'category' in item else None\n",
    "        also_view = item['also_view'] if 'also_view' in item else None\n",
    "        brand = item['brand'] if 'brand' in item else None\n",
    "        similar_item = item['similar_item'] if 'similar_item' in item else None\n",
    "        \n",
    "        if identifier and len(identifier) > 0 and short_text and len(short_text) > 0:\n",
    "            item_info[identifier] = {'short_text': short_text, 'full_text': full_text, 'category': category, \n",
    "                                     'also_view': also_view, 'brand': brand, 'similar_item': similar_item}\n",
    "            \n",
    "            if ('also_buy' in item) and (identifier not in item2row):\n",
    "                item2row.setdefault(identifier, len(item2row))\n",
    "                data.extend([1] * len(item['also_buy']))\n",
    "                indices.extend([item2col.setdefault(o, len(item2col)) for o in item['also_buy']])\n",
    "                indptr.append(len(indices))\n",
    "                \n",
    "    matrix = sp.csr_matrix((data, indices, indptr), shape=(len(item2row), len(item2col)), dtype=np.float16)\n",
    "    return item_info, item2row, item2col, matrix\n",
    "    "
   ]
  },
  {
   "cell_type": "code",
   "execution_count": 72,
   "id": "214f7425-e5f0-4fd4-ae05-dfcc6207f90c",
   "metadata": {},
   "outputs": [],
   "source": [
    "def remove_invalid_rows(item2row, matrix, invalid_idx):\n",
    "    valid_item2row = {}\n",
    "    \n",
    "    ctr = 0\n",
    "    for o,i in item2row.items():\n",
    "        if ctr < len(invalid_idx) and i == invalid_idx[ctr]:\n",
    "            ctr += 1\n",
    "        else:\n",
    "            valid_item2row[o] = len(valid_item2row)\n",
    "\n",
    "    valid_matrix = delete_rows(matrix, invalid_idx)\n",
    "    return valid_item2row, valid_matrix\n",
    "    "
   ]
  },
  {
   "cell_type": "code",
   "execution_count": 73,
   "id": "f6d6b747-cbb2-4a72-8fae-3d01e83351e0",
   "metadata": {},
   "outputs": [],
   "source": [
    "def construct_dataset(files):\n",
    "    nprocs = max(1, os.cpu_count()//2)\n",
    "    with mp.Pool(nprocs) as pool:\n",
    "        \n",
    "        item_info, item2row, item2col, matrix = None, None, None, None\n",
    "        \n",
    "        progress_bar = tqdm(total=len(files), unit=\"items\")\n",
    "        \n",
    "        for chunk in pool.imap(construct_file_matrix, files, chunksize=1):\n",
    "            \n",
    "            if item_info is None:\n",
    "                item_info, item2row, item2col, matrix = chunk\n",
    "                progress_bar.update(1)\n",
    "                continue\n",
    "                \n",
    "            info, row, col, mat = chunk\n",
    "            \n",
    "            offset = len(item2row)\n",
    "            invalid_rows = [i for o,i in row.items() if o in item2row]\n",
    "            valid_row, valid_mat = remove_invalid_rows(row, mat, invalid_rows)\n",
    "            valid_row = {k:v+offset for k,v in valid_row.items()}\n",
    "        \n",
    "            new_cols, offset = 0, len(item2col)\n",
    "            col_remap, valid_col = {}, {}\n",
    "            for o,i in col.items():\n",
    "                if o in item2col:\n",
    "                    valid_col[o] = col_remap[i] = item2col[o]\n",
    "                else:\n",
    "                    valid_col[o] = col_remap[i] = new_cols+offset\n",
    "                    new_cols += 1\n",
    "                \n",
    "            valid_indices = [col_remap[i] for i in valid_mat.indices]\n",
    "            r,c = valid_mat.shape[0], offset+new_cols\n",
    "            valid_matrix = sp.csr_matrix((valid_mat.data, valid_indices, valid_mat.indptr), shape=(r,c), dtype=valid_mat.dtype)\n",
    "        \n",
    "            matrix.resize(matrix.shape[0], valid_matrix.shape[1])\n",
    "        \n",
    "            item_info.update(info)\n",
    "            item2row.update(valid_row)\n",
    "            item2col.update(valid_col)\n",
    "            matrix = sp.vstack([matrix, valid_matrix])\n",
    "            \n",
    "            progress_bar.update(1)\n",
    "                \n",
    "    return item_info, item2row, item2col, matrix\n",
    "                "
   ]
  },
  {
   "cell_type": "markdown",
   "id": "233f0f1d-7b0d-40a1-8c55-42faf1f4ce70",
   "metadata": {
    "jp-MarkdownHeadingCollapsed": true
   },
   "source": [
    "### Run"
   ]
  },
  {
   "cell_type": "code",
   "execution_count": 74,
   "id": "d147c846-d32f-44a8-a728-a4fef542c4b2",
   "metadata": {},
   "outputs": [],
   "source": [
    "files = [f'{cache_dir}/{file}' for file in os.listdir(cache_dir) if file.endswith('.gz')][3:5]"
   ]
  },
  {
   "cell_type": "code",
   "execution_count": 75,
   "id": "513f0f0a-ef41-4d4a-a37e-9265f1f5abe5",
   "metadata": {},
   "outputs": [
    {
     "data": {
      "application/vnd.jupyter.widget-view+json": {
       "model_id": "1dcbb2f972784d33b43a2a893f88669d",
       "version_major": 2,
       "version_minor": 0
      },
      "text/plain": [
       "  0%|          | 0/2 [00:00<?, ?items/s]"
      ]
     },
     "metadata": {},
     "output_type": "display_data"
    }
   ],
   "source": [
    "item_info_3, item2row_3, item2col_3, matrix_3 = construct_dataset(files)"
   ]
  },
  {
   "cell_type": "code",
   "execution_count": null,
   "id": "e4b81f83-a339-462f-98ba-6fab2d331c81",
   "metadata": {},
   "outputs": [],
   "source": []
  },
  {
   "cell_type": "code",
   "execution_count": 76,
   "id": "4ca537b2-0ccc-4d64-8569-36970e8eb003",
   "metadata": {},
   "outputs": [
    {
     "data": {
      "text/plain": [
       "(True, True, True)"
      ]
     },
     "execution_count": 76,
     "metadata": {},
     "output_type": "execute_result"
    }
   ],
   "source": [
    "np.all(matrix_1.data == matrix_3.data), np.all(matrix_1.indices == matrix_3.indices), np.all(matrix_1.indptr == matrix_3.indptr)"
   ]
  },
  {
   "cell_type": "code",
   "execution_count": 77,
   "id": "e202a5e1-2c0f-4f2a-bba8-8ed044fa3faf",
   "metadata": {},
   "outputs": [
    {
     "data": {
      "text/plain": [
       "(True, True, True)"
      ]
     },
     "execution_count": 77,
     "metadata": {},
     "output_type": "execute_result"
    }
   ],
   "source": [
    "item_info_1 == item_info_3, item2row_1 == item2row_3, item2col_1 == item2col_3"
   ]
  },
  {
   "cell_type": "code",
   "execution_count": null,
   "id": "fdea8025-660e-406b-b4be-49838670f713",
   "metadata": {},
   "outputs": [],
   "source": []
  },
  {
   "cell_type": "markdown",
   "id": "a2904f4b-ad90-42e5-ab96-7a92187ca926",
   "metadata": {
    "jp-MarkdownHeadingCollapsed": true
   },
   "source": [
    "## Metadata"
   ]
  },
  {
   "cell_type": "code",
   "execution_count": 890,
   "id": "00885c20-519a-48bc-ad83-e656126d732a",
   "metadata": {},
   "outputs": [],
   "source": [
    "#| export\n",
    "def construct_meta_dataset(item_info, item2data, item2lbl, metatag):\n",
    "    item2meta = {}\n",
    "\n",
    "    def get_metadata(item2xy):\n",
    "        data, indices, indptr = [], [], [0]\n",
    "        progress_bar = tqdm(total=len(item2xy), unit='items')\n",
    "        for identifier in item2xy:\n",
    "            if metatag in item_info[identifier]:\n",
    "                meta = item_info[identifier][metatag]\n",
    "                if meta is not None:\n",
    "                    data.extend([1] * len(meta))\n",
    "                    indices.extend([item2meta.setdefault(o, len(item2meta)) for o in meta])\n",
    "            indptr.append(len(indices))\n",
    "            progress_bar.update(1)\n",
    "        r,c = len(item2xy), len(item2meta)\n",
    "        return sp.csr_matrix((data, indices, indptr), shape=(r,c), dtype=np.float16)\n",
    "        \n",
    "    data_meta, lbl_meta = get_metadata(item2data), get_metadata(item2lbl)\n",
    "    data_meta.resize(len(item2data),len(item2meta))\n",
    "    \n",
    "    return item2meta, data_meta, lbl_meta\n",
    "    "
   ]
  },
  {
   "cell_type": "code",
   "execution_count": null,
   "id": "1ef5c149-a787-4305-a4a5-25a394103ea3",
   "metadata": {},
   "outputs": [],
   "source": []
  },
  {
   "cell_type": "code",
   "execution_count": 866,
   "id": "258fa0e2-1862-4a2a-8d61-cff1f8ba8c9b",
   "metadata": {},
   "outputs": [
    {
     "data": {
      "application/vnd.jupyter.widget-view+json": {
       "model_id": "7415e74b3375421c9e20d00dd0a61793",
       "version_major": 2,
       "version_minor": 0
      },
      "text/plain": [
       "File 1:   0%|          | 0/933 [00:00<?, ?items/s]"
      ]
     },
     "metadata": {},
     "output_type": "display_data"
    },
    {
     "data": {
      "application/vnd.jupyter.widget-view+json": {
       "model_id": "8363e84f4fb4492a8a0dd64fd0a4a53f",
       "version_major": 2,
       "version_minor": 0
      },
      "text/plain": [
       "File 2:   0%|          | 0/32892 [00:00<?, ?items/s]"
      ]
     },
     "metadata": {},
     "output_type": "display_data"
    },
    {
     "data": {
      "application/vnd.jupyter.widget-view+json": {
       "model_id": "dd5aebb5317b4b8184cc7ba0571638af",
       "version_major": 2,
       "version_minor": 0
      },
      "text/plain": [
       "File 3:   0%|          | 0/186637 [00:00<?, ?items/s]"
      ]
     },
     "metadata": {},
     "output_type": "display_data"
    }
   ],
   "source": [
    "files = [f'{cache_dir}/{file}' for file in os.listdir(cache_dir) if file.endswith('.gz')]\n",
    "item_info, item2row, item2col, matrix = construct_dataset(files)"
   ]
  },
  {
   "cell_type": "code",
   "execution_count": 867,
   "id": "623d139f-dd5a-48ea-9fc8-ba1414c8ba7a",
   "metadata": {},
   "outputs": [],
   "source": [
    "valid_matrix, valid_item2row, valid_item2col = clean_dataset(matrix, item2row, item2col, item_info)"
   ]
  },
  {
   "cell_type": "code",
   "execution_count": null,
   "id": "3407b586-1d80-4876-a359-9e4f472690c1",
   "metadata": {},
   "outputs": [],
   "source": []
  },
  {
   "cell_type": "code",
   "execution_count": 844,
   "id": "b6aba332-1bc0-442e-836f-de632088401f",
   "metadata": {},
   "outputs": [],
   "source": [
    "with gzip.open(files[0], 'rt', encoding='utf-8') as f:\n",
    "    items = [json.loads(d) for d in f]"
   ]
  },
  {
   "cell_type": "code",
   "execution_count": 845,
   "id": "8d24198f-4019-4d7d-8ca4-44f5bc18ad87",
   "metadata": {},
   "outputs": [
    {
     "data": {
      "text/plain": [
       "dict_keys(['category', 'tech1', 'description', 'fit', 'title', 'also_buy', 'tech2', 'brand', 'feature', 'rank', 'also_view', 'details', 'main_cat', 'similar_item', 'date', 'price', 'asin', 'imageURL', 'imageURLHighRes'])"
      ]
     },
     "execution_count": 845,
     "metadata": {},
     "output_type": "execute_result"
    }
   ],
   "source": [
    "items[0].keys()"
   ]
  },
  {
   "cell_type": "code",
   "execution_count": 846,
   "id": "7d8a433d-47b4-4e83-adcf-732e17d4bed9",
   "metadata": {},
   "outputs": [
    {
     "data": {
      "text/plain": [
       "['Alexa Skills', 'Lifestyle', 'Self Improvement']"
      ]
     },
     "execution_count": 846,
     "metadata": {},
     "output_type": "execute_result"
    }
   ],
   "source": [
    "items[100]['category']"
   ]
  },
  {
   "cell_type": "markdown",
   "id": "be42d6f8-5cb1-4641-b453-e20fcaec5eb0",
   "metadata": {},
   "source": [
    "### `category`"
   ]
  },
  {
   "cell_type": "code",
   "execution_count": 887,
   "id": "24246e1a-71ce-43ad-9526-ca06d343254e",
   "metadata": {},
   "outputs": [
    {
     "data": {
      "application/vnd.jupyter.widget-view+json": {
       "model_id": "858de7cb896a493da7c30629947cc35a",
       "version_major": 2,
       "version_minor": 0
      },
      "text/plain": [
       "  0%|          | 0/2882 [00:00<?, ?items/s]"
      ]
     },
     "metadata": {},
     "output_type": "display_data"
    },
    {
     "data": {
      "application/vnd.jupyter.widget-view+json": {
       "model_id": "192616193337419f8ca5b8f6f25fbbf7",
       "version_major": 2,
       "version_minor": 0
      },
      "text/plain": [
       "  0%|          | 0/2300 [00:00<?, ?items/s]"
      ]
     },
     "metadata": {},
     "output_type": "display_data"
    }
   ],
   "source": [
    "item2category, data_category, lbl_category = construct_meta_dataset(item_info, valid_item2row, valid_item2col, 'category')"
   ]
  },
  {
   "cell_type": "code",
   "execution_count": 891,
   "id": "b411f82a-6076-4629-b717-21ad4d26d671",
   "metadata": {},
   "outputs": [],
   "source": [
    "#| export\n",
    "def save_category(output_dir, data_meta, lbl_meta, meta_info, meta_tag):\n",
    "    sp.save_npz(f'{output_dir}/data_{meta_tag}.npz', data_meta)\n",
    "    sp.save_npz(f'{output_dir}/lbl_{meta_tag}.npz', lbl_meta)\n",
    "\n",
    "    meta_info = pd.DataFrame({'text':list(meta_info)})\n",
    "    meta_info.to_csv(f'{output_dir}/{meta_tag}_info.csv', index=False)\n",
    "    "
   ]
  },
  {
   "cell_type": "markdown",
   "id": "b32c5d03-cc87-46ee-b51c-c66dbeebb3e9",
   "metadata": {},
   "source": [
    "### `also_view`"
   ]
  },
  {
   "cell_type": "code",
   "execution_count": 888,
   "id": "a107ea01-995f-426d-8139-e82b461298b3",
   "metadata": {},
   "outputs": [
    {
     "data": {
      "application/vnd.jupyter.widget-view+json": {
       "model_id": "ac4e8d4fda7e49b5b4e8bf5022f5eb23",
       "version_major": 2,
       "version_minor": 0
      },
      "text/plain": [
       "  0%|          | 0/2882 [00:00<?, ?items/s]"
      ]
     },
     "metadata": {},
     "output_type": "display_data"
    },
    {
     "data": {
      "application/vnd.jupyter.widget-view+json": {
       "model_id": "08ed206b8e534caaa012549d9f8b98d8",
       "version_major": 2,
       "version_minor": 0
      },
      "text/plain": [
       "  0%|          | 0/2300 [00:00<?, ?items/s]"
      ]
     },
     "metadata": {},
     "output_type": "display_data"
    }
   ],
   "source": [
    "item2alsoview, data_alsoview, lbl_alsoview = construct_meta_dataset(item_info, valid_item2row, valid_item2col, 'also_view')"
   ]
  },
  {
   "cell_type": "code",
   "execution_count": 892,
   "id": "ea5edcc9-6ad1-4683-9204-54e634fb949d",
   "metadata": {},
   "outputs": [],
   "source": [
    "#| export\n",
    "def save_meta_dataset(output_dir, data_meta, lbl_meta, meta_info, item_info, meta_tag):\n",
    "    sp.save_npz(f'{output_dir}/data_{meta_tag}.npz', data_meta)\n",
    "    sp.save_npz(f'{output_dir}/lbl_{meta_tag}.npz', lbl_meta)\n",
    "    \n",
    "    meta_info = pd.DataFrame({'identifier':list(meta_info), 'text':[item_info[o]['short_text'] for o in meta_info]})\n",
    "    meta_info.to_csv(f'{output_dir}/{meta_tag}_info.csv', index=False)\n",
    "    "
   ]
  },
  {
   "cell_type": "markdown",
   "id": "3fab6ef4-0a01-4cf8-ba75-69c3168b6373",
   "metadata": {},
   "source": [
    "### Main function"
   ]
  },
  {
   "cell_type": "code",
   "execution_count": null,
   "id": "9e8b82da-17cf-42ca-bb04-3698295a5964",
   "metadata": {},
   "outputs": [],
   "source": [
    "if __name__ == '__main__':\n",
    "    from timeit import default_timer as timer\n",
    "    start_time = timer()\n",
    "    \n",
    "    args = parse_args()\n",
    "\n",
    "    data_info = pd.read_csv(f'{args.output_dir}/data_info.csv')\n",
    "    item2row = {identifier:i for identifier,i in enumerate(data_info['identifier'])}\n",
    "\n",
    "    lbl_info = pd.read_csv(f'{args.output_dir}/lbl_info.csv')\n",
    "    item2col = {identifier:i for identifier,i in enumerate(lbl_info['identifier'])}\n",
    "\n",
    "    with open(f'{args.output_dir}/item_info.json', 'r') as f:\n",
    "        item_info = json.load(f)\n",
    "\n",
    "    item2category, data_category, lbl_category = construct_meta_dataset(item_info, item2row, item2col, 'category')\n",
    "    save_category(args.output_dir, data_category, lbl_category, item2category, 'category')\n",
    "\n",
    "    end_time = timer()\n",
    "    print(f'Time elapsed: {end_time-start_time:.2f} seconds.')\n",
    "    "
   ]
  },
  {
   "cell_type": "markdown",
   "id": "7b6ad0eb-6515-4a91-9840-6d8ac795095a",
   "metadata": {
    "jp-MarkdownHeadingCollapsed": true
   },
   "source": [
    "## Remapping"
   ]
  },
  {
   "cell_type": "code",
   "execution_count": 3,
   "id": "f1219132-3087-4513-b8f5-deab8569aad8",
   "metadata": {},
   "outputs": [],
   "source": [
    "data_dir = '/home/scai/phd/aiz218323/Projects/XC/data/(mapped)LF-AmazonTitles-1.3M/raw_data/'"
   ]
  },
  {
   "cell_type": "code",
   "execution_count": 4,
   "id": "823dca41-0526-4401-a506-0091bc070cdc",
   "metadata": {},
   "outputs": [],
   "source": [
    "def read_raw_file(fname):\n",
    "    raw_data = {}\n",
    "    with open(fname, 'r', encoding='utf-8') as f:\n",
    "        for line in f:\n",
    "            identifier, short_text = line[:-1].split('->', maxsplit=1)\n",
    "            raw_data[identifier] = short_text\n",
    "    return raw_data\n",
    "    "
   ]
  },
  {
   "cell_type": "code",
   "execution_count": 7,
   "id": "a40ad278-3eca-4ed9-8c9e-2eaf11a20851",
   "metadata": {},
   "outputs": [],
   "source": [
    "train_raw = read_raw_file(f'{data_dir}/train.raw.txt')\n",
    "test_raw = read_raw_file(f'{data_dir}/test.raw.txt')\n",
    "label_raw = read_raw_file(f'{data_dir}/label.raw.txt')"
   ]
  },
  {
   "cell_type": "code",
   "execution_count": null,
   "id": "d5c61fc7-506a-4d16-9b5c-ac6a50db99aa",
   "metadata": {},
   "outputs": [],
   "source": []
  },
  {
   "cell_type": "code",
   "execution_count": 9,
   "id": "eb975417-a0f3-4143-b38d-d5219bba86a6",
   "metadata": {},
   "outputs": [],
   "source": [
    "files = [f'{cache_dir}/{file}' for file in os.listdir(cache_dir) if file.endswith('.gz')]"
   ]
  },
  {
   "cell_type": "code",
   "execution_count": 11,
   "id": "b6a47925-1b43-47ca-955d-4cf473e6ba5c",
   "metadata": {},
   "outputs": [],
   "source": [
    "with gzip.open(files[0], 'rt', encoding='utf-8') as f:\n",
    "    items = [json.loads(d) for d in f]"
   ]
  },
  {
   "cell_type": "code",
   "execution_count": null,
   "id": "5fd6dba6-f01a-4d07-962b-26be21c00cb1",
   "metadata": {},
   "outputs": [],
   "source": []
  },
  {
   "cell_type": "markdown",
   "id": "9bbeb06f-94c6-40b9-830f-3c500d0b720e",
   "metadata": {},
   "source": [
    "## User reviews"
   ]
  },
  {
   "cell_type": "code",
   "execution_count": 19,
   "id": "fcb70318-e62f-447c-a3e9-efc03579bfea",
   "metadata": {},
   "outputs": [],
   "source": [
    "data_dir = '/home/scai/phd/aiz218323/scratch/Projects/sugar/data/amazon_review_2018/cache/reviews'"
   ]
  },
  {
   "cell_type": "code",
   "execution_count": 38,
   "id": "6c566d50-8975-4233-96fb-3e8a63e51346",
   "metadata": {},
   "outputs": [],
   "source": [
    "filenames = [f'{data_dir}/{n}' for n in os.listdir(data_dir)]\n",
    "fsize = [os.path.getsize(o) for o in filenames]\n",
    "\n",
    "filenames = [filenames[i] for i in np.argsort(fsize)]"
   ]
  },
  {
   "cell_type": "code",
   "execution_count": 45,
   "id": "416ceee5-607c-46ae-b753-901b4bb2514d",
   "metadata": {},
   "outputs": [],
   "source": [
    "with gzip.open(filenames[5], 'rt', encoding='utf-8') as file:\n",
    "    users = [json.loads(d) for d in file]"
   ]
  },
  {
   "cell_type": "code",
   "execution_count": 50,
   "id": "6d3236dd-1beb-41d5-9711-a2951c14450a",
   "metadata": {},
   "outputs": [
    {
     "data": {
      "text/plain": [
       "{'overall': 1.0,\n",
       " 'verified': False,\n",
       " 'reviewTime': '01 27, 2016',\n",
       " 'reviewerID': 'A3KSCKP9WYB99V',\n",
       " 'asin': 'B01080IRRO',\n",
       " 'style': {'Color:': ' Black'},\n",
       " 'reviewerName': 'K. Doane',\n",
       " 'reviewText': \"Won't sense the finger gesture, and when it does its super sensitive and hard to control. Really bummed they made this look great it really doesn't work with as many systems as you would think.\",\n",
       " 'summary': 'Cannot get this to work',\n",
       " 'unixReviewTime': 1453852800}"
      ]
     },
     "execution_count": 50,
     "metadata": {},
     "output_type": "execute_result"
    }
   ],
   "source": [
    "users[30]"
   ]
  },
  {
   "cell_type": "code",
   "execution_count": null,
   "id": "04fe36a7-ed6a-4c13-9d89-3231e7f8c90a",
   "metadata": {},
   "outputs": [],
   "source": []
  },
  {
   "cell_type": "code",
   "execution_count": 52,
   "id": "4a286d13-22ce-46ab-bec5-e39998faf013",
   "metadata": {},
   "outputs": [],
   "source": [
    "review_file = '/home/scai/phd/aiz218323/scratch/Projects/sugar/data/amazon_review_2018/reviews_5-core/reviews.json'"
   ]
  },
  {
   "cell_type": "code",
   "execution_count": 53,
   "id": "e595c27f-73cd-478d-868a-56a1ac8aa543",
   "metadata": {},
   "outputs": [],
   "source": [
    "with open(review_file, 'r') as file:\n",
    "    reviews = json.load(file)"
   ]
  },
  {
   "cell_type": "code",
   "execution_count": 55,
   "id": "78239ad9-c778-4c41-93ad-15318f23c7b8",
   "metadata": {},
   "outputs": [],
   "source": [
    "product_dir = '/home/scai/phd/aiz218323/scratch/Projects/sugar/data/amazon_review_2018/products'\n",
    "data_lbl = sp.load_npz(f'{product_dir}/data_lbl.npz')\n",
    "data_info = pd.read_csv(f'{product_dir}/data_info.csv')\n",
    "lbl_info = pd.read_csv(f'{product_dir}/lbl_info.csv')"
   ]
  },
  {
   "cell_type": "code",
   "execution_count": null,
   "id": "7ff5cd4e-7080-4c46-9caa-4572bf912de6",
   "metadata": {},
   "outputs": [],
   "source": []
  },
  {
   "cell_type": "code",
   "execution_count": 61,
   "id": "f57a1752-2171-44cc-9e10-aed35aa471c9",
   "metadata": {},
   "outputs": [
    {
     "data": {
      "application/vnd.jupyter.widget-view+json": {
       "model_id": "9db9ceea66ff4d20bc5cb3abeb5c7861",
       "version_major": 2,
       "version_minor": 0
      },
      "text/plain": [
       "  0%|          | 0/1403999 [00:00<?, ?it/s]"
      ]
     },
     "metadata": {},
     "output_type": "display_data"
    }
   ],
   "source": [
    "user2items = {}\n",
    "for item_id, users in tqdm(reviews.items(), total=len(reviews)):\n",
    "    for user_id in users:\n",
    "        items = user2items.setdefault(user_id, set())\n",
    "        items.add(item_id)\n",
    "        "
   ]
  },
  {
   "cell_type": "code",
   "execution_count": 64,
   "id": "b4b2461c-46e7-4597-93fd-4add695627b5",
   "metadata": {},
   "outputs": [
    {
     "name": "stdout",
     "output_type": "stream",
     "text": [
      "Number of users:  4259758\n",
      "Number of labels:  2646426\n"
     ]
    }
   ],
   "source": [
    "print('Number of users: ', len(user2items))\n",
    "print('Number of labels: ', data_lbl.shape[1])"
   ]
  },
  {
   "cell_type": "code",
   "execution_count": null,
   "id": "ae520b75-2c0d-4e0c-a0f3-d9fa21d2708d",
   "metadata": {},
   "outputs": [],
   "source": []
  },
  {
   "cell_type": "code",
   "execution_count": 106,
   "id": "4761686f-cf88-405b-925d-c264a2fa49da",
   "metadata": {},
   "outputs": [],
   "source": [
    "data_dir = '/home/scai/phd/aiz218323/scratch/Projects/sugar/data/amazon_review_2018/reviews_5-core/'"
   ]
  },
  {
   "cell_type": "code",
   "execution_count": null,
   "id": "094c03e3-e1f8-493c-8a76-6844c3acb77b",
   "metadata": {},
   "outputs": [],
   "source": [
    "__User items"
   ]
  },
  {
   "cell_type": "code",
   "execution_count": 107,
   "id": "93cfa0ee-6ff8-4a93-be7b-fbdce5661a42",
   "metadata": {},
   "outputs": [],
   "source": [
    "# User items\n",
    "idx = np.random.randint(len(user2items), size=1000)\n",
    "user_ids = list(user2items.keys())\n",
    "user_ids = [user_ids[i] for i in idx]"
   ]
  },
  {
   "cell_type": "code",
   "execution_count": 108,
   "id": "3c7aafcc-7eca-476c-80ef-073442231a68",
   "metadata": {},
   "outputs": [],
   "source": [
    "item2title = dict(list(zip(data_info['identifier'], data_info['text'])))\n",
    "item2title.update(dict(list(zip(lbl_info['identifier'], lbl_info['text']))))"
   ]
  },
  {
   "cell_type": "code",
   "execution_count": 124,
   "id": "5a8bbbad-62c5-411e-a4db-d31729a816f9",
   "metadata": {},
   "outputs": [],
   "source": [
    "user2titles = {}\n",
    "for user_id in user_ids:\n",
    "    user2titles[user_id] = [item2title[o] for o in list(user2items[user_id])[:10]]\n",
    "\n",
    "with open(f'{data_dir}/user2items_1000.json', 'w') as file:\n",
    "    file.write(json.dumps(user2titles, sort_keys=True, indent=4, separators=(',', ': ')))"
   ]
  },
  {
   "cell_type": "code",
   "execution_count": null,
   "id": "c2870202-7e86-48ba-be87-f493e2904ead",
   "metadata": {
    "scrolled": true
   },
   "outputs": [],
   "source": []
  },
  {
   "cell_type": "markdown",
   "id": "a9d32e62-ed3e-419b-9597-7231d189fe2c",
   "metadata": {},
   "source": [
    "__Item reviews__"
   ]
  },
  {
   "cell_type": "code",
   "execution_count": 94,
   "id": "0897cc4f-ee1e-4ee8-91f7-125c61eaf657",
   "metadata": {},
   "outputs": [],
   "source": [
    "# Item reviews\n",
    "idx = np.random.randint(len(reviews), size=1000)\n",
    "item_ids = list(reviews.keys())\n",
    "item_ids = [item_ids[i] for i in idx]"
   ]
  },
  {
   "cell_type": "code",
   "execution_count": 97,
   "id": "e0300bfe-f9de-41db-b74b-8827b0a6a35f",
   "metadata": {
    "scrolled": true
   },
   "outputs": [
    {
     "data": {
      "application/vnd.jupyter.widget-view+json": {
       "model_id": "1e3ca4e616924811a80ab9468bcde66f",
       "version_major": 2,
       "version_minor": 0
      },
      "text/plain": [
       "  0%|          | 0/1000 [00:00<?, ?it/s]"
      ]
     },
     "metadata": {},
     "output_type": "display_data"
    }
   ],
   "source": [
    "item2reviews = {}\n",
    "for item_id in tqdm(item_ids):\n",
    "    user2reviews = reviews[item_id]\n",
    "    idx = np.random.randint(len(user2reviews), size=10)\n",
    "    user_ids = list(user2reviews.keys())\n",
    "    user_ids = [user_ids[i] for i in idx]\n",
    "    item2reviews[item2title[item_id]] = {o:user2reviews[o] for o in user_ids}\n",
    "    "
   ]
  },
  {
   "cell_type": "code",
   "execution_count": 122,
   "id": "3ac5c532-a81a-468b-ab90-de9a096fec12",
   "metadata": {},
   "outputs": [],
   "source": [
    "import json\n",
    "with open(f'{data_dir}/item2reviews_1000.json', 'w') as file:\n",
    "    file.write(json.dumps(item2review, sort_keys=True, indent=4, separators=(',', ': ')))"
   ]
  },
  {
   "cell_type": "code",
   "execution_count": null,
   "id": "6741167c-3478-452c-a4af-8d5e20e54576",
   "metadata": {},
   "outputs": [],
   "source": []
  },
  {
   "cell_type": "code",
   "execution_count": 104,
   "id": "e834910c-3101-45ef-a25a-d8195de72caa",
   "metadata": {},
   "outputs": [
    {
     "name": "stdout",
     "output_type": "stream",
     "text": [
      "Number of reviews per item:  40.72859026252868\n",
      "Number of items per user:  13.423978545260082\n"
     ]
    }
   ],
   "source": [
    "print('Number of reviews per item: ', np.mean([len(v) for v in reviews.values()]))\n",
    "print('Number of items per user: ', np.mean([len(v) for v in user2items.values()]))"
   ]
  },
  {
   "cell_type": "code",
   "execution_count": 105,
   "id": "5dc2dea8-36a2-4675-8160-b1137d05b4d5",
   "metadata": {},
   "outputs": [
    {
     "data": {
      "text/plain": [
       "'/home/scai/phd/aiz218323/scratch/Projects/sugar/data/amazon_review_2018/cache/reviews_5-core/'"
      ]
     },
     "execution_count": 105,
     "metadata": {},
     "output_type": "execute_result"
    }
   ],
   "source": [
    "data_dir"
   ]
  },
  {
   "cell_type": "code",
   "execution_count": null,
   "id": "1a1a837b-077f-4498-b269-c67536a78dc4",
   "metadata": {},
   "outputs": [],
   "source": []
  },
  {
   "cell_type": "markdown",
   "id": "3ab50954-ec9a-48b2-a347-337d306120e1",
   "metadata": {},
   "source": [
    "__(user, item) pairs__"
   ]
  },
  {
   "cell_type": "code",
   "execution_count": 131,
   "id": "aa022cd9-00d5-4c92-b711-67f62c5bd691",
   "metadata": {},
   "outputs": [],
   "source": [
    "pair_file = f'{data_dir}/user-item_pairs.txt'"
   ]
  },
  {
   "cell_type": "code",
   "execution_count": 155,
   "id": "a00ee447-5289-4d64-ac34-76b364628c99",
   "metadata": {},
   "outputs": [],
   "source": [
    "user2items, item2col = {}, {}\n",
    "with open(pair_file, 'r') as file:\n",
    "    for o in file:\n",
    "        user_id, item_id = o[:-1].split()\n",
    "        items = user2items.setdefault(user_id, [])\n",
    "        items.append(item2col.setdefault(item_id, len(item2col)))\n",
    "        "
   ]
  },
  {
   "cell_type": "code",
   "execution_count": null,
   "id": "ea7ab96e-0d3e-451c-bd1a-ea49c3819769",
   "metadata": {},
   "outputs": [],
   "source": []
  },
  {
   "cell_type": "code",
   "execution_count": null,
   "id": "071b07b7-8908-424b-acf1-01cc2a8290de",
   "metadata": {},
   "outputs": [],
   "source": []
  },
  {
   "cell_type": "code",
   "execution_count": null,
   "id": "43d7c61c-4b8b-4c36-a6c3-70bb08399e67",
   "metadata": {},
   "outputs": [],
   "source": []
  }
 ],
 "metadata": {
  "kernelspec": {
   "display_name": "Python 3 (ipykernel)",
   "language": "python",
   "name": "python3"
  },
  "language_info": {
   "codemirror_mode": {
    "name": "ipython",
    "version": 3
   },
   "file_extension": ".py",
   "mimetype": "text/x-python",
   "name": "python",
   "nbconvert_exporter": "python",
   "pygments_lexer": "ipython3",
   "version": "3.9.19"
  }
 },
 "nbformat": 4,
 "nbformat_minor": 5
}
