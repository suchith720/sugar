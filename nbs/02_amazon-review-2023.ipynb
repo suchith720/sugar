{
 "cells": [
  {
   "cell_type": "markdown",
   "metadata": {},
   "source": [
    "# Amazon Review 2023\n",
    "\n",
    "> https://amazon-reviews-2023.github.io/"
   ]
  },
  {
   "cell_type": "code",
   "execution_count": 1,
   "metadata": {},
   "outputs": [],
   "source": [
    "#| default_exp 02_amazon-review-2023"
   ]
  },
  {
   "cell_type": "code",
   "execution_count": 39,
   "metadata": {},
   "outputs": [],
   "source": [
    "#| hide\n",
    "from nbdev.showdoc import *\n",
    "import nbdev; nbdev.nbdev_export()"
   ]
  },
  {
   "cell_type": "code",
   "execution_count": 93,
   "metadata": {},
   "outputs": [],
   "source": [
    "from datasets import load_dataset\n",
    "from transformers import AutoTokenizer"
   ]
  },
  {
   "cell_type": "code",
   "execution_count": 43,
   "metadata": {},
   "outputs": [],
   "source": [
    "#| export\n",
    "import requests, os, gzip, json, scipy.sparse as sp, numpy as np, argparse, pandas as pd, multiprocessing as mp\n",
    "from tqdm.auto import tqdm\n",
    "from huggingface_hub import hf_hub_download"
   ]
  },
  {
   "cell_type": "code",
   "execution_count": 5,
   "metadata": {},
   "outputs": [],
   "source": [
    "#| export\n",
    "def get_categories(data_dir):\n",
    "    fname = os.path.join(data_dir, 'all_categories.txt')\n",
    "    with open(fname, 'r') as f:\n",
    "        categories = f.read().split('\\n')[:-1]\n",
    "    return categories\n",
    "    "
   ]
  },
  {
   "cell_type": "code",
   "execution_count": 82,
   "metadata": {},
   "outputs": [],
   "source": [
    "cache_dir = '/scratch/scai/phd/aiz218323/Projects/sugar/data/amazon_review_2023/cache'"
   ]
  },
  {
   "cell_type": "code",
   "execution_count": 14,
   "metadata": {},
   "outputs": [],
   "source": [
    "categories = get_categories(cache_dir)"
   ]
  },
  {
   "cell_type": "markdown",
   "metadata": {
    "jp-MarkdownHeadingCollapsed": true
   },
   "source": [
    "## EDA"
   ]
  },
  {
   "cell_type": "code",
   "execution_count": 75,
   "metadata": {},
   "outputs": [],
   "source": [
    "remote_name = all_categories[1]"
   ]
  },
  {
   "cell_type": "code",
   "execution_count": 77,
   "metadata": {},
   "outputs": [],
   "source": [
    "remote_name = 'Electronics'"
   ]
  },
  {
   "cell_type": "code",
   "execution_count": 78,
   "metadata": {},
   "outputs": [
    {
     "data": {
      "application/vnd.jupyter.widget-view+json": {
       "model_id": "249bffb87b2643a58cd9f5be340a4c7c",
       "version_major": 2,
       "version_minor": 0
      },
      "text/plain": [
       "Downloading data:   0%|          | 0.00/5.25G [00:00<?, ?B/s]"
      ]
     },
     "metadata": {},
     "output_type": "display_data"
    },
    {
     "data": {
      "application/vnd.jupyter.widget-view+json": {
       "model_id": "d2fce5c3a2914e5f903b2843da6b0be0",
       "version_major": 2,
       "version_minor": 0
      },
      "text/plain": [
       "Generating full split: 0 examples [00:00, ? examples/s]"
      ]
     },
     "metadata": {},
     "output_type": "display_data"
    }
   ],
   "source": [
    "dataset = load_dataset(\"McAuley-Lab/Amazon-Reviews-2023\", f\"raw_meta_{remote_name}\", split=\"full\", trust_remote_code=True)"
   ]
  },
  {
   "cell_type": "code",
   "execution_count": 79,
   "metadata": {},
   "outputs": [
    {
     "data": {
      "application/vnd.jupyter.widget-view+json": {
       "model_id": "4eabde9dcbf8408fa96d32fc58e2fc1c",
       "version_major": 2,
       "version_minor": 0
      },
      "text/plain": [
       "  0%|          | 0/1610012 [00:00<?, ?it/s]"
      ]
     },
     "metadata": {},
     "output_type": "display_data"
    }
   ],
   "source": [
    "for data in tqdm(dataset):\n",
    "    if data['bought_together'] is not None: break"
   ]
  },
  {
   "cell_type": "code",
   "execution_count": null,
   "metadata": {},
   "outputs": [],
   "source": []
  },
  {
   "cell_type": "code",
   "execution_count": 80,
   "metadata": {},
   "outputs": [
    {
     "data": {
      "text/plain": [
       "{'main_category': 'Computers',\n",
       " 'title': 'Network Magic 4.0',\n",
       " 'average_rating': 3.3,\n",
       " 'rating_number': 14,\n",
       " 'features': ['Connect, Manage, and Secure Your Network',\n",
       "  'Share printers and files between all of your computers',\n",
       "  'Connect and repair your network and internet connection',\n",
       "  'View a live map of network; protect wireless network from intruders',\n",
       "  'Print from any computer; monitor Internet use and Web sites visited'],\n",
       " 'description': ['Product description',\n",
       "  'You try to connect your computers and devices together to share a printer, files and maintain an internet connection, but find yourself wasting hours sorting through confusing dialog boxes. It is time to stop with the hassles and let Network Magic do the work for you! With Network Magic you can easily 1) connect, manage, and secure your network; 2) share printers and files between all of your computers; 3) monitor Internet use and web sites visited; 4) connect and repair your network and internet connection; and 5) Protect your files and personal information from unwanted intruders. Stay connected to your preferred network without wasting time trying to set up or a repair a connection. Network Magic automatically detects connection problems and attempts to fix them for you. Add devices with one simple click. Don\\x92t waste another minute sorting through confusing instructions and pop up messages. The network map immediately detects and illustrates every device on your network. View the current status and information of each device, enabling you to easily manage your entire network. Share printers with the click of a mouse be able to print from any computer to any printer in your home and office. Share files, music, and photos between all of your computers quickly and easily. Simply click Share and you can access it from any computer. Wireless and broadband protection keeps your personal files and bandwidth protected from unwanted intruders. Health and security alerts ensure your firewall and antivirus security measures are doing their job by scanning your network, alerting you to issues and helping you resolve them. Know how your devices, software, and Internet are being used. Receive a daily report for each computer showing web sites visited and software applications used.',\n",
       "  'From the Manufacturer',\n",
       "  'Home networking is hard, no doubt about it. But Network Magic makes it easy to do all the things you want to with the computers and devices in your home. Things like sharing printers and files across all your computers, monitoring Internet use, and repairing broken Internet connections. No more emailing files to yourself just to print them out, no more wondering about where your kids are surfing on the Internet, no more waiting around for \"the repair guy\" to fix your wireless Internet.',\n",
       "  'Features:',\n",
       "  'Print from any computer in your home',\n",
       "  'Print from any computer in your home',\n",
       "  'Share files between all your home computers--even Macs and PCs',\n",
       "  'Share files between all your home computers--even Macs and PCs',\n",
       "  'Monitor Internet use and Web sites visited for any computer in your home',\n",
       "  'Monitor Internet use and Web sites visited for any computer in your home',\n",
       "  'Pinpoint and repair Internet connection problems',\n",
       "  'Pinpoint and repair Internet connection problems',\n",
       "  'View a live map of your network',\n",
       "  'View a live map of your network',\n",
       "  'Protect your wireless network from intruders',\n",
       "  'Protect your wireless network from intruders'],\n",
       " 'price': 'None',\n",
       " 'images': {'hi_res': [None],\n",
       "  'large': ['https://m.media-amazon.com/images/I/51pGw9OXU5L._AC_.jpg'],\n",
       "  'thumb': ['https://m.media-amazon.com/images/I/51pGw9OXU5L._AC_US40_.jpg'],\n",
       "  'variant': ['MAIN']},\n",
       " 'videos': {'title': [], 'url': [], 'user_id': []},\n",
       " 'store': 'Avanquest',\n",
       " 'categories': ['Electronics',\n",
       "  'Computers & Accessories',\n",
       "  'Networking Products',\n",
       "  'Network Adapters'],\n",
       " 'details': '{\"Brand\": \"Avanquest\", \"Item model number\": \"4651\", \"Hardware Platform\": \"Windows\", \"Operating System\": \"Windows XP Home Edition\", \"Item Weight\": \"4.8 ounces\", \"Package Dimensions\": \"7.4 x 5.4 x 1.6 inches\", \"Manufacturer\": \"My Software\", \"Language\": \"English\", \"Is Discontinued By Manufacturer\": \"Yes\", \"Date First Available\": \"November 21, 2006\", \"Best Sellers Rank\": {\"Computer Network Adapters\": 5686}, \"Format\": \"CD-ROM\", \"Publication Date\": \"December 20, 2006\"}',\n",
       " 'parent_asin': 'B000LV7P8I',\n",
       " 'bought_together': None,\n",
       " 'subtitle': None,\n",
       " 'author': None}"
      ]
     },
     "execution_count": 80,
     "metadata": {},
     "output_type": "execute_result"
    }
   ],
   "source": [
    "dataset[10]"
   ]
  },
  {
   "cell_type": "markdown",
   "metadata": {},
   "source": [
    "## Construct dataset"
   ]
  },
  {
   "cell_type": "code",
   "execution_count": 51,
   "metadata": {},
   "outputs": [],
   "source": [
    "#| export\n",
    "def construct_dataset(files):\n",
    "    item_info, item2row, item2col = {}, {}, {}\n",
    "    data, indices, indptr = [], [], [0]\n",
    "\n",
    "    for file_idx,fname in enumerate(files):\n",
    "        with open(fname, 'r', encoding='utf-8') as f:\n",
    "            items = [json.loads(d) for d in f]\n",
    "\n",
    "        progress_bar = None\n",
    "        for item in items:\n",
    "            if progress_bar is None:\n",
    "                progress_bar = tqdm(total=len(items), unit='items', desc=f'File {file_idx+1}')\n",
    "            progress_bar.update(1)\n",
    "            \n",
    "            identifier = item['parent_asin'] \n",
    "            short_text = item['title'] if 'title' in item else None\n",
    "            full_text = ''\n",
    "            if ('description' in item) and (item['description'] is not None):\n",
    "                full_text += ''.join(item['description'])\n",
    "            elif ('features' in item) and (item['features'] is not None):\n",
    "                full_text += ''.join(item['features'])\n",
    "\n",
    "            category = item['categories'] if 'categories' in item else None\n",
    "            store = item['store'] if 'store' in item else None\n",
    "            details = item['details'] if 'details' in item else None\n",
    "            \n",
    "            if identifier and len(identifier) > 0 and short_text and len(short_text) > 0:\n",
    "                item_info[identifier] = {'short_text': short_text, 'full_text': full_text, 'category': category, \n",
    "                                         'store': store, 'details': details}\n",
    "                \n",
    "                if ('bought_together' in item) and (item['bought_together'] is not None) and (identifier not in item2row):\n",
    "                    item2row.setdefault(identifier, len(item2row))\n",
    "                    data.extend([1] * len(item['bought_together']))\n",
    "                    indices.extend([item2col.setdefault(o, len(item2col)) for o in item['bought_together']])\n",
    "                    indptr.append(len(indices))\n",
    "                    \n",
    "    r,c = len(item2row), len(item2col)\n",
    "    matrix = sp.csr_matrix((data, indices, indptr), shape=(r,c), dtype=np.float16)\n",
    "    return item_info, item2row, item2col, matrix\n",
    "    "
   ]
  },
  {
   "cell_type": "code",
   "execution_count": 33,
   "metadata": {},
   "outputs": [],
   "source": [
    "#|export \n",
    "def download_amazon_dataset(data_dir):\n",
    "    categories = get_categories(args.cache_dir)\n",
    "    for category in tqdm(categories):\n",
    "        hf_hub_download(repo_id='McAuley-Lab/Amazon-Reviews-2023', filename=f'raw/meta_categories/meta_{category}.jsonl', \n",
    "                        repo_type=\"dataset\", local_dir=data_dir)\n",
    "        "
   ]
  },
  {
   "cell_type": "code",
   "execution_count": 34,
   "metadata": {},
   "outputs": [],
   "source": [
    "#| export\n",
    "def parse_args():\n",
    "    parser = argparse.ArgumentParser()\n",
    "    parser.add_argument('--cache_dir', type=str, required=True)\n",
    "    parser.add_argument('--output_dir', type=str, required=True)\n",
    "    return parser.parse_args()\n",
    "    "
   ]
  },
  {
   "cell_type": "code",
   "execution_count": 35,
   "metadata": {},
   "outputs": [],
   "source": [
    "cache_dir = '/scratch/scai/phd/aiz218323/Projects/sugar/data/amazon_review_2023/cache'\n",
    "output_dir = '/scratch/scai/phd/aiz218323/Projects/sugar/data/amazon_review_2023'"
   ]
  },
  {
   "cell_type": "code",
   "execution_count": 50,
   "metadata": {},
   "outputs": [],
   "source": [
    "#| export\n",
    "from sugar.amazon_review_2018 import clean_dataset, save_dataset"
   ]
  },
  {
   "cell_type": "code",
   "execution_count": 113,
   "metadata": {},
   "outputs": [
    {
     "data": {
      "text/plain": [
       "'/scratch/scai/phd/aiz218323/Projects/sugar/data/amazon_review_2023/cache/raw/meta_categories/meta_All_Beauty.jsonl'"
      ]
     },
     "execution_count": 113,
     "metadata": {},
     "output_type": "execute_result"
    }
   ],
   "source": [
    "#| export\n",
    "if __name__ == '__main__':\n",
    "    from timeit import default_timer as timer\n",
    "    start_time = timer()\n",
    "    \n",
    "    args = parse_args()\n",
    "\n",
    "    files = [f'{args.cache_dir}/raw/meta_categories/{file}' for file in os.listdir(f'{args.cache_dir}/raw/meta_categories') if file.endswith('.jsonl')]\n",
    "    item_info, item2row, item2col, matrix = construct_dataset(files)\n",
    "\n",
    "    valid_matrix, valid_item2row, valid_item2col = clean_dataset(matrix, item2row, item2col, item_info)\n",
    "\n",
    "    save_dataset(args.output_dir, valid_matrix, valid_item2row, valid_item2col, item_info)\n",
    "\n",
    "    end_time = timer()\n",
    "    print(f'Time elapsed: {end_time-start_time:.2f} seconds.')\n",
    "        "
   ]
  },
  {
   "cell_type": "code",
   "execution_count": null,
   "metadata": {},
   "outputs": [],
   "source": []
  },
  {
   "cell_type": "code",
   "execution_count": 26,
   "metadata": {},
   "outputs": [],
   "source": [
    "with open(files[0], 'r') as f:\n",
    "    items = [json.loads(l) for l in f]"
   ]
  },
  {
   "cell_type": "code",
   "execution_count": 27,
   "metadata": {},
   "outputs": [
    {
     "data": {
      "text/plain": [
       "{'main_category': 'Grocery',\n",
       " 'title': 'Dark Roast Pure Coffee',\n",
       " 'average_rating': 4.7,\n",
       " 'rating_number': 9,\n",
       " 'features': [],\n",
       " 'description': [],\n",
       " 'price': None,\n",
       " 'images': [{'thumb': 'https://m.media-amazon.com/images/I/51LY15EJoFL._SX38_SY50_CR,0,0,38,50_.jpg',\n",
       "   'large': 'https://m.media-amazon.com/images/I/51LY15EJoFL.jpg',\n",
       "   'variant': 'MAIN',\n",
       "   'hi_res': 'https://m.media-amazon.com/images/I/81ucKSAeinL._SL1500_.jpg'}],\n",
       " 'videos': [{'title': 'YouCut_20220Cafe Du Monde Coffee Chicory, 15 Ounce Ground coffee',\n",
       "   'url': 'https://www.amazon.com/vdp/08a1120516ab4b2184f486f940c0de45?ref=dp_vse_rvc_0',\n",
       "   'user_id': '/shop/influencer-d62c132e'},\n",
       "  {'title': 'CDM New Orleans',\n",
       "   'url': 'https://www.amazon.com/vdp/0ab93bf7ed5646f68d1fa8f00cd30160?ref=dp_vse_rvc_1',\n",
       "   'user_id': ''}],\n",
       " 'store': 'Luzianne',\n",
       " 'categories': ['Grocery & Gourmet Food', 'Beverages', 'Coffee'],\n",
       " 'details': {'Brand': 'Luzianne',\n",
       "  'Item Form': 'Ground',\n",
       "  'Caffeine Content': 'caffeinated',\n",
       "  'Roast Level': 'dark_roast',\n",
       "  'Unit Count': '13.00 Ounce',\n",
       "  'Package Dimensions': '7.01 x 3.94 x 2.28 inches; 14.81 Ounces',\n",
       "  'UPC': '047900117230'},\n",
       " 'parent_asin': 'B00NE08WM6',\n",
       " 'bought_together': None}"
      ]
     },
     "execution_count": 27,
     "metadata": {},
     "output_type": "execute_result"
    }
   ],
   "source": [
    "items[0]"
   ]
  },
  {
   "cell_type": "code",
   "execution_count": null,
   "metadata": {},
   "outputs": [],
   "source": []
  }
 ],
 "metadata": {
  "kernelspec": {
   "display_name": "Python 3 (ipykernel)",
   "language": "python",
   "name": "python3"
  },
  "language_info": {
   "codemirror_mode": {
    "name": "ipython",
    "version": 3
   },
   "file_extension": ".py",
   "mimetype": "text/x-python",
   "name": "python",
   "nbconvert_exporter": "python",
   "pygments_lexer": "ipython3",
   "version": "3.9.19"
  }
 },
 "nbformat": 4,
 "nbformat_minor": 4
}
