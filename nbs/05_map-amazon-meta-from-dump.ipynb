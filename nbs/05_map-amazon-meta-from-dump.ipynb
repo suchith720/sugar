{
 "cells": [
  {
   "cell_type": "code",
   "execution_count": null,
   "id": "7c6bbee8-1ff3-4058-a1d8-1feb6d26d421",
   "metadata": {},
   "outputs": [],
   "source": [
    "#| default_exp 05_map-amazon-meta-from-dump"
   ]
  },
  {
   "cell_type": "code",
   "execution_count": null,
   "id": "589fdf80-eadc-4f4c-8231-0ef319d125ff",
   "metadata": {},
   "outputs": [],
   "source": [
    "#| hide\n",
    "from nbdev.showdoc import *\n",
    "import nbdev; nbdev.nbdev_export()"
   ]
  },
  {
   "cell_type": "code",
   "execution_count": null,
   "id": "a304a465-1fa4-4942-a266-0575d29a90d0",
   "metadata": {},
   "outputs": [],
   "source": [
    "#| export\n",
    "import json, gzip, argparse, os, pickle, numpy as np, uuid, ssl, scipy.sparse as sp\n",
    "from timeit import default_timer as timer\n",
    "from fastdownload import download_url\n",
    "from multiprocessing import Pool\n",
    "from functools import partial\n",
    "from tqdm.auto import tqdm\n",
    "from pathlib import Path\n",
    "from PIL import Image\n",
    "\n",
    "from sugar.core import *\n",
    "\n",
    "ssl._create_default_https_context = ssl._create_unverified_context"
   ]
  },
  {
   "cell_type": "markdown",
   "id": "019102a8-7ba2-4cef-a02a-315c96f64002",
   "metadata": {},
   "source": [
    "## Load data"
   ]
  },
  {
   "cell_type": "code",
   "execution_count": null,
   "id": "b90e3307-cba6-4ea0-b2c6-641570aa0000",
   "metadata": {},
   "outputs": [],
   "source": [
    "#| export\n",
    "def default_condition(o): \n",
    "    return True\n",
    "\n",
    "def condition_a23(o, ids, key):\n",
    "    return o[key] in ids\n",
    "\n",
    "def get_condition(data_dir, dtype, key):\n",
    "    all_ids = get_all_ids(f'{data_dir}/raw_data', encoding='latin-1')\n",
    "    \n",
    "    if dtype == 'a23': \n",
    "        return partial(condition_a23, ids=all_ids, key=key)\n",
    "    elif dtype is None:\n",
    "        return default_condition\n",
    "    else: \n",
    "        raise ValueError(f'Invalid condition: {dtype}')\n",
    "        "
   ]
  },
  {
   "cell_type": "code",
   "execution_count": null,
   "id": "e668871e-3e00-432f-8fae-bad053d915c4",
   "metadata": {},
   "outputs": [],
   "source": [
    "#| export\n",
    "def read_jsongz(fname, condition=default_condition):\n",
    "    with gzip.open(fname, 'rt', encoding='utf-8') as file:\n",
    "        return [json.loads(o) for o in file if condition(json.loads(o))]\n",
    "\n",
    "def read_jsonl(fname, condition=default_condition):\n",
    "    with open(fname, 'r') as file:\n",
    "        return [json.loads(o) for o in file if condition(json.loads(o))]\n",
    "        "
   ]
  },
  {
   "cell_type": "code",
   "execution_count": null,
   "id": "b1b73ab4-9de5-485e-acdf-aa5b6364aa19",
   "metadata": {},
   "outputs": [],
   "source": [
    "#| export\n",
    "def read_file(fname, condition=default_condition):\n",
    "    if fname.endswith('.jsonl'):\n",
    "        return read_jsonl(fname, condition)\n",
    "    elif fname.endswith('.json.gz'):\n",
    "        return read_jsongz(fname, condition)\n",
    "    else:\n",
    "        raise ValueError(f'Invalid file: {fname}')\n",
    "        "
   ]
  },
  {
   "cell_type": "code",
   "execution_count": null,
   "id": "1d3e8a3a-4f0d-46f5-8d77-44cacbfdb35e",
   "metadata": {},
   "outputs": [],
   "source": [
    "fname = '/home/scai/phd/aiz218323/scratch/datasets/amazon/dumps/raw/meta_categories/meta_All_Beauty.jsonl'\n",
    "items = read_file(fname)"
   ]
  },
  {
   "cell_type": "code",
   "execution_count": null,
   "id": "72378925-a373-410d-b53e-0f766eacbfcc",
   "metadata": {},
   "outputs": [],
   "source": []
  },
  {
   "cell_type": "code",
   "execution_count": null,
   "id": "40f025f5-d685-4842-b6a4-5027c2d931e2",
   "metadata": {},
   "outputs": [],
   "source": [
    "#| export\n",
    "def get_items(cache_dir, condition=default_condition):\n",
    "    items = []\n",
    "    files = [f'{cache_dir}/{fname}' for fname in os.listdir(cache_dir) if fname.endswith('.jsonl') or fname.endswith('.json.gz')]\n",
    "    for file in tqdm(files): items.extend(read_file(file, condition))\n",
    "    return items\n",
    "    "
   ]
  },
  {
   "cell_type": "code",
   "execution_count": null,
   "id": "a4b65ac4-e62d-4757-82e3-16d123a98191",
   "metadata": {},
   "outputs": [
    {
     "data": {
      "application/vnd.jupyter.widget-view+json": {
       "model_id": "8edb982ff08341c0ade70badc29f8bbc",
       "version_major": 2,
       "version_minor": 0
      },
      "text/plain": [
       "  0%|          | 0/2 [00:00<?, ?it/s]"
      ]
     },
     "metadata": {},
     "output_type": "display_data"
    }
   ],
   "source": [
    "cache_dir = '/home/scai/phd/aiz218323/scratch/datasets/amazon/dumps/raw/meta_categories/'\n",
    "items = get_items(cache_dir)"
   ]
  },
  {
   "cell_type": "code",
   "execution_count": null,
   "id": "98938b8f-6bc3-449a-946e-804edf3bf671",
   "metadata": {},
   "outputs": [],
   "source": []
  },
  {
   "cell_type": "code",
   "execution_count": null,
   "id": "a9223743-d7c0-4145-8886-a1834cc523b8",
   "metadata": {},
   "outputs": [],
   "source": [
    "#| export\n",
    "def load_items(cache_dir:str, data_dir:str, key:str, condition_type=None):\n",
    "    cache_file = f'{cache_dir}/products.pkl' if condition_type is None else f'{cache_dir}/products_{condition_type}.pkl'\n",
    "\n",
    "    try:\n",
    "        with open(cache_file, 'rb') as file:\n",
    "            items = pickle.load(file)\n",
    "    except:\n",
    "        is_valid = get_condition(data_dir, condition_type, key)\n",
    "        items = get_items(cache_dir, condition=is_valid)\n",
    "        \n",
    "        with open(cache_file, 'wb') as file:\n",
    "            pickle.dump(items, file)\n",
    "\n",
    "    return items\n",
    "    "
   ]
  },
  {
   "cell_type": "code",
   "execution_count": null,
   "id": "9429a819-ff6e-460a-8f3a-d83920998050",
   "metadata": {},
   "outputs": [],
   "source": [
    "cache_dir = '/home/scai/phd/aiz218323/scratch/datasets/amazon/dumps/raw/meta_categories/'\n",
    "data_dir = '/home/scai/phd/aiz218323/scratch/datasets/benchmarks/LF-Amazon-131K/'\n",
    "items = load_items(cache_dir, data_dir, key='parent_asin', condition_type='a23')"
   ]
  },
  {
   "cell_type": "code",
   "execution_count": null,
   "id": "84d88f20-fe09-4c6b-b552-ae416f6b1e83",
   "metadata": {},
   "outputs": [
    {
     "data": {
      "text/plain": [
       "[{'thumb': 'https://m.media-amazon.com/images/I/516glRKO6oL._SX38_SY50_CR,0,0,38,50_.jpg',\n",
       "  'large': 'https://m.media-amazon.com/images/I/516glRKO6oL.jpg',\n",
       "  'variant': 'MAIN',\n",
       "  'hi_res': 'https://m.media-amazon.com/images/I/71mjUMNYXrL._SL1500_.jpg'},\n",
       " {'thumb': 'https://m.media-amazon.com/images/I/41HdbnZfhsL._SX38_SY50_CR,0,0,38,50_.jpg',\n",
       "  'large': 'https://m.media-amazon.com/images/I/41HdbnZfhsL.jpg',\n",
       "  'variant': 'PT01',\n",
       "  'hi_res': 'https://m.media-amazon.com/images/I/61Ikt4caK7L._SL1500_.jpg'},\n",
       " {'thumb': 'https://m.media-amazon.com/images/I/41KJfqyZpDL._SX38_SY50_CR,0,0,38,50_.jpg',\n",
       "  'large': 'https://m.media-amazon.com/images/I/41KJfqyZpDL.jpg',\n",
       "  'variant': 'DTLS',\n",
       "  'hi_res': 'https://m.media-amazon.com/images/I/81i4uKq5hvL._SL1500_.jpg'}]"
      ]
     },
     "execution_count": null,
     "metadata": {},
     "output_type": "execute_result"
    }
   ],
   "source": [
    "items[3]['images']"
   ]
  },
  {
   "cell_type": "code",
   "execution_count": null,
   "id": "d570a3c9-4d8c-400c-b56b-59270b762b83",
   "metadata": {},
   "outputs": [
    {
     "data": {
      "text/plain": [
       "[{'title': 'Tazo Tea Passion, The Only Tea I Have Ever Enjoyed',\n",
       "  'url': 'https://www.amazon.com/vdp/0e4f45b1b94c471588e0822f5931d28b?ref=dp_vse_rvc_0',\n",
       "  'user_id': '/shop/sethgaffar'},\n",
       " {'title': 'Tazo Refreshers Herbal Tea & Juice Mix Watermelon Cucumber',\n",
       "  'url': 'https://www.amazon.com/vdp/0228aed725eb4936a9d3e88ebf136ba5?ref=dp_vse_rvc_1',\n",
       "  'user_id': ''},\n",
       " {'title': 'Tazo Unsweetened Iced Herbal Tea',\n",
       "  'url': 'https://www.amazon.com/vdp/0bd433867eed4e6b8f75e159c2bd6e35?ref=dp_vse_rvc_2',\n",
       "  'user_id': ''}]"
      ]
     },
     "execution_count": null,
     "metadata": {},
     "output_type": "execute_result"
    }
   ],
   "source": [
    "items[3]['videos']"
   ]
  },
  {
   "cell_type": "code",
   "execution_count": null,
   "id": "ad952fa6-ddaf-4cd3-909c-730c8df2b717",
   "metadata": {},
   "outputs": [],
   "source": []
  },
  {
   "cell_type": "code",
   "execution_count": null,
   "id": "6277724b-df99-408a-bbd0-56c66a1d589e",
   "metadata": {},
   "outputs": [],
   "source": [
    "cache_dir = '/home/scai/phd/aiz218323/scratch/datasets/amazon/dumps/raw/meta_categories/'\n",
    "data_dir = '/home/scai/phd/aiz218323/scratch/datasets/benchmarks/(mapped)LF-AmazonTitles-1.3M/'"
   ]
  },
  {
   "cell_type": "code",
   "execution_count": null,
   "id": "968de02c-ff57-4d58-8d46-20f56babe406",
   "metadata": {},
   "outputs": [
    {
     "data": {
      "application/vnd.jupyter.widget-view+json": {
       "model_id": "bbab68eda2854b4d98d721ad628708f7",
       "version_major": 2,
       "version_minor": 0
      },
      "text/plain": [
       "  0%|          | 0/34 [00:00<?, ?it/s]"
      ]
     },
     "metadata": {},
     "output_type": "display_data"
    }
   ],
   "source": [
    "items = load_items(cache_dir, data_dir, key='parent_asin', condition_type='a23')"
   ]
  },
  {
   "cell_type": "code",
   "execution_count": null,
   "id": "4d8f2dff-0c54-4d6b-9b29-874ca8f0cfa4",
   "metadata": {},
   "outputs": [],
   "source": []
  },
  {
   "cell_type": "markdown",
   "id": "85ee474c-1b3a-4a95-83bd-5bbffb6794c2",
   "metadata": {},
   "source": [
    "## Extract metadata"
   ]
  },
  {
   "cell_type": "code",
   "execution_count": null,
   "id": "50b0708c-493f-4432-bbe6-cd9e588108ac",
   "metadata": {},
   "outputs": [],
   "source": [
    "#| export\n",
    "def title_proc(o): \n",
    "    return [o['title']]\n",
    "    \n",
    "def description_proc(o): \n",
    "    return o['description']\n",
    "    \n",
    "def details_proc(o): \n",
    "    return [o['details'].__str__()]\n",
    "\n",
    "def image_proc(o):\n",
    "    images = list()\n",
    "    for image in o['images']:\n",
    "        for dtype in ['large', 'hi_res', 'thumb']:\n",
    "            if dtype in image and image[dtype] is not None:\n",
    "                images.append(image[dtype]); break\n",
    "    assert len(images) == len(o['images']), f\"Image not found: {o['title']}\"\n",
    "    return images\n",
    "\n",
    "def video_proc(o):\n",
    "    return [video['url'] for video in o['videos'] if video['url'] is not None]\n",
    "    "
   ]
  },
  {
   "cell_type": "code",
   "execution_count": null,
   "id": "7777bd46-fdcb-4c18-a66f-e544ff8989ad",
   "metadata": {},
   "outputs": [
    {
     "data": {
      "text/plain": [
       "['https://www.amazon.com/vdp/0e4f45b1b94c471588e0822f5931d28b?ref=dp_vse_rvc_0',\n",
       " 'https://www.amazon.com/vdp/0228aed725eb4936a9d3e88ebf136ba5?ref=dp_vse_rvc_1',\n",
       " 'https://www.amazon.com/vdp/0bd433867eed4e6b8f75e159c2bd6e35?ref=dp_vse_rvc_2']"
      ]
     },
     "execution_count": null,
     "metadata": {},
     "output_type": "execute_result"
    }
   ],
   "source": [
    "video_proc(items[3])"
   ]
  },
  {
   "cell_type": "code",
   "execution_count": null,
   "id": "b70788e9-5332-476a-9b8a-3b7d79670f8f",
   "metadata": {},
   "outputs": [],
   "source": []
  },
  {
   "cell_type": "code",
   "execution_count": null,
   "id": "80e164c8-2cc7-4f43-8514-83ee2307f6b0",
   "metadata": {},
   "outputs": [],
   "source": [
    "#| export\n",
    "METADATA_PROCS = {\n",
    "    'title': title_proc, \n",
    "    'details': details_proc, \n",
    "    'images': image_proc,\n",
    "    'videos': video_proc,\n",
    "    'description': description_proc, \n",
    "}"
   ]
  },
  {
   "cell_type": "code",
   "execution_count": null,
   "id": "be8e77af-b7f1-4677-ad0f-9e5f265b2534",
   "metadata": {},
   "outputs": [],
   "source": [
    "#| export\n",
    "def get_meta_proc(dtype):\n",
    "    assert dtype in METADATA_PROCS, f'Invalid metadata processing function: {dtype}.'\n",
    "    return METADATA_PROCS[dtype]\n",
    "\n",
    "def extract_meta_info(items, dtype, key):\n",
    "    func = get_meta_proc(dtype)\n",
    "    return {o[key]: func(o) for o in items}\n",
    "    "
   ]
  },
  {
   "cell_type": "code",
   "execution_count": null,
   "id": "1b98cdf5-ec1e-4deb-927b-d689bcaf243e",
   "metadata": {},
   "outputs": [],
   "source": [
    "meta_mapping = extract_meta_info(items, 'videos', 'parent_asin')"
   ]
  },
  {
   "cell_type": "code",
   "execution_count": null,
   "id": "c4baeaeb-9716-4b89-bebc-5460a9b599f0",
   "metadata": {},
   "outputs": [],
   "source": []
  },
  {
   "cell_type": "code",
   "execution_count": null,
   "id": "dc1ed7ba-744c-4f1f-aec9-2d8e076a944d",
   "metadata": {},
   "outputs": [],
   "source": [
    "#| export\n",
    "def get_vocabulary(mapping):\n",
    "    vocab, mapping_item2idx = create_vocab_and_item2idx(mapping)\n",
    "\n",
    "    vocab_txt = sorted(vocab, key=lambda x: vocab[x])\n",
    "    vocab_ids = list(range(len(vocab_txt)))\n",
    "\n",
    "    return vocab_ids, vocab_txt, mapping_item2idx\n",
    "    "
   ]
  },
  {
   "cell_type": "code",
   "execution_count": null,
   "id": "5f3c8bf7-bc88-4c5e-9a23-f18b8ff33316",
   "metadata": {},
   "outputs": [],
   "source": [
    "#| export\n",
    "def get_ids(data_dir):\n",
    "    trn_ids, _ = load_raw_txt(f'{data_dir}/raw_data/train.raw.txt', encoding='latin-1')\n",
    "    tst_ids, _ = load_raw_txt(f'{data_dir}/raw_data/test.raw.txt', encoding='latin-1')\n",
    "    lbl_ids, _ = load_raw_txt(f'{data_dir}/raw_data/label.raw.txt', encoding='latin-1')\n",
    "    return trn_ids, tst_ids, lbl_ids\n",
    "    "
   ]
  },
  {
   "cell_type": "code",
   "execution_count": null,
   "id": "0dc87d0b-69c0-41be-adf9-a037e2873acc",
   "metadata": {},
   "outputs": [],
   "source": [
    "#| export\n",
    "def get_matrix(mapping_item2idx, vocab_size, trn_ids, tst_ids, lbl_ids):\n",
    "    trn_mat, trn_ids = get_matrix_from_item2idx(mapping_item2idx, vocab_size, trn_ids)\n",
    "    tst_mat, tst_ids = get_matrix_from_item2idx(mapping_item2idx, vocab_size, tst_ids)\n",
    "    lbl_mat, lbl_ids = get_matrix_from_item2idx(mapping_item2idx, vocab_size, lbl_ids)\n",
    "    return trn_mat, tst_mat, lbl_mat\n",
    "    "
   ]
  },
  {
   "cell_type": "code",
   "execution_count": null,
   "id": "b33f4aec-dbc5-4902-b5cd-e85573b3a217",
   "metadata": {},
   "outputs": [],
   "source": [
    "#| export\n",
    "def filter_vocab(vocab_ids, vocab_txt, trn_mat, tst_mat, lbl_mat=None):\n",
    "    valid_idx = np.where(trn_mat.getnnz(axis=0) > 0)[0]\n",
    "    if lbl_mat is not None:\n",
    "        lbl_idx = np.where(lbl_mat.getnnz(axis=0) > 0)[0]\n",
    "        valid_idx = np.union1d(valid_idx, lbl_idx)\n",
    "\n",
    "    trn_mat = trn_mat[:, valid_idx]\n",
    "    tst_mat = tst_mat[:, valid_idx]\n",
    "    if lbl_mat is not None: \n",
    "        lbl_mat = lbl_mat[:, valid_idx]\n",
    "    \n",
    "    vocab_ids, vocab_txt = [vocab_ids[i] for i in valid_idx], [vocab_txt[i] for i in valid_idx]\n",
    "\n",
    "    return vocab_ids, vocab_txt, trn_mat, tst_mat, lbl_mat\n",
    "    "
   ]
  },
  {
   "cell_type": "code",
   "execution_count": null,
   "id": "ec033ff2-25bc-43c8-b89b-82d25089858a",
   "metadata": {},
   "outputs": [
    {
     "data": {
      "application/vnd.jupyter.widget-view+json": {
       "model_id": "253cf73cbae94e5781673f0d10fba97d",
       "version_major": 2,
       "version_minor": 0
      },
      "text/plain": [
       "  0%|          | 0/5622 [00:00<?, ?it/s]"
      ]
     },
     "metadata": {},
     "output_type": "display_data"
    }
   ],
   "source": [
    "metadata_ids, metadata_txt, mapping_item2idx = get_vocabulary(meta_mapping)"
   ]
  },
  {
   "cell_type": "markdown",
   "id": "7ec2b001-5aa3-4b55-a9b7-d11e77cdfc61",
   "metadata": {},
   "source": [
    "## Download image"
   ]
  },
  {
   "cell_type": "code",
   "execution_count": null,
   "id": "04806b9a-8932-4bae-92f8-fd1b033c5d57",
   "metadata": {},
   "outputs": [],
   "source": [
    "#| export\n",
    "def get_downloaded_image_filename(dest, name, suffix):\n",
    "    start_index = 1\n",
    "    candidate_name = name\n",
    "\n",
    "    while (dest/f\"{candidate_name}{suffix}\").is_file():\n",
    "        candidate_name = f\"{candidate_name}{start_index}\"\n",
    "        start_index += 1\n",
    "\n",
    "    return candidate_name\n",
    "    "
   ]
  },
  {
   "cell_type": "code",
   "execution_count": null,
   "id": "0125c988-5bf2-4e3c-8544-6e926d571f22",
   "metadata": {},
   "outputs": [],
   "source": [
    "#| export\n",
    "def download_image(dest, inp, timeout=4, preserve_filename=False):\n",
    "    i,url = inp\n",
    "    url = url.split(\"?\")[0]\n",
    "    url_path = Path(url)\n",
    "    suffix = url_path.suffix if url_path.suffix else '.jpg'\n",
    "    name = get_downloaded_image_filename(dest, url_path.stem, suffix) if preserve_filename else str(uuid.uuid4())\n",
    "    try: \n",
    "        dest = dest/f\"{name}{suffix}\"\n",
    "        download_url(url, dest, show_progress=False, timeout=timeout)\n",
    "        return dest\n",
    "    except Exception as e: \n",
    "        f\"Couldn't download {url}.\"\n",
    "        return None\n",
    "        "
   ]
  },
  {
   "cell_type": "code",
   "execution_count": null,
   "id": "48de6b37-c1d8-4cb1-af81-5c38a4041bd7",
   "metadata": {},
   "outputs": [],
   "source": [
    "#| export\n",
    "def download_images(dest, urls=None, n_workers=8, timeout=4, preserve_filename=False):\n",
    "    dest = Path(dest)\n",
    "    dest.mkdir(exist_ok=True)\n",
    "    with Pool(processes=n_workers) as pool:\n",
    "        fnames = list(tqdm(pool.imap(partial(download_image, dest, timeout=timeout, preserve_filename=preserve_filename), list(enumerate(urls))), total=len(urls)))\n",
    "    return fnames\n",
    "    "
   ]
  },
  {
   "cell_type": "code",
   "execution_count": null,
   "id": "92812d58-6a1f-4e99-b177-4a7ab1cee0cd",
   "metadata": {},
   "outputs": [],
   "source": [
    "#| export\n",
    "def verify_image(fn):\n",
    "    try:\n",
    "        im = Image.open(fn)\n",
    "        im.draft(im.mode, (32,32))\n",
    "        im.load()\n",
    "        return True\n",
    "    except: return False"
   ]
  },
  {
   "cell_type": "code",
   "execution_count": null,
   "id": "d8e097ea-53fa-4c04-a0ba-2326d70afc79",
   "metadata": {},
   "outputs": [],
   "source": [
    "#| export\n",
    "def verify_images(fns, n_workers=8):\n",
    "    with Pool(processes=n_workers) as pool:\n",
    "        return list(tqdm(pool.imap(verify_image, fns), total=len(fns)))\n",
    "        "
   ]
  },
  {
   "cell_type": "code",
   "execution_count": null,
   "id": "ade49928-696e-4e30-8cd9-23bbb6bfabca",
   "metadata": {},
   "outputs": [],
   "source": [
    "#| export\n",
    "def remove_images(fnames, is_valid):\n",
    "    for fname,v in zip(fnames, is_valid):\n",
    "        if not v and fname is not None: fname.unlink()\n",
    "    "
   ]
  },
  {
   "cell_type": "code",
   "execution_count": null,
   "id": "95e28801-3a03-4e30-ae39-721f7ded1a5e",
   "metadata": {},
   "outputs": [],
   "source": [
    "#| export\n",
    "def filter_images(image_ids, image_txt, trn_mat, tst_mat, lbl_mat, valid_idx):\n",
    "    trn_mat = trn_mat[:, valid_idx]\n",
    "    tst_mat = tst_mat[:, valid_idx]\n",
    "    lbl_mat = lbl_mat[:, valid_idx]\n",
    "    \n",
    "    image_ids, image_txt = [image_ids[i] for i in valid_idx], [image_txt[i] for i in valid_idx]\n",
    "\n",
    "    return image_ids, image_txt, trn_mat, tst_mat, lbl_mat\n",
    "    "
   ]
  },
  {
   "cell_type": "code",
   "execution_count": null,
   "id": "a2495913-3692-49d1-ab2c-cd12ce517400",
   "metadata": {},
   "outputs": [],
   "source": [
    "#| export\n",
    "def process_images(metadata_ids, metadata_txt, trn_mat, tst_mat, lbl_mat):\n",
    "    fnames = download_images(f'{data_dir}/images', urls=metadata_txt)\n",
    "    \n",
    "    is_valid = verify_images(fnames)\n",
    "    remove_images(fnames, is_valid)\n",
    "\n",
    "    metadata_txt = [o if o is None else o.name for o in fnames]\n",
    "    return filter_images(metadata_ids, metadata_txt, trn_mat, tst_mat, lbl_mat, np.where(is_valid)[0])\n"
   ]
  },
  {
   "cell_type": "code",
   "execution_count": null,
   "id": "7be920d7-fcbc-4964-9bd5-748f11d4693e",
   "metadata": {},
   "outputs": [],
   "source": [
    "image_dir = '/home/scai/phd/aiz218323/scratch/datasets/benchmarks/LF-Amazon-131K/images'"
   ]
  },
  {
   "cell_type": "code",
   "execution_count": null,
   "id": "0816a000-348c-4572-aa96-eb4da1c076de",
   "metadata": {},
   "outputs": [
    {
     "data": {
      "application/vnd.jupyter.widget-view+json": {
       "model_id": "18ae50d173074708ac93f119c6d18ca2",
       "version_major": 2,
       "version_minor": 0
      },
      "text/plain": [
       "  0%|          | 0/15722 [00:00<?, ?it/s]"
      ]
     },
     "metadata": {},
     "output_type": "display_data"
    }
   ],
   "source": [
    "fnames = download_images(image_dir, urls=metadata_txt)"
   ]
  },
  {
   "cell_type": "code",
   "execution_count": null,
   "id": "35b0a1a1-440e-49ad-9f34-d3008e212fdf",
   "metadata": {},
   "outputs": [
    {
     "data": {
      "application/vnd.jupyter.widget-view+json": {
       "model_id": "02c396fe4a6143cda7d536510676458e",
       "version_major": 2,
       "version_minor": 0
      },
      "text/plain": [
       "  0%|          | 0/15722 [00:00<?, ?it/s]"
      ]
     },
     "metadata": {},
     "output_type": "display_data"
    }
   ],
   "source": [
    "is_valid = verify_images(fnames)\n",
    "remove_images(fnames, is_valid)"
   ]
  },
  {
   "cell_type": "code",
   "execution_count": null,
   "id": "ad59abcc-ce30-4fe5-9f96-ce7fdfcef30c",
   "metadata": {},
   "outputs": [],
   "source": [
    "metadata_txt = [o if o is None else o.name for o in fnames]"
   ]
  },
  {
   "cell_type": "markdown",
   "id": "21a45614-fe69-4740-bac0-369033664bcb",
   "metadata": {},
   "source": [
    "## Download video"
   ]
  },
  {
   "cell_type": "code",
   "execution_count": null,
   "id": "07818326-33fb-44af-b943-60310d5944da",
   "metadata": {},
   "outputs": [],
   "source": [
    "#| export\n",
    "def get_downloaded_video_filename(dest, name, suffix):\n",
    "    start_index = 1\n",
    "    candidate_name = name\n",
    "\n",
    "    while (dest/f\"{candidate_name}{suffix}\").is_file():\n",
    "        candidate_name = f\"{candidate_name}{start_index}\"\n",
    "        start_index += 1\n",
    "\n",
    "    return candidate_name\n",
    "    "
   ]
  },
  {
   "cell_type": "code",
   "execution_count": null,
   "id": "25eeb20d-8dd0-4dd0-886f-d838e22be529",
   "metadata": {},
   "outputs": [],
   "source": [
    "#| export\n",
    "def download_video(dest, inp, timeout=4, preserve_filename=False):\n",
    "    i,url = inp\n",
    "    url = url.split(\"?\")[0]\n",
    "    url_path = Path(url)\n",
    "    suffix = url_path.suffix if url_path.suffix else '.jpg'\n",
    "    name = get_downloaded_image_filename(dest, url_path.stem, suffix) if preserve_filename else str(uuid.uuid4())\n",
    "    try: \n",
    "        dest = dest/f\"{name}{suffix}\"\n",
    "        download_url(url, dest, show_progress=False, timeout=timeout)\n",
    "        return dest\n",
    "    except Exception as e: \n",
    "        f\"Couldn't download {url}.\"\n",
    "        return None\n",
    "        "
   ]
  },
  {
   "cell_type": "code",
   "execution_count": null,
   "id": "a09b0e5b-1910-4ea3-8a33-5ff8d7d0693b",
   "metadata": {},
   "outputs": [],
   "source": [
    "#| export\n",
    "def download_videos(dest, urls=None, n_workers=8, timeout=4, preserve_filename=False):\n",
    "    dest = Path(dest)\n",
    "    dest.mkdir(exist_ok=True)\n",
    "    with Pool(processes=n_workers) as pool:\n",
    "        fnames = list(tqdm(pool.imap(partial(download_image, dest, timeout=timeout, preserve_filename=preserve_filename), list(enumerate(urls))), total=len(urls)))\n",
    "    return fnames\n",
    "    "
   ]
  },
  {
   "cell_type": "code",
   "execution_count": null,
   "id": "adc6a331-384f-4ab3-bd3b-cf217a6ffcfd",
   "metadata": {},
   "outputs": [],
   "source": [
    "#| export\n",
    "def verify_video(fn):\n",
    "    try:\n",
    "        im = Image.open(fn)\n",
    "        im.draft(im.mode, (32,32))\n",
    "        im.load()\n",
    "        return True\n",
    "    except: return False"
   ]
  },
  {
   "cell_type": "code",
   "execution_count": null,
   "id": "a4109f1c-e3d7-41d6-88af-a530704f1c5d",
   "metadata": {},
   "outputs": [],
   "source": [
    "#| export\n",
    "def verify_videos(fns, n_workers=8):\n",
    "    with Pool(processes=n_workers) as pool:\n",
    "        return list(tqdm(pool.imap(verify_image, fns), total=len(fns)))\n",
    "        "
   ]
  },
  {
   "cell_type": "code",
   "execution_count": null,
   "id": "b0c14bdc-d9f9-4fce-9f36-b29656520e6b",
   "metadata": {},
   "outputs": [],
   "source": [
    "#| export\n",
    "def remove_videos(fnames, is_valid):\n",
    "    for fname,v in zip(fnames, is_valid):\n",
    "        if not v and fname is not None: fname.unlink()\n",
    "    "
   ]
  },
  {
   "cell_type": "code",
   "execution_count": null,
   "id": "45363519-44ba-4918-94aa-34190a9bab49",
   "metadata": {},
   "outputs": [],
   "source": [
    "#| export\n",
    "def filter_videos(image_ids, image_txt, trn_mat, tst_mat, lbl_mat, valid_idx):\n",
    "    trn_mat = trn_mat[:, valid_idx]\n",
    "    tst_mat = tst_mat[:, valid_idx]\n",
    "    lbl_mat = lbl_mat[:, valid_idx]\n",
    "    \n",
    "    image_ids, image_txt = [image_ids[i] for i in valid_idx], [image_txt[i] for i in valid_idx]\n",
    "\n",
    "    return image_ids, image_txt, trn_mat, tst_mat, lbl_mat\n",
    "    "
   ]
  },
  {
   "cell_type": "code",
   "execution_count": null,
   "id": "713d8fc5-1447-4e4a-97b1-8d8331ec7fc1",
   "metadata": {},
   "outputs": [],
   "source": [
    "#| export\n",
    "def process_videos(metadata_ids, metadata_txt, trn_mat, tst_mat, lbl_mat):\n",
    "    fnames = download_images(f'{data_dir}/images', urls=metadata_txt)\n",
    "    \n",
    "    is_valid = verify_images(fnames)\n",
    "    remove_images(fnames, is_valid)\n",
    "\n",
    "    metadata_txt = [o if o is None else o.name for o in fnames]\n",
    "    return filter_images(metadata_ids, metadata_txt, trn_mat, tst_mat, lbl_mat, np.where(is_valid)[0])\n"
   ]
  },
  {
   "cell_type": "code",
   "execution_count": null,
   "id": "4baa025c-9270-4daf-a688-dbeeb62195ce",
   "metadata": {},
   "outputs": [],
   "source": [
    "video_dir = '/home/scai/phd/aiz218323/scratch/datasets/benchmarks/LF-Amazon-131K/videos'"
   ]
  },
  {
   "cell_type": "code",
   "execution_count": null,
   "id": "b3bad6e6-88a7-4cea-8e33-8e83ee3ca884",
   "metadata": {},
   "outputs": [
    {
     "data": {
      "text/plain": [
       "['https://www.amazon.com/vdp/0354b17a71a44097930f28168b8aee8f?ref=dp_vse_rvc_0',\n",
       " 'https://www.amazon.com/vdp/0e4f45b1b94c471588e0822f5931d28b?ref=dp_vse_rvc_0',\n",
       " 'https://www.amazon.com/vdp/0228aed725eb4936a9d3e88ebf136ba5?ref=dp_vse_rvc_1',\n",
       " 'https://www.amazon.com/vdp/0bd433867eed4e6b8f75e159c2bd6e35?ref=dp_vse_rvc_2',\n",
       " 'https://www.amazon.com/vdp/7615c3bde1d54f1abaeeff2ff13be5d8?ref=dp_vse_rvc_0']"
      ]
     },
     "execution_count": null,
     "metadata": {},
     "output_type": "execute_result"
    }
   ],
   "source": [
    "metadata_txt[:5]"
   ]
  },
  {
   "cell_type": "code",
   "execution_count": null,
   "id": "4e0b93ae-07fa-4b59-a2d3-414e52e90223",
   "metadata": {},
   "outputs": [
    {
     "data": {
      "application/vnd.jupyter.widget-view+json": {
       "model_id": "18ae50d173074708ac93f119c6d18ca2",
       "version_major": 2,
       "version_minor": 0
      },
      "text/plain": [
       "  0%|          | 0/15722 [00:00<?, ?it/s]"
      ]
     },
     "metadata": {},
     "output_type": "display_data"
    }
   ],
   "source": [
    "fnames = download_videos(video_dir, urls=metadata_txt)"
   ]
  },
  {
   "cell_type": "code",
   "execution_count": null,
   "id": "9eac36b0-942a-4aae-a92e-2f42e7ffdd45",
   "metadata": {},
   "outputs": [
    {
     "data": {
      "application/vnd.jupyter.widget-view+json": {
       "model_id": "02c396fe4a6143cda7d536510676458e",
       "version_major": 2,
       "version_minor": 0
      },
      "text/plain": [
       "  0%|          | 0/15722 [00:00<?, ?it/s]"
      ]
     },
     "metadata": {},
     "output_type": "display_data"
    }
   ],
   "source": [
    "is_valid = verify_videos(fnames)\n",
    "remove_videos(fnames, is_valid)"
   ]
  },
  {
   "cell_type": "code",
   "execution_count": null,
   "id": "2437e32c-0422-448e-98a7-3aa064c4014d",
   "metadata": {},
   "outputs": [],
   "source": [
    "metadata_txt = [o if o is None else o.name for o in fnames]"
   ]
  },
  {
   "cell_type": "markdown",
   "id": "841ca855-f204-4f4b-8d34-9d3309102f38",
   "metadata": {},
   "source": [
    "## Construct matrix"
   ]
  },
  {
   "cell_type": "code",
   "execution_count": null,
   "id": "a818efef-9e75-4d66-b813-d3b37c542d02",
   "metadata": {},
   "outputs": [],
   "source": [
    "#| export\n",
    "def get_metadata(cache_dir, data_dir, meta_type, key, condition_type, do_filter=True):\n",
    "    items = load_items(cache_dir, data_dir, key, condition_type)\n",
    "    \n",
    "    meta_mapping = extract_meta_info(items, meta_type, key)\n",
    "\n",
    "    metadata_ids, metadata_txt, mapping_item2idx = get_vocabulary(meta_mapping)\n",
    "    trn_ids, tst_ids, lbl_ids = get_ids(data_dir)\n",
    "    trn_mat, tst_mat, lbl_mat = get_matrix(mapping_item2idx, len(metadata_ids), trn_ids, tst_ids, lbl_ids)\n",
    "\n",
    "    if do_filter:\n",
    "        metadata_ids, metadata_txt, trn_mat, tst_mat, lbl_mat = filter_vocab(metadata_ids, metadata_txt, trn_mat, tst_mat, lbl_mat)\n",
    "        \n",
    "    return trn_mat, tst_mat, lbl_mat, metadata_ids, metadata_txt\n",
    "    "
   ]
  },
  {
   "cell_type": "code",
   "execution_count": null,
   "id": "bf6d4726-655a-4870-a329-5d4853f9051e",
   "metadata": {},
   "outputs": [],
   "source": [
    "#| export\n",
    "def save_metadata(save_dir, trn_mat, tst_mat, lbl_mat, metadata_ids, metadata_txt, metadata_type):\n",
    "    sp.save_npz(f'{save_dir}/{metadata_type}_trn_X_Y.npz', trn_mat)\n",
    "    sp.save_npz(f'{save_dir}/{metadata_type}_tst_X_Y.npz', tst_mat)\n",
    "    sp.save_npz(f'{save_dir}/{metadata_type}_lbl_X_Y.npz', lbl_mat)\n",
    "    \n",
    "    os.makedirs(f'{save_dir}/raw_data', exist_ok=True)\n",
    "    save_raw_txt(f'{save_dir}/raw_data/{metadata_type}.raw.txt', metadata_ids, metadata_txt)\n",
    "    "
   ]
  },
  {
   "cell_type": "code",
   "execution_count": null,
   "id": "63c8b72f-bd01-4e47-b160-7b69c4ffc0be",
   "metadata": {},
   "outputs": [],
   "source": [
    "cache_dir = '/home/scai/phd/aiz218323/scratch/datasets/amazon/dumps/raw/meta_categories/'\n",
    "data_dir = '/home/scai/phd/aiz218323/scratch/datasets/benchmarks/LF-Amazon-131K/'"
   ]
  },
  {
   "cell_type": "code",
   "execution_count": null,
   "id": "f1f1d457-d2f6-42a1-86d0-59374c38de6f",
   "metadata": {},
   "outputs": [
    {
     "data": {
      "application/vnd.jupyter.widget-view+json": {
       "model_id": "38256d1d626e445389b01598a3e3b550",
       "version_major": 2,
       "version_minor": 0
      },
      "text/plain": [
       "  0%|          | 0/5622 [00:00<?, ?it/s]"
      ]
     },
     "metadata": {},
     "output_type": "display_data"
    },
    {
     "data": {
      "application/vnd.jupyter.widget-view+json": {
       "model_id": "08b6196575be446ca1f2ec1eadacc063",
       "version_major": 2,
       "version_minor": 0
      },
      "text/plain": [
       "  0%|          | 0/294805 [00:00<?, ?it/s]"
      ]
     },
     "metadata": {},
     "output_type": "display_data"
    },
    {
     "data": {
      "application/vnd.jupyter.widget-view+json": {
       "model_id": "064a78b2e6fd456991c0bb36f2af6205",
       "version_major": 2,
       "version_minor": 0
      },
      "text/plain": [
       "  0%|          | 0/134835 [00:00<?, ?it/s]"
      ]
     },
     "metadata": {},
     "output_type": "display_data"
    },
    {
     "data": {
      "application/vnd.jupyter.widget-view+json": {
       "model_id": "6bf528034fb848dd9fc1ebf3d920e5f9",
       "version_major": 2,
       "version_minor": 0
      },
      "text/plain": [
       "  0%|          | 0/131073 [00:00<?, ?it/s]"
      ]
     },
     "metadata": {},
     "output_type": "display_data"
    }
   ],
   "source": [
    "trn_mat, tst_mat, lbl_mat, metadata_ids, metadata_txt = get_metadata(cache_dir, data_dir, meta_type='images', key='parent_asin', \n",
    "                                                                     condition_type='a23', do_filtering=True)"
   ]
  },
  {
   "cell_type": "code",
   "execution_count": null,
   "id": "ac137f93-8943-4f61-86b4-ec0d95fd3369",
   "metadata": {},
   "outputs": [],
   "source": [
    "save_metadata(data_dir, trn_mat, tst_mat, lbl_mat, metadata_ids, metadata_txt, metadata_type)"
   ]
  },
  {
   "cell_type": "markdown",
   "id": "f85aeb0c-8a2b-4f0c-a6a8-2718d760bbea",
   "metadata": {},
   "source": [
    "## `__main__`"
   ]
  },
  {
   "cell_type": "code",
   "execution_count": null,
   "id": "eb2b4a35-96b6-499c-ae56-46a46d1c12ee",
   "metadata": {},
   "outputs": [],
   "source": [
    "#| export\n",
    "def parse_args():\n",
    "    parser = argparse.ArgumentParser()\n",
    "    parser.add_argument('--cache_dir', type=str, required=True)\n",
    "    parser.add_argument('--data_dir', type=str, required=True)\n",
    "    parser.add_argument('--key', type=str, default='parent_asin')\n",
    "    parser.add_argument('--condition_type', type=str, default=None)\n",
    "    parser.add_argument('--metadata_type', type=str, required=True)\n",
    "    parser.add_argument('--no_filter', action='store_false')\n",
    "    return parser.parse_args()\n"
   ]
  },
  {
   "cell_type": "code",
   "execution_count": null,
   "id": "47726cd9-908f-4b27-ba12-a97e3ad9033f",
   "metadata": {},
   "outputs": [],
   "source": [
    "#| export\n",
    "\n",
    "if __name__ == '__main__':\n",
    "    start_time = timer()\n",
    "\n",
    "    args = parse_args()\n",
    "\n",
    "    trn_mat, tst_mat, lbl_mat, metadata_ids, metadata_txt = get_metadata(args.cache_dir, args.data_dir, meta_type=args.metadata_type, \n",
    "                                                                         key=args.key, condition_type=args.condition_type, \n",
    "                                                                         do_filter=args.no_filter)\n",
    "    save_metadata(args.data_dir, trn_mat, tst_mat, lbl_mat, metadata_ids, metadata_txt, args.metadata_type)\n",
    "    \n",
    "    end_time = timer()\n",
    "    print(f'Time elapsed: {end_time-start_time:.2f} seconds.')\n",
    "    "
   ]
  },
  {
   "cell_type": "code",
   "execution_count": null,
   "id": "34290adb-3708-49bc-afcb-a4db02666970",
   "metadata": {},
   "outputs": [],
   "source": []
  }
 ],
 "metadata": {
  "kernelspec": {
   "display_name": "python3",
   "language": "python",
   "name": "python3"
  }
 },
 "nbformat": 4,
 "nbformat_minor": 5
}
