{
 "cells": [
  {
   "cell_type": "code",
   "execution_count": 1,
   "id": "7c6bbee8-1ff3-4058-a1d8-1feb6d26d421",
   "metadata": {},
   "outputs": [],
   "source": [
    "#| default_exp 05_map-amazon-meta-from-dump"
   ]
  },
  {
   "cell_type": "code",
   "execution_count": 2,
   "id": "589fdf80-eadc-4f4c-8231-0ef319d125ff",
   "metadata": {},
   "outputs": [],
   "source": [
    "#| hide\n",
    "from nbdev.showdoc import *\n",
    "import nbdev; nbdev.nbdev_export()"
   ]
  },
  {
   "cell_type": "code",
   "execution_count": 4,
   "id": "a304a465-1fa4-4942-a266-0575d29a90d0",
   "metadata": {},
   "outputs": [],
   "source": [
    "#| export\n",
    "from timeit import default_timer as timer\n",
    "import json, gzip, argparse, os, pickle\n",
    "from functools import partial\n",
    "from tqdm.auto import tqdm"
   ]
  },
  {
   "cell_type": "code",
   "execution_count": 6,
   "id": "50312c84-41b6-418e-9e85-7b487988e506",
   "metadata": {},
   "outputs": [],
   "source": [
    "#| export\n",
    "from sugar import *"
   ]
  },
  {
   "cell_type": "code",
   "execution_count": 7,
   "id": "4ebe069f-da5d-4af6-b35f-d4062b8ac287",
   "metadata": {},
   "outputs": [],
   "source": [
    "#| export\n",
    "def default_condition(o): return True\n",
    "\n",
    "def read_jsongz(fname, condition=default_condition):\n",
    "    with gzip.open(fname, 'rt', encoding='utf-8') as file:\n",
    "        return [json.loads(o) for o in file if condition(json.loads(o))]\n",
    "\n",
    "def read_jsonl(fname, condition=default_condition):\n",
    "    with open(fname, 'r') as file:\n",
    "        return [json.loads(o) for o in file if condition(json.loads(o))]\n",
    "\n",
    "def _read_file(fname, condition=default_condition):\n",
    "    if fname.endswith('.jsonl'):\n",
    "        return read_jsonl(fname, condition)\n",
    "    elif fname.endswith('.json.gz'):\n",
    "        return read_jsongz(fname, condition)\n",
    "    else:\n",
    "        raise ValueError(f'Invalid file: {fname}')\n",
    "\n",
    "def _get_relevant_items(raw_dir, condition=default_condition):\n",
    "    all_items = []\n",
    "    for file in tqdm([f'{raw_dir}/{fn}' for fn in os.listdir(raw_dir)]):\n",
    "        all_items.extend(_read_file(file, condition))\n",
    "    return all_items\n",
    "\n",
    "def condition_a23(o, ids, id_field):\n",
    "    return o[id_field] in ids\n",
    "\n",
    "def get_condition(data_dir, dtype, id_field, encoding='utf-8'):\n",
    "    all_ids = get_all_ids(f'{data_dir}/raw_data', encoding)\n",
    "    if dtype == 'a23': return partial(condition_a23, ids=all_ids, id_field=id_field)\n",
    "    elif dtype is None: return default_condition\n",
    "    else: raise ValueError(f'Invalid condition: {dtype}')\n",
    "\n",
    "def file_exists(fname):\n",
    "    try:\n",
    "        with open(fname, 'rb') as file:\n",
    "            all_items = pickle.load(file)\n",
    "        return True\n",
    "    except:\n",
    "        return False"
   ]
  },
  {
   "cell_type": "code",
   "execution_count": 8,
   "id": "50b0708c-493f-4432-bbe6-cd9e588108ac",
   "metadata": {},
   "outputs": [],
   "source": [
    "#| export\n",
    "def get_relevant_items(data_dir, raw_dir, id_field, condition_type=None, encoding='utf-8'):\n",
    "    fname = f'{data_dir}/all_products.pkl' if condition_type is None else f'{data_dir}/all_products_{condition_type}.pkl'\n",
    "\n",
    "    if file_exists(fname):\n",
    "        with open(fname, 'rb') as file:\n",
    "            all_items = pickle.load(file)\n",
    "    else:\n",
    "        condition = get_condition(data_dir, condition_type, id_field, encoding)\n",
    "        all_items = _get_relevant_items(raw_dir, condition)\n",
    "        with open(fname, 'wb') as file:\n",
    "            pickle.dump(all_items, file)\n",
    "\n",
    "    return all_items\n",
    "\n",
    "def title_proc(o): return [o['title']]\n",
    "def description_proc(o): return o['description']\n",
    "def details_proc(o): return [o['details'].__str__()]\n",
    "\n",
    "def image_proc(o):\n",
    "    images = []\n",
    "    for image in o['images']:\n",
    "        found = False\n",
    "        for dtype in ['large', 'hi_res', 'thumb']:\n",
    "            if dtype in image and image[dtype] is not None:\n",
    "                images.append(image[dtype])\n",
    "                found = True\n",
    "                break\n",
    "        if not found: raise ValueError('Image not found')\n",
    "    return images"
   ]
  },
  {
   "cell_type": "code",
   "execution_count": 9,
   "id": "be8e77af-b7f1-4677-ad0f-9e5f265b2534",
   "metadata": {},
   "outputs": [],
   "source": [
    "#| export\n",
    "def get_proc_type(dtype):\n",
    "    if dtype == 'description': return description_proc\n",
    "    elif dtype == 'image': return image_proc\n",
    "    elif dtype == 'details': return details_proc\n",
    "    else: raise ValueError(f'Invalid function type: {dtype}')\n",
    "\n",
    "def extract_meta_info(all_items, meta_type, id_field):\n",
    "    proc_func = get_proc_type(meta_type)\n",
    "\n",
    "    meta_info = {}\n",
    "    for o in all_items:\n",
    "        meta_info[o[id_field]] = proc_func(o)\n",
    "    return meta_info"
   ]
  },
  {
   "cell_type": "code",
   "execution_count": null,
   "id": "47726cd9-908f-4b27-ba12-a97e3ad9033f",
   "metadata": {},
   "outputs": [],
   "source": [
    "#| export\n",
    "def parse_args():\n",
    "    parser = argparse.ArgumentParser()\n",
    "    parser.add_argument('--raw_dir', type=str, required=True)\n",
    "    parser.add_argument('--data_dir', type=str, required=True)\n",
    "    parser.add_argument('--id_field', type=str, required=True)\n",
    "    parser.add_argument('--condition_type', type=str, default=None)\n",
    "    parser.add_argument('--encoding', type=str, default='utf-8')\n",
    "    parser.add_argument('--meta_type', type=str, required=True)\n",
    "    return parser.parse_args()\n",
    "\n",
    "if __name__ == '__main__':\n",
    "    start_time = timer()\n",
    "\n",
    "    args = parse_args()\n",
    "\n",
    "    all_items = get_relevant_items(args.data_dir, args.raw_dir, args.id_field,\n",
    "            args.condition_type, args.encoding)\n",
    "\n",
    "    meta_info = extract_meta_info(all_items, args.meta_type, args.id_field)\n",
    "    matrix, ids, vocab = get_matrix_from_mapping(meta_info)\n",
    "\n",
    "    end_time = timer()\n",
    "    print(f'Time elapsed: {end_time-start_time:.2f} seconds.')\n",
    "    "
   ]
  }
 ],
 "metadata": {
  "kernelspec": {
   "display_name": "Python 3 (ipykernel)",
   "language": "python",
   "name": "python3"
  },
  "language_info": {
   "codemirror_mode": {
    "name": "ipython",
    "version": 3
   },
   "file_extension": ".py",
   "mimetype": "text/x-python",
   "name": "python",
   "nbconvert_exporter": "python",
   "pygments_lexer": "ipython3",
   "version": "3.9.19"
  }
 },
 "nbformat": 4,
 "nbformat_minor": 5
}
