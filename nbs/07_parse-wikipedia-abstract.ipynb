{
 "cells": [
  {
   "cell_type": "code",
   "execution_count": 1,
   "id": "3f862e59-253e-43e9-8053-4c9b06e9cd1c",
   "metadata": {},
   "outputs": [],
   "source": [
    "#| default_exp 07_parse-wikipedia-abstract"
   ]
  },
  {
   "cell_type": "code",
   "execution_count": 2,
   "id": "8d658983-485a-474b-8d7e-af842a6d6bbd",
   "metadata": {},
   "outputs": [],
   "source": [
    "#| hide\n",
    "from nbdev.showdoc import *\n",
    "import nbdev; nbdev.nbdev_export()"
   ]
  },
  {
   "cell_type": "code",
   "execution_count": 3,
   "id": "26221d64-a742-4fbe-b1f3-fe4b5fa2788a",
   "metadata": {},
   "outputs": [],
   "source": [
    "#| export\n",
    "import os, bz2, queue, wikitextparser, multiprocessing, xml.sax, io, argparse, gzip\n",
    "from timeit import default_timer as timer"
   ]
  },
  {
   "cell_type": "code",
   "execution_count": 4,
   "id": "1226f811-1adb-4b2a-8bef-e48daecfd703",
   "metadata": {},
   "outputs": [],
   "source": [
    "#| export\n",
    "def process_worker(articles_source):\n",
    "    with gzip.open(articles_source, 'rb') as filehandler:\n",
    "        contents = filehandler.read()\n",
    "    return process_contents(contents)\n",
    "\n",
    "def process_contents(contents):\n",
    "    reader = XMLSAXParser()\n",
    "    try:\n",
    "        byte_stream = io.BytesIO(contents)\n",
    "        xml.sax.parse(byte_stream, reader)\n",
    "    finally:\n",
    "        byte_stream.close()\n",
    "        return reader.all_contents"
   ]
  },
  {
   "cell_type": "code",
   "execution_count": 5,
   "id": "fdd17d3b-2ecd-45d1-be33-608b0f6d14c8",
   "metadata": {},
   "outputs": [],
   "source": [
    "#| export\n",
    "class XMLSAXParser(xml.sax.ContentHandler):\n",
    "    def __init__(self):\n",
    "        super().__init__()\n",
    "\n",
    "        self.read_stack = []\n",
    "        self.page_title = None\n",
    "        self.page_content = None\n",
    "\n",
    "        self.page_count = 0\n",
    "        self.in_page = False\n",
    "\n",
    "        self.all_contents = dict()\n",
    "\n",
    "    def startElement(self, tag_name, attributes):\n",
    "\n",
    "        self.text_aggregate = []\n",
    "\n",
    "        if tag_name == \"doc\":\n",
    "            self.page_title = None\n",
    "            self.page_content = None\n",
    "            self.in_page = True\n",
    "\n",
    "        self.read_stack.append(tag_name)\n",
    "\n",
    "    def endElement(self, tag_name):\n",
    "        if (len(self.read_stack) > 0) and (tag_name == self.read_stack[-1]):\n",
    "            del self.read_stack[-1]\n",
    "        else:\n",
    "            raise Exception(\"Tag ({}) does not match open tag ({}).\".format(tag_name, self.read_stack[-1]))\n",
    "\n",
    "        element_string = ''.join(self.text_aggregate)\n",
    "\n",
    "        if tag_name == \"doc\":\n",
    "            self.in_page = False\n",
    "            self.all_contents[self.page_title] = self.page_content\n",
    "            print(f'Processed: {self.page_title}')\n",
    "        else:\n",
    "            if self.in_page:\n",
    "                if self.read_stack[-1] == \"doc\":\n",
    "                    if tag_name == \"title\":\n",
    "                        self.page_title = element_string\n",
    "                    elif (tag_name == \"abstract\") and self.read_stack[-1]:\n",
    "                        self.page_content = element_string\n",
    "\n",
    "    text_aggregate = []\n",
    "\n",
    "    def characters(self, content):\n",
    "        if self.in_page:\n",
    "            self.text_aggregate.append(content)\n",
    "            "
   ]
  },
  {
   "cell_type": "code",
   "execution_count": 6,
   "id": "6619c4af-a7e2-46cc-a058-42dc99d7d5fc",
   "metadata": {},
   "outputs": [],
   "source": [
    "#| export\n",
    "def main(articles_source, cache_dir):\n",
    "    os.makedirs(cache_dir, exist_ok=True)\n",
    "    contents = process_worker(articles_source)\n",
    "\n",
    "    with open(f'{cache_dir}/abstract.txt', 'w') as file:\n",
    "        for k,v in contents.items():\n",
    "            file.write(f'{k}->{v}\\n')\n",
    "\n",
    "def parse_args():\n",
    "    parser = argparse.ArgumentParser()\n",
    "    parser.add_argument('--articles_source', type=str, required=True)\n",
    "    parser.add_argument('--cache_dir', type=str, required=True)\n",
    "    return parser.parse_args()"
   ]
  },
  {
   "cell_type": "code",
   "execution_count": null,
   "id": "083070b0-1d1e-47a8-bca7-83c17a1e569c",
   "metadata": {},
   "outputs": [],
   "source": [
    "#| export\n",
    "if __name__ == \"__main__\":\n",
    "    start_time = timer()\n",
    "\n",
    "    args = parse_args()\n",
    "\n",
    "    main(args.articles_source, args.cache_dir)\n",
    "\n",
    "    end_time = timer()\n",
    "    print(f'Time elapsed: {end_time-start_time:.2f} seconds.')"
   ]
  },
  {
   "cell_type": "code",
   "execution_count": null,
   "id": "ea229dcf-8d9b-451a-937f-bb7bac9522ad",
   "metadata": {},
   "outputs": [],
   "source": []
  }
 ],
 "metadata": {
  "kernelspec": {
   "display_name": "Python 3 (ipykernel)",
   "language": "python",
   "name": "python3"
  },
  "language_info": {
   "codemirror_mode": {
    "name": "ipython",
    "version": 3
   },
   "file_extension": ".py",
   "mimetype": "text/x-python",
   "name": "python",
   "nbconvert_exporter": "python",
   "pygments_lexer": "ipython3",
   "version": "3.9.19"
  }
 },
 "nbformat": 4,
 "nbformat_minor": 5
}
