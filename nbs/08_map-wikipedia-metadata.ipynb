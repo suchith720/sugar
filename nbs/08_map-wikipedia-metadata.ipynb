{
 "cells": [
  {
   "cell_type": "code",
   "execution_count": null,
   "id": "3c15b329-f6be-4918-a675-4282bc081dce",
   "metadata": {},
   "outputs": [],
   "source": [
    "#| default_exp 08_map-wikipedia-metadata"
   ]
  },
  {
   "cell_type": "code",
   "execution_count": null,
   "id": "426792e7-654a-485d-aac0-56e5e1c84e18",
   "metadata": {},
   "outputs": [],
   "source": [
    "#| hide\n",
    "from nbdev.showdoc import *\n",
    "import nbdev; nbdev.nbdev_export()"
   ]
  },
  {
   "cell_type": "code",
   "execution_count": null,
   "id": "7f68b7d7-3899-4695-844b-01340a690063",
   "metadata": {},
   "outputs": [],
   "source": [
    "#| export\n",
    "import argparse, os, pandas as pd, pickle, numpy as np, re, scipy.sparse as sp, joblib\n",
    "import xclib.data.data_utils as du\n",
    "from tqdm.auto import tqdm\n",
    "\n",
    "from sugar.core import *\n",
    "from xcai.core import Filterer"
   ]
  },
  {
   "cell_type": "code",
   "execution_count": null,
   "id": "3f242977-e006-4138-a951-2a98610ca888",
   "metadata": {},
   "outputs": [],
   "source": [
    "import difflib"
   ]
  },
  {
   "cell_type": "markdown",
   "id": "bc989334-c72d-41c9-9d98-f87495fba04a",
   "metadata": {},
   "source": [
    "## Extraction helper "
   ]
  },
  {
   "cell_type": "code",
   "execution_count": null,
   "id": "7866fca7-cfc3-4775-9d81-7015c97732c0",
   "metadata": {},
   "outputs": [],
   "source": [
    "#| export\n",
    "def load_info(data_dir):\n",
    "    page_info = joblib.load(f'{data_dir}/page_info.joblib')\n",
    "    redirect_info = joblib.load(f'{data_dir}/redirect_info.joblib')\n",
    "    return page_info, redirect_info\n",
    "    "
   ]
  },
  {
   "cell_type": "code",
   "execution_count": null,
   "id": "a4925871-0db7-4bdf-ad73-488f21d346b5",
   "metadata": {},
   "outputs": [],
   "source": []
  },
  {
   "cell_type": "code",
   "execution_count": null,
   "id": "c8405533-767b-43f4-a06e-9978ffa0c43e",
   "metadata": {},
   "outputs": [],
   "source": [
    "#| export\n",
    "def get_redirect_map(redirect_info):\n",
    "    redirect_inp2targ = {o['title']:o['redirect'] for o in redirect_info.values()}\n",
    "    return redirect_inp2targ\n",
    "    "
   ]
  },
  {
   "cell_type": "code",
   "execution_count": null,
   "id": "355c00ce-90b8-427d-9015-ff07ffc68dd7",
   "metadata": {},
   "outputs": [],
   "source": [
    "#| export\n",
    "def transform_ids(ids, redirect_inp2targ):\n",
    "    ids = [o.replace('_', ' ') for o in ids]\n",
    "    ids = [redirect_inp2targ.get(o, o) for o in ids]\n",
    "    return ids\n",
    "    "
   ]
  },
  {
   "cell_type": "code",
   "execution_count": null,
   "id": "b097c805-f9df-4450-9658-3e852f74b77a",
   "metadata": {},
   "outputs": [],
   "source": [
    "#| export\n",
    "def get_all_ids(data_dir, redirect_inp2targ=None, load_lbl=True):\n",
    "    trn_ids, _ = load_raw_txt(f'{data_dir}/raw_data/train.raw.txt', encoding='latin-1')\n",
    "    tst_ids, _ = load_raw_txt(f'{data_dir}/raw_data/test.raw.txt', encoding='latin-1')\n",
    "\n",
    "    if redirect_inp2targ is not None:\n",
    "        trn_ids = transform_ids(trn_ids, redirect_inp2targ)\n",
    "        tst_ids = transform_ids(tst_ids, redirect_inp2targ)\n",
    "\n",
    "    if load_lbl:\n",
    "        lbl_ids, _ = load_raw_txt(f'{data_dir}/raw_data/label.raw.txt', encoding='latin-1')\n",
    "        if redirect_inp2targ is not None: \n",
    "            lbl_ids = transform_ids(lbl_ids, redirect_inp2targ)\n",
    "        return set(trn_ids + tst_ids + lbl_ids), trn_ids, tst_ids, lbl_ids\n",
    "    \n",
    "    return set(trn_ids + tst_ids), trn_ids, tst_ids\n",
    "    "
   ]
  },
  {
   "cell_type": "code",
   "execution_count": null,
   "id": "10d67362-4e27-4397-bf56-0eea7a09a4c2",
   "metadata": {},
   "outputs": [],
   "source": []
  },
  {
   "cell_type": "code",
   "execution_count": null,
   "id": "0c6f160b-4ddd-43f2-b833-53d172d43793",
   "metadata": {},
   "outputs": [],
   "source": [
    "#| export\n",
    "def get_mapping(page_info, all_ids, key):\n",
    "    mapping = {o['title']:o[key] for o in page_info.values() if key in o}\n",
    "    mapping = filter_mapping(mapping, all_ids)\n",
    "    return mapping\n",
    "    "
   ]
  },
  {
   "cell_type": "code",
   "execution_count": null,
   "id": "542b1ce5-ea77-4a5e-9c6f-55f4bdfc7d11",
   "metadata": {},
   "outputs": [],
   "source": [
    "#| export\n",
    "def get_vocabulary(mapping, key):\n",
    "    vocab, mapping_item2idx = create_vocab_and_item2idx(mapping)\n",
    "    \n",
    "    vocab_txt = sorted(vocab, key=lambda x: vocab[x])\n",
    "    vocab_ids = [o.replace(' ', '_') for o in vocab_txt]\n",
    "    \n",
    "    if key == 'category': vocab_txt = [o[9:] for o in vocab_txt]\n",
    "\n",
    "    return vocab_ids, vocab_txt, mapping_item2idx\n",
    "    "
   ]
  },
  {
   "cell_type": "code",
   "execution_count": null,
   "id": "dbbbea2c-a098-4fa1-961d-135fd2ef8d62",
   "metadata": {},
   "outputs": [],
   "source": [
    "#| export\n",
    "def get_matrix(mapping_item2idx, vocab_size, trn_ids, tst_ids, lbl_ids=None):\n",
    "    trn_mat, trn_ids = get_matrix_from_item2idx(mapping_item2idx, vocab_size, trn_ids)\n",
    "    tst_mat, tst_ids = get_matrix_from_item2idx(mapping_item2idx, vocab_size, tst_ids)\n",
    "    \n",
    "    if lbl_ids is not None:\n",
    "        lbl_mat, lbl_ids = get_matrix_from_item2idx(mapping_item2idx, vocab_size, lbl_ids)\n",
    "        return trn_mat, tst_mat, lbl_mat\n",
    "        \n",
    "    return trn_mat, tst_mat\n",
    "    "
   ]
  },
  {
   "cell_type": "code",
   "execution_count": null,
   "id": "dd13f9d1-b03c-4a1e-8aa9-0f6ff3f922ba",
   "metadata": {},
   "outputs": [],
   "source": [
    "#| export\n",
    "def filter_vocab(vocab_ids, vocab_txt, trn_mat, tst_mat, lbl_mat=None):\n",
    "    valid_idx = np.where(trn_mat.getnnz(axis=0) > 0)[0]\n",
    "    if lbl_mat is not None:\n",
    "        lbl_idx = np.where(lbl_mat.getnnz(axis=0) > 0)[0]\n",
    "        valid_idx = np.union1d(valid_idx, lbl_idx)\n",
    "\n",
    "    trn_mat = trn_mat[:, valid_idx].copy()\n",
    "    tst_mat = tst_mat[:, valid_idx].copy()\n",
    "    if lbl_mat is not None: \n",
    "        lbl_mat = lbl_mat[:, valid_idx].copy()\n",
    "    \n",
    "    vocab_ids, vocab_txt = [vocab_ids[i] for i in valid_idx], [vocab_txt[i] for i in valid_idx]\n",
    "\n",
    "    return vocab_ids, vocab_txt, trn_mat, tst_mat, lbl_mat\n",
    "    "
   ]
  },
  {
   "cell_type": "markdown",
   "id": "2c2bd895-4701-4935-9cfb-3df3630061f4",
   "metadata": {},
   "source": [
    "## Combiner helper"
   ]
  },
  {
   "cell_type": "code",
   "execution_count": null,
   "id": "e4b129c2-69c1-44bc-98a5-5f39930bd730",
   "metadata": {},
   "outputs": [],
   "source": [
    "#| export\n",
    "def ids_intersection(new_ids, old_ids):\n",
    "    new_ids2idx = {k:idx for idx,k in enumerate(new_ids)}\n",
    "    old2new_ids = [(idx,new_ids2idx[ids]) for idx,ids in enumerate(old_ids) if ids in new_ids2idx]\n",
    "    \n",
    "    old_not_in_new_ids = [idx for idx,ids in enumerate(old_ids) if ids not in new_ids2idx]\n",
    "    \n",
    "    old_idx, new_idx = zip(*old2new_ids)\n",
    "    return (old_idx, new_idx), old_not_in_new_ids\n",
    "    "
   ]
  },
  {
   "cell_type": "code",
   "execution_count": null,
   "id": "2148c18b-a52f-4ded-90a9-453c8037a104",
   "metadata": {},
   "outputs": [],
   "source": [
    "#| export\n",
    "def combine_matrix(old_mat, new_mat, old_idx, new_idx):\n",
    "    old_mat, new_mat = old_mat.tocsc(), new_mat.tocsc()\n",
    "\n",
    "    idx = np.argsort(new_idx)\n",
    "    old_idx, new_idx = np.array(old_idx)[idx], np.array(new_idx)[idx]\n",
    "\n",
    "    new_idx, idx = np.unique(new_idx, return_index=True)\n",
    "    old_idx = old_idx[idx]\n",
    "\n",
    "    ptr = 0\n",
    "    data, indices, indptr = [], [], [0]\n",
    "    for i in range(new_mat.shape[1]):\n",
    "        new_start, new_end = new_mat.indptr[i], new_mat.indptr[i+1]\n",
    "        if ptr < len(new_idx) and i == new_idx[ptr]:\n",
    "            old_start, old_end = old_mat.indptr[old_idx[ptr]], old_mat.indptr[old_idx[ptr]+1]\n",
    "            data.extend(new_mat.data[new_start:new_end].tolist() + old_mat.data[old_start:old_end].tolist())\n",
    "            indices.extend(new_mat.indices[new_start:new_end].tolist() + old_mat.indices[old_start:old_end].tolist())\n",
    "            indptr.append(len(data))\n",
    "            ptr += 1\n",
    "        else:\n",
    "            data.extend(new_mat.data[new_start:new_end].tolist())\n",
    "            indices.extend(new_mat.indices[new_start:new_end].tolist())\n",
    "            indptr.append(len(data))\n",
    "    \n",
    "    combined_mat = sp.csc_matrix((data, indices, indptr), shape=new_mat.shape, dtype=new_mat.dtype)\n",
    "    combined_mat = combined_mat.tocsr()\n",
    "    combined_mat.sum_duplicates()\n",
    "    return combined_mat\n",
    "    "
   ]
  },
  {
   "cell_type": "code",
   "execution_count": null,
   "id": "cc4b5511-a358-4f74-9d14-bc1797c1127e",
   "metadata": {},
   "outputs": [],
   "source": [
    "#| export\n",
    "def get_combined_data(old_vocab_ids, old_vocab_txt, old_trn_mat, old_tst_mat, new_vocab_ids, new_vocab_txt, new_trn_mat, new_tst_mat, \n",
    "                      old_lbl_mat=None, new_lbl_mat=None):\n",
    "    (old_idx, new_idx), old_not_in_new_ids = ids_intersection(new_vocab_ids, old_vocab_ids)\n",
    "\n",
    "    combined_trn_mat = combine_matrix(old_trn_mat, new_trn_mat, old_idx, new_idx)\n",
    "    combined_trn_mat = sp.hstack([combined_trn_mat, old_trn_mat[:, old_not_in_new_ids]])\n",
    "    \n",
    "    combined_tst_mat = combine_matrix(old_tst_mat, new_tst_mat, old_idx, new_idx)\n",
    "    combined_tst_mat = sp.hstack([combined_tst_mat, old_tst_mat[:, old_not_in_new_ids]])\n",
    "\n",
    "    combined_vocab_ids = new_vocab_ids + [old_vocab_ids[i] for i in old_not_in_new_ids]\n",
    "    combined_vocab_txt = new_vocab_txt + [old_vocab_txt[i] for i in old_not_in_new_ids]\n",
    "\n",
    "    if old_lbl_mat is not None:\n",
    "        combined_lbl_mat = combine_matrix(old_lbl_mat, new_lbl_mat, old_idx, new_idx)\n",
    "        combined_lbl_mat = sp.hstack([combined_lbl_mat, old_lbl_mat[:, old_not_in_new_ids]])\n",
    "        return combined_vocab_ids, combined_vocab_txt, combined_trn_mat, combined_tst_mat, combined_lbl_mat \n",
    "\n",
    "    return combined_vocab_ids, combined_vocab_txt, combined_trn_mat, combined_tst_mat\n",
    "    "
   ]
  },
  {
   "cell_type": "markdown",
   "id": "24be6197-64c3-4e2a-be69-cf41a25bc3de",
   "metadata": {},
   "source": [
    "## Extract `labels`"
   ]
  },
  {
   "cell_type": "code",
   "execution_count": null,
   "id": "7dd14952-f55c-4689-b3f2-ed8ce45e6901",
   "metadata": {},
   "outputs": [],
   "source": [
    "#| export\n",
    "def get_labels(page_info, redirect_info, data_dir, key):\n",
    "    redirect_inp2targ = get_redirect_map(redirect_info)\n",
    "    \n",
    "    all_ids, trn_ids, tst_ids = get_all_ids(data_dir, redirect_inp2targ, load_lbl=False)\n",
    "    \n",
    "    lbl_mapping = get_mapping(page_info, all_ids, key)\n",
    "\n",
    "    lbl_ids, lbl_txt, mapping_item2idx = get_vocabulary(lbl_mapping, key)\n",
    "    \n",
    "    trn_mat, tst_mat = get_matrix(mapping_item2idx, len(lbl_ids), trn_ids, tst_ids)\n",
    "    \n",
    "    lbl_ids, lbl_txt, trn_mat, tst_mat, _ = filter_vocab(lbl_ids, lbl_txt, trn_mat, tst_mat)\n",
    "    \n",
    "    return trn_mat, trn_ids, tst_mat, tst_ids, lbl_ids, lbl_txt\n",
    "    "
   ]
  },
  {
   "cell_type": "code",
   "execution_count": null,
   "id": "72353b21-f451-4e67-8b3f-960ce65f44de",
   "metadata": {},
   "outputs": [],
   "source": [
    "#| export\n",
    "def get_filterer(trn_ids, tst_ids, label_ids, trn_mat, tst_mat):\n",
    "    trn_filterer, tst_filterer = Filterer.generate(trn_ids, tst_ids, label_ids, trn_mat, tst_mat)\n",
    "    tst_mat = Filterer.apply(tst_mat, tst_filterer)\n",
    "    return trn_filterer, tst_filterer, tst_mat\n",
    "    "
   ]
  },
  {
   "cell_type": "code",
   "execution_count": null,
   "id": "4a521a34-064a-4b42-bb47-8cd46e4d3f99",
   "metadata": {},
   "outputs": [],
   "source": [
    "#| export\n",
    "def save_labels(save_dir, trn_mat, tst_mat, lbl_ids, lbl_txt, x_prefix, y_prefix, trn_filterer=None, tst_filterer=None):\n",
    "    sp.save_npz(f'{save_dir}/trn_X_Y_{x_prefix}-{y_prefix}.npz', trn_mat)\n",
    "    sp.save_npz(f'{save_dir}/tst_X_Y_{x_prefix}-{y_prefix}.npz', tst_mat)\n",
    "\n",
    "    if trn_filterer is not None: np.savetxt(f'{save_dir}/filter_labels_train_{x_prefix}-{y_prefix}.txt', trn_filterer)\n",
    "    if tst_filterer is not None: np.savetxt(f'{save_dir}/filter_labels_test_{x_prefix}-{y_prefix}.txt', tst_filterer)\n",
    "    \n",
    "    os.makedirs(f'{save_dir}/raw_data', exist_ok=True)\n",
    "    \n",
    "    save_raw_txt(f'{save_dir}/raw_data/label.{x_prefix}-{y_prefix}.raw.txt', lbl_ids, lbl_txt)\n",
    "    "
   ]
  },
  {
   "cell_type": "code",
   "execution_count": null,
   "id": "9d169f47-e084-44c4-b95b-e534e57e02a3",
   "metadata": {},
   "outputs": [],
   "source": [
    "#| export\n",
    "def _save_old_raw_txt(data_dir, save_dir, redirect_info, prefix=''):\n",
    "    if len(prefix): x_prefix = f'.{prefix}'\n",
    "        \n",
    "    redirect_inp2targ = get_redirect_map(redirect_info)\n",
    "    _, trn_ids, tst_ids, lbl_ids = get_all_ids(data_dir, redirect_inp2targ)\n",
    "    \n",
    "    save_raw_txt(f'{save_dir}/raw_data/train{x_prefix}.raw.txt', [o.replace(' ', '_') for o in trn_ids], trn_ids)\n",
    "    save_raw_txt(f'{save_dir}/raw_data/test{x_prefix}.raw.txt', [o.replace(' ', '_') for o in tst_ids], tst_ids)\n",
    "    \n",
    "    if len(prefix): y_prefix = f'.{prefix}-{prefix}'\n",
    "    save_raw_txt(f'{save_dir}/raw_data/label{y_prefix}.raw.txt', [o.replace(' ', '_') for o in lbl_ids], lbl_ids)\n",
    "    "
   ]
  },
  {
   "cell_type": "code",
   "execution_count": null,
   "id": "6c12a095-19a3-4f59-be21-7dd533fa3892",
   "metadata": {},
   "outputs": [],
   "source": [
    "#| export\n",
    "def get_and_save_labels(page_info, redirect_info, data_dir, save_dir, key, old_prefix, new_prefix):\n",
    "    trn_mat, trn_ids, tst_mat, tst_ids, lbl_ids, lbl_txt = get_labels(page_info, redirect_info, data_dir, key)\n",
    "    \n",
    "    trn_filterer, tst_filterer, tst_mat = get_filterer(trn_ids, tst_ids, lbl_ids, trn_mat, tst_mat)\n",
    "    \n",
    "    save_labels(save_dir, trn_mat, tst_mat, lbl_ids, lbl_txt, trn_filterer=trn_filterer, tst_filterer=tst_filterer, \n",
    "                x_prefix=old_prefix, y_prefix=new_prefix)\n",
    "\n",
    "    _save_old_raw_txt(data_dir, save_dir, redirect_info, prefix=old_prefix)\n",
    "    "
   ]
  },
  {
   "cell_type": "code",
   "execution_count": null,
   "id": "8cfb8b79-c08f-4804-8886-4bed8445dd9d",
   "metadata": {},
   "outputs": [],
   "source": [
    "info_dir = '/home/scai/phd/aiz218323/scratch/datasets/wikipedia/20250123/info/'\n",
    "page_info, redirect_info = load_info(info_dir)"
   ]
  },
  {
   "cell_type": "code",
   "execution_count": null,
   "id": "a5d72463-f2f4-4b14-8f15-36b5797bdf09",
   "metadata": {},
   "outputs": [],
   "source": [
    "data_dir = '/home/scai/phd/aiz218323/scratch/datasets/benchmarks/(mapped)LF-WikiSeeAlsoTitles-320K/'\n",
    "save_dir = '/home/scai/phd/aiz218323/scratch/datasets/wikipedia/20250123/LF-WikiSeeAlsoTitles-320K/'"
   ]
  },
  {
   "cell_type": "code",
   "execution_count": null,
   "id": "cf6cf52e-6fe7-48da-958e-423451d29c30",
   "metadata": {},
   "outputs": [
    {
     "data": {
      "application/vnd.jupyter.widget-view+json": {
       "model_id": "330beb4d63d645bea015a5eb8b03b419",
       "version_major": 2,
       "version_minor": 0
      },
      "text/plain": [
       "  0%|          | 0/746706 [00:00<?, ?it/s]"
      ]
     },
     "metadata": {},
     "output_type": "display_data"
    },
    {
     "data": {
      "application/vnd.jupyter.widget-view+json": {
       "model_id": "e257284e80514118ba29fbd935e16451",
       "version_major": 2,
       "version_minor": 0
      },
      "text/plain": [
       "  0%|          | 0/693082 [00:00<?, ?it/s]"
      ]
     },
     "metadata": {},
     "output_type": "display_data"
    },
    {
     "data": {
      "application/vnd.jupyter.widget-view+json": {
       "model_id": "514c6d2e474f4f5c9c22574979f4eca7",
       "version_major": 2,
       "version_minor": 0
      },
      "text/plain": [
       "  0%|          | 0/177515 [00:00<?, ?it/s]"
      ]
     },
     "metadata": {},
     "output_type": "display_data"
    }
   ],
   "source": [
    "get_and_save_labels(page_info, redirect_info, data_dir, save_dir, key='see_also', old_prefix='old', new_prefix='new')"
   ]
  },
  {
   "cell_type": "markdown",
   "id": "71f28650-1e95-48e3-933c-db37d62c1f9b",
   "metadata": {},
   "source": [
    "## Combine `labels`"
   ]
  },
  {
   "cell_type": "code",
   "execution_count": null,
   "id": "316d2ff5-20c2-4278-b0c9-baabdc971ee5",
   "metadata": {},
   "outputs": [],
   "source": [
    "#| export\n",
    "def _load_new_labels(data_dir, x_prefix, y_prefix):\n",
    "    trn_mat = sp.load_npz(f'{data_dir}/trn_X_Y_{x_prefix}-{y_prefix}.npz')\n",
    "    tst_mat = sp.load_npz(f'{data_dir}/tst_X_Y_{x_prefix}-{y_prefix}.npz')\n",
    "        \n",
    "    lbl_ids, lbl_txt = load_raw_txt(f'{data_dir}/raw_data/label.{x_prefix}-{y_prefix}.raw.txt')\n",
    "    \n",
    "    return trn_mat, tst_mat, lbl_ids, lbl_txt\n",
    "    "
   ]
  },
  {
   "cell_type": "code",
   "execution_count": null,
   "id": "048c557f-d22a-45e6-8fb4-58452a6da77b",
   "metadata": {},
   "outputs": [],
   "source": [
    "#| export\n",
    "def _load_old_labels(old_dir, new_dir, prefix=''):\n",
    "    trn_mat = du.read_sparse_file(f'{old_dir}/trn_X_Y.txt')\n",
    "    tst_mat = du.read_sparse_file(f'{old_dir}/tst_X_Y.txt')\n",
    "\n",
    "    if len(prefix): prefix = f'.{prefix}-{prefix}'\n",
    "    lbl_ids, lbl_txt = load_raw_txt(f'{new_dir}/raw_data/label{prefix}.raw.txt')\n",
    "    \n",
    "    return trn_mat, tst_mat, lbl_ids, lbl_txt\n",
    "    "
   ]
  },
  {
   "cell_type": "code",
   "execution_count": null,
   "id": "e7f5f617-aa29-4787-8668-88972ecc4003",
   "metadata": {},
   "outputs": [],
   "source": [
    "#| export\n",
    "def combined_labels(new_dir, old_dir, old_prefix='', new_prefix=''):\n",
    "    new_trn_mat, new_tst_mat, new_lbl_ids, new_lbl_txt = _load_new_labels(new_dir, old_prefix, new_prefix)\n",
    "    old_trn_mat, old_tst_mat, old_lbl_ids, old_lbl_txt = _load_old_labels(old_dir, new_dir, old_prefix)\n",
    "    \n",
    "    return get_combined_data(old_lbl_ids, old_lbl_txt, old_trn_mat, old_tst_mat, \n",
    "                             new_lbl_ids, new_lbl_txt, new_trn_mat, new_tst_mat)\n",
    "    "
   ]
  },
  {
   "cell_type": "code",
   "execution_count": null,
   "id": "b06f691a-381c-4d77-a005-94f7520596b0",
   "metadata": {},
   "outputs": [],
   "source": [
    "combined_lbl_ids, combined_lbl_txt, combined_trn_mat, combined_tst_mat = combined_labels(save_dir, data_dir, old_prefix='old', \n",
    "                                                                                         new_prefix='new')"
   ]
  },
  {
   "cell_type": "code",
   "execution_count": null,
   "id": "c7e9861e-cd2b-40e3-96cf-6259e85142a5",
   "metadata": {},
   "outputs": [],
   "source": [
    "#| export\n",
    "def _get_new_data_ids(data_dir, prefix=''):\n",
    "    if len(prefix): prefix = f'.{prefix}'\n",
    "        \n",
    "    trn_ids, trn_txt = load_raw_txt(f'{data_dir}/raw_data/train{prefix}.raw.txt')\n",
    "    tst_ids, tst_txt = load_raw_txt(f'{data_dir}/raw_data/test{prefix}.raw.txt')\n",
    "\n",
    "    return trn_ids, tst_ids\n",
    "\n",
    "def _get_filterer(data_dir, prefix, lbl_ids, trn_mat, tst_mat):\n",
    "    trn_ids, tst_ids = _get_new_data_ids(data_dir, prefix=prefix)\n",
    "    return get_filterer(trn_ids, tst_ids, lbl_ids, trn_mat, tst_mat)\n",
    "    \n",
    "    "
   ]
  },
  {
   "cell_type": "code",
   "execution_count": null,
   "id": "f58ac0d9-c218-4e1d-93ba-9d6342f20b6f",
   "metadata": {},
   "outputs": [],
   "source": [
    "#| export\n",
    "def combine_and_save_labels(new_dir, old_dir, old_prefix='', new_prefix='', com_prefix=''):\n",
    "    lbl_ids, lbl_txt, trn_mat, tst_mat = combined_labels(new_dir, old_dir, old_prefix=old_prefix, new_prefix=new_prefix)\n",
    "    \n",
    "    trn_filterer, tst_filterer, tst_mat = _get_filterer(new_dir, old_prefix, lbl_ids, trn_mat, tst_mat)\n",
    "    \n",
    "    save_labels(new_dir, trn_mat, tst_mat, lbl_ids, lbl_txt, trn_filterer=trn_filterer, tst_filterer=tst_filterer, \n",
    "                x_prefix=old_prefix, y_prefix=com_prefix)\n",
    "    "
   ]
  },
  {
   "cell_type": "code",
   "execution_count": null,
   "id": "1faf13fd-edf3-4359-afd6-252a16559e54",
   "metadata": {},
   "outputs": [],
   "source": [
    "combine_and_save_labels(save_dir, data_dir, old_prefix='old', new_prefix='new', com_prefix='combined')"
   ]
  },
  {
   "cell_type": "markdown",
   "id": "ebd16f67-4b30-4cae-b8dd-2f5429e678f6",
   "metadata": {},
   "source": [
    "## Extract `metadata`"
   ]
  },
  {
   "cell_type": "code",
   "execution_count": null,
   "id": "9ed8e5d7-69b8-4c32-8655-91d63d74ef2c",
   "metadata": {},
   "outputs": [],
   "source": [
    "#| export\n",
    "def get_metadata(page_info, key, trn_ids, tst_ids, lbl_ids):\n",
    "    all_ids = set(trn_ids + tst_ids + lbl_ids)\n",
    "\n",
    "    metadata_mapping = get_mapping(page_info, all_ids, key)\n",
    "\n",
    "    metadata_ids, metadata_txt, mapping_item2idx = get_vocabulary(metadata_mapping, key)\n",
    "    \n",
    "    trn_mat, tst_mat, lbl_mat = get_matrix(mapping_item2idx, len(metadata_ids), trn_ids, tst_ids, lbl_ids)\n",
    "\n",
    "    metadata_ids, metadata_txt, trn_mat, tst_mat, lbl_mat = filter_vocab(metadata_ids, metadata_txt, trn_mat, tst_mat, lbl_mat)\n",
    "    return trn_mat, tst_mat, lbl_mat, metadata_ids, metadata_txt\n",
    "    "
   ]
  },
  {
   "cell_type": "code",
   "execution_count": null,
   "id": "d49b9232-4985-4a81-b94e-ca77d2c514af",
   "metadata": {},
   "outputs": [],
   "source": [
    "#| export\n",
    "def _get_ids(fname):\n",
    "    ids, _ = load_raw_txt(fname)\n",
    "    return [o.replace('_', ' ') for o in ids]\n",
    "    \n",
    "def _get_all_ids(data_dir, old_prefix, new_prefix, com_prefix):\n",
    "    old_trn_ids = _get_ids(f'{data_dir}/raw_data/train.{old_prefix}.raw.txt')\n",
    "    \n",
    "    old_tst_ids = _get_ids(f'{data_dir}/raw_data/test.{old_prefix}.raw.txt')\n",
    "    \n",
    "    old_lbl_ids = _get_ids(f'{data_dir}/raw_data/label.{old_prefix}-{old_prefix}.raw.txt')\n",
    "    new_lbl_ids = _get_ids(f'{data_dir}/raw_data/label.{old_prefix}-{new_prefix}.raw.txt')\n",
    "    com_lbl_ids = _get_ids(f'{data_dir}/raw_data/label.{old_prefix}-{com_prefix}.raw.txt')\n",
    "\n",
    "    return old_trn_ids, old_tst_ids, old_lbl_ids, new_lbl_ids, com_lbl_ids\n",
    "    "
   ]
  },
  {
   "cell_type": "code",
   "execution_count": null,
   "id": "b4b24d83-10e3-451b-8d66-4acf0c6452c3",
   "metadata": {},
   "outputs": [],
   "source": [
    "#| export\n",
    "def save_metadata(save_dir, trn_mat, tst_mat, lbl_mat, metadata_ids, metadata_txt, metadata_type, x_prefix, y_prefix, z_prefix):\n",
    "    sp.save_npz(f'{save_dir}/{metadata_type}_trn_X_Y_{x_prefix}-{y_prefix}-{z_prefix}.npz', trn_mat)\n",
    "    sp.save_npz(f'{save_dir}/{metadata_type}_tst_X_Y_{x_prefix}-{y_prefix}-{z_prefix}.npz', tst_mat)\n",
    "    sp.save_npz(f'{save_dir}/{metadata_type}_lbl_X_Y_{x_prefix}-{y_prefix}-{z_prefix}.npz', lbl_mat)\n",
    "    \n",
    "    os.makedirs(f'{save_dir}/raw_data', exist_ok=True)\n",
    "    \n",
    "    save_raw_txt(f'{save_dir}/raw_data/{metadata_type}.{x_prefix}-{y_prefix}-{z_prefix}.raw.txt', metadata_ids, metadata_txt)\n",
    "    "
   ]
  },
  {
   "cell_type": "code",
   "execution_count": null,
   "id": "0740c918-b3a7-4328-a80c-7ae0db917f57",
   "metadata": {},
   "outputs": [],
   "source": [
    "#| export\n",
    "def _save_old_metadata_raw_txt(data_dir, save_dir, redirect_info, metadata_type, prefix):\n",
    "    redirect_inp2targ = get_redirect_map(redirect_info)\n",
    "    metadata_ids, metadata_txt = load_raw_txt(f'{data_dir}/raw_data/{metadata_type}.raw.txt', encoding='latin-1')\n",
    "    \n",
    "    metadata_ids = transform_ids(metadata_ids, redirect_inp2targ)\n",
    "    metadata_txt = [o[9:] for o in metadata_ids]\n",
    "    metadata_ids = [o.replace(' ', '_') for o in metadata_ids]\n",
    "\n",
    "    save_raw_txt(f'{save_dir}/raw_data/{metadata_type}.{prefix}-{prefix}-{prefix}.raw.txt', metadata_ids, metadata_txt)\n",
    "    "
   ]
  },
  {
   "cell_type": "code",
   "execution_count": null,
   "id": "098db767-4a72-4024-9135-7196317bd932",
   "metadata": {},
   "outputs": [],
   "source": [
    "#| export\n",
    "def get_and_save_metadata(page_info, redirect_info, data_dir, save_dir, key, old_prefix, new_prefix, com_prefix):\n",
    "    trn_ids, tst_ids, old_lbl_ids, new_lbl_ids, com_lbl_ids = _get_all_ids(save_dir, old_prefix, new_prefix, com_prefix)\n",
    "\n",
    "    trn_mat, tst_mat, lbl_mat, metadata_ids, metadata_txt = get_metadata(page_info, key, trn_ids, tst_ids, old_lbl_ids)\n",
    "    save_metadata(save_dir, trn_mat, tst_mat, lbl_mat, metadata_ids, metadata_txt, key, x_prefix=old_prefix, y_prefix=old_prefix, \n",
    "                  z_prefix=new_prefix)\n",
    "\n",
    "    trn_mat, tst_mat, lbl_mat, metadata_ids, metadata_txt = get_metadata(page_info, key, trn_ids, tst_ids, new_lbl_ids)\n",
    "    save_metadata(save_dir, trn_mat, tst_mat, lbl_mat, metadata_ids, metadata_txt, key, x_prefix=old_prefix, y_prefix=new_prefix, \n",
    "                  z_prefix=new_prefix)\n",
    "\n",
    "    trn_mat, tst_mat, lbl_mat, metadata_ids, metadata_txt = get_metadata(page_info, key, trn_ids, tst_ids, com_lbl_ids)\n",
    "    save_metadata(save_dir, trn_mat, tst_mat, lbl_mat, metadata_ids, metadata_txt, key, x_prefix=old_prefix, y_prefix=com_prefix, \n",
    "                  z_prefix=new_prefix)\n",
    "\n",
    "    _save_old_metadata_raw_txt(data_dir, save_dir, redirect_info, metadata_type=key, prefix=old_prefix)\n",
    "    "
   ]
  },
  {
   "cell_type": "code",
   "execution_count": null,
   "id": "373ea80d-eb36-4a44-b816-5eb501ccc33d",
   "metadata": {},
   "outputs": [
    {
     "data": {
      "application/vnd.jupyter.widget-view+json": {
       "model_id": "8cf549f1860f4e7cbd25635a1d0c6de3",
       "version_major": 2,
       "version_minor": 0
      },
      "text/plain": [
       "  0%|          | 0/885604 [00:00<?, ?it/s]"
      ]
     },
     "metadata": {},
     "output_type": "display_data"
    },
    {
     "data": {
      "application/vnd.jupyter.widget-view+json": {
       "model_id": "d6fdcf7157114267af7bfcf8b961b63e",
       "version_major": 2,
       "version_minor": 0
      },
      "text/plain": [
       "  0%|          | 0/693082 [00:00<?, ?it/s]"
      ]
     },
     "metadata": {},
     "output_type": "display_data"
    },
    {
     "data": {
      "application/vnd.jupyter.widget-view+json": {
       "model_id": "4fd8eba00e1f4b5f93ade8c8498eb533",
       "version_major": 2,
       "version_minor": 0
      },
      "text/plain": [
       "  0%|          | 0/177515 [00:00<?, ?it/s]"
      ]
     },
     "metadata": {},
     "output_type": "display_data"
    },
    {
     "data": {
      "application/vnd.jupyter.widget-view+json": {
       "model_id": "313acf74e07c4db4822b863c45eeb535",
       "version_major": 2,
       "version_minor": 0
      },
      "text/plain": [
       "  0%|          | 0/312330 [00:00<?, ?it/s]"
      ]
     },
     "metadata": {},
     "output_type": "display_data"
    },
    {
     "data": {
      "application/vnd.jupyter.widget-view+json": {
       "model_id": "66810bca0e2e438dac60f6eddcfe0215",
       "version_major": 2,
       "version_minor": 0
      },
      "text/plain": [
       "  0%|          | 0/997468 [00:00<?, ?it/s]"
      ]
     },
     "metadata": {},
     "output_type": "display_data"
    },
    {
     "data": {
      "application/vnd.jupyter.widget-view+json": {
       "model_id": "5010ddc1351b4679891951e500ea3a36",
       "version_major": 2,
       "version_minor": 0
      },
      "text/plain": [
       "  0%|          | 0/693082 [00:00<?, ?it/s]"
      ]
     },
     "metadata": {},
     "output_type": "display_data"
    },
    {
     "data": {
      "application/vnd.jupyter.widget-view+json": {
       "model_id": "4f460c2ab5d64b73894df239c3ac508a",
       "version_major": 2,
       "version_minor": 0
      },
      "text/plain": [
       "  0%|          | 0/177515 [00:00<?, ?it/s]"
      ]
     },
     "metadata": {},
     "output_type": "display_data"
    },
    {
     "data": {
      "application/vnd.jupyter.widget-view+json": {
       "model_id": "6366bc91704c4e78a9a41bbcde270cee",
       "version_major": 2,
       "version_minor": 0
      },
      "text/plain": [
       "  0%|          | 0/573503 [00:00<?, ?it/s]"
      ]
     },
     "metadata": {},
     "output_type": "display_data"
    },
    {
     "data": {
      "application/vnd.jupyter.widget-view+json": {
       "model_id": "2fd123954ccf4b149b6ccbe7b4eaf8f2",
       "version_major": 2,
       "version_minor": 0
      },
      "text/plain": [
       "  0%|          | 0/1016125 [00:00<?, ?it/s]"
      ]
     },
     "metadata": {},
     "output_type": "display_data"
    },
    {
     "data": {
      "application/vnd.jupyter.widget-view+json": {
       "model_id": "abf8602f98cb40368d390e88c76ca247",
       "version_major": 2,
       "version_minor": 0
      },
      "text/plain": [
       "  0%|          | 0/693082 [00:00<?, ?it/s]"
      ]
     },
     "metadata": {},
     "output_type": "display_data"
    },
    {
     "data": {
      "application/vnd.jupyter.widget-view+json": {
       "model_id": "a31dce852ae14e6394c059d34847fee0",
       "version_major": 2,
       "version_minor": 0
      },
      "text/plain": [
       "  0%|          | 0/177515 [00:00<?, ?it/s]"
      ]
     },
     "metadata": {},
     "output_type": "display_data"
    },
    {
     "data": {
      "application/vnd.jupyter.widget-view+json": {
       "model_id": "3f3c8ebce0454681b21d86caa7a7171d",
       "version_major": 2,
       "version_minor": 0
      },
      "text/plain": [
       "  0%|          | 0/646869 [00:00<?, ?it/s]"
      ]
     },
     "metadata": {},
     "output_type": "display_data"
    }
   ],
   "source": [
    "get_and_save_metadata(page_info, redirect_info, data_dir, save_dir, key='category', old_prefix='old', new_prefix='new', \n",
    "                      com_prefix='combined')"
   ]
  },
  {
   "cell_type": "markdown",
   "id": "2343b061-72c6-4be4-bec8-7fc8516a45f4",
   "metadata": {},
   "source": [
    "## Combine `metadata`"
   ]
  },
  {
   "cell_type": "code",
   "execution_count": null,
   "id": "4c16a939-4d49-47d2-a2e3-08876c2168f3",
   "metadata": {},
   "outputs": [],
   "source": [
    "#| export\n",
    "def _load_old_metadata(data_dir, save_dir, metadata_type, prefix):\n",
    "    trn_mat = du.read_sparse_file(f'{data_dir}/{metadata_type}_trn_X_Y.txt')\n",
    "    tst_mat = du.read_sparse_file(f'{data_dir}/{metadata_type}_tst_X_Y.txt')\n",
    "    lbl_mat = du.read_sparse_file(f'{data_dir}/{metadata_type}_lbl_X_Y.txt')\n",
    "    \n",
    "    metadata_ids, metadata_txt = load_raw_txt(f'{save_dir}/raw_data/{metadata_type}.{prefix}-{prefix}-{prefix}.raw.txt')\n",
    "\n",
    "    return trn_mat, tst_mat, lbl_mat, metadata_ids, metadata_txt\n",
    "    "
   ]
  },
  {
   "cell_type": "code",
   "execution_count": null,
   "id": "f3599e3b-55d1-4eab-bc68-d8d7709f2ad4",
   "metadata": {},
   "outputs": [],
   "source": [
    "#| export\n",
    "def _load_new_metadata(data_dir, metadata_type, x_prefix, y_prefix, z_prefix):\n",
    "    trn_mat = sp.load_npz(f'{data_dir}/{metadata_type}_trn_X_Y_{x_prefix}-{y_prefix}-{z_prefix}.npz')\n",
    "    tst_mat = sp.load_npz(f'{data_dir}/{metadata_type}_tst_X_Y_{x_prefix}-{y_prefix}-{z_prefix}.npz')\n",
    "    lbl_mat = sp.load_npz(f'{data_dir}/{metadata_type}_lbl_X_Y_{x_prefix}-{y_prefix}-{z_prefix}.npz')\n",
    "    \n",
    "    metadata_ids, metadata_txt = load_raw_txt(f'{data_dir}/raw_data/{metadata_type}.{x_prefix}-{y_prefix}-{z_prefix}.raw.txt')\n",
    "\n",
    "    return trn_mat, tst_mat, lbl_mat, metadata_ids, metadata_txt\n",
    "    "
   ]
  },
  {
   "cell_type": "code",
   "execution_count": null,
   "id": "ed6e425d-22f7-4459-a7b0-9bb59cc5c0ad",
   "metadata": {},
   "outputs": [],
   "source": [
    "#| export\n",
    "def _align_lbl_mat(mat, data_dir, x_prefix, y_prefix):\n",
    "    old_lbl_ids, _ = load_raw_txt(f'{data_dir}/raw_data/label.{x_prefix}-{x_prefix}.raw.txt')\n",
    "    new_lbl_ids, _ = load_raw_txt(f'{data_dir}/raw_data/label.{x_prefix}-{y_prefix}.raw.txt')\n",
    "\n",
    "    (new_idx, old_idx), _ = ids_intersection(old_lbl_ids, new_lbl_ids)\n",
    "\n",
    "    data, indices, indptr = [], [], [0]\n",
    "    ptr = 0\n",
    "    for i in range(len(new_lbl_ids)):\n",
    "        if ptr < len(new_idx) and i == new_idx[ptr]:\n",
    "            old_start, old_end = mat.indptr[old_idx[ptr]], mat.indptr[old_idx[ptr]+1]\n",
    "            data.extend(mat.data[old_start:old_end].tolist())\n",
    "            indices.extend(mat.indices[old_start:old_end].tolist())\n",
    "            indptr.append(len(data))\n",
    "            ptr += 1\n",
    "        else: \n",
    "            indptr.append(len(data))\n",
    "    return sp.csr_matrix((data, indices, indptr), dtype=mat.dtype, shape=(len(new_lbl_ids), mat.shape[1]))\n",
    "    "
   ]
  },
  {
   "cell_type": "code",
   "execution_count": null,
   "id": "d959705c-c840-4b19-a770-9248d3dea085",
   "metadata": {},
   "outputs": [],
   "source": []
  },
  {
   "cell_type": "code",
   "execution_count": null,
   "id": "faeccd47-10a3-4e0d-a832-cc8c9b954871",
   "metadata": {},
   "outputs": [],
   "source": [
    "#| export\n",
    "def combined_metadata(new_dir, old_dir, metadata_type, x_prefix, y_prefix, z_prefix):\n",
    "    old_trn_mat, old_tst_mat, old_lbl_mat, old_metadata_ids, old_metadata_txt = _load_old_metadata(old_dir, new_dir, metadata_type, \n",
    "                                                                                                   prefix=x_prefix)\n",
    "    new_trn_mat, new_tst_mat, new_lbl_mat, new_metadata_ids, new_metadata_txt = _load_new_metadata(new_dir, metadata_type, x_prefix, \n",
    "                                                                                                   y_prefix, z_prefix)\n",
    "\n",
    "    if old_lbl_mat.shape[0] != new_lbl_mat.shape[0]: old_lbl_mat = _align_lbl_mat(old_lbl_mat, new_dir, x_prefix, y_prefix)\n",
    "    \n",
    "    return get_combined_data(old_metadata_ids, old_metadata_txt, old_trn_mat, old_tst_mat, \n",
    "                             new_metadata_ids, new_metadata_txt, new_trn_mat, new_tst_mat, \n",
    "                             old_lbl_mat, new_lbl_mat)\n",
    "    "
   ]
  },
  {
   "cell_type": "code",
   "execution_count": null,
   "id": "db08540e-303c-45ff-b313-673160cd495c",
   "metadata": {},
   "outputs": [],
   "source": [
    "com_category_ids, com_category_txt, com_trn_mat, com_tst_mat, com_lbl_mat = combined_metadata(save_dir, data_dir, x_prefix='old', \n",
    "                                                                                              y_prefix='new', z_prefix='new')"
   ]
  },
  {
   "cell_type": "code",
   "execution_count": null,
   "id": "c9375e53-c374-4661-9f3c-7850dfe00ccf",
   "metadata": {},
   "outputs": [],
   "source": [
    "#| export\n",
    "def combine_and_save_metadata(new_dir, old_dir, metadata_type, old_prefix, new_prefix, com_prefix):\n",
    "    metadata_ids, metadata_txt, trn_mat, tst_mat, lbl_mat = combined_metadata(new_dir, old_dir, metadata_type, x_prefix=old_prefix, \n",
    "                                                                              y_prefix=old_prefix, z_prefix=new_prefix)\n",
    "    save_metadata(new_dir, trn_mat, tst_mat, lbl_mat, metadata_ids, metadata_txt, metadata_type, \n",
    "                  x_prefix=old_prefix, y_prefix=old_prefix, z_prefix=com_prefix)\n",
    "\n",
    "    metadata_ids, metadata_txt, trn_mat, tst_mat, lbl_mat = combined_metadata(new_dir, old_dir, metadata_type, x_prefix=old_prefix, \n",
    "                                                                              y_prefix=new_prefix, z_prefix=new_prefix)\n",
    "    save_metadata(new_dir, trn_mat, tst_mat, lbl_mat, metadata_ids, metadata_txt, metadata_type, \n",
    "                  x_prefix=old_prefix, y_prefix=new_prefix, z_prefix=com_prefix)\n",
    "\n",
    "    metadata_ids, metadata_txt, trn_mat, tst_mat, lbl_mat = combined_metadata(new_dir, old_dir, metadata_type, x_prefix=old_prefix, \n",
    "                                                                              y_prefix=com_prefix, z_prefix=new_prefix)\n",
    "    save_metadata(new_dir, trn_mat, tst_mat, lbl_mat, metadata_ids, metadata_txt, metadata_type, \n",
    "                  x_prefix=old_prefix, y_prefix=com_prefix, z_prefix=com_prefix)\n",
    "    "
   ]
  },
  {
   "cell_type": "code",
   "execution_count": null,
   "id": "a3e6b2e2-7b56-4958-979c-b8f17bda64f8",
   "metadata": {},
   "outputs": [],
   "source": [
    "combine_and_save_metadata(save_dir, data_dir, metadata_type='category', old_prefix='old', new_prefix='new', com_prefix='combined')"
   ]
  },
  {
   "cell_type": "code",
   "execution_count": null,
   "id": "1a9ceea3-3a9f-4f0d-b7a2-f4577370845b",
   "metadata": {},
   "outputs": [],
   "source": []
  },
  {
   "cell_type": "markdown",
   "id": "6cacafdb-a030-4a49-8612-0a3e43edbf72",
   "metadata": {},
   "source": [
    "## `__main__`"
   ]
  },
  {
   "cell_type": "code",
   "execution_count": null,
   "id": "6123fc40-2192-4a5a-8122-4d05bf589a25",
   "metadata": {},
   "outputs": [],
   "source": [
    "#| export\n",
    "def parse_args():\n",
    "    parser = argparse.ArgumentParser()\n",
    "    parser.add_argument('--info_dir', type=str, required=True)\n",
    "    parser.add_argument('--data_dir', type=str, required=True)\n",
    "    parser.add_argument('--save_dir', type=str, required=True)\n",
    "    parser.add_argument('--label_key', type=str, default=None)\n",
    "    parser.add_argument('--metadata_key', type=str, default=None)\n",
    "    parser.add_argument('--combine', action='store_true')\n",
    "    return parser.parse_args()\n",
    "    "
   ]
  },
  {
   "cell_type": "code",
   "execution_count": null,
   "id": "e22ada71-3185-4a26-b07c-49e7b4ac5476",
   "metadata": {},
   "outputs": [],
   "source": [
    "#| export\n",
    "if __name__ == '__main__':\n",
    "    args = parse_args()\n",
    "    page_info, redirect_info = load_info(args.info_dir)\n",
    "\n",
    "    os.makedirs(args.save_dir, exist_ok=True)\n",
    "    os.makedirs(f'{args.save_dir}/raw_data', exist_ok=True)\n",
    "\n",
    "    if args.label_key is not None:\n",
    "        print('Extracting labels ...')\n",
    "        get_and_save_labels(page_info, redirect_info, args.data_dir, args.save_dir, key=args.label_key, old_prefix='old', new_prefix='new')\n",
    "        if args.combine:\n",
    "            print('Combining labels ...')\n",
    "            combine_and_save_labels(args.save_dir, args.data_dir, old_prefix='old', new_prefix='new', com_prefix='combined')\n",
    "            \n",
    "    if args.metadata_key is not None:\n",
    "        print('Extracting metadata ...')\n",
    "        get_and_save_metadata(page_info, redirect_info, args.data_dir, args.save_dir, key=args.metadata_key, old_prefix='old', \n",
    "                              new_prefix='new', com_prefix='combined')\n",
    "        if args.combine:\n",
    "            print('Combining labels ...')\n",
    "            combine_and_save_metadata(args.save_dir, args.data_dir, args.metadata_key, old_prefix='old', new_prefix='new', com_prefix='combined')\n"
   ]
  },
  {
   "cell_type": "code",
   "execution_count": null,
   "id": "b5ea6747-3388-4e99-91d3-dfbf450ad64a",
   "metadata": {},
   "outputs": [],
   "source": []
  }
 ],
 "metadata": {
  "kernelspec": {
   "display_name": "python3",
   "language": "python",
   "name": "python3"
  }
 },
 "nbformat": 4,
 "nbformat_minor": 5
}
