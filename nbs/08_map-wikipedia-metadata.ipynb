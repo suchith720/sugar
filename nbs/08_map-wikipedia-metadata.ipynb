{
 "cells": [
  {
   "cell_type": "code",
   "execution_count": 1,
   "id": "3c15b329-f6be-4918-a675-4282bc081dce",
   "metadata": {},
   "outputs": [],
   "source": [
    "#| default_exp 08_map-wikipedia-metadata"
   ]
  },
  {
   "cell_type": "code",
   "execution_count": 2,
   "id": "426792e7-654a-485d-aac0-56e5e1c84e18",
   "metadata": {},
   "outputs": [],
   "source": [
    "#| hide\n",
    "from nbdev.showdoc import *\n",
    "import nbdev; nbdev.nbdev_export()"
   ]
  },
  {
   "cell_type": "code",
   "execution_count": 3,
   "id": "7f68b7d7-3899-4695-844b-01340a690063",
   "metadata": {},
   "outputs": [],
   "source": [
    "#| export\n",
    "import argparse, difflib, os, pandas as pd\n",
    "from tqdm.auto import tqdm"
   ]
  },
  {
   "cell_type": "code",
   "execution_count": null,
   "id": "b248c246-aee4-4e2b-bb2a-a946ee6f3a83",
   "metadata": {},
   "outputs": [],
   "source": [
    "#| export\n",
    "from sugar.helper import *"
   ]
  },
  {
   "cell_type": "code",
   "execution_count": 5,
   "id": "342f48ee-0e58-4d88-8724-f1a3ef7aef72",
   "metadata": {},
   "outputs": [],
   "source": [
    "#| export\n",
    "def _gather_redirects(data_dir):\n",
    "    files = os.listdir(data_dir)\n",
    "    redirects = []\n",
    "    for fn in tqdm(files):\n",
    "        with open(f'{data_dir}/{fn}', 'r') as f:\n",
    "            src, targ = f.read()[:-1].split('->', maxsplit=1)\n",
    "            src_id = fn.split('.')[0]\n",
    "        redirects.append((src_id, src, targ))\n",
    "    return pd.DataFrame(redirects, columns=['source_id', 'source', 'target'])\n",
    "\n",
    "def gather_redirects(data_dir):\n",
    "    data_dir = data_dir[:-1] if data_dir[-1] == '/' else data_dir\n",
    "    dirname = os.path.dirname(data_dir)\n",
    "    fname = os.path.basename(data_dir)\n",
    "\n",
    "    fname = f'{dirname}/{fname}.csv'\n",
    "    if os.path.exists(fname):\n",
    "        return pd.read_csv(fname)\n",
    "    else:\n",
    "        redirects = _gather_redirects(data_dir)\n",
    "        redirects.to_csv(fname, index=False)\n",
    "        return redirects\n",
    "        "
   ]
  },
  {
   "cell_type": "code",
   "execution_count": 7,
   "id": "6123fc40-2192-4a5a-8122-4d05bf589a25",
   "metadata": {},
   "outputs": [],
   "source": [
    "#| export\n",
    "def parse_args():\n",
    "    parser = argparse.ArgumentParser()\n",
    "    parser.add_argument('--src_file', type=str, required=True)\n",
    "    parser.add_argument('--targ_file', type=str, required=True)\n",
    "    parser.add_argument('--save_file', type=str, required=True)\n",
    "    parser.add_argument('--redirect_dir', type=str, required=True)\n",
    "    return parser.parse_args()\n",
    "    "
   ]
  },
  {
   "cell_type": "code",
   "execution_count": 8,
   "id": "e22ada71-3185-4a26-b07c-49e7b4ac5476",
   "metadata": {},
   "outputs": [],
   "source": [
    "#| export\n",
    "if __name__ == '__main__':\n",
    "    args = parse_args()\n",
    "    src_ids, abstract = load_raw_txt(args.src_file, encoding='utf-8')\n",
    "    targ_ids, _ = load_raw_txt(args.targ_file, encoding='latin-1')\n",
    "    src_ids, norm_targ_ids = [o[11:] for o in src_ids], [o.replace('_', ' ') for o in targ_ids]\n",
    "\n",
    "    n_common = len(set(norm_targ_ids).intersection(src_ids))\n",
    "    print(f'Before intersection: {n_common}/{len(targ_ids)}.')\n",
    "\n",
    "    redirects = gather_redirects(args.redirect_dir)\n",
    "    redirects = {k:v for k,v in zip(redirects['source'], redirects['target'])}\n",
    "    norm_targ_ids = [redirects[o] if o in redirects else o for o in norm_targ_ids]\n",
    "\n",
    "    n_common = len(set(norm_targ_ids).intersection(src_ids))\n",
    "    print(f'After intersection: {n_common}/{len(targ_ids)}.')\n",
    "\n",
    "    abstracts = {k:v for k,v in zip(src_ids, abstract)}\n",
    "    targ_abstract = [f'{o},{abstracts[o]}'.encode('latin-1', errors='ignore').decode('latin-1') if o in abstracts else o for o in norm_targ_ids]\n",
    "    save_raw_txt(args.save_file, targ_ids, targ_abstract, encoding='latin-1')"
   ]
  },
  {
   "cell_type": "code",
   "execution_count": null,
   "id": "230ce6ce-9d53-4a08-af54-cc0b5e5c1300",
   "metadata": {},
   "outputs": [],
   "source": []
  }
 ],
 "metadata": {
  "kernelspec": {
   "display_name": "Python 3 (ipykernel)",
   "language": "python",
   "name": "python3"
  },
  "language_info": {
   "codemirror_mode": {
    "name": "ipython",
    "version": 3
   },
   "file_extension": ".py",
   "mimetype": "text/x-python",
   "name": "python",
   "nbconvert_exporter": "python",
   "pygments_lexer": "ipython3",
   "version": "3.9.19"
  }
 },
 "nbformat": 4,
 "nbformat_minor": 5
}
