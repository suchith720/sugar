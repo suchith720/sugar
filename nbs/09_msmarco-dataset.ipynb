{
 "cells": [
  {
   "cell_type": "code",
   "execution_count": null,
   "id": "fd0bcf04-28fd-47f3-b4c8-9780f17a48b9",
   "metadata": {},
   "outputs": [],
   "source": [
    "#| default_exp 09_msmarco-dataset"
   ]
  },
  {
   "cell_type": "code",
   "execution_count": null,
   "id": "bccdfff0-1785-4b79-aad4-b07aa2600973",
   "metadata": {},
   "outputs": [],
   "source": [
    "#| hide\n",
    "from nbdev.showdoc import *\n",
    "import nbdev; nbdev.nbdev_export()"
   ]
  },
  {
   "cell_type": "code",
   "execution_count": null,
   "id": "f7351b34-7e4e-4724-9101-1c2c91c926d6",
   "metadata": {},
   "outputs": [],
   "source": [
    "#| export\n",
    "import os, json, pandas as pd, scipy.sparse as sp, numpy as np, argparse\n",
    "\n",
    "from tqdm.auto import tqdm\n",
    "from dataclasses import dataclass\n",
    "from huggingface_hub import snapshot_download\n",
    "\n",
    "from sugar.core import *"
   ]
  },
  {
   "cell_type": "markdown",
   "id": "f5e22cb9-2ebc-47ec-be3e-7fb736ef667f",
   "metadata": {},
   "source": [
    "## Download data"
   ]
  },
  {
   "cell_type": "code",
   "execution_count": null,
   "id": "1ff0150d-b2e2-48c2-9b32-1ae2563bebd3",
   "metadata": {},
   "outputs": [],
   "source": [
    "#| export \n",
    "def download_msmarco(data_dir=None):\n",
    "    if not os.path.exists(data_dir): os.makedirs(data_dir, exist_ok=True)\n",
    "    snapshot_download(repo_id=\"mteb/msmarco\", repo_type=\"dataset\", local_dir=data_dir)\n",
    "    "
   ]
  },
  {
   "cell_type": "markdown",
   "id": "0e0981e5-3c2b-4658-8086-ecf2821c50c8",
   "metadata": {},
   "source": [
    "## Load data"
   ]
  },
  {
   "cell_type": "code",
   "execution_count": null,
   "id": "fbf60ea6-0e6f-4989-adcf-4ccfd26c7342",
   "metadata": {},
   "outputs": [],
   "source": [
    "#| export\n",
    "def load_queries(fname):\n",
    "    queries = dict()\n",
    "    with open(fname, 'r') as file:\n",
    "        for line in file:\n",
    "            data = json.loads(line)\n",
    "            queries[int(data['_id'])] = data['text']\n",
    "    return queries\n",
    "        "
   ]
  },
  {
   "cell_type": "code",
   "execution_count": null,
   "id": "2f3c4cb2-a9c5-4ee2-ba78-60fd4eee1f89",
   "metadata": {},
   "outputs": [],
   "source": [
    "#| export\n",
    "def load_passages(fname):\n",
    "    passages, pid_to_idx = [], dict()\n",
    "    with open(fname, 'r') as file:\n",
    "        for idx,line in enumerate(file):\n",
    "            data = json.loads(line)\n",
    "            pid_to_idx[int(data['_id'])] = idx\n",
    "            passages.append(data['text'])\n",
    "    return passages, pid_to_idx\n",
    "        "
   ]
  },
  {
   "cell_type": "code",
   "execution_count": null,
   "id": "0beab1d5-dad3-43ef-a953-58a730288c03",
   "metadata": {},
   "outputs": [],
   "source": [
    "#| export\n",
    "def load_qrels(fname):\n",
    "    qrels = pd.read_table(fname)\n",
    "    assert (qrels['score'] == 1).all(), 'Score should contain all 1s'\n",
    "\n",
    "    query_to_passage = dict()\n",
    "    for qid, pid in tqdm(zip(qrels['query-id'], qrels['corpus-id']), total=qrels.shape[0]):\n",
    "        query_to_passage.setdefault(qid, []).append(pid)\n",
    "\n",
    "    return query_to_passage\n",
    "    "
   ]
  },
  {
   "cell_type": "code",
   "execution_count": null,
   "id": "4311e098-d6bd-4724-962b-614816be362e",
   "metadata": {},
   "outputs": [],
   "source": [
    "data_dir = '/home/scai/phd/aiz218323/scratch/datasets/msmarco/'"
   ]
  },
  {
   "cell_type": "code",
   "execution_count": null,
   "id": "7aba15ce-42e5-4a90-a903-15fad617be49",
   "metadata": {},
   "outputs": [],
   "source": [
    "queries = load_queries(f'{data_dir}/queries.jsonl')\n",
    "passages, pid_to_idx = load_passages(f'{data_dir}/corpus.jsonl')"
   ]
  },
  {
   "cell_type": "code",
   "execution_count": null,
   "id": "c35bf4f4-26b8-462a-80f3-263d500b5561",
   "metadata": {},
   "outputs": [
    {
     "data": {
      "application/vnd.jupyter.widget-view+json": {
       "model_id": "c6510cfe9f6f457ab845b81ff9d00370",
       "version_major": 2,
       "version_minor": 0
      },
      "text/plain": [
       "  0%|          | 0/532751 [00:00<?, ?it/s]"
      ]
     },
     "metadata": {},
     "output_type": "display_data"
    },
    {
     "data": {
      "application/vnd.jupyter.widget-view+json": {
       "model_id": "84a5812ef33c4ecf90039ca1f39dad3c",
       "version_major": 2,
       "version_minor": 0
      },
      "text/plain": [
       "  0%|          | 0/7437 [00:00<?, ?it/s]"
      ]
     },
     "metadata": {},
     "output_type": "display_data"
    }
   ],
   "source": [
    "trn_qrels, tst_qrels = load_qrels(f'{data_dir}/qrels/train.tsv'), load_qrels(f'{data_dir}/qrels/dev.tsv')"
   ]
  },
  {
   "cell_type": "code",
   "execution_count": null,
   "id": "0e2bab4a-1757-4c63-b205-cac41a51de45",
   "metadata": {},
   "outputs": [
    {
     "data": {
      "text/plain": [
       "(502939, 6980)"
      ]
     },
     "execution_count": null,
     "metadata": {},
     "output_type": "execute_result"
    }
   ],
   "source": [
    "len(trn_qrels), len(tst_qrels)"
   ]
  },
  {
   "cell_type": "markdown",
   "id": "807abc10-21d5-48da-a1c3-03af90d52823",
   "metadata": {},
   "source": [
    "## Construct matrix"
   ]
  },
  {
   "cell_type": "code",
   "execution_count": null,
   "id": "e1c0704f-db52-4929-8ea6-9f31d5d5bde0",
   "metadata": {},
   "outputs": [
    {
     "data": {
      "application/vnd.jupyter.widget-view+json": {
       "model_id": "3631797b509440518de0d192876d4cd5",
       "version_major": 2,
       "version_minor": 0
      },
      "text/plain": [
       "  0%|          | 0/502939 [00:00<?, ?it/s]"
      ]
     },
     "metadata": {},
     "output_type": "display_data"
    }
   ],
   "source": [
    "trn_mat, trn_ids = get_matrix_from_item2idx(trn_qrels, len(passages))"
   ]
  },
  {
   "cell_type": "code",
   "execution_count": null,
   "id": "61654609-438c-452f-a02a-750c350bbce4",
   "metadata": {},
   "outputs": [
    {
     "data": {
      "application/vnd.jupyter.widget-view+json": {
       "model_id": "14558e8e7f2944dc9b30049172c73006",
       "version_major": 2,
       "version_minor": 0
      },
      "text/plain": [
       "  0%|          | 0/6980 [00:00<?, ?it/s]"
      ]
     },
     "metadata": {},
     "output_type": "display_data"
    }
   ],
   "source": [
    "tst_mat, tst_ids = get_matrix_from_item2idx(tst_qrels, len(passages))"
   ]
  },
  {
   "cell_type": "code",
   "execution_count": null,
   "id": "413012af-336c-4b1c-8ba6-b987b49cd59f",
   "metadata": {},
   "outputs": [],
   "source": []
  },
  {
   "cell_type": "code",
   "execution_count": null,
   "id": "1f0145aa-98f4-4ba6-a4dc-ab7b595059a2",
   "metadata": {},
   "outputs": [],
   "source": [
    "#| export\n",
    "def get_matrix(fname, vocab_size):\n",
    "    mapping = load_qrels(fname)\n",
    "    return get_matrix_from_item2idx(mapping, vocab_size)\n",
    "    "
   ]
  },
  {
   "cell_type": "code",
   "execution_count": null,
   "id": "1b676fae-555a-4d28-825c-283f9e2b4e6d",
   "metadata": {},
   "outputs": [],
   "source": [
    "#| export\n",
    "@dataclass\n",
    "class QueryInfo:\n",
    "    mat: sp.csr_matrix\n",
    "    ids: list\n",
    "    txt: list\n",
    "\n",
    "    def sample_labels(self, lbl_idx:list):\n",
    "        data_idx = np.where(self.mat.getnnz(axis=1) > 0)[0]\n",
    "        \n",
    "        self.mat = self.mat[:, lbl_idx][data_idx, :]\n",
    "        self.ids = [self.ids[i] for i in data_idx]\n",
    "        self.txt = [self.txt[i] for i in data_idx]\n",
    "\n",
    "@dataclass\n",
    "class LabelInfo:\n",
    "    ids: list\n",
    "    txt: list\n",
    "\n",
    "    def sample(self, valid_idx:list):\n",
    "        self.ids = [self.ids[i] for i in valid_idx]\n",
    "        self.txt = [self.txt[i] for i in valid_idx]\n",
    "    "
   ]
  },
  {
   "cell_type": "code",
   "execution_count": null,
   "id": "38871f9f-4100-4ab0-adb3-5b2faa13db80",
   "metadata": {},
   "outputs": [],
   "source": [
    "#| export\n",
    "def get_msmarco(query_file:str, lbl_file:str, trn_file:str, tst_file:str):\n",
    "    queries = load_queries(query_file)\n",
    "    \n",
    "    lbl_txt, lbl_id2idx = load_passages(lbl_file)\n",
    "    lbl_ids = sorted(lbl_id2idx, key=lambda x: lbl_id2idx[x])\n",
    "\n",
    "    trn_mat, trn_ids = get_matrix(trn_file, len(lbl_txt))\n",
    "    trn_txt = [queries[o] for o in trn_ids]\n",
    "    \n",
    "    tst_mat, tst_ids = get_matrix(tst_file, len(lbl_txt))\n",
    "    tst_txt = [queries[o] for o in tst_ids]\n",
    "    \n",
    "    return QueryInfo(trn_mat, trn_ids, trn_txt), QueryInfo(tst_mat, tst_ids, tst_txt), LabelInfo(lbl_ids, lbl_txt)\n",
    "    "
   ]
  },
  {
   "cell_type": "code",
   "execution_count": null,
   "id": "9715ce76-7b54-4d0b-af4f-4349428d9c91",
   "metadata": {},
   "outputs": [],
   "source": [
    "#| export\n",
    "def save_msmarco(save_dir, trn_info, tst_info, lbl_info, suffix=''):\n",
    "    os.makedirs(save_dir, exist_ok=True)\n",
    "    x_suffix = f'_{suffix}' if len(suffix) else ''\n",
    "    sp.save_npz(f'{save_dir}/trn_X_Y{x_suffix}.npz', trn_info.mat)\n",
    "    sp.save_npz(f'{save_dir}/tst_X_Y{x_suffix}.npz', tst_info.mat)\n",
    "    \n",
    "    os.makedirs(f'{save_dir}/raw_data', exist_ok=True)\n",
    "    y_suffix = f'.{suffix}' if len(suffix) else ''\n",
    "    save_raw_file(f'{save_dir}/raw_data/train.raw.txt', trn_info.ids, trn_info.txt)\n",
    "    save_raw_file(f'{save_dir}/raw_data/test.raw.txt', tst_info.ids, tst_info.txt)\n",
    "    save_raw_file(f'{save_dir}/raw_data/label{y_suffix}.raw.txt', lbl_info.ids, lbl_info.txt)\n",
    "    "
   ]
  },
  {
   "cell_type": "code",
   "execution_count": null,
   "id": "1821e826-f8c7-4712-bdb5-ee2142013627",
   "metadata": {},
   "outputs": [],
   "source": [
    "#| export\n",
    "def sample_msmarco(trn_info, tst_info, lbl_info, sampling_type=None):\n",
    "    if sampling_type == 'exact':\n",
    "        trn_valid_idx = np.where(trn_info.mat.getnnz(axis=0) > 0)[0]\n",
    "        tst_valid_idx = np.where(tst_info.mat.getnnz(axis=0) > 0)[0]\n",
    "        valid_idx = np.union1d(trn_valid_idx, tst_valid_idx)\n",
    "    elif sampling_type == 'xc':\n",
    "        valid_idx = np.where(trn_info.mat.getnnz(axis=0) > 0)[0]\n",
    "    else:\n",
    "        raise ValueError(f'Invalid sampling value: {sampling_type}.')\n",
    "            \n",
    "    trn_info.sample_labels(valid_idx)\n",
    "    tst_info.sample_labels(valid_idx)\n",
    "    lbl_info.sample(valid_idx)\n",
    "    "
   ]
  },
  {
   "cell_type": "code",
   "execution_count": null,
   "id": "a29fc25a-4719-4f58-924c-c9ce63110b4c",
   "metadata": {},
   "outputs": [],
   "source": [
    "#| export\n",
    "def get_and_save_msmarco(query_file:str, lbl_file:str, trn_file:str, tst_file:str, save_dir:str=None, sampling_type=None, suffix=''):\n",
    "    trn_info, tst_info, lbl_info = get_msmarco(query_file, lbl_file, trn_file, tst_file)\n",
    "    \n",
    "    if sampling_type is not None: \n",
    "        sample_msmarco(trn_info, tst_info, lbl_info, sampling_type)\n",
    "        \n",
    "    if save_dir is not None: \n",
    "        save_msmarco(save_dir, trn_info, tst_info, lbl_info, suffix)\n",
    "        \n",
    "    return trn_info, tst_info, lbl_info\n",
    "    "
   ]
  },
  {
   "cell_type": "code",
   "execution_count": null,
   "id": "e21bea71-9b8d-42c8-98c2-a5c70d6d92f5",
   "metadata": {},
   "outputs": [],
   "source": [
    "#| export\n",
    "def parse_args():\n",
    "    parser = argparse.ArgumentParser()\n",
    "    parser.add_argument('--download', action='store_true')\n",
    "    \n",
    "    parser.add_argument('--data_dir', type=str, required=True)\n",
    "    parser.add_argument('--save_dir', type=str)\n",
    "    \n",
    "    return parser.parse_args()\n",
    "    "
   ]
  },
  {
   "cell_type": "code",
   "execution_count": null,
   "id": "06dba77d-3b75-4bdc-8ab5-d1d3ec195c2d",
   "metadata": {},
   "outputs": [],
   "source": [
    "#| export\n",
    "if __name__ == '__main__':\n",
    "    args = parse_args()\n",
    "    if args.download: \n",
    "        download_msmarco(args.data_dir)\n",
    "    else:\n",
    "        get_and_save_msmarco(f'{args.data_dir}/queries.jsonl', f'{args.data_dir}/corpus.jsonl', f'{args.data_dir}/qrels/train.tsv', \n",
    "                             f'{args.data_dir}/qrels/dev.tsv', args.save_dir, 'xc', 'xc')\n",
    "        \n",
    "        get_and_save_msmarco(f'{args.data_dir}/queries.jsonl', f'{args.data_dir}/corpus.jsonl', f'{args.data_dir}/qrels/train.tsv', \n",
    "                             f'{args.data_dir}/qrels/dev.tsv', args.save_dir, 'exact', 'exact')\n",
    "\n",
    "        get_and_save_msmarco(f'{args.data_dir}/queries.jsonl', f'{args.data_dir}/corpus.jsonl', f'{args.data_dir}/qrels/train.tsv', \n",
    "                             f'{args.data_dir}/qrels/dev.tsv', args.save_dir)\n",
    "                          "
   ]
  },
  {
   "cell_type": "code",
   "execution_count": null,
   "id": "e9ef72fa-c8fe-4876-ad5c-906e492d3e16",
   "metadata": {},
   "outputs": [],
   "source": []
  },
  {
   "cell_type": "code",
   "execution_count": null,
   "id": "124d1709-ea6b-489c-880b-635989ee4dd0",
   "metadata": {},
   "outputs": [
    {
     "data": {
      "application/vnd.jupyter.widget-view+json": {
       "model_id": "c58c2551ba514ca98a2f5c7296493dc2",
       "version_major": 2,
       "version_minor": 0
      },
      "text/plain": [
       "  0%|          | 0/532751 [00:00<?, ?it/s]"
      ]
     },
     "metadata": {},
     "output_type": "display_data"
    },
    {
     "data": {
      "application/vnd.jupyter.widget-view+json": {
       "model_id": "21c5c37b707f41e699c206d49da28800",
       "version_major": 2,
       "version_minor": 0
      },
      "text/plain": [
       "  0%|          | 0/502939 [00:00<?, ?it/s]"
      ]
     },
     "metadata": {},
     "output_type": "display_data"
    },
    {
     "data": {
      "application/vnd.jupyter.widget-view+json": {
       "model_id": "102bd75aaf944535aad2164604ec15b8",
       "version_major": 2,
       "version_minor": 0
      },
      "text/plain": [
       "  0%|          | 0/7437 [00:00<?, ?it/s]"
      ]
     },
     "metadata": {},
     "output_type": "display_data"
    },
    {
     "data": {
      "application/vnd.jupyter.widget-view+json": {
       "model_id": "42ac850d658b4ac3b5e269f7d97827f1",
       "version_major": 2,
       "version_minor": 0
      },
      "text/plain": [
       "  0%|          | 0/6980 [00:00<?, ?it/s]"
      ]
     },
     "metadata": {},
     "output_type": "display_data"
    }
   ],
   "source": [
    "data_dir = '/home/scai/phd/aiz218323/scratch/datasets/msmarco/'\n",
    "save_dir = '/home/scai/phd/aiz218323/scratch/datasets/msmarco/XC'\n",
    "\n",
    "sampling_type = 'xc'\n",
    "\n",
    "query_file, lbl_file, trn_file, tst_file = f'{data_dir}/queries.jsonl', f'{data_dir}/corpus.jsonl', f'{data_dir}/qrels/train.tsv', f'{data_dir}/qrels/dev.tsv'\n",
    "trn_info, tst_info, lbl_info = get_and_save_msmarco(query_file, lbl_file, trn_file, tst_file, save_dir=save_dir, \n",
    "                                                    sampling_type=sampling_type, suffix='')"
   ]
  },
  {
   "cell_type": "code",
   "execution_count": null,
   "id": "af948ebe-d420-48b4-a8e6-a9deab258167",
   "metadata": {},
   "outputs": [],
   "source": []
  }
 ],
 "metadata": {
  "kernelspec": {
   "display_name": "python3",
   "language": "python",
   "name": "python3"
  }
 },
 "nbformat": 4,
 "nbformat_minor": 5
}
