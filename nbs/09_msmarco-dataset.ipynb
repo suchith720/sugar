{
 "cells": [
  {
   "cell_type": "code",
   "execution_count": 1,
   "id": "fd0bcf04-28fd-47f3-b4c8-9780f17a48b9",
   "metadata": {},
   "outputs": [],
   "source": [
    "#| default_exp 09_msmarco-dataset"
   ]
  },
  {
   "cell_type": "code",
   "execution_count": 2,
   "id": "bccdfff0-1785-4b79-aad4-b07aa2600973",
   "metadata": {},
   "outputs": [],
   "source": [
    "#| hide\n",
    "from nbdev.showdoc import *\n",
    "import nbdev; nbdev.nbdev_export()"
   ]
  },
  {
   "cell_type": "code",
   "execution_count": 184,
   "id": "f7351b34-7e4e-4724-9101-1c2c91c926d6",
   "metadata": {},
   "outputs": [],
   "source": [
    "#| export\n",
    "from tqdm.auto import tqdm\n",
    "import json, pandas as pd, scipy.sparse as sp, numpy as np, argparse\n",
    "from huggingface_hub import snapshot_download"
   ]
  },
  {
   "cell_type": "markdown",
   "id": "f5e22cb9-2ebc-47ec-be3e-7fb736ef667f",
   "metadata": {},
   "source": [
    "## Download dataset"
   ]
  },
  {
   "cell_type": "code",
   "execution_count": 138,
   "id": "1ff0150d-b2e2-48c2-9b32-1ae2563bebd3",
   "metadata": {},
   "outputs": [],
   "source": [
    "#| export \n",
    "def download_msmarco(data_dir=None):\n",
    "    if not os.path.exists(data_dir): os.makedirs(data_dir, exist_ok=True)\n",
    "    snapshot_download(repo_id=\"mteb/msmarco\", repo_type=\"dataset\", local_dir=data_dir)\n",
    "    "
   ]
  },
  {
   "cell_type": "markdown",
   "id": "0e0981e5-3c2b-4658-8086-ecf2821c50c8",
   "metadata": {},
   "source": [
    "## Load and construct dataset"
   ]
  },
  {
   "cell_type": "code",
   "execution_count": 154,
   "id": "fbf60ea6-0e6f-4989-adcf-4ccfd26c7342",
   "metadata": {},
   "outputs": [],
   "source": [
    "#| export\n",
    "def load_queries(fname):\n",
    "    queries = dict()\n",
    "    with open(fname, 'r') as file:\n",
    "        for line in file:\n",
    "            data = json.loads(line)\n",
    "            queries[int(data['_id'])] = data['text']\n",
    "    return queries\n",
    "        "
   ]
  },
  {
   "cell_type": "code",
   "execution_count": 153,
   "id": "2f3c4cb2-a9c5-4ee2-ba78-60fd4eee1f89",
   "metadata": {},
   "outputs": [],
   "source": [
    "#| export\n",
    "def load_passages(fname):\n",
    "    passages, pid_to_idx = [], dict()\n",
    "    with open(fname, 'r') as file:\n",
    "        idx = 0\n",
    "        for line in file:\n",
    "            data = json.loads(line)\n",
    "            pid_to_idx[int(data['_id'])] = idx\n",
    "            passages.append((data['title'], data['text']))\n",
    "            idx += 1\n",
    "    return passages, pid_to_idx\n",
    "        "
   ]
  },
  {
   "cell_type": "code",
   "execution_count": 155,
   "id": "0beab1d5-dad3-43ef-a953-58a730288c03",
   "metadata": {},
   "outputs": [],
   "source": [
    "#| export\n",
    "def load_qrels(fname):\n",
    "    qrels = pd.read_table(fname)\n",
    "    assert (qrels['score'] == 1).all(), 'Score should contain all 1s'\n",
    "\n",
    "    query_to_passage = dict()\n",
    "    for qid, pid in tqdm(zip(qrels['query-id'], qrels['corpus-id']), total=qrels.shape[0]):\n",
    "        query_to_passage.setdefault(qid, []).append(pid)\n",
    "\n",
    "    return query_to_passage\n",
    "    "
   ]
  },
  {
   "cell_type": "code",
   "execution_count": 156,
   "id": "7e97a722-bbcb-4164-8366-8cda86f53a8c",
   "metadata": {},
   "outputs": [],
   "source": [
    "#| export\n",
    "def construct_matrix(query_to_passage, pid_to_idx):\n",
    "    query_id = []\n",
    "\n",
    "    data, indices, indptr = [], [], [0]\n",
    "    for qid, pid in tqdm(query_to_passage.items()):\n",
    "        query_id.append(qid)\n",
    "        data.extend([1] * len(pid))\n",
    "        indices.extend([pid_to_idx[o] for o in pid])\n",
    "        indptr.append(len(indices))\n",
    "        \n",
    "    mat = sp.csr_matrix((data, indices, indptr), shape=(len(query_id), len(passages)), dtype=np.int64)\n",
    "    return mat, query_id\n"
   ]
  },
  {
   "cell_type": "code",
   "execution_count": 157,
   "id": "1f0145aa-98f4-4ba6-a4dc-ab7b595059a2",
   "metadata": {},
   "outputs": [],
   "source": [
    "#| export\n",
    "def load_qrel_matrix(fname, pid_to_idx):\n",
    "    query_to_passage = load_qrels(fname)\n",
    "    return construct_matrix(query_to_passage, pid_to_idx)\n",
    "    "
   ]
  },
  {
   "cell_type": "code",
   "execution_count": 176,
   "id": "0229fdef-9d4b-4c7f-95f2-6afea1f86c85",
   "metadata": {},
   "outputs": [],
   "source": [
    "#| export\n",
    "def save_raw_txt(fname, ids, texts):\n",
    "    with open(fname, 'w') as file:\n",
    "        for k,v in tqdm(zip(ids, texts), total=len(ids)):\n",
    "            file.write(f'{k}->{v}\\n')\n",
    "        "
   ]
  },
  {
   "cell_type": "code",
   "execution_count": 200,
   "id": "550a1768-7d74-4ad7-b29c-15a524ab5d68",
   "metadata": {},
   "outputs": [],
   "source": [
    "#| export\n",
    "def save_qrel_matrix(qrel_fname, queries, pid_to_idx, save_dir, data_type='train'):\n",
    "    mat, query_ids = load_qrel_matrix(qrel_fname, pid_to_idx)\n",
    "    if data_type == 'train': mat_file, raw_file = f'{save_dir}/trn_X_Y.npz', f'{save_dir}/raw_data/train.raw.txt'\n",
    "    elif data_type == 'test': mat_file, raw_file = f'{save_dir}/tst_X_Y.npz', f'{save_dir}/raw_data/test.raw.txt'\n",
    "    else: raise ValueError(f'Invalid data type: {data_type}')\n",
    "    sp.save_npz(mat_file, mat)\n",
    "    save_raw_txt(raw_file, query_ids, [queries[o] for o in query_ids])\n",
    "    "
   ]
  },
  {
   "cell_type": "code",
   "execution_count": 196,
   "id": "38871f9f-4100-4ab0-adb3-5b2faa13db80",
   "metadata": {},
   "outputs": [],
   "source": [
    "#| export\n",
    "def construct_msmarco(data_dir:str, save_dir:str, query_fname:str, passage_fname:str, \n",
    "                      train_qrel_fname:str, test_qrel_fname:str, is_download:bool):\n",
    "    if is_download: download_msmarco(data_dir)\n",
    "    \n",
    "    if not os.path.exists(save_dir): os.makedirs(save_dir, exist_ok=True)\n",
    "    if not os.path.exists(f'{save_dir}/raw_data'): os.makedirs(f'{save_dir}/raw_data', exist_ok=True)\n",
    "\n",
    "    queries = load_queries(query_fname)\n",
    "    passages, pid_to_idx = load_passages(passage_fname)\n",
    "\n",
    "    passage_ids = sorted(pid_to_idx, key=lambda x: pid_to_idx[x])\n",
    "    save_raw_txt(f'{save_dir}/raw_data/titles.raw.txt', passage_ids, [o[0] for o in passages])\n",
    "    save_raw_txt(f'{save_dir}/raw_data/passages.raw.txt', passage_ids, [o[1] for o in passages])\n",
    "\n",
    "    save_qrel_matrix(trn_qrel_fname, queries, pid_to_idx, save_dir=save_dir, data_type='train')\n",
    "    save_qrel_matrix(tst_qrel_fname, queries, pid_to_idx, save_dir=save_dir, data_type='test')\n",
    "    "
   ]
  },
  {
   "cell_type": "code",
   "execution_count": 197,
   "id": "e21bea71-9b8d-42c8-98c2-a5c70d6d92f5",
   "metadata": {},
   "outputs": [],
   "source": [
    "#| export\n",
    "def parse_args():\n",
    "    parser = argparse.ArgumentParser()\n",
    "    parser.add_argument('--download', action='store_true')\n",
    "    \n",
    "    parser.add_argument('--data_dir', type=str, required=True)\n",
    "    parser.add_argument('--save_dir', type=str, required=True)\n",
    "    \n",
    "    parser.add_argument('--query_filename', type=str, required=True)\n",
    "    parser.add_argument('--passage_filename', type=str, required=True)\n",
    "\n",
    "    parser.add_argument('--train_qrel_filename', type=str, required=True)\n",
    "    parser.add_argument('--test_qrel_filename', type=str, required=True)\n",
    "    return parser.parse_args()\n",
    "    "
   ]
  },
  {
   "cell_type": "code",
   "execution_count": 202,
   "id": "06dba77d-3b75-4bdc-8ab5-d1d3ec195c2d",
   "metadata": {},
   "outputs": [],
   "source": [
    "#| export\n",
    "if __name__ == '__main__':\n",
    "    args = parse_args()\n",
    "    construct_msmarco(args.data_dir, args.save_dir, args.query_filename, args.passage_filename, \n",
    "                      args.train_qrel_filename, args.test_qrel_filename, is_download=args.download)\n",
    "    "
   ]
  },
  {
   "cell_type": "code",
   "execution_count": null,
   "id": "e9ef72fa-c8fe-4876-ad5c-906e492d3e16",
   "metadata": {},
   "outputs": [],
   "source": []
  },
  {
   "cell_type": "code",
   "execution_count": 198,
   "id": "124d1709-ea6b-489c-880b-635989ee4dd0",
   "metadata": {},
   "outputs": [],
   "source": [
    "data_dir = '/home/scai/phd/aiz218323/scratch/datasets/msmarco-data/'\n",
    "save_dir = '/home/scai/phd/aiz218323/scratch/datasets/msmarco-data/XC'\n",
    "\n",
    "is_download = False\n",
    "\n",
    "query_fname, passage_fname = f'{data_dir}/queries.jsonl', f'{data_dir}/corpus.jsonl'\n",
    "train_qrel_fname, test_qrel_fname = f'{data_dir}/qrels/train.tsv', f'{data_dir}/qrels/dev.tsv'"
   ]
  },
  {
   "cell_type": "code",
   "execution_count": 199,
   "id": "4d34a031-ce3d-4e8e-801a-089c67e71d3b",
   "metadata": {},
   "outputs": [
    {
     "data": {
      "application/vnd.jupyter.widget-view+json": {
       "model_id": "d993b60114fb46c4bf62f2fd2212dad2",
       "version_major": 2,
       "version_minor": 0
      },
      "text/plain": [
       "  0%|          | 0/8841823 [00:00<?, ?it/s]"
      ]
     },
     "metadata": {},
     "output_type": "display_data"
    },
    {
     "data": {
      "application/vnd.jupyter.widget-view+json": {
       "model_id": "c69d17b2c90441ba927992adb5c9d1ae",
       "version_major": 2,
       "version_minor": 0
      },
      "text/plain": [
       "  0%|          | 0/8841823 [00:00<?, ?it/s]"
      ]
     },
     "metadata": {},
     "output_type": "display_data"
    },
    {
     "data": {
      "application/vnd.jupyter.widget-view+json": {
       "model_id": "4383043f4e714760a6d07e41d62a65e2",
       "version_major": 2,
       "version_minor": 0
      },
      "text/plain": [
       "  0%|          | 0/532751 [00:00<?, ?it/s]"
      ]
     },
     "metadata": {},
     "output_type": "display_data"
    },
    {
     "data": {
      "application/vnd.jupyter.widget-view+json": {
       "model_id": "0b53f396fa604ee89bf903734c6107de",
       "version_major": 2,
       "version_minor": 0
      },
      "text/plain": [
       "  0%|          | 0/502939 [00:00<?, ?it/s]"
      ]
     },
     "metadata": {},
     "output_type": "display_data"
    },
    {
     "data": {
      "application/vnd.jupyter.widget-view+json": {
       "model_id": "bbabfdcbd2224050aec7bbc1baa62e16",
       "version_major": 2,
       "version_minor": 0
      },
      "text/plain": [
       "  0%|          | 0/502939 [00:00<?, ?it/s]"
      ]
     },
     "metadata": {},
     "output_type": "display_data"
    },
    {
     "data": {
      "application/vnd.jupyter.widget-view+json": {
       "model_id": "8c798719fe5f41d3b3d90922bf7bb686",
       "version_major": 2,
       "version_minor": 0
      },
      "text/plain": [
       "  0%|          | 0/7437 [00:00<?, ?it/s]"
      ]
     },
     "metadata": {},
     "output_type": "display_data"
    },
    {
     "data": {
      "application/vnd.jupyter.widget-view+json": {
       "model_id": "f9e870c158694aa3a0684819d0920527",
       "version_major": 2,
       "version_minor": 0
      },
      "text/plain": [
       "  0%|          | 0/6980 [00:00<?, ?it/s]"
      ]
     },
     "metadata": {},
     "output_type": "display_data"
    },
    {
     "data": {
      "application/vnd.jupyter.widget-view+json": {
       "model_id": "a348463f1f2c4c84b6f84ac54d9cd6bd",
       "version_major": 2,
       "version_minor": 0
      },
      "text/plain": [
       "  0%|          | 0/6980 [00:00<?, ?it/s]"
      ]
     },
     "metadata": {},
     "output_type": "display_data"
    }
   ],
   "source": [
    "construct_msmarco(data_dir, save_dir, query_fname, passage_fname, train_qrel_fname, test_qrel_fname, is_download=is_download)"
   ]
  },
  {
   "cell_type": "code",
   "execution_count": null,
   "id": "8bd4991e-6beb-42f0-a768-91ba790eae6e",
   "metadata": {},
   "outputs": [],
   "source": []
  },
  {
   "cell_type": "code",
   "execution_count": 2,
   "id": "9d3af0f2-dacd-47df-a73c-fc2784762d6b",
   "metadata": {},
   "outputs": [],
   "source": [
    "from xcai.config import PARAM\n",
    "from xcai.block import SXCBlock"
   ]
  },
  {
   "cell_type": "code",
   "execution_count": 14,
   "id": "1293f908-1a8d-4736-bb8c-5a3d7a6a33a5",
   "metadata": {},
   "outputs": [],
   "source": [
    "data_dir = '/home/scai/phd/aiz218323/scratch/datasets/msmarco-data/XC'"
   ]
  },
  {
   "cell_type": "code",
   "execution_count": 18,
   "id": "1f9f847b-a92b-4378-9156-bcda55c9d67f",
   "metadata": {},
   "outputs": [],
   "source": [
    "config = {\n",
    "    'data' : {\n",
    "        'path': {\n",
    "            'train': {\n",
    "                'data_lbl': f'{data_dir}/trn_X_Y.npz',\n",
    "                'data_info': f'{data_dir}/raw_data/train.raw.txt',\n",
    "                'lbl_info': f'{data_dir}/raw_data/passages.raw.txt',\n",
    "            },\n",
    "            'test': {\n",
    "                'data_lbl': f'{data_dir}/tst_X_Y.npz',\n",
    "                'data_info': f'{data_dir}/raw_data/test.raw.txt',\n",
    "                'lbl_info': f'{data_dir}/raw_data/passages.raw.txt',\n",
    "            },\n",
    "        },\n",
    "        'parameters': PARAM,\n",
    "    }\n",
    "}"
   ]
  },
  {
   "cell_type": "code",
   "execution_count": null,
   "id": "1a802658-5aa7-4c4c-9447-908d7eec84f3",
   "metadata": {},
   "outputs": [],
   "source": [
    "block = SXCBlock.from_cfg(config['data'], main_max_data_sequence_length=32, main_max_lbl_sequence_length=128, \n",
    "                          padding=True, return_tensors='pt', tokenizer='distilbert-base-uncased')"
   ]
  },
  {
   "cell_type": "code",
   "execution_count": null,
   "id": "0c398304-a143-47a9-af6f-e2e899f6f3b0",
   "metadata": {},
   "outputs": [],
   "source": []
  },
  {
   "cell_type": "code",
   "execution_count": null,
   "id": "e0b82562-33bd-4a5a-a31d-f59ed15ecd74",
   "metadata": {},
   "outputs": [],
   "source": []
  }
 ],
 "metadata": {
  "kernelspec": {
   "display_name": "Python 3 (ipykernel)",
   "language": "python",
   "name": "python3"
  },
  "language_info": {
   "codemirror_mode": {
    "name": "ipython",
    "version": 3
   },
   "file_extension": ".py",
   "mimetype": "text/x-python",
   "name": "python",
   "nbconvert_exporter": "python",
   "pygments_lexer": "ipython3",
   "version": "3.9.19"
  }
 },
 "nbformat": 4,
 "nbformat_minor": 5
}
