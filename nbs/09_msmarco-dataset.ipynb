{
 "cells": [
  {
   "cell_type": "code",
   "execution_count": 1,
   "id": "fd0bcf04-28fd-47f3-b4c8-9780f17a48b9",
   "metadata": {},
   "outputs": [],
   "source": [
    "#| default_exp 09_msmarco-dataset"
   ]
  },
  {
   "cell_type": "code",
   "execution_count": 2,
   "id": "bccdfff0-1785-4b79-aad4-b07aa2600973",
   "metadata": {},
   "outputs": [],
   "source": [
    "#| hide\n",
    "from nbdev.showdoc import *\n",
    "import nbdev; nbdev.nbdev_export()"
   ]
  },
  {
   "cell_type": "code",
   "execution_count": 3,
   "id": "f7351b34-7e4e-4724-9101-1c2c91c926d6",
   "metadata": {},
   "outputs": [],
   "source": [
    "#| export\n",
    "from tqdm.auto import tqdm\n",
    "from dataclasses import dataclass\n",
    "import os, json, pandas as pd, scipy.sparse as sp, numpy as np, argparse\n",
    "from huggingface_hub import snapshot_download"
   ]
  },
  {
   "cell_type": "markdown",
   "id": "f5e22cb9-2ebc-47ec-be3e-7fb736ef667f",
   "metadata": {},
   "source": [
    "## Download data"
   ]
  },
  {
   "cell_type": "code",
   "execution_count": 4,
   "id": "1ff0150d-b2e2-48c2-9b32-1ae2563bebd3",
   "metadata": {},
   "outputs": [],
   "source": [
    "#| export \n",
    "def download_msmarco(data_dir=None):\n",
    "    if not os.path.exists(data_dir): os.makedirs(data_dir, exist_ok=True)\n",
    "    snapshot_download(repo_id=\"mteb/msmarco\", repo_type=\"dataset\", local_dir=data_dir)\n",
    "    "
   ]
  },
  {
   "cell_type": "markdown",
   "id": "0e0981e5-3c2b-4658-8086-ecf2821c50c8",
   "metadata": {},
   "source": [
    "## Load data"
   ]
  },
  {
   "cell_type": "code",
   "execution_count": 5,
   "id": "fbf60ea6-0e6f-4989-adcf-4ccfd26c7342",
   "metadata": {},
   "outputs": [],
   "source": [
    "#| export\n",
    "def load_queries(fname):\n",
    "    queries = dict()\n",
    "    with open(fname, 'r') as file:\n",
    "        for line in file:\n",
    "            data = json.loads(line)\n",
    "            queries[int(data['_id'])] = data['text']\n",
    "    return queries\n",
    "        "
   ]
  },
  {
   "cell_type": "code",
   "execution_count": 36,
   "id": "2f3c4cb2-a9c5-4ee2-ba78-60fd4eee1f89",
   "metadata": {},
   "outputs": [],
   "source": [
    "#| export\n",
    "def load_passages(fname):\n",
    "    passages, pid_to_idx = [], dict()\n",
    "    with open(fname, 'r') as file:\n",
    "        for idx,line in enumerate(file):\n",
    "            data = json.loads(line)\n",
    "            pid_to_idx[int(data['_id'])] = idx\n",
    "            passages.append(data['text'])\n",
    "    return passages, pid_to_idx\n",
    "        "
   ]
  },
  {
   "cell_type": "code",
   "execution_count": 21,
   "id": "0beab1d5-dad3-43ef-a953-58a730288c03",
   "metadata": {},
   "outputs": [],
   "source": [
    "#| export\n",
    "def load_qrels(fname):\n",
    "    qrels = pd.read_table(fname)\n",
    "    assert (qrels['score'] == 1).all(), 'Score should contain all 1s'\n",
    "\n",
    "    query_to_passage = dict()\n",
    "    for qid, pid in tqdm(zip(qrels['query-id'], qrels['corpus-id']), total=qrels.shape[0]):\n",
    "        query_to_passage.setdefault(qid, []).append(pid)\n",
    "\n",
    "    return query_to_passage\n",
    "    "
   ]
  },
  {
   "cell_type": "code",
   "execution_count": 15,
   "id": "4311e098-d6bd-4724-962b-614816be362e",
   "metadata": {},
   "outputs": [],
   "source": [
    "data_dir = '/home/scai/phd/aiz218323/scratch/datasets/msmarco/'"
   ]
  },
  {
   "cell_type": "code",
   "execution_count": 37,
   "id": "7aba15ce-42e5-4a90-a903-15fad617be49",
   "metadata": {},
   "outputs": [],
   "source": [
    "queries = load_queries(f'{data_dir}/queries.jsonl')\n",
    "passages, pid_to_idx = load_passages(f'{data_dir}/corpus.jsonl')"
   ]
  },
  {
   "cell_type": "code",
   "execution_count": 23,
   "id": "c35bf4f4-26b8-462a-80f3-263d500b5561",
   "metadata": {},
   "outputs": [
    {
     "data": {
      "application/vnd.jupyter.widget-view+json": {
       "model_id": "9adb70b3791d4956a6d3d77d10f47bb8",
       "version_major": 2,
       "version_minor": 0
      },
      "text/plain": [
       "  0%|          | 0/532751 [00:00<?, ?it/s]"
      ]
     },
     "metadata": {},
     "output_type": "display_data"
    },
    {
     "data": {
      "application/vnd.jupyter.widget-view+json": {
       "model_id": "5591f8215a35436aaece29bbe18ea9a5",
       "version_major": 2,
       "version_minor": 0
      },
      "text/plain": [
       "  0%|          | 0/7437 [00:00<?, ?it/s]"
      ]
     },
     "metadata": {},
     "output_type": "display_data"
    }
   ],
   "source": [
    "trn_qrels, tst_qrels = load_qrels(f'{data_dir}/qrels/train.tsv'), load_qrels(f'{data_dir}/qrels/dev.tsv')"
   ]
  },
  {
   "cell_type": "markdown",
   "id": "807abc10-21d5-48da-a1c3-03af90d52823",
   "metadata": {},
   "source": [
    "## Construct matrix"
   ]
  },
  {
   "cell_type": "code",
   "execution_count": 38,
   "id": "7e97a722-bbcb-4164-8366-8cda86f53a8c",
   "metadata": {},
   "outputs": [],
   "source": [
    "#| export\n",
    "def construct_matrix(query_to_passage, pid_to_idx):\n",
    "    query_id = []\n",
    "\n",
    "    data, indices, indptr = [], [], [0]\n",
    "    for qid, pid in tqdm(query_to_passage.items()):\n",
    "        query_id.append(qid)\n",
    "        data.extend([1] * len(pid))\n",
    "        indices.extend([pid_to_idx[o] for o in pid])\n",
    "        indptr.append(len(indices))\n",
    "        \n",
    "    mat = sp.csr_matrix((data, indices, indptr), shape=(len(query_id), len(pid_to_idx)), dtype=np.int64)\n",
    "    return mat, query_id\n"
   ]
  },
  {
   "cell_type": "code",
   "execution_count": 43,
   "id": "702804e7-b9b9-43e1-9abd-031903856d96",
   "metadata": {},
   "outputs": [
    {
     "data": {
      "application/vnd.jupyter.widget-view+json": {
       "model_id": "1d4c8d6701e04736937313a34fd919e1",
       "version_major": 2,
       "version_minor": 0
      },
      "text/plain": [
       "  0%|          | 0/502939 [00:00<?, ?it/s]"
      ]
     },
     "metadata": {},
     "output_type": "display_data"
    },
    {
     "data": {
      "application/vnd.jupyter.widget-view+json": {
       "model_id": "319e6e2253034ea693f30714f25154bf",
       "version_major": 2,
       "version_minor": 0
      },
      "text/plain": [
       "  0%|          | 0/6980 [00:00<?, ?it/s]"
      ]
     },
     "metadata": {},
     "output_type": "display_data"
    }
   ],
   "source": [
    "trn_mat, trn_ids = construct_matrix(trn_qrels, pid_to_idx)\n",
    "tst_mat, tst_ids = construct_matrix(tst_qrels, pid_to_idx)"
   ]
  },
  {
   "cell_type": "code",
   "execution_count": null,
   "id": "a859868d-63fd-468b-a41d-b747cab8b416",
   "metadata": {},
   "outputs": [],
   "source": []
  },
  {
   "cell_type": "code",
   "execution_count": 47,
   "id": "1f0145aa-98f4-4ba6-a4dc-ab7b595059a2",
   "metadata": {},
   "outputs": [],
   "source": [
    "#| export\n",
    "def load_qrel_matrix(fname, pid_to_idx):\n",
    "    query_to_passage = load_qrels(fname)\n",
    "    return construct_matrix(query_to_passage, pid_to_idx)\n",
    "    "
   ]
  },
  {
   "cell_type": "code",
   "execution_count": 48,
   "id": "0229fdef-9d4b-4c7f-95f2-6afea1f86c85",
   "metadata": {},
   "outputs": [],
   "source": [
    "#| export\n",
    "def save_raw_txt(fname, ids, texts):\n",
    "    with open(fname, 'w') as file:\n",
    "        for k,v in tqdm(zip(ids, texts), total=len(ids)):\n",
    "            file.write(f'{k}->{v}\\n')\n",
    "        "
   ]
  },
  {
   "cell_type": "code",
   "execution_count": 49,
   "id": "550a1768-7d74-4ad7-b29c-15a524ab5d68",
   "metadata": {},
   "outputs": [],
   "source": [
    "#| export\n",
    "def save_query_info(mat_file, raw_file, mat, ids, texts):\n",
    "    sp.save_npz(mat_file, mat)\n",
    "    save_raw_txt(raw_file, ids, texts)\n",
    "    "
   ]
  },
  {
   "cell_type": "code",
   "execution_count": 64,
   "id": "1b676fae-555a-4d28-825c-283f9e2b4e6d",
   "metadata": {},
   "outputs": [],
   "source": [
    "#| export\n",
    "@dataclass\n",
    "class PassageInfo:\n",
    "    ids: list\n",
    "    txt: list\n",
    "\n",
    "    def sample(self, valid_idx:list):\n",
    "        self.ids = [self.ids[i] for i in valid_idx]\n",
    "        self.txt = [self.txt[i] for i in valid_idx]\n",
    "\n",
    "@dataclass\n",
    "class QueryInfo:\n",
    "    mat: sp.csr_matrix\n",
    "    ids: list\n",
    "    txt: list\n",
    "\n",
    "    def sample_labels(self, lbl_idx:list):\n",
    "        data_idx = np.where(self.mat.getnnz(axis=1) > 0)[0]\n",
    "        \n",
    "        self.mat = self.mat[:, lbl_idx][data_idx, :]\n",
    "        self.ids = [self.ids[i] for i in data_idx]\n",
    "        self.txt = [self.txt[i] for i in data_idx]\n",
    "\n",
    "    @property\n",
    "    def stats(self):\n",
    "        n_data, n_lbl = self.mat.shape\n",
    "        \n",
    "        lbl_p_dat = self.mat.getnnz(axis=1).mean()\n",
    "        dat_p_lbl = self.mat.getnnz(axis=0).mean()\n",
    "        \n",
    "        dat_no_lbl = np.sum(self.mat.getnnz(axis=1) == 0)\n",
    "        lbl_no_dat = np.sum(self.mat.getnnz(axis=0) == 0)\n",
    "        \n",
    "        stats = pd.DataFrame([{\n",
    "            'Number of queries': n_data, \n",
    "            'Number of labels': n_lbl, \n",
    "            'Number of queries per label': dat_p_lbl, \n",
    "            'Number of labels per query': dat_p_lbl, \n",
    "            'Number of queries without label': dat_no_lbl, \n",
    "            'Number of labels without query': lbl_no_dat\n",
    "        }], index=['MSMARCO'])\n",
    "        \n",
    "        return stats\n",
    "    "
   ]
  },
  {
   "cell_type": "code",
   "execution_count": 55,
   "id": "38871f9f-4100-4ab0-adb3-5b2faa13db80",
   "metadata": {},
   "outputs": [],
   "source": [
    "#| export\n",
    "def load_msmarco(query_fname:str, passage_fname:str, train_qrel_fname:str, test_qrel_fname:str):\n",
    "    queries = load_queries(query_fname)\n",
    "    \n",
    "    passage_txt, pid_to_idx = load_passages(passage_fname)\n",
    "    passage_ids = sorted(pid_to_idx, key=lambda x: pid_to_idx[x])\n",
    "\n",
    "    trn_mat, trn_ids = load_qrel_matrix(train_qrel_fname, pid_to_idx)\n",
    "    trn_txt = [queries[o] for o in trn_ids]\n",
    "    \n",
    "    tst_mat, tst_ids = load_qrel_matrix(test_qrel_fname, pid_to_idx)\n",
    "    tst_txt = [queries[o] for o in tst_ids]\n",
    "    \n",
    "    return PassageInfo(passage_ids, passage_txt), QueryInfo(trn_mat, trn_ids, trn_txt), QueryInfo(tst_mat, tst_ids, tst_txt)\n",
    "    "
   ]
  },
  {
   "cell_type": "code",
   "execution_count": 65,
   "id": "9715ce76-7b54-4d0b-af4f-4349428d9c91",
   "metadata": {},
   "outputs": [],
   "source": [
    "#| export\n",
    "def save_msmarco(label_info, trn_info, tst_info, save_dir, file_suffix=None):\n",
    "    os.makedirs(save_dir, exist_ok=True)\n",
    "    os.makedirs(f'{save_dir}/raw_data', exist_ok=True)\n",
    "\n",
    "    lbl_file = f'{save_dir}/raw_data/label.raw.txt' if file_suffix is None else f'{save_dir}/raw_data/label_{file_suffix}.raw.txt'\n",
    "    save_raw_txt(lbl_file, passage_info.ids, [o[0] for o in passage_info.txt])\n",
    "\n",
    "    mat_file = f'{save_dir}/trn_X_Y.npz' if file_suffix is None else f'{save_dir}/trn_{file_suffix}_X_Y.npz'\n",
    "    raw_file = f'{save_dir}/raw_data/train.raw.txt' if file_suffix is None else f'{save_dir}/raw_data/train_{file_suffix}.raw.txt'\n",
    "    save_qrel_matrix(mat_file, raw_file, trn_info.mat, trn_info.ids, trn_info.txt)\n",
    "\n",
    "    mat_file = f'{save_dir}/tst_X_Y.npz' if file_suffix is None else f'{save_dir}/tst_{file_suffix}_X_Y.npz'\n",
    "    raw_file = f'{save_dir}/raw_data/test.raw.txt' if file_suffix is None else f'{save_dir}/raw_data/test_{file_suffix}.raw.txt'\n",
    "    save_qrel_matrix(mat_file, raw_file, tst_info.mat, tst_info.ids, tst_info.txt)\n",
    "    "
   ]
  },
  {
   "cell_type": "code",
   "execution_count": 66,
   "id": "1821e826-f8c7-4712-bdb5-ee2142013627",
   "metadata": {},
   "outputs": [],
   "source": [
    "#| export\n",
    "def sample_msmarco(lbl_info, trn_info, tst_info, sampling_type=None):\n",
    "    if sampling_type == 'exact':\n",
    "        trn_valid_idx = np.where(trn_info.mat.getnnz(axis=0) > 0)[0]\n",
    "        tst_valid_idx = np.where(tst_info.mat.getnnz(axis=0) > 0)[0]\n",
    "        valid_idx = np.union1d(trn_valid_idx, tst_valid_idx)\n",
    "    elif sampling_type == 'xc':\n",
    "        valid_idx = np.where(trn_info.mat.getnnz(axis=0) > 0)[0]\n",
    "    else:\n",
    "        raise ValueError(f'Invalid sampling value: {sampling_type}.')\n",
    "            \n",
    "    lbl_info.sample(valid_idx)\n",
    "    trn_info.sample_labels(valid_idx)\n",
    "    tst_info.sample_labels(valid_idx)\n",
    "    "
   ]
  },
  {
   "cell_type": "code",
   "execution_count": 68,
   "id": "a29fc25a-4719-4f58-924c-c9ce63110b4c",
   "metadata": {},
   "outputs": [],
   "source": [
    "#| export\n",
    "def construct_msmarco(query_file:str, passage_file:str, train_qrel_file:str, test_qrel_file:str, \n",
    "                      save_dir:str=None, sampling_type=None, file_suffix=None):\n",
    "    \n",
    "    lbl_info, trn_info, tst_info = load_msmarco(query_file, passage_file, train_qrel_file, test_qrel_file)\n",
    "    \n",
    "    if sampling_type is not None: sample_msmarco(lbl_info, trn_info, tst_info, sampling_type)\n",
    "        \n",
    "    if save_dir is not None: save_msmarco(lbl_info, trn_info, tst_info, save_dir, file_suffix)\n",
    "        \n",
    "    return lbl_info, trn_info, tst_info\n",
    "    "
   ]
  },
  {
   "cell_type": "code",
   "execution_count": 69,
   "id": "e21bea71-9b8d-42c8-98c2-a5c70d6d92f5",
   "metadata": {},
   "outputs": [],
   "source": [
    "#| export\n",
    "def parse_args():\n",
    "    parser = argparse.ArgumentParser()\n",
    "    parser.add_argument('--download', action='store_true')\n",
    "    \n",
    "    parser.add_argument('--data_dir', type=str, required=True)\n",
    "    parser.add_argument('--save_dir', type=str)\n",
    "\n",
    "    parser.add_argument('--sampling_type', type=str)\n",
    "    parser.add_argument('--fname_suffix', type=str)\n",
    "    \n",
    "    return parser.parse_args()\n",
    "    "
   ]
  },
  {
   "cell_type": "code",
   "execution_count": 104,
   "id": "06dba77d-3b75-4bdc-8ab5-d1d3ec195c2d",
   "metadata": {},
   "outputs": [],
   "source": [
    "#| export\n",
    "if __name__ == '__main__':\n",
    "    args = parse_args()\n",
    "    if args.download: \n",
    "        download_msmarco(args.data_dir)\n",
    "    else:\n",
    "        construct_msmarco(f'{args.data_dir}/queries.jsonl', f'{args.data_dir}/corpus.jsonl', \n",
    "                          f'{args.data_dir}/qrels/train.tsv', f'{args.data_dir}/qrels/dev.tsv', \n",
    "                          args.save_dir, args.sampling_type, args.fname_suffix)\n",
    "                          "
   ]
  },
  {
   "cell_type": "code",
   "execution_count": null,
   "id": "e9ef72fa-c8fe-4876-ad5c-906e492d3e16",
   "metadata": {},
   "outputs": [],
   "source": []
  },
  {
   "cell_type": "code",
   "execution_count": 72,
   "id": "124d1709-ea6b-489c-880b-635989ee4dd0",
   "metadata": {},
   "outputs": [],
   "source": [
    "data_dir = '/home/scai/phd/aiz218323/scratch/datasets/msmarco/'\n",
    "save_dir = '/home/scai/phd/aiz218323/scratch/datasets/msmarco/XC'\n",
    "\n",
    "sampling_type = 'exact'\n",
    "\n",
    "query_file, passage_file = f'{data_dir}/queries.jsonl', f'{data_dir}/corpus.jsonl'\n",
    "train_qrel_file, test_qrel_file = f'{data_dir}/qrels/train.tsv', f'{data_dir}/qrels/dev.tsv'"
   ]
  },
  {
   "cell_type": "code",
   "execution_count": 73,
   "id": "4d34a031-ce3d-4e8e-801a-089c67e71d3b",
   "metadata": {},
   "outputs": [
    {
     "data": {
      "application/vnd.jupyter.widget-view+json": {
       "model_id": "14a121fab529459bba15e8769fc60566",
       "version_major": 2,
       "version_minor": 0
      },
      "text/plain": [
       "  0%|          | 0/532751 [00:00<?, ?it/s]"
      ]
     },
     "metadata": {},
     "output_type": "display_data"
    },
    {
     "data": {
      "application/vnd.jupyter.widget-view+json": {
       "model_id": "2dc34413acde4be089fd1813fe57f4cd",
       "version_major": 2,
       "version_minor": 0
      },
      "text/plain": [
       "  0%|          | 0/502939 [00:00<?, ?it/s]"
      ]
     },
     "metadata": {},
     "output_type": "display_data"
    },
    {
     "data": {
      "application/vnd.jupyter.widget-view+json": {
       "model_id": "07bdc4f9da2a494ea74a844edf215aa6",
       "version_major": 2,
       "version_minor": 0
      },
      "text/plain": [
       "  0%|          | 0/7437 [00:00<?, ?it/s]"
      ]
     },
     "metadata": {},
     "output_type": "display_data"
    },
    {
     "data": {
      "application/vnd.jupyter.widget-view+json": {
       "model_id": "d748dbe15f8b410b96db008165cc2f52",
       "version_major": 2,
       "version_minor": 0
      },
      "text/plain": [
       "  0%|          | 0/6980 [00:00<?, ?it/s]"
      ]
     },
     "metadata": {},
     "output_type": "display_data"
    }
   ],
   "source": [
    "passage_info, trn_info, tst_info = construct_msmarco(query_file, passage_file, train_qrel_file, test_qrel_file,\n",
    "                                                     sampling_type=sampling_type)"
   ]
  },
  {
   "cell_type": "code",
   "execution_count": 167,
   "id": "afdfa3b8-bf63-4845-9147-e6791a37ca0d",
   "metadata": {},
   "outputs": [
    {
     "data": {
      "text/html": [
       "<div>\n",
       "<style scoped>\n",
       "    .dataframe tbody tr th:only-of-type {\n",
       "        vertical-align: middle;\n",
       "    }\n",
       "\n",
       "    .dataframe tbody tr th {\n",
       "        vertical-align: top;\n",
       "    }\n",
       "\n",
       "    .dataframe thead th {\n",
       "        text-align: right;\n",
       "    }\n",
       "</style>\n",
       "<table border=\"1\" class=\"dataframe\">\n",
       "  <thead>\n",
       "    <tr style=\"text-align: right;\">\n",
       "      <th></th>\n",
       "      <th>Number of queries</th>\n",
       "      <th>Number of labels</th>\n",
       "      <th>Number of queries per label</th>\n",
       "      <th>Number of labels per query</th>\n",
       "      <th>Number of queries without label</th>\n",
       "      <th>Number of labels without query</th>\n",
       "    </tr>\n",
       "  </thead>\n",
       "  <tbody>\n",
       "    <tr>\n",
       "      <th>MSMARCO</th>\n",
       "      <td>502939</td>\n",
       "      <td>523598</td>\n",
       "      <td>1.017481</td>\n",
       "      <td>1.017481</td>\n",
       "      <td>0</td>\n",
       "      <td>7126</td>\n",
       "    </tr>\n",
       "  </tbody>\n",
       "</table>\n",
       "</div>"
      ],
      "text/plain": [
       "         Number of queries  Number of labels  Number of queries per label  \\\n",
       "MSMARCO             502939            523598                     1.017481   \n",
       "\n",
       "         Number of labels per query  Number of queries without label  \\\n",
       "MSMARCO                    1.017481                                0   \n",
       "\n",
       "         Number of labels without query  \n",
       "MSMARCO                            7126  "
      ]
     },
     "execution_count": 167,
     "metadata": {},
     "output_type": "execute_result"
    }
   ],
   "source": [
    "trn_info.stats"
   ]
  },
  {
   "cell_type": "code",
   "execution_count": null,
   "id": "af948ebe-d420-48b4-a8e6-a9deab258167",
   "metadata": {},
   "outputs": [],
   "source": []
  }
 ],
 "metadata": {
  "kernelspec": {
   "display_name": "Python 3 (ipykernel)",
   "language": "python",
   "name": "python3"
  },
  "language_info": {
   "codemirror_mode": {
    "name": "ipython",
    "version": 3
   },
   "file_extension": ".py",
   "mimetype": "text/x-python",
   "name": "python",
   "nbconvert_exporter": "python",
   "pygments_lexer": "ipython3",
   "version": "3.9.19"
  }
 },
 "nbformat": 4,
 "nbformat_minor": 5
}
