{
 "cells": [
  {
   "cell_type": "code",
   "execution_count": null,
   "id": "2f254168-95a5-45b8-ae13-d4d27865fdf8",
   "metadata": {},
   "outputs": [],
   "source": [
    "#| default_exp 10_msmarco-generated-entities"
   ]
  },
  {
   "cell_type": "code",
   "execution_count": null,
   "id": "9e5fe9f3-4366-45b9-85b3-2ce8aef47499",
   "metadata": {},
   "outputs": [],
   "source": [
    "#| hide\n",
    "from nbdev.showdoc import *\n",
    "import nbdev; nbdev.nbdev_export()"
   ]
  },
  {
   "cell_type": "code",
   "execution_count": null,
   "id": "044aa08c-ebb5-488f-9125-4df50b6f5275",
   "metadata": {},
   "outputs": [],
   "source": [
    "%reload_ext autoreload\n",
    "%autoreload 2"
   ]
  },
  {
   "cell_type": "code",
   "execution_count": null,
   "id": "22a30f7a-562e-470b-afb6-b5f201175a32",
   "metadata": {},
   "outputs": [],
   "source": [
    "#| export\n",
    "import json, re, scipy.sparse as sp, pickle, numpy as np, argparse, pandas as pd\n",
    "\n",
    "from tqdm.auto import tqdm\n",
    "from dataclasses import dataclass\n",
    "\n",
    "from sugar.core import *"
   ]
  },
  {
   "cell_type": "markdown",
   "id": "99536d96-45da-4d59-ad3d-37e7f44be247",
   "metadata": {},
   "source": [
    "## Load entity"
   ]
  },
  {
   "cell_type": "code",
   "execution_count": null,
   "id": "0d7e8865-b16f-44f5-869f-56dd96d11c21",
   "metadata": {},
   "outputs": [],
   "source": [
    "#| export\n",
    "def extract_key(entities, key='entity_canonical_category'):\n",
    "    if key == 'entity_canonical_category': \n",
    "        return [o.lower() for o in entities if len(o.split(' | ')) == 3]\n",
    "    elif key == 'entity': \n",
    "        return [o.split(' | ')[0].lower() for o in entities if len(o.split(' | ')) == 3]\n",
    "    elif key == 'canonical': \n",
    "        return [o.split(' | ')[1].lower() for o in entities if len(o.split(' | ')) == 3]\n",
    "    elif key == 'category': \n",
    "        return [o.split(' | ')[2].lower() for o in entities if len(o.split(' | ')) == 3]\n",
    "    elif key == 'entity_canonical': \n",
    "        return [' | '.join(o.split(' | ')[0:2]).lower() for o in entities if len(o.split(' | ')) == 3]\n",
    "    else: \n",
    "        raise ValueError(f'Invalid entity type: {key}')\n",
    "    "
   ]
  },
  {
   "cell_type": "code",
   "execution_count": null,
   "id": "252cd986-4f11-4181-bde2-a06369b8fb81",
   "metadata": {},
   "outputs": [],
   "source": [
    "#| export\n",
    "def load_gpt_entities(fname, key='entity_canonical_category'):\n",
    "    with open(fname, 'rb') as file:\n",
    "        generations = pickle.load(file)\n",
    "        \n",
    "    entities = dict()\n",
    "    for k,v in tqdm(generations.items(), total=len(generations)):\n",
    "        query = k.split('\\t')[1].split('==::==')[0].split('|||')[1]\n",
    "        entities.setdefault(query, []).extend(extract_key(v['Entities'], key))\n",
    "        \n",
    "    return entities\n"
   ]
  },
  {
   "cell_type": "code",
   "execution_count": null,
   "id": "ff5a497c-0fbd-4378-a872-6334333b2a27",
   "metadata": {},
   "outputs": [],
   "source": [
    "#| export\n",
    "def load_llama_entities(fname, key='entity_canonical_category'):\n",
    "    with open(fname, 'r') as file:\n",
    "        generations = [json.loads(line) for line in file]\n",
    "\n",
    "    entities = dict()\n",
    "    pattern = r\"<Entities>(.*?)</Entities>\"\n",
    "    for generation in tqdm(generations, total=len(generations)):\n",
    "        entity = [entity.strip() for entity in re.findall(pattern, generation['gen'], re.DOTALL) if len(entity.strip().split(' | ')) == 3]\n",
    "        entities.setdefault(int(generation['qid']), []).extend(extract_key(entity, key))\n",
    "        \n",
    "    return entities\n",
    "    "
   ]
  },
  {
   "cell_type": "code",
   "execution_count": null,
   "id": "9462236d-2b94-4111-a090-ce36bdc31b69",
   "metadata": {},
   "outputs": [
    {
     "data": {
      "application/vnd.jupyter.widget-view+json": {
       "model_id": "f9c0845ff0154eab903ba8b473e0b0f4",
       "version_major": 2,
       "version_minor": 0
      },
      "text/plain": [
       "  0%|          | 0/532743 [00:00<?, ?it/s]"
      ]
     },
     "metadata": {},
     "output_type": "display_data"
    },
    {
     "data": {
      "application/vnd.jupyter.widget-view+json": {
       "model_id": "8c6e07bc6dc042e7b56c4389c4287239",
       "version_major": 2,
       "version_minor": 0
      },
      "text/plain": [
       "  0%|          | 0/34621 [00:00<?, ?it/s]"
      ]
     },
     "metadata": {},
     "output_type": "display_data"
    }
   ],
   "source": [
    "entity_dir = \"/home/scai/phd/aiz218323/scratch/datasets/msmarco/entities/gpt/\"\n",
    "\n",
    "trn_entity = load_gpt_entities(f'{entity_dir}/trn_gpt_generations.pkl', key='entity')\n",
    "tst_entity = load_gpt_entities(f'{entity_dir}/dev_gpt_generations.pkl', key='entity')"
   ]
  },
  {
   "cell_type": "code",
   "execution_count": null,
   "id": "5226a9d9-308d-4235-aded-d40d79a6c58f",
   "metadata": {},
   "outputs": [
    {
     "name": "stdout",
     "output_type": "stream",
     "text": [
      "['what is eq in sound', 'when was-king tut exhibit in denver', 'how to put a roof on your deck']\n"
     ]
    }
   ],
   "source": [
    "print(list(trn_entity)[:3])"
   ]
  },
  {
   "cell_type": "code",
   "execution_count": null,
   "id": "0e70df97-f7fb-4da6-8cb6-66dc07541157",
   "metadata": {},
   "outputs": [
    {
     "data": {
      "application/vnd.jupyter.widget-view+json": {
       "model_id": "7ad718a9002241caa689c1dbbb096e29",
       "version_major": 2,
       "version_minor": 0
      },
      "text/plain": [
       "  0%|          | 0/532755 [00:00<?, ?it/s]"
      ]
     },
     "metadata": {},
     "output_type": "display_data"
    },
    {
     "data": {
      "application/vnd.jupyter.widget-view+json": {
       "model_id": "393e3cc87ee44736bd520cd31ac7df5e",
       "version_major": 2,
       "version_minor": 0
      },
      "text/plain": [
       "  0%|          | 0/59265 [00:00<?, ?it/s]"
      ]
     },
     "metadata": {},
     "output_type": "display_data"
    }
   ],
   "source": [
    "entity_dir = \"/home/scai/phd/aiz218323/scratch/datasets/msmarco/entities/llama/\"\n",
    "\n",
    "trn_entity = load_llama_entities(f'{entity_dir}/trn_llama_generations.txt', key='entity')\n",
    "tst_entity = load_llama_entities(f'{entity_dir}/dev_llama_generations.txt', key='entity')"
   ]
  },
  {
   "cell_type": "code",
   "execution_count": null,
   "id": "ea90a5b9-443e-46f7-b398-0868dd9c1c2a",
   "metadata": {},
   "outputs": [
    {
     "data": {
      "text/plain": [
       "[1185869, 1185868, 597651]"
      ]
     },
     "execution_count": null,
     "metadata": {},
     "output_type": "execute_result"
    }
   ],
   "source": [
    "print(list(trn_entity)[:3])"
   ]
  },
  {
   "cell_type": "code",
   "execution_count": null,
   "id": "3c01c1c0-378d-44a0-bb5b-8d7530b69081",
   "metadata": {},
   "outputs": [],
   "source": []
  },
  {
   "cell_type": "code",
   "execution_count": null,
   "id": "7374c875-b0ed-4662-a8e2-e596d5fe19df",
   "metadata": {},
   "outputs": [],
   "source": [
    "#| export\n",
    "def load_entities(entity_dir, key='entity_canonical_category', model='gpt'):\n",
    "    mapping = dict()\n",
    "    if model == 'gpt': \n",
    "        mapping.update(load_gpt_entities(f'{entity_dir}/trn_gpt_generations.pkl', key=key))\n",
    "        mapping.update(load_gpt_entities(f'{entity_dir}/dev_gpt_generations.pkl', key=key))\n",
    "    elif model == 'llama': \n",
    "        mapping.update(load_llama_entities(f'{entity_dir}/trn_llama_generations.txt', key=key))\n",
    "        mapping.update(load_llama_entities(f'{entity_dir}/dev_llama_generations.txt', key=key))\n",
    "    else: \n",
    "        raise ValueError(f'Invalid pretrained type: {model}')\n",
    "\n",
    "    return mapping\n"
   ]
  },
  {
   "cell_type": "markdown",
   "id": "c8aa67ef-9c7a-44b2-8cd2-bddc3742ac5b",
   "metadata": {},
   "source": [
    "## Create matrix"
   ]
  },
  {
   "cell_type": "code",
   "execution_count": null,
   "id": "9aea41ce-dccc-4669-be20-743fe69d1add",
   "metadata": {},
   "outputs": [],
   "source": [
    "#| export\n",
    "def _get_all_ids(data_dir):\n",
    "    trn_ids, trn_txt = load_raw_file(f'{data_dir}/raw_data/train.raw.txt')\n",
    "    tst_ids, tst_txt = load_raw_file(f'{data_dir}/raw_data/test.raw.txt')\n",
    "    lbl_ids, lbl_txt = load_raw_file(f'{data_dir}/raw_data/label.raw.txt')\n",
    "    trn_ids, tst_ids, lbl_ids = list(map(int, trn_ids)), list(map(int, tst_ids)), list(map(int, lbl_ids))\n",
    "    return trn_ids, trn_txt, tst_ids, tst_txt, lbl_ids, lbl_txt\n",
    "    "
   ]
  },
  {
   "cell_type": "code",
   "execution_count": null,
   "id": "9f233a4b-d41d-4019-b41f-4ad6d44e0ba7",
   "metadata": {},
   "outputs": [],
   "source": [
    "#| export\n",
    "def get_matrix(mapping, trn_ids, trn_txt, tst_ids, tst_txt, vocab_size, model='gpt'):\n",
    "    if model == 'gpt':\n",
    "        trn_mat, _ = get_matrix_from_item2idx(mapping, vocab_size, ids=trn_txt)\n",
    "        tst_mat, _ = get_matrix_from_item2idx(mapping, vocab_size, ids=tst_txt)\n",
    "    elif model == 'llama':\n",
    "        trn_mat, _ = get_matrix_from_item2idx(mapping, vocab_size, ids=trn_ids)\n",
    "        tst_mat, _ = get_matrix_from_item2idx(mapping, vocab_size, ids=tst_ids)\n",
    "    else:\n",
    "        raise ValueError(f'Invalid model type: {model}.')\n",
    "\n",
    "    return trn_mat, tst_mat\n",
    "    "
   ]
  },
  {
   "cell_type": "code",
   "execution_count": null,
   "id": "e853fa84-250d-4b3e-9995-1d1ca4e041b3",
   "metadata": {},
   "outputs": [],
   "source": [
    "#| export\n",
    "def filter_vocab(vocab_ids, vocab_txt, trn_mat, tst_mat, lbl_mat=None):\n",
    "    valid_idx = np.where(trn_mat.getnnz(axis=0) > 0)[0]\n",
    "    if lbl_mat is not None:\n",
    "        lbl_idx = np.where(lbl_mat.getnnz(axis=0) > 0)[0]\n",
    "        valid_idx = np.union1d(valid_idx, lbl_idx)\n",
    "\n",
    "    trn_mat = trn_mat[:, valid_idx].copy()\n",
    "    tst_mat = tst_mat[:, valid_idx].copy()\n",
    "    if lbl_mat is not None: \n",
    "        lbl_mat = lbl_mat[:, valid_idx].copy()\n",
    "    \n",
    "    vocab_ids, vocab_txt = [vocab_ids[i] for i in valid_idx], [vocab_txt[i] for i in valid_idx]\n",
    "\n",
    "    return vocab_ids, vocab_txt, trn_mat, tst_mat, lbl_mat\n",
    "    "
   ]
  },
  {
   "cell_type": "code",
   "execution_count": null,
   "id": "8848a7c6-e15b-45c4-a78d-0c75c5bf40a1",
   "metadata": {},
   "outputs": [],
   "source": [
    "#| export \n",
    "def get_entities(data_dir:str, entity_dir:str, key='entity_canonical_category', model='gpt'):\n",
    "    mapping = load_entities(entity_dir, key, model)\n",
    "\n",
    "    trn_ids, trn_txt, tst_ids, tst_txt, lbl_ids, lbl_txt = _get_all_ids(data_dir)\n",
    "\n",
    "    vocab, mapping_item2idx = create_vocab_and_item2idx(mapping)\n",
    "    entity_ids, entity_txt = list(range(len(vocab))), list(sorted(vocab, key=lambda x: vocab[x]))\n",
    "\n",
    "    trn_mat, tst_mat = get_matrix(mapping_item2idx, trn_ids, trn_txt, tst_ids, tst_txt, len(entity_ids), model=model)\n",
    "    lbl_mat = sp.csr_matrix((len(lbl_ids), len(entity_ids)), dtype=np.int64)\n",
    "\n",
    "    entity_ids, entity_txt, trn_mat, tst_mat, lbl_mat = filter_vocab(entity_ids, entity_txt, trn_mat, tst_mat, lbl_mat)\n",
    "    return trn_mat, tst_mat, lbl_mat, entity_ids, entity_txt\n",
    "    "
   ]
  },
  {
   "cell_type": "code",
   "execution_count": null,
   "id": "2f047114-37fb-4041-9e8f-35a2acdd44b0",
   "metadata": {},
   "outputs": [],
   "source": [
    "#| export\n",
    "def save_entities(save_dir, trn_mat, tst_mat, lbl_mat, entity_ids, entity_txt, key, model):\n",
    "    sp.save_npz(f'{save_dir}/{key}_trn_X_Y_{model}.npz', trn_mat)\n",
    "    sp.save_npz(f'{save_dir}/{key}_tst_X_Y_{model}.npz', tst_mat)\n",
    "    sp.save_npz(f'{save_dir}/{key}_lbl_X_Y_{model}.npz', lbl_mat)\n",
    "\n",
    "    save_raw_txt(f'{save_dir}/raw_data/{key}.{model}.raw.txt', entity_ids, entity_txt)\n",
    "    "
   ]
  },
  {
   "cell_type": "code",
   "execution_count": null,
   "id": "9aba58da-28dc-4d1a-bcc2-60f43ee9ecdb",
   "metadata": {},
   "outputs": [],
   "source": [
    "#| export\n",
    "def get_and_save_entities(data_dir:str, entity_dir:str, key='entity_canonical_category', model='gpt'):    \n",
    "    trn_mat, tst_mat, lbl_mat, entity_ids, entity_txt = get_entities(data_dir, entity_dir, key, model=model)\n",
    "    save_entities(data_dir, trn_mat, tst_mat, lbl_mat, entity_ids, entity_txt, key, model=model)\n",
    "    return trn_mat, tst_mat, lbl_mat, entity_ids, entity_txt\n",
    "    "
   ]
  },
  {
   "cell_type": "code",
   "execution_count": null,
   "id": "732eabc6-b65c-4763-b7d9-0a823bca909d",
   "metadata": {},
   "outputs": [],
   "source": [
    "#| export\n",
    "def parse_args():\n",
    "    parser = argparse.ArgumentParser()\n",
    "    parser.add_argument('--data_dir', type=str, required=True)\n",
    "    parser.add_argument('--entity_dir', type=str, required=True)\n",
    "    parser.add_argument('--entity_type', type=str, required=True)\n",
    "    parser.add_argument('--model', type=str, required=True)\n",
    "    return parser.parse_args()\n",
    "    "
   ]
  },
  {
   "cell_type": "code",
   "execution_count": null,
   "id": "c26797fd-c39f-4049-83d8-f22dc3a823e1",
   "metadata": {},
   "outputs": [],
   "source": [
    "#| export\n",
    "if __name__ == '__main__':\n",
    "    args = parse_args()\n",
    "    get_and_save_entities(args.data_dir, args.entity_dir, key=args.entity_type, model=args.model)\n",
    "    "
   ]
  },
  {
   "cell_type": "code",
   "execution_count": null,
   "id": "b07b1b71-899b-4d99-af40-fc0d29f8f913",
   "metadata": {},
   "outputs": [],
   "source": []
  },
  {
   "cell_type": "code",
   "execution_count": null,
   "id": "c043a69d-6054-4d80-8b78-724af9576e69",
   "metadata": {},
   "outputs": [
    {
     "data": {
      "application/vnd.jupyter.widget-view+json": {
       "model_id": "fc29e3d5a11941b38ad53d0f6107a568",
       "version_major": 2,
       "version_minor": 0
      },
      "text/plain": [
       "  0%|          | 0/532743 [00:00<?, ?it/s]"
      ]
     },
     "metadata": {},
     "output_type": "display_data"
    },
    {
     "data": {
      "application/vnd.jupyter.widget-view+json": {
       "model_id": "21b9c2ea1e6c4e52871440399f30e39e",
       "version_major": 2,
       "version_minor": 0
      },
      "text/plain": [
       "  0%|          | 0/34621 [00:00<?, ?it/s]"
      ]
     },
     "metadata": {},
     "output_type": "display_data"
    },
    {
     "data": {
      "application/vnd.jupyter.widget-view+json": {
       "model_id": "6bc46bdcac0046069cdc0aebc5237f99",
       "version_major": 2,
       "version_minor": 0
      },
      "text/plain": [
       "  0%|          | 0/535496 [00:00<?, ?it/s]"
      ]
     },
     "metadata": {},
     "output_type": "display_data"
    },
    {
     "data": {
      "application/vnd.jupyter.widget-view+json": {
       "model_id": "96a9a96e7b86493498a0275010d654ea",
       "version_major": 2,
       "version_minor": 0
      },
      "text/plain": [
       "  0%|          | 0/502939 [00:00<?, ?it/s]"
      ]
     },
     "metadata": {},
     "output_type": "display_data"
    },
    {
     "data": {
      "application/vnd.jupyter.widget-view+json": {
       "model_id": "aa094f2c10fb48c086638296178bdd57",
       "version_major": 2,
       "version_minor": 0
      },
      "text/plain": [
       "  0%|          | 0/6980 [00:00<?, ?it/s]"
      ]
     },
     "metadata": {},
     "output_type": "display_data"
    }
   ],
   "source": [
    "data_dir = \"/home/scai/phd/aiz218323/scratch/datasets/msmarco/XC\"\n",
    "entity_dir = \"/home/scai/phd/aiz218323/scratch/datasets/msmarco/entities/gpt/\"\n",
    "key, model = 'entity', 'gpt'\n",
    "\n",
    "o = get_and_save_entities(data_dir, entity_dir, key=key, model=model)"
   ]
  },
  {
   "cell_type": "code",
   "execution_count": null,
   "id": "3cbc7d6d-da44-40d5-865d-e14e92c32b08",
   "metadata": {},
   "outputs": [
    {
     "data": {
      "application/vnd.jupyter.widget-view+json": {
       "model_id": "34fc9c232763422ebdc3b743dacab51c",
       "version_major": 2,
       "version_minor": 0
      },
      "text/plain": [
       "  0%|          | 0/532755 [00:00<?, ?it/s]"
      ]
     },
     "metadata": {},
     "output_type": "display_data"
    },
    {
     "data": {
      "application/vnd.jupyter.widget-view+json": {
       "model_id": "45fd377c2a89448a851df721f3ad5f07",
       "version_major": 2,
       "version_minor": 0
      },
      "text/plain": [
       "  0%|          | 0/59265 [00:00<?, ?it/s]"
      ]
     },
     "metadata": {},
     "output_type": "display_data"
    },
    {
     "data": {
      "application/vnd.jupyter.widget-view+json": {
       "model_id": "f39197724868499ab13163f75f9fd132",
       "version_major": 2,
       "version_minor": 0
      },
      "text/plain": [
       "  0%|          | 0/558503 [00:00<?, ?it/s]"
      ]
     },
     "metadata": {},
     "output_type": "display_data"
    },
    {
     "data": {
      "application/vnd.jupyter.widget-view+json": {
       "model_id": "f3f123135c9a431290779e02c7311139",
       "version_major": 2,
       "version_minor": 0
      },
      "text/plain": [
       "  0%|          | 0/502939 [00:00<?, ?it/s]"
      ]
     },
     "metadata": {},
     "output_type": "display_data"
    },
    {
     "data": {
      "application/vnd.jupyter.widget-view+json": {
       "model_id": "da23c6f8f8cc424b8177dcb02faa62f9",
       "version_major": 2,
       "version_minor": 0
      },
      "text/plain": [
       "  0%|          | 0/6980 [00:00<?, ?it/s]"
      ]
     },
     "metadata": {},
     "output_type": "display_data"
    }
   ],
   "source": [
    "data_dir = \"/home/scai/phd/aiz218323/scratch/datasets/msmarco/XC\"\n",
    "entity_dir = \"/home/scai/phd/aiz218323/scratch/datasets/msmarco/entities/llama/\"\n",
    "key, model = 'entity', 'llama'\n",
    "\n",
    "o = get_and_save_entities(data_dir, entity_dir, key=key, model=model)"
   ]
  },
  {
   "cell_type": "code",
   "execution_count": null,
   "id": "c23c89c1-3a11-409d-bac3-d31efce009e1",
   "metadata": {},
   "outputs": [],
   "source": []
  }
 ],
 "metadata": {
  "kernelspec": {
   "display_name": "python3",
   "language": "python",
   "name": "python3"
  }
 },
 "nbformat": 4,
 "nbformat_minor": 5
}
