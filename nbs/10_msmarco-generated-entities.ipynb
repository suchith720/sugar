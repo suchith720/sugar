{
 "cells": [
  {
   "cell_type": "code",
   "execution_count": 6,
   "id": "2f254168-95a5-45b8-ae13-d4d27865fdf8",
   "metadata": {},
   "outputs": [],
   "source": [
    "#| default_exp 10_msmarco-generated-entities"
   ]
  },
  {
   "cell_type": "code",
   "execution_count": 7,
   "id": "9e5fe9f3-4366-45b9-85b3-2ce8aef47499",
   "metadata": {},
   "outputs": [],
   "source": [
    "#| hide\n",
    "from nbdev.showdoc import *\n",
    "import nbdev; nbdev.nbdev_export()"
   ]
  },
  {
   "cell_type": "code",
   "execution_count": 8,
   "id": "22a30f7a-562e-470b-afb6-b5f201175a32",
   "metadata": {},
   "outputs": [],
   "source": [
    "#| export\n",
    "from tqdm.auto import tqdm\n",
    "from dataclasses import dataclass\n",
    "import json, re, scipy.sparse as sp, pickle, numpy as np, argparse, pandas as pd"
   ]
  },
  {
   "cell_type": "code",
   "execution_count": 5,
   "id": "94c7ea98-e6ac-444b-b1a9-9f42f20e1f4a",
   "metadata": {},
   "outputs": [],
   "source": [
    "#| export\n",
    "def load_raw_txt(fname):\n",
    "    ids, txt = list(), list()\n",
    "    with open(fname, 'r') as file:\n",
    "        for line in file:\n",
    "            k,v = line[:-1].split(\"->\", maxsplit=1)\n",
    "            ids.append(int(k)); txt.append(v)\n",
    "    return ids, txt\n",
    "    "
   ]
  },
  {
   "cell_type": "code",
   "execution_count": 10,
   "id": "0d7e8865-b16f-44f5-869f-56dd96d11c21",
   "metadata": {},
   "outputs": [],
   "source": [
    "#| export\n",
    "def select_entity(entities, entity_type='entity_canonical_category'):\n",
    "    if entity_type == 'entity_canonical_category': \n",
    "        return [o.lower() for o in entities if len(o.split(' | ')) == 3]\n",
    "    elif entity_type == 'entity': \n",
    "        return [o.split(' | ')[0].lower() for o in entities if len(o.split(' | ')) == 3]\n",
    "    elif entity_type == 'canonical': \n",
    "        return [o.split(' | ')[1].lower() for o in entities if len(o.split(' | ')) == 3]\n",
    "    elif entity_type == 'category': \n",
    "        return [o.split(' | ')[2].lower() for o in entities if len(o.split(' | ')) == 3]\n",
    "    elif entity_type == 'entity_canonical': \n",
    "        return [' | '.join(o.split(' | ')[0:2]).lower() for o in entities if len(o.split(' | ')) == 3]\n",
    "    else: \n",
    "        raise ValueError(f'Invalid entity type: {entity_type}')\n",
    "    "
   ]
  },
  {
   "cell_type": "code",
   "execution_count": 13,
   "id": "252cd986-4f11-4181-bde2-a06369b8fb81",
   "metadata": {},
   "outputs": [],
   "source": [
    "#| export\n",
    "def load_gpt_entities(fname, entity_type='entity_canonical_category'):\n",
    "    with open(fname, 'rb') as file:\n",
    "        generations = pickle.load(file)\n",
    "        \n",
    "    entities = dict()\n",
    "    for k,v in tqdm(generations.items(), total=len(generations)):\n",
    "        query = k.split('\\t')[1].split('==::==')[0].split('|||')[1]\n",
    "        entities.setdefault(query, []).extend(select_entity(v['Entities'], entity_type))\n",
    "        \n",
    "    return entities\n"
   ]
  },
  {
   "cell_type": "code",
   "execution_count": 14,
   "id": "ff5a497c-0fbd-4378-a872-6334333b2a27",
   "metadata": {},
   "outputs": [],
   "source": [
    "#| export\n",
    "def load_llama_entities(fname, entity_type='entity_canonical_category'):\n",
    "    with open(fname, 'r') as file:\n",
    "        generations = [json.loads(line) for line in file]\n",
    "\n",
    "    entities = dict()\n",
    "    pattern = r\"<Entities>(.*?)</Entities>\"\n",
    "    for generation in tqdm(generations, total=len(generations)):\n",
    "        entity = [entity.strip() for entity in re.findall(pattern, generation['gen'], re.DOTALL) if len(entity.strip().split(' | ')) == 3]\n",
    "        entities.setdefault(int(generation['qid']), []).extend(select_entity(entity, entity_type))\n",
    "        \n",
    "    return entities\n",
    "    "
   ]
  },
  {
   "cell_type": "code",
   "execution_count": 16,
   "id": "7374c875-b0ed-4662-a8e2-e596d5fe19df",
   "metadata": {},
   "outputs": [],
   "source": [
    "#| export\n",
    "def load_data(data_dir, entity_dir, entity_type='entity_canonical_category', pretrained='gpt'):\n",
    "    # training data\n",
    "    trn_ids, trn_txt = load_raw_txt(f'{data_dir}/raw_data/train.raw.txt')\n",
    "    if pretrained == 'gpt': \n",
    "        trn_entities = load_gpt_entities(f'{entity_dir}/trn_gpt_generations.pkl', entity_type=entity_type)\n",
    "    elif pretrained == 'llama': \n",
    "        trn_entities = load_llama_entities(f'{entity_dir}/trn_llama_generations.txt', entity_type=entity_type)\n",
    "    else: \n",
    "        raise ValueError(f'Invalid pretrained type: {pretrained}')\n",
    "    trn_data = (trn_ids, trn_txt, trn_entities)\n",
    "\n",
    "    # testing data\n",
    "    tst_ids, tst_txt = load_raw_txt(f'{data_dir}/raw_data/test.raw.txt')\n",
    "    if pretrained == 'gpt': \n",
    "        tst_entities = load_gpt_entities(f'{entity_dir}/dev_gpt_generations.pkl', entity_type=entity_type)\n",
    "    elif pretrained == 'llama': \n",
    "        tst_entities = load_llama_entities(f'{entity_dir}/dev_llama_generations.txt', entity_type=entity_type)\n",
    "    else: \n",
    "        raise ValueError(f'Invalid pretrained type: {pretrained}')\n",
    "    tst_data = (tst_ids, tst_txt, tst_entities)\n",
    "\n",
    "    # vocabulary creation\n",
    "    entity_to_idx = dict()\n",
    "    for v in trn_entities.values():\n",
    "        for e in v: entity_to_idx.setdefault(e, len(entity_to_idx))\n",
    "    for v in tst_entities.values():\n",
    "        for e in v: entity_to_idx.setdefault(e, len(entity_to_idx))\n",
    "        \n",
    "    return trn_data, tst_data, entity_to_idx\n",
    "        "
   ]
  },
  {
   "cell_type": "code",
   "execution_count": 17,
   "id": "ea75ab09-a9b3-4896-9a42-0527a0edb699",
   "metadata": {},
   "outputs": [],
   "source": [
    "#| export\n",
    "def save_raw_txt(fname, ids, texts):\n",
    "    with open(fname, 'w') as file:\n",
    "        for k,v in tqdm(zip(ids, texts), total=len(ids)):\n",
    "            file.write(f'{k}->{v}\\n')\n",
    "        "
   ]
  },
  {
   "cell_type": "code",
   "execution_count": 18,
   "id": "4dc496ab-4167-48fe-8d7e-479e954eca34",
   "metadata": {},
   "outputs": [],
   "source": [
    "#| export\n",
    "def construct_matrix(texts, entities, entity_to_idx):\n",
    "    data, indices, indptr = [], [], [0]\n",
    "    for qtxt in tqdm(texts):\n",
    "        entity = entities.get(qtxt, [])\n",
    "        data.extend([1] * len(entity))\n",
    "        indices.extend([entity_to_idx[o] for o in entity])\n",
    "        indptr.append(len(indices))\n",
    "    return sp.csr_matrix((data, indices, indptr), shape=(len(texts), len(entity_to_idx)), dtype=np.int64)\n"
   ]
  },
  {
   "cell_type": "code",
   "execution_count": 19,
   "id": "d4e8d95e-f8eb-4836-8432-278777fc18bb",
   "metadata": {},
   "outputs": [],
   "source": [
    "#| export\n",
    "@dataclass\n",
    "class EntityInfo:\n",
    "    ids: list\n",
    "    txt: list\n",
    "    trn_mat: sp.csr_matrix\n",
    "    tst_mat: sp.csr_matrix\n",
    "    lbl_mat: sp.csr_matrix\n",
    "\n",
    "    @property\n",
    "    def stats(self):\n",
    "        n_trn, n_entity = self.trn_mat.shape\n",
    "        n_tst, n_lbl = self.tst_mat.shape[0], self.lbl_mat.shape[0]\n",
    "        \n",
    "        def entity(mat):\n",
    "            ent_p_dat = mat.getnnz(axis=1).mean()\n",
    "            dat_p_ent = mat.getnnz(axis=0).mean()\n",
    "            \n",
    "            dat_no_ent = np.sum(mat.getnnz(axis=1) == 0)\n",
    "            ent_no_dat = np.sum(mat.getnnz(axis=0) == 0)\n",
    "            \n",
    "            return {\n",
    "                'Number of queries per entity': ent_p_dat, \n",
    "                'Number of entities per query': dat_p_ent, \n",
    "                'Number of queries without entity': dat_no_ent, \n",
    "                'Number of entities without query': ent_no_dat,\n",
    "            }\n",
    "    \n",
    "        stats = [{'Number of queries': n_trn, 'Number of entities': n_entity, **entity(self.trn_mat)}] + \\\n",
    "        [{'Number of queries': n_tst, 'Number of entities': n_entity, **entity(self.tst_mat)}] + \\\n",
    "        [{'Number of queries': n_lbl, 'Number of entities': n_entity, **entity(self.lbl_mat)}]\n",
    "        \n",
    "        return pd.DataFrame(stats, index=['Train', 'Test', 'Labels'])\n",
    "        "
   ]
  },
  {
   "cell_type": "code",
   "execution_count": 20,
   "id": "8848a7c6-e15b-45c4-a78d-0c75c5bf40a1",
   "metadata": {},
   "outputs": [],
   "source": [
    "#| export \n",
    "def construct_msmarco_entities(data_dir:str, entity_dir:str, entity_type='entity_canonical_category', pretrained='gpt'):\n",
    "    trn_data, tst_data, entity_to_idx = load_data(data_dir, entity_dir, entity_type=entity_type, pretrained=pretrained)\n",
    "\n",
    "    trn_mat = construct_matrix(trn_data[1] if pretrained == 'gpt' else trn_data[0], trn_data[2], entity_to_idx)\n",
    "    \n",
    "    valid_idx = np.where(trn_mat.getnnz(axis=0) > 0)[0]\n",
    "    trn_mat = trn_mat[:, valid_idx]\n",
    "\n",
    "    entity_txt = [text for v, text in zip(valid_idx, sorted(entity_to_idx, key=lambda x: entity_to_idx[x])) if v]\n",
    "    entity_ids = list(range(len(entity_txt)))\n",
    "\n",
    "    tst_mat = construct_matrix(tst_data[1] if pretrained == 'gpt' else tst_data[0], tst_data[2], entity_to_idx)[:, valid_idx]\n",
    "    lbl_mat = sp.csr_matrix((sp.load_npz(f'{data_dir}/trn_X_Y.npz').shape[1], len(entity_txt)), dtype=np.int64)\n",
    "\n",
    "    return EntityInfo(entity_ids, entity_txt, trn_mat, tst_mat, lbl_mat)\n",
    "    "
   ]
  },
  {
   "cell_type": "code",
   "execution_count": 26,
   "id": "2f047114-37fb-4041-9e8f-35a2acdd44b0",
   "metadata": {},
   "outputs": [],
   "source": [
    "#| export\n",
    "def save_msmarco_entities(data_dir, pretrained, entity_type, entity_info):\n",
    "    save_raw_txt(f'{data_dir}/raw_data/{pretrained}_{entity_type}.raw.txt', entity_info.ids, entity_info.txt)\n",
    "    sp.save_npz(f'{data_dir}/{pretrained}_{entity_type}_trn_X_Y.npz', entity_info.trn_mat)\n",
    "    sp.save_npz(f'{data_dir}/{pretrained}_{entity_type}_tst_X_Y.npz', entity_info.tst_mat)\n",
    "    sp.save_npz(f'{data_dir}/{pretrained}_{entity_type}_lbl_X_Y.npz', entity_info.lbl_mat)\n",
    "    "
   ]
  },
  {
   "cell_type": "code",
   "execution_count": 24,
   "id": "9aba58da-28dc-4d1a-bcc2-60f43ee9ecdb",
   "metadata": {},
   "outputs": [],
   "source": [
    "#| export\n",
    "def construct_save_msmarco_entities(data_dir:str, entity_dir:str, entity_type='entity_canonical_category', \n",
    "                                    pretrained='gpt', do_save:bool=False):\n",
    "    entity_info = construct_msmarco_entities(data_dir, entity_dir, entity_type, pretrained=pretrained)\n",
    "    if do_save: save_msmarco_entities(data_dir, pretrained, entity_type, entity_info)\n",
    "    return entity_info\n",
    "    "
   ]
  },
  {
   "cell_type": "code",
   "execution_count": 25,
   "id": "732eabc6-b65c-4763-b7d9-0a823bca909d",
   "metadata": {},
   "outputs": [],
   "source": [
    "#| export\n",
    "def parse_args():\n",
    "    parser = argparse.ArgumentParser()\n",
    "    parser.add_argument('--data_dir', type=str, required=True)\n",
    "    parser.add_argument('--entity_dir', type=str, required=True)\n",
    "    parser.add_argument('--entity_type', type=str, required=True)\n",
    "    parser.add_argument('--pretrained', action='store_true')\n",
    "    parser.add_argument('--save', action='store_true')\n",
    "    return parser.parse_args()\n",
    "    "
   ]
  },
  {
   "cell_type": "code",
   "execution_count": 163,
   "id": "c26797fd-c39f-4049-83d8-f22dc3a823e1",
   "metadata": {},
   "outputs": [],
   "source": [
    "#| export\n",
    "if __name__ == '__main__':\n",
    "    args = parse_args()\n",
    "    construct_save_msmarco_entities(args.data_dir, args.entity_dir, args.entity_type, args.pretrained, args.save)"
   ]
  },
  {
   "cell_type": "code",
   "execution_count": null,
   "id": "b07b1b71-899b-4d99-af40-fc0d29f8f913",
   "metadata": {},
   "outputs": [],
   "source": []
  },
  {
   "cell_type": "code",
   "execution_count": 161,
   "id": "c043a69d-6054-4d80-8b78-724af9576e69",
   "metadata": {},
   "outputs": [
    {
     "data": {
      "application/vnd.jupyter.widget-view+json": {
       "model_id": "d4f42f9d6eb94a75ba952c4e7f040a78",
       "version_major": 2,
       "version_minor": 0
      },
      "text/plain": [
       "  0%|          | 0/532743 [00:00<?, ?it/s]"
      ]
     },
     "metadata": {},
     "output_type": "display_data"
    },
    {
     "data": {
      "application/vnd.jupyter.widget-view+json": {
       "model_id": "77008af40e8b45d09fd3e46042d93cc2",
       "version_major": 2,
       "version_minor": 0
      },
      "text/plain": [
       "  0%|          | 0/34621 [00:00<?, ?it/s]"
      ]
     },
     "metadata": {},
     "output_type": "display_data"
    },
    {
     "data": {
      "application/vnd.jupyter.widget-view+json": {
       "model_id": "ba0218686d2e448a96ed76f74d352bfa",
       "version_major": 2,
       "version_minor": 0
      },
      "text/plain": [
       "  0%|          | 0/502939 [00:00<?, ?it/s]"
      ]
     },
     "metadata": {},
     "output_type": "display_data"
    },
    {
     "data": {
      "application/vnd.jupyter.widget-view+json": {
       "model_id": "cbae7d0a534545ddaf7eb80ea56ee44b",
       "version_major": 2,
       "version_minor": 0
      },
      "text/plain": [
       "  0%|          | 0/6980 [00:00<?, ?it/s]"
      ]
     },
     "metadata": {},
     "output_type": "display_data"
    }
   ],
   "source": [
    "data_dir = \"/home/scai/phd/aiz218323/scratch/datasets/msmarco/XC\"\n",
    "entity_dir = \"/home/scai/phd/aiz218323/scratch/datasets/msmarco/entities/gpt/\"\n",
    "entity_type = 'entity'\n",
    "pretrained = 'gpt'\n",
    "save = False\n",
    "\n",
    "entity_info = construct_save_msmarco_entities(data_dir, entity_dir, entity_type=entity_type, pretrained=pretrained, save=save)"
   ]
  },
  {
   "cell_type": "code",
   "execution_count": 254,
   "id": "29f546b6-05cf-46d2-899e-dc074e0f3fc2",
   "metadata": {},
   "outputs": [],
   "source": [
    "def get_entity_stats(entity_type, pretrained):\n",
    "    data_dir = \"/home/scai/phd/aiz218323/scratch/datasets/msmarco-data/XC\"\n",
    "    entity_dir = f\"/home/scai/phd/aiz218323/scratch/datasets/msmarco_entities/{pretrained}/\"\n",
    "    save = False\n",
    "    \n",
    "    entity_info = construct_save_msmarco_entities(data_dir, entity_dir, entity_type=entity_type, pretrained=pretrained, save=save)\n",
    "    return entity_info.stats\n",
    "    "
   ]
  },
  {
   "cell_type": "code",
   "execution_count": 167,
   "id": "528e5ae8-5bd5-43bb-95c0-f9671884ba4f",
   "metadata": {},
   "outputs": [
    {
     "data": {
      "application/vnd.jupyter.widget-view+json": {
       "model_id": "61d97816df9a4c5aa3ebfcf592b72fa5",
       "version_major": 2,
       "version_minor": 0
      },
      "text/plain": [
       "  0%|          | 0/532743 [00:00<?, ?it/s]"
      ]
     },
     "metadata": {},
     "output_type": "display_data"
    },
    {
     "data": {
      "application/vnd.jupyter.widget-view+json": {
       "model_id": "40e51e72489546938631616519344ae1",
       "version_major": 2,
       "version_minor": 0
      },
      "text/plain": [
       "  0%|          | 0/34621 [00:00<?, ?it/s]"
      ]
     },
     "metadata": {},
     "output_type": "display_data"
    },
    {
     "data": {
      "application/vnd.jupyter.widget-view+json": {
       "model_id": "6e14f81d076e431d9543e46925f2b20a",
       "version_major": 2,
       "version_minor": 0
      },
      "text/plain": [
       "  0%|          | 0/502939 [00:00<?, ?it/s]"
      ]
     },
     "metadata": {},
     "output_type": "display_data"
    },
    {
     "data": {
      "application/vnd.jupyter.widget-view+json": {
       "model_id": "feb794a225a2495780aca54c237ae742",
       "version_major": 2,
       "version_minor": 0
      },
      "text/plain": [
       "  0%|          | 0/6980 [00:00<?, ?it/s]"
      ]
     },
     "metadata": {},
     "output_type": "display_data"
    },
    {
     "data": {
      "text/html": [
       "<div>\n",
       "<style scoped>\n",
       "    .dataframe tbody tr th:only-of-type {\n",
       "        vertical-align: middle;\n",
       "    }\n",
       "\n",
       "    .dataframe tbody tr th {\n",
       "        vertical-align: top;\n",
       "    }\n",
       "\n",
       "    .dataframe thead th {\n",
       "        text-align: right;\n",
       "    }\n",
       "</style>\n",
       "<table border=\"1\" class=\"dataframe\">\n",
       "  <thead>\n",
       "    <tr style=\"text-align: right;\">\n",
       "      <th></th>\n",
       "      <th>Number of queries</th>\n",
       "      <th>Number of entities</th>\n",
       "      <th>Number of queries per entity</th>\n",
       "      <th>Number of entities per query</th>\n",
       "      <th>Number of queries without entity</th>\n",
       "      <th>Number of entities without query</th>\n",
       "    </tr>\n",
       "  </thead>\n",
       "  <tbody>\n",
       "    <tr>\n",
       "      <th>Train</th>\n",
       "      <td>502939</td>\n",
       "      <td>207109</td>\n",
       "      <td>1.567920</td>\n",
       "      <td>3.807502</td>\n",
       "      <td>28386</td>\n",
       "      <td>0</td>\n",
       "    </tr>\n",
       "    <tr>\n",
       "      <th>Test</th>\n",
       "      <td>6980</td>\n",
       "      <td>207109</td>\n",
       "      <td>0.763037</td>\n",
       "      <td>0.025716</td>\n",
       "      <td>3821</td>\n",
       "      <td>203538</td>\n",
       "    </tr>\n",
       "    <tr>\n",
       "      <th>Labels</th>\n",
       "      <td>8841823</td>\n",
       "      <td>207109</td>\n",
       "      <td>0.000000</td>\n",
       "      <td>0.000000</td>\n",
       "      <td>8841823</td>\n",
       "      <td>207109</td>\n",
       "    </tr>\n",
       "  </tbody>\n",
       "</table>\n",
       "</div>"
      ],
      "text/plain": [
       "        Number of queries  Number of entities  Number of queries per entity  \\\n",
       "Train              502939              207109                      1.567920   \n",
       "Test                 6980              207109                      0.763037   \n",
       "Labels            8841823              207109                      0.000000   \n",
       "\n",
       "        Number of entities per query  Number of queries without entity  \\\n",
       "Train                       3.807502                             28386   \n",
       "Test                        0.025716                              3821   \n",
       "Labels                      0.000000                           8841823   \n",
       "\n",
       "        Number of entities without query  \n",
       "Train                                  0  \n",
       "Test                              203538  \n",
       "Labels                            207109  "
      ]
     },
     "execution_count": 167,
     "metadata": {},
     "output_type": "execute_result"
    }
   ],
   "source": [
    "get_entity_stats('entity', 'gpt')"
   ]
  },
  {
   "cell_type": "code",
   "execution_count": 255,
   "id": "59209cb3-4cd7-429c-a3c6-fbeed4a398ee",
   "metadata": {},
   "outputs": [
    {
     "data": {
      "application/vnd.jupyter.widget-view+json": {
       "model_id": "625b4561a8ac4d579e578089015a1e51",
       "version_major": 2,
       "version_minor": 0
      },
      "text/plain": [
       "  0%|          | 0/532755 [00:00<?, ?it/s]"
      ]
     },
     "metadata": {},
     "output_type": "display_data"
    },
    {
     "data": {
      "application/vnd.jupyter.widget-view+json": {
       "model_id": "644cf3728d824527935fbb6f86de9b9b",
       "version_major": 2,
       "version_minor": 0
      },
      "text/plain": [
       "  0%|          | 0/59265 [00:00<?, ?it/s]"
      ]
     },
     "metadata": {},
     "output_type": "display_data"
    },
    {
     "data": {
      "application/vnd.jupyter.widget-view+json": {
       "model_id": "aa310a29d9b54367a7ff1ff345378c0a",
       "version_major": 2,
       "version_minor": 0
      },
      "text/plain": [
       "  0%|          | 0/502939 [00:00<?, ?it/s]"
      ]
     },
     "metadata": {},
     "output_type": "display_data"
    },
    {
     "data": {
      "application/vnd.jupyter.widget-view+json": {
       "model_id": "a0f184fee6514637892bd0cc59dbe47b",
       "version_major": 2,
       "version_minor": 0
      },
      "text/plain": [
       "  0%|          | 0/6980 [00:00<?, ?it/s]"
      ]
     },
     "metadata": {},
     "output_type": "display_data"
    },
    {
     "data": {
      "text/html": [
       "<div>\n",
       "<style scoped>\n",
       "    .dataframe tbody tr th:only-of-type {\n",
       "        vertical-align: middle;\n",
       "    }\n",
       "\n",
       "    .dataframe tbody tr th {\n",
       "        vertical-align: top;\n",
       "    }\n",
       "\n",
       "    .dataframe thead th {\n",
       "        text-align: right;\n",
       "    }\n",
       "</style>\n",
       "<table border=\"1\" class=\"dataframe\">\n",
       "  <thead>\n",
       "    <tr style=\"text-align: right;\">\n",
       "      <th></th>\n",
       "      <th>Number of queries</th>\n",
       "      <th>Number of entities</th>\n",
       "      <th>Number of queries per entity</th>\n",
       "      <th>Number of entities per query</th>\n",
       "      <th>Number of queries without entity</th>\n",
       "      <th>Number of entities without query</th>\n",
       "    </tr>\n",
       "  </thead>\n",
       "  <tbody>\n",
       "    <tr>\n",
       "      <th>Train</th>\n",
       "      <td>502939</td>\n",
       "      <td>200337</td>\n",
       "      <td>1.488896</td>\n",
       "      <td>3.737822</td>\n",
       "      <td>30245</td>\n",
       "      <td>0</td>\n",
       "    </tr>\n",
       "    <tr>\n",
       "      <th>Test</th>\n",
       "      <td>6980</td>\n",
       "      <td>200337</td>\n",
       "      <td>1.120774</td>\n",
       "      <td>0.039049</td>\n",
       "      <td>2047</td>\n",
       "      <td>195395</td>\n",
       "    </tr>\n",
       "    <tr>\n",
       "      <th>Labels</th>\n",
       "      <td>8841823</td>\n",
       "      <td>200337</td>\n",
       "      <td>0.000000</td>\n",
       "      <td>0.000000</td>\n",
       "      <td>8841823</td>\n",
       "      <td>200337</td>\n",
       "    </tr>\n",
       "  </tbody>\n",
       "</table>\n",
       "</div>"
      ],
      "text/plain": [
       "        Number of queries  Number of entities  Number of queries per entity  \\\n",
       "Train              502939              200337                      1.488896   \n",
       "Test                 6980              200337                      1.120774   \n",
       "Labels            8841823              200337                      0.000000   \n",
       "\n",
       "        Number of entities per query  Number of queries without entity  \\\n",
       "Train                       3.737822                             30245   \n",
       "Test                        0.039049                              2047   \n",
       "Labels                      0.000000                           8841823   \n",
       "\n",
       "        Number of entities without query  \n",
       "Train                                  0  \n",
       "Test                              195395  \n",
       "Labels                            200337  "
      ]
     },
     "execution_count": 255,
     "metadata": {},
     "output_type": "execute_result"
    }
   ],
   "source": [
    "get_entity_stats('entity', 'llama')"
   ]
  },
  {
   "cell_type": "code",
   "execution_count": null,
   "id": "3cbc7d6d-da44-40d5-865d-e14e92c32b08",
   "metadata": {},
   "outputs": [],
   "source": []
  },
  {
   "cell_type": "code",
   "execution_count": null,
   "id": "c23c89c1-3a11-409d-bac3-d31efce009e1",
   "metadata": {},
   "outputs": [],
   "source": []
  }
 ],
 "metadata": {
  "kernelspec": {
   "display_name": "Python 3 (ipykernel)",
   "language": "python",
   "name": "python3"
  },
  "language_info": {
   "codemirror_mode": {
    "name": "ipython",
    "version": 3
   },
   "file_extension": ".py",
   "mimetype": "text/x-python",
   "name": "python",
   "nbconvert_exporter": "python",
   "pygments_lexer": "ipython3",
   "version": "3.9.19"
  }
 },
 "nbformat": 4,
 "nbformat_minor": 5
}
