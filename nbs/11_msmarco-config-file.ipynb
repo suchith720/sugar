{
 "cells": [
  {
   "cell_type": "code",
   "execution_count": null,
   "id": "815af87f-d545-4519-8f3f-6727aa212d4c",
   "metadata": {},
   "outputs": [],
   "source": [
    "#| default_exp 11_msmarco-config-file"
   ]
  },
  {
   "cell_type": "code",
   "execution_count": null,
   "id": "b30ff76d-86b8-4946-8e99-a9c2ebbd54bd",
   "metadata": {},
   "outputs": [],
   "source": [
    "#| hide\n",
    "from nbdev.showdoc import *\n",
    "import nbdev; nbdev.nbdev_export()"
   ]
  },
  {
   "cell_type": "code",
   "execution_count": null,
   "id": "a89ccb4b-4e09-4788-8ee6-abd334e9c97c",
   "metadata": {},
   "outputs": [],
   "source": [
    "#| export\n",
    "import json, os, argparse\n",
    "from xcai.config import PARAM"
   ]
  },
  {
   "cell_type": "markdown",
   "id": "12ec37bd-ed06-4f54-94a0-e97941f5c890",
   "metadata": {},
   "source": [
    "## `MSMARCO` config"
   ]
  },
  {
   "cell_type": "code",
   "execution_count": null,
   "id": "a511b364-00db-498e-96d5-1dab5de328bb",
   "metadata": {},
   "outputs": [],
   "source": [
    "#| export\n",
    "def get_msmarco_config(data_dir, model, entity_type, suffix=''):\n",
    "    mat_suffix = f'_{suffix}' if len(suffix) else ''\n",
    "    raw_suffix = f'.{suffix}' if len(suffix) else ''\n",
    "    return {\n",
    "        f\"data_{entity_type}-{model}{mat_suffix}\": {\n",
    "            \"path\": {\n",
    "                \"train\": {\n",
    "                    \"data_lbl\": f\"{data_dir}/trn_X_Y{mat_suffix}.npz\",\n",
    "                    \"data_info\": f\"{data_dir}/raw_data/train.raw.txt\",\n",
    "                    \"lbl_info\": f\"{data_dir}/raw_data/label{raw_suffix}.raw.txt\",\n",
    "                    \"ent_meta\": {\n",
    "                        \"prefix\": \"ent\",\n",
    "                        \"data_meta\": f\"{data_dir}/{entity_type}_{model}_trn_X_Y.npz\",\n",
    "                        \"lbl_meta\": f\"{data_dir}/{entity_type}_{model}_lbl_X_Y{mat_suffix}.npz\",\n",
    "                        \"meta_info\": f\"{data_dir}/raw_data/{entity_type}_{model}.raw.txt\"\n",
    "                    }\n",
    "                },\n",
    "                \"test\": {\n",
    "                    \"data_lbl\": f\"{data_dir}/tst_X_Y{mat_suffix}.npz\",\n",
    "                    \"data_info\": f\"{data_dir}/raw_data/test.raw.txt\",\n",
    "                    \"lbl_info\": f\"{data_dir}/raw_data/label{raw_suffix}.raw.txt\",\n",
    "                    \"ent_meta\": {\n",
    "                        \"prefix\": \"ent\",\n",
    "                        \"data_meta\": f\"{data_dir}/{entity_type}_{model}_tst_X_Y.npz\",\n",
    "                        \"lbl_meta\": f\"{data_dir}/{entity_type}_{model}_lbl_X_Y{mat_suffix}.npz\",\n",
    "                        \"meta_info\": f\"{data_dir}/raw_data/{entity_type}_{model}.raw.txt\"\n",
    "                    }\n",
    "                }\n",
    "            },\n",
    "            \"parameters\": PARAM,\n",
    "        }\n",
    "    }"
   ]
  },
  {
   "cell_type": "code",
   "execution_count": null,
   "id": "b8ba6d3e-27bf-4e44-b00a-381b41a3ffa7",
   "metadata": {},
   "outputs": [],
   "source": [
    "#| export\n",
    "def parse_args():\n",
    "    parser = argparse.ArgumentParser()\n",
    "    parser.add_argument('--data_dir', type=str, required=True)\n",
    "    parser.add_argument('--model', type=str, required=True)\n",
    "    parser.add_argument('--entity_type', type=str, required=None)\n",
    "    parser.add_argument('--suffix', type=str, default='')\n",
    "    return parser.parse_args()\n",
    "    "
   ]
  },
  {
   "cell_type": "markdown",
   "id": "40919755-0ef7-45b2-8393-6423b7dcb46d",
   "metadata": {},
   "source": [
    "## `__main__`"
   ]
  },
  {
   "cell_type": "code",
   "execution_count": null,
   "id": "314767c7-6f81-45ad-a402-384e17cf8d7e",
   "metadata": {},
   "outputs": [],
   "source": [
    "#| export\n",
    "if __name__ == '__main__':\n",
    "    args = parse_args()\n",
    "    \n",
    "    config = get_msmarco_config(args.data_dir, args.model, args.entity_type, args.suffix)\n",
    "    os.makedirs(f'{args.data_dir}/configs/', exist_ok=True)\n",
    "\n",
    "    mat_suffix = f'_{args.suffix}' if len(args.suffix) else ''\n",
    "    with open(f'{args.data_dir}/configs/{args.entity_type}_{args.model}{mat_suffix}.json', 'w') as file:\n",
    "        json.dump(config, file, indent=4)\n",
    "        "
   ]
  },
  {
   "cell_type": "code",
   "execution_count": null,
   "id": "71ac9094-adae-4588-9564-b4fdddad6e72",
   "metadata": {},
   "outputs": [],
   "source": []
  },
  {
   "cell_type": "code",
   "execution_count": null,
   "id": "e20fd01b-0dec-410e-a793-ac7d4e034e94",
   "metadata": {},
   "outputs": [
    {
     "data": {
      "text/plain": [
       "{'data_entity-llama': {'path': {'train': {'data_lbl': '/home/scai/phd/aiz218323/scratch/datasets/msmarco/XC//trn_X_Y_exact.npz',\n",
       "    'data_info': '/home/scai/phd/aiz218323/scratch/datasets/msmarco/XC//raw_data/train.raw.txt',\n",
       "    'lbl_info': '/home/scai/phd/aiz218323/scratch/datasets/msmarco/XC//raw_data/label.exact.raw.txt',\n",
       "    'ent_meta': {'prefix': 'ent',\n",
       "     'data_meta': '/home/scai/phd/aiz218323/scratch/datasets/msmarco/XC//entity_llama_trn_X_Y.npz',\n",
       "     'lbl_meta': '/home/scai/phd/aiz218323/scratch/datasets/msmarco/XC//entity_llama_lbl_X_Y_exact.npz',\n",
       "     'meta_info': '/home/scai/phd/aiz218323/scratch/datasets/msmarco/XC//raw_data/llama_entity.raw.txt'}},\n",
       "   'test': {'data_lbl': '/home/scai/phd/aiz218323/scratch/datasets/msmarco/XC//tst_X_Y_exact.npz',\n",
       "    'data_info': '/home/scai/phd/aiz218323/scratch/datasets/msmarco/XC//XC/raw_data/test.raw.txt',\n",
       "    'lbl_info': '/home/scai/phd/aiz218323/scratch/datasets/msmarco/XC//raw_data/label.exact.raw.txt',\n",
       "    'ent_meta': {'prefix': 'ent',\n",
       "     'data_meta': '/home/scai/phd/aiz218323/scratch/datasets/msmarco/XC//entity_llama_tst_X_Y.npz',\n",
       "     'lbl_meta': '/home/scai/phd/aiz218323/scratch/datasets/msmarco/XC//entity_llama_lbl_X_Y_exact.npz',\n",
       "     'meta_info': '/home/scai/phd/aiz218323/scratch/datasets/msmarco/XC//raw_data/entity_llama.raw.txt'}}},\n",
       "  'parameters': {'transform_type': 'xc',\n",
       "   'smp_features': [('lbl2data', 1, 2),\n",
       "    ('hlk2data', 1, 1),\n",
       "    ('hlk2lbl2data', 2, 1)],\n",
       "   'pad_token': 0,\n",
       "   'oversample': False,\n",
       "   'sampling_features': [('lbl2data', 2),\n",
       "    ('hlk2data', 1),\n",
       "    ('hlk2lbl2data', 1)],\n",
       "   'num_labels': 1,\n",
       "   'num_metadata': 1,\n",
       "   'metadata_name': None,\n",
       "   'info_column_names': ['identifier', 'input_text'],\n",
       "   'use_tokenizer': True,\n",
       "   'tokenizer': 'bert-base-cased',\n",
       "   'tokenization_column': 'input_text',\n",
       "   'main_max_data_sequence_length': 32,\n",
       "   'main_max_lbl_sequence_length': 32,\n",
       "   'meta_max_sequence_length': 32,\n",
       "   'padding': False,\n",
       "   'return_tensors': None,\n",
       "   'sep': '->',\n",
       "   'prompt_func': None,\n",
       "   'pad_side': 'right',\n",
       "   'drop': True,\n",
       "   'ret_t': True,\n",
       "   'in_place': True,\n",
       "   'collapse': True,\n",
       "   'device': 'cpu',\n",
       "   'inp': 'data',\n",
       "   'targ': 'lbl2data',\n",
       "   'ptr': 'lbl2data_data2ptr',\n",
       "   'n_lbl_samples': None,\n",
       "   'data_info_keys': None,\n",
       "   'lbl_info_keys': None,\n",
       "   'n_slbl_samples': 1,\n",
       "   'main_oversample': False,\n",
       "   'n_data_meta_samples': None,\n",
       "   'n_lbl_meta_samples': None,\n",
       "   'meta_info_keys': None,\n",
       "   'n_sdata_meta_samples': 1,\n",
       "   'n_slbl_meta_samples': 1,\n",
       "   'meta_oversample': False}}}"
      ]
     },
     "execution_count": null,
     "metadata": {},
     "output_type": "execute_result"
    }
   ],
   "source": [
    "data_dir = \"/home/scai/phd/aiz218323/scratch/datasets/msmarco/XC/\"\n",
    "config = get_msmarco_config(data_dir, 'llama', 'entity', suffix='exact')\n",
    "\n",
    "config"
   ]
  },
  {
   "cell_type": "code",
   "execution_count": null,
   "id": "ee034713-b909-456f-ba61-8e6447735011",
   "metadata": {},
   "outputs": [],
   "source": []
  }
 ],
 "metadata": {
  "kernelspec": {
   "display_name": "python3",
   "language": "python",
   "name": "python3"
  }
 },
 "nbformat": 4,
 "nbformat_minor": 5
}
