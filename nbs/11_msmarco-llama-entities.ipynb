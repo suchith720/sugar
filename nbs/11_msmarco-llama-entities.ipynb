{
 "cells": [
  {
   "cell_type": "code",
   "execution_count": 1,
   "id": "2f254168-95a5-45b8-ae13-d4d27865fdf8",
   "metadata": {},
   "outputs": [],
   "source": [
    "#| default_exp 11_msmarco-llama-entities"
   ]
  },
  {
   "cell_type": "code",
   "execution_count": 2,
   "id": "9e5fe9f3-4366-45b9-85b3-2ce8aef47499",
   "metadata": {},
   "outputs": [],
   "source": [
    "#| hide\n",
    "from nbdev.showdoc import *\n",
    "import nbdev; nbdev.nbdev_export()"
   ]
  },
  {
   "cell_type": "code",
   "execution_count": 3,
   "id": "22a30f7a-562e-470b-afb6-b5f201175a32",
   "metadata": {},
   "outputs": [],
   "source": [
    "#| export\n",
    "from tqdm.auto import tqdm\n",
    "from bs4 import BeautifulSoup\n",
    "import json, re, scipy.sparse as sp, pickle, numpy as np"
   ]
  },
  {
   "cell_type": "code",
   "execution_count": 4,
   "id": "94c7ea98-e6ac-444b-b1a9-9f42f20e1f4a",
   "metadata": {},
   "outputs": [],
   "source": [
    "#| export\n",
    "def load_raw_txt(fname):\n",
    "    ids, texts = list(), list()\n",
    "    with open(fname, 'r') as file:\n",
    "        for line in file:\n",
    "            k,v = line[:-1].split(\"->\", maxsplit=1)\n",
    "            ids.append(int(k)); texts.append(v)\n",
    "    return ids, texts\n",
    "    "
   ]
  },
  {
   "cell_type": "code",
   "execution_count": 5,
   "id": "0d7e8865-b16f-44f5-869f-56dd96d11c21",
   "metadata": {},
   "outputs": [],
   "source": [
    "#| export\n",
    "def select_entity(entities, entity_type='entity_canonical_category'):\n",
    "    if entity_type == 'entity_canonical_category': return [o for o in entities]\n",
    "    elif entity_type == 'entity': return [o.split(' | ')[0] for o in entities]\n",
    "    elif entity_type == 'canonical': return [o.split(' | ')[1] for o in entities]\n",
    "    elif entity_type == 'category': return [o.split(' | ')[2] for o in entities]\n",
    "    elif entity_type == 'entity_canonical': return [ ' | '.join(o.split(' | ')[0:2]) for o in entities]\n",
    "    else: raise ValueError(f'Invalid entity type: {entity_type}')\n",
    "    "
   ]
  },
  {
   "cell_type": "code",
   "execution_count": 6,
   "id": "252cd986-4f11-4181-bde2-a06369b8fb81",
   "metadata": {},
   "outputs": [],
   "source": [
    "#| export\n",
    "def load_entities(fname, entity_type='entity_canonical_category'):\n",
    "    entities = dict()\n",
    "    with open(fname, 'r') as file:\n",
    "        for line in file:\n",
    "            generations = json.loads(line)\n",
    "            soup = BeautifulSoup(generations['gen'])\n",
    "            entity = [entity.text for entity in soup.find_all('entities') if len(entity.text.split(' | ')) == 3]\n",
    "            entities.setdefault(int(generations['qid']), []).extend(select_entity(entity, entity_type))\n",
    "    return entities\n",
    "    "
   ]
  },
  {
   "cell_type": "code",
   "execution_count": 7,
   "id": "7374c875-b0ed-4662-a8e2-e596d5fe19df",
   "metadata": {},
   "outputs": [],
   "source": [
    "#| export\n",
    "def load_data(data_dir, entity_dir, entity_type='entity_canonical_category'):\n",
    "    trn_ids, trn_texts = load_raw_txt(f'{data_dir}/raw_data/train.raw.txt')\n",
    "    trn_entities = load_entities(f'{entity_dir}/trn_llama_generations.txt', entity_type=entity_type)\n",
    "    trn_data = (trn_ids, trn_texts, trn_entities)\n",
    "\n",
    "    tst_ids, tst_texts = load_raw_txt(f'{data_dir}/raw_data/test.raw.txt')\n",
    "    tst_entities = load_entities(f'{entity_dir}/val_llama_generations.txt', entity_type=entity_type)\n",
    "    tst_data = (tst_ids, tst_texts, tst_entities)\n",
    "\n",
    "    entity_to_idx = dict()\n",
    "    for v in trn_entities.values():\n",
    "        for e in v: entity_to_idx.setdefault(e, len(entity_to_idx))\n",
    "    for v in tst_entities.values():\n",
    "        for e in v: entity_to_idx.setdefault(e, len(entity_to_idx))\n",
    "        \n",
    "    return trn_data, tst_data, entity_to_idx\n",
    "        "
   ]
  },
  {
   "cell_type": "code",
   "execution_count": 8,
   "id": "ea75ab09-a9b3-4896-9a42-0527a0edb699",
   "metadata": {},
   "outputs": [],
   "source": [
    "#| export\n",
    "def save_raw_txt(fname, ids, texts):\n",
    "    with open(fname, 'w') as file:\n",
    "        for k,v in tqdm(zip(ids, texts), total=len(ids)):\n",
    "            file.write(f'{k}->{v}\\n')\n",
    "        "
   ]
  },
  {
   "cell_type": "code",
   "execution_count": 9,
   "id": "4dc496ab-4167-48fe-8d7e-479e954eca34",
   "metadata": {},
   "outputs": [],
   "source": [
    "#| export\n",
    "def construct_matrix(texts, entities, entity_to_idx):\n",
    "    data, indices, indptr = [], [], [0]\n",
    "    for qtxt in tqdm(texts):\n",
    "        entity = entities.get(qtxt, [])\n",
    "        data.extend([1] * len(entity))\n",
    "        indices.extend([entity_to_idx[o] for o in entity])\n",
    "        indptr.append(len(indices))\n",
    "    return sp.csr_matrix((data, indices, indptr), shape=(len(texts), len(entity_to_idx)), dtype=np.int64)\n"
   ]
  },
  {
   "cell_type": "code",
   "execution_count": 10,
   "id": "8848a7c6-e15b-45c4-a78d-0c75c5bf40a1",
   "metadata": {},
   "outputs": [],
   "source": [
    "#| export \n",
    "def construct_msmarco_entities(data_dir:str, entity_dir:str, entity_type='entity_canonical_category'):\n",
    "    trn_data, tst_data, entity_to_idx = load_data(data_dir, entity_dir, entity_type=entity_type)\n",
    "\n",
    "    entity_texts = sorted(entity_to_idx, key=lambda x: entity_to_idx[x])\n",
    "    save_raw_txt(f'{data_dir}/raw_data/llama_{entity_type}.raw.txt', list(range(len(entity_texts))), entity_texts)\n",
    "\n",
    "    trn_mat = construct_matrix(trn_data[1], trn_data[2], entity_to_idx)\n",
    "    sp.save_npz(f'{data_dir}/llama_{entity_type}_trn_X_Y.npz', trn_mat)\n",
    "\n",
    "    tst_mat = construct_matrix(tst_data[1], tst_data[2], entity_to_idx)\n",
    "    sp.save_npz(f'{data_dir}/llama_{entity_type}_tst_X_Y.npz', tst_mat)\n",
    "\n",
    "    lbl_mat = sp.csr_matrix((sp.load_npz(f'{data_dir}/trn_X_Y.npz').shape[1], len(entity_to_idx)), dtype=np.int64)\n",
    "    sp.save_npz(f'{data_dir}/llama_{entity_type}_lbl_X_Y.npz', lbl_mat)\n",
    "    "
   ]
  },
  {
   "cell_type": "code",
   "execution_count": 11,
   "id": "732eabc6-b65c-4763-b7d9-0a823bca909d",
   "metadata": {},
   "outputs": [],
   "source": [
    "#| export\n",
    "def parse_args():\n",
    "    parser = argparse.ArgumentParser()\n",
    "    parser.add_argument('--data_dir', type=str, required=True)\n",
    "    parser.add_argument('--entity_dir', type=str, required=True)\n",
    "    parser.add_argument('--entity_type', type=str, required=True)\n",
    "    return parser.parse_args()\n",
    "    "
   ]
  },
  {
   "cell_type": "code",
   "execution_count": null,
   "id": "c26797fd-c39f-4049-83d8-f22dc3a823e1",
   "metadata": {},
   "outputs": [],
   "source": [
    "#| export\n",
    "if __name__ == '__main__':\n",
    "    args = parse_args()\n",
    "    construct_msmarco_entities(args.data_dir, args.entity_dir, args.entity_type)\n",
    "    "
   ]
  },
  {
   "cell_type": "code",
   "execution_count": null,
   "id": "b07b1b71-899b-4d99-af40-fc0d29f8f913",
   "metadata": {},
   "outputs": [],
   "source": []
  },
  {
   "cell_type": "code",
   "execution_count": null,
   "id": "c043a69d-6054-4d80-8b78-724af9576e69",
   "metadata": {},
   "outputs": [],
   "source": [
    "data_dir = \"/home/scai/phd/aiz218323/scratch/datasets/msmarco-data/XC\"\n",
    "entity_dir = \"/home/scai/phd/aiz218323/scratch/datasets/msmarco_entities/gpt/\"\n",
    "entity_type = 'entity_canonical'\n",
    "\n",
    "construct_msmarco_entities(data_dir, entity_dir, entity_type=entity_type)"
   ]
  },
  {
   "cell_type": "code",
   "execution_count": null,
   "id": "af8c18de-a1af-4843-905b-97387f20dfdd",
   "metadata": {},
   "outputs": [],
   "source": []
  }
 ],
 "metadata": {
  "kernelspec": {
   "display_name": "Python 3 (ipykernel)",
   "language": "python",
   "name": "python3"
  },
  "language_info": {
   "codemirror_mode": {
    "name": "ipython",
    "version": 3
   },
   "file_extension": ".py",
   "mimetype": "text/x-python",
   "name": "python",
   "nbconvert_exporter": "python",
   "pygments_lexer": "ipython3",
   "version": "3.9.19"
  }
 },
 "nbformat": 4,
 "nbformat_minor": 5
}
