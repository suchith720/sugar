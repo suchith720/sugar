{
 "cells": [
  {
   "cell_type": "code",
   "execution_count": 1,
   "id": "815af87f-d545-4519-8f3f-6727aa212d4c",
   "metadata": {},
   "outputs": [],
   "source": [
    "#| default_exp 11_msmarco-config-file"
   ]
  },
  {
   "cell_type": "code",
   "execution_count": 2,
   "id": "b30ff76d-86b8-4946-8e99-a9c2ebbd54bd",
   "metadata": {},
   "outputs": [],
   "source": [
    "#| hide\n",
    "from nbdev.showdoc import *\n",
    "import nbdev; nbdev.nbdev_export()"
   ]
  },
  {
   "cell_type": "code",
   "execution_count": 4,
   "id": "a89ccb4b-4e09-4788-8ee6-abd334e9c97c",
   "metadata": {},
   "outputs": [],
   "source": [
    "#| export\n",
    "import json\n",
    "from xcai.config import PARAM"
   ]
  },
  {
   "cell_type": "code",
   "execution_count": 9,
   "id": "a511b364-00db-498e-96d5-1dab5de328bb",
   "metadata": {},
   "outputs": [],
   "source": [
    "#| export\n",
    "def get_msmarco_config(data_dir, model, entity_type):\n",
    "    return {\n",
    "        f\"data_{model}_{entity_type}\": {\n",
    "            \"path\": {\n",
    "                \"train\": {\n",
    "                    \"data_lbl\": f\"{data_dir}/trn_X_Y.npz\",\n",
    "                    \"data_info\": f\"{data_dir}/raw_data/train.raw.txt\",\n",
    "                    \"lbl_info\": f\"{data_dir}/raw_data/passages.raw.txt\",\n",
    "                    \"ent_meta\": {\n",
    "                        \"prefix\": \"ent\",\n",
    "                        \"data_meta\": f\"{data_dir}/{model}_{entity_type}_trn_X_Y.npz\",\n",
    "                        \"lbl_meta\": f\"{data_dir}/{model}_{entity_type}_lbl_X_Y.npz\",\n",
    "                        \"meta_info\": f\"{data_dir}/raw_data/{model}_{entity_type}.raw.txt\"\n",
    "                    }\n",
    "                },\n",
    "                \"test\": {\n",
    "                    \"data_lbl\": f\"{data_dir}/tst_X_Y.npz\",\n",
    "                    \"data_info\": f\"{data_dir}/XC/raw_data/test.raw.txt\",\n",
    "                    \"lbl_info\": f\"{data_dir}/raw_data/passages.raw.txt\",\n",
    "                    \"ent_meta\": {\n",
    "                        \"prefix\": \"ent\",\n",
    "                        \"data_meta\": f\"{data_dir}/{model}_{entity_type}_tst_X_Y.npz\",\n",
    "                        \"lbl_meta\": f\"{data_dir}/{model}_{entity_type}_lbl_X_Y.npz\",\n",
    "                        \"meta_info\": f\"{data_dir}/raw_data/{model}_{entity_type}.raw.txt\"\n",
    "                    }\n",
    "                }\n",
    "            },\n",
    "            \"parameters\": PARAM,\n",
    "        }\n",
    "    }"
   ]
  },
  {
   "cell_type": "code",
   "execution_count": 15,
   "id": "314767c7-6f81-45ad-a402-384e17cf8d7e",
   "metadata": {},
   "outputs": [],
   "source": [
    "#| export\n",
    "if __name__ == '__main__':\n",
    "    data_dir = \"/home/scai/phd/aiz218323/scratch/datasets/msmarco-data/XC/\"\n",
    "    \n",
    "    models = ['gpt', 'llama']\n",
    "    entity_types = ['entity', 'canonical', 'category', 'entity_canonical', 'entity_canonical_category']\n",
    "    \n",
    "    config = dict()\n",
    "    for model in models:\n",
    "        for entity_type in entity_types:\n",
    "            config.update(get_msmarco_config(data_dir, model, entity_type))\n",
    "    \n",
    "    with open(f'{data_dir}/config.json', 'w') as file:\n",
    "        json.dump(config, file, indent=4)"
   ]
  },
  {
   "cell_type": "code",
   "execution_count": 16,
   "id": "71ac9094-adae-4588-9564-b4fdddad6e72",
   "metadata": {},
   "outputs": [],
   "source": []
  },
  {
   "cell_type": "code",
   "execution_count": 18,
   "id": "f32bf6a0-98cb-48ff-9db5-662befcb4828",
   "metadata": {},
   "outputs": [],
   "source": []
  },
  {
   "cell_type": "code",
   "execution_count": null,
   "id": "e20fd01b-0dec-410e-a793-ac7d4e034e94",
   "metadata": {},
   "outputs": [],
   "source": []
  }
 ],
 "metadata": {
  "kernelspec": {
   "display_name": "Python 3 (ipykernel)",
   "language": "python",
   "name": "python3"
  },
  "language_info": {
   "codemirror_mode": {
    "name": "ipython",
    "version": 3
   },
   "file_extension": ".py",
   "mimetype": "text/x-python",
   "name": "python",
   "nbconvert_exporter": "python",
   "pygments_lexer": "ipython3",
   "version": "3.9.19"
  }
 },
 "nbformat": 4,
 "nbformat_minor": 5
}
