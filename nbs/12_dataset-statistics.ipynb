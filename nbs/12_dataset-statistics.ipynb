{
 "cells": [
  {
   "cell_type": "code",
   "execution_count": null,
   "id": "1496512d-9c5f-4867-986c-fd24e7c6e3da",
   "metadata": {},
   "outputs": [],
   "source": [
    "#| default_exp 12_dataset-statistics"
   ]
  },
  {
   "cell_type": "code",
   "execution_count": null,
   "id": "1c7782aa-4027-4fab-804c-433f4211b3c7",
   "metadata": {},
   "outputs": [],
   "source": [
    "#| hide\n",
    "from nbdev.showdoc import *\n",
    "import nbdev; nbdev.nbdev_export()"
   ]
  },
  {
   "cell_type": "code",
   "execution_count": null,
   "id": "0705a845-9af3-44da-a4b1-9a70146c1a76",
   "metadata": {},
   "outputs": [],
   "source": [
    "#| export\n",
    "import scipy.sparse as sp\n",
    "\n",
    "from sugar.core import *\n",
    "from xcai.data import *"
   ]
  },
  {
   "cell_type": "code",
   "execution_count": null,
   "id": "aef98589-8392-4abc-9479-26aaeba1c607",
   "metadata": {},
   "outputs": [],
   "source": [
    "data_dir = '/home/scai/phd/aiz218323/scratch/datasets/benchmarks/(mapped)LF-WikiSeeAlsoTitles-320K/'\n",
    "save_dir = '/home/scai/phd/aiz218323/scratch/datasets/wikipedia/20250123/LF-WikiSeeAlsoTitles-320K/'"
   ]
  },
  {
   "cell_type": "code",
   "execution_count": null,
   "id": "d2a90ef9-70a0-4f03-970d-3cf670fcc826",
   "metadata": {},
   "outputs": [],
   "source": [
    "def load_info(data_dir, type):\n",
    "    ids, txt = load_raw_txt(f'{data_dir}/raw_data/{type}.raw.txt', encoding='latin-1')\n",
    "    return {'identifier':ids, 'input_text':txt}\n",
    "    "
   ]
  },
  {
   "cell_type": "code",
   "execution_count": null,
   "id": "bb7e27d8-2400-4b4d-87ff-5b4cc0dfe486",
   "metadata": {},
   "outputs": [],
   "source": [
    "def get_info(data_dir):\n",
    "    trn_info = load_info(data_dir, 'train')\n",
    "    tst_info = load_info(data_dir, 'test')\n",
    "    \n",
    "    return trn_info, tst_info\n",
    "    "
   ]
  },
  {
   "cell_type": "code",
   "execution_count": null,
   "id": "1001799e-524a-449c-a6ca-0ba526af3ab9",
   "metadata": {},
   "outputs": [],
   "source": [
    "def get_labels(data_dir):\n",
    "    trn_mat = sp.load_npz(f'{data_dir}/trn_X_Y.npz')\n",
    "    tst_mat = sp.load_npz(f'{data_dir}/tst_X_Y.npz')\n",
    "    lbl_info = load_info(data_dir, 'label')\n",
    "    \n",
    "    return trn_mat, tst_mat, lbl_info\n",
    "    "
   ]
  },
  {
   "cell_type": "code",
   "execution_count": null,
   "id": "117d42c6-5a53-42cb-a562-93f935543fe7",
   "metadata": {},
   "outputs": [],
   "source": [
    "def get_metadata(data_dir, meta_type, prefix=''):\n",
    "    if len(prefix): prefix = f'{prefix}_'\n",
    "    trn_mat = sp.load_npz(f'{data_dir}/{prefix}{meta_type}_trn_X_Y.npz')\n",
    "    tst_mat = sp.load_npz(f'{data_dir}/{prefix}{meta_type}_tst_X_Y.npz')\n",
    "    lbl_mat = sp.load_npz(f'{data_dir}/{prefix}{meta_type}_lbl_X_Y.npz')\n",
    "    meta_info = load_info(data_dir, f'{prefix}{meta_type}')\n",
    "    return trn_mat, tst_mat, lbl_mat, meta_info\n",
    "    "
   ]
  },
  {
   "cell_type": "code",
   "execution_count": null,
   "id": "4e1625cc-1fb9-4168-9f9a-6f99d3a2915d",
   "metadata": {},
   "outputs": [],
   "source": [
    "trn_info, tst_info = get_info(data_dir)\n",
    "trn_mat, tst_mat, lbl_info = get_labels(save_dir)"
   ]
  },
  {
   "cell_type": "code",
   "execution_count": null,
   "id": "39523c90-f322-4b35-b7a3-00b2455f60ac",
   "metadata": {},
   "outputs": [],
   "source": [
    "trn_dset = MainXCDataset(trn_info, trn_mat, lbl_info)\n",
    "tst_dset = MainXCDataset(tst_info, tst_mat, lbl_info)"
   ]
  },
  {
   "cell_type": "code",
   "execution_count": null,
   "id": "ab4ff3a9-9e0e-4e82-96ce-eff4c1e2f3ae",
   "metadata": {},
   "outputs": [],
   "source": [
    "trn_mat, tst_mat, lbl_mat, meta_info = get_metadata(save_dir, 'category')"
   ]
  },
  {
   "cell_type": "code",
   "execution_count": null,
   "id": "d8831dc4-64d6-4b4a-a557-9d8df4a68b97",
   "metadata": {},
   "outputs": [],
   "source": [
    "trn_meta_dset = MetaXCDataset('cat', trn_mat, lbl_mat, meta_info)\n",
    "tst_meta_dset = MetaXCDataset('cat', tst_mat, lbl_mat, meta_info)"
   ]
  },
  {
   "cell_type": "code",
   "execution_count": null,
   "id": "32d9155c-29d0-4522-a32d-eb9c7ccfd2c4",
   "metadata": {},
   "outputs": [
    {
     "data": {
      "text/plain": [
       "<312330x810093 sparse matrix of type '<class 'numpy.int64'>'\n",
       "\twith 1515714 stored elements in Compressed Sparse Row format>"
      ]
     },
     "execution_count": null,
     "metadata": {},
     "output_type": "execute_result"
    }
   ],
   "source": [
    "lbl_mat"
   ]
  },
  {
   "cell_type": "code",
   "execution_count": null,
   "id": "ea2ede18-b5fa-41a8-b666-0886465256d2",
   "metadata": {},
   "outputs": [
    {
     "ename": "ValueError",
     "evalue": "`meta`(312330) and `data`(573503) should have the same number of labels.",
     "output_type": "error",
     "traceback": [
      "\u001b[0;31m---------------------------------------------------------------------------\u001b[0m",
      "\u001b[0;31mValueError\u001b[0m                                Traceback (most recent call last)",
      "Cell \u001b[0;32mIn[51], line 1\u001b[0m\n\u001b[0;32m----> 1\u001b[0m trn_dset \u001b[38;5;241m=\u001b[39m \u001b[43mXCDataset\u001b[49m\u001b[43m(\u001b[49m\u001b[43mtrn_dset\u001b[49m\u001b[43m,\u001b[49m\u001b[43m \u001b[49m\u001b[43mcat_meta\u001b[49m\u001b[38;5;241;43m=\u001b[39;49m\u001b[43mtrn_meta_dset\u001b[49m\u001b[43m)\u001b[49m\n\u001b[1;32m      2\u001b[0m tst_dset \u001b[38;5;241m=\u001b[39m XCDataset(tst_dset, cat_meta\u001b[38;5;241m=\u001b[39mtst_meta_dset)\n",
      "File \u001b[0;32m/scratch/scai/phd/aiz218323/projects/xcai/xcai/data.py:354\u001b[0m, in \u001b[0;36mXCDataset.__init__\u001b[0;34m(self, data, **kwargs)\u001b[0m\n\u001b[1;32m    352\u001b[0m \u001b[38;5;28msuper\u001b[39m()\u001b[38;5;241m.\u001b[39m\u001b[38;5;21m__init__\u001b[39m()\n\u001b[1;32m    353\u001b[0m \u001b[38;5;28mself\u001b[39m\u001b[38;5;241m.\u001b[39mdata, \u001b[38;5;28mself\u001b[39m\u001b[38;5;241m.\u001b[39mmeta \u001b[38;5;241m=\u001b[39m data, MetaXCDatasets({k:kwargs[k] \u001b[38;5;28;01mfor\u001b[39;00m k \u001b[38;5;129;01min\u001b[39;00m \u001b[38;5;28mself\u001b[39m\u001b[38;5;241m.\u001b[39mget_meta_args(\u001b[38;5;241m*\u001b[39m\u001b[38;5;241m*\u001b[39mkwargs) \u001b[38;5;28;01mif\u001b[39;00m \u001b[38;5;28misinstance\u001b[39m(kwargs[k], MetaXCDataset)})\n\u001b[0;32m--> 354\u001b[0m \u001b[38;5;28;43mself\u001b[39;49m\u001b[38;5;241;43m.\u001b[39;49m\u001b[43m_verify_inputs\u001b[49m\u001b[43m(\u001b[49m\u001b[43m)\u001b[49m\n",
      "File \u001b[0;32m/scratch/scai/phd/aiz218323/projects/xcai/xcai/data.py:379\u001b[0m, in \u001b[0;36mXCDataset._verify_inputs\u001b[0;34m(self)\u001b[0m\n\u001b[1;32m    377\u001b[0m     \u001b[38;5;28;01mraise\u001b[39;00m \u001b[38;5;167;01mValueError\u001b[39;00m(\u001b[38;5;124mf\u001b[39m\u001b[38;5;124m'\u001b[39m\u001b[38;5;124m`meta`(\u001b[39m\u001b[38;5;132;01m{\u001b[39;00mmeta\u001b[38;5;241m.\u001b[39mn_data\u001b[38;5;132;01m}\u001b[39;00m\u001b[38;5;124m) and `data`(\u001b[39m\u001b[38;5;132;01m{\u001b[39;00m\u001b[38;5;28mself\u001b[39m\u001b[38;5;241m.\u001b[39mn_data\u001b[38;5;132;01m}\u001b[39;00m\u001b[38;5;124m) should have the same number of datapoints.\u001b[39m\u001b[38;5;124m'\u001b[39m)\n\u001b[1;32m    378\u001b[0m \u001b[38;5;28;01mif\u001b[39;00m \u001b[38;5;28mself\u001b[39m\u001b[38;5;241m.\u001b[39mn_lbl \u001b[38;5;129;01mis\u001b[39;00m \u001b[38;5;129;01mnot\u001b[39;00m \u001b[38;5;28;01mNone\u001b[39;00m \u001b[38;5;129;01mand\u001b[39;00m meta\u001b[38;5;241m.\u001b[39mn_lbl \u001b[38;5;241m!=\u001b[39m \u001b[38;5;28mself\u001b[39m\u001b[38;5;241m.\u001b[39mn_lbl: \n\u001b[0;32m--> 379\u001b[0m     \u001b[38;5;28;01mraise\u001b[39;00m \u001b[38;5;167;01mValueError\u001b[39;00m(\u001b[38;5;124mf\u001b[39m\u001b[38;5;124m'\u001b[39m\u001b[38;5;124m`meta`(\u001b[39m\u001b[38;5;132;01m{\u001b[39;00mmeta\u001b[38;5;241m.\u001b[39mn_lbl\u001b[38;5;132;01m}\u001b[39;00m\u001b[38;5;124m) and `data`(\u001b[39m\u001b[38;5;132;01m{\u001b[39;00m\u001b[38;5;28mself\u001b[39m\u001b[38;5;241m.\u001b[39mn_lbl\u001b[38;5;132;01m}\u001b[39;00m\u001b[38;5;124m) should have the same number of labels.\u001b[39m\u001b[38;5;124m'\u001b[39m)\n",
      "\u001b[0;31mValueError\u001b[0m: `meta`(312330) and `data`(573503) should have the same number of labels."
     ]
    }
   ],
   "source": [
    "trn_dset = XCDataset(trn_dset, cat_meta=trn_meta_dset)\n",
    "tst_dset = XCDataset(tst_dset, cat_meta=tst_meta_dset)"
   ]
  },
  {
   "cell_type": "code",
   "execution_count": null,
   "id": "1a76def8-ba85-4d88-b092-36ac39cb237a",
   "metadata": {},
   "outputs": [],
   "source": []
  }
 ],
 "metadata": {
  "kernelspec": {
   "display_name": "python3",
   "language": "python",
   "name": "python3"
  }
 },
 "nbformat": 4,
 "nbformat_minor": 5
}
