{
 "cells": [
  {
   "cell_type": "code",
   "execution_count": null,
   "id": "ef0f49b6-bd76-48de-ac48-364be335e883",
   "metadata": {},
   "outputs": [],
   "source": [
    "%reload_ext autoreload\n",
    "%autoreload 2"
   ]
  },
  {
   "cell_type": "code",
   "execution_count": null,
   "id": "c3fe3a4f-3a04-42b1-a3f4-dedded0aa06a",
   "metadata": {},
   "outputs": [],
   "source": [
    "import numpy as np\n",
    "from functools import partial\n",
    "\n",
    "import xclib.data.data_utils as du, scipy.sparse as sp\n",
    "\n",
    "from sugar.statistics import *\n",
    "from sugar.core import *\n",
    "from xcai.data import *"
   ]
  },
  {
   "cell_type": "code",
   "execution_count": null,
   "id": "b8d7a994-5fe7-48a1-9074-5fd49714a30e",
   "metadata": {},
   "outputs": [],
   "source": []
  }
 ],
 "metadata": {
  "kernelspec": {
   "display_name": "python3",
   "language": "python",
   "name": "python3"
  }
 },
 "nbformat": 4,
 "nbformat_minor": 5
}
