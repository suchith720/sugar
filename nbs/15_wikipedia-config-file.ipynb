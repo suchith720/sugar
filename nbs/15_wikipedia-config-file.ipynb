{
 "cells": [
  {
   "cell_type": "code",
   "execution_count": null,
   "id": "815af87f-d545-4519-8f3f-6727aa212d4c",
   "metadata": {},
   "outputs": [],
   "source": [
    "#| default_exp 15_wikipedia-config-file"
   ]
  },
  {
   "cell_type": "code",
   "execution_count": null,
   "id": "b30ff76d-86b8-4946-8e99-a9c2ebbd54bd",
   "metadata": {},
   "outputs": [],
   "source": [
    "#| hide\n",
    "from nbdev.showdoc import *\n",
    "import nbdev; nbdev.nbdev_export()"
   ]
  },
  {
   "cell_type": "code",
   "execution_count": null,
   "id": "a89ccb4b-4e09-4788-8ee6-abd334e9c97c",
   "metadata": {},
   "outputs": [],
   "source": [
    "#| export\n",
    "import json, os, argparse\n",
    "from xcai.config import PARAM"
   ]
  },
  {
   "cell_type": "markdown",
   "id": "12ec37bd-ed06-4f54-94a0-e97941f5c890",
   "metadata": {},
   "source": [
    "## `Wikipedia` config"
   ]
  },
  {
   "cell_type": "code",
   "execution_count": null,
   "id": "a511b364-00db-498e-96d5-1dab5de328bb",
   "metadata": {},
   "outputs": [],
   "source": [
    "#| export\n",
    "def get_wikipedia_config(data_dir, metadata_type='', x_prefix='', y_prefix='', z_prefix=''):\n",
    "    if len(metadata_type): metadata_type = f'_{metadata_type}'\n",
    "\n",
    "    xy_prefix = xyz_prefix = xr_prefix = yr_prefix = zr_prefix = ''\n",
    "    if len(x_prefix) and len(y_prefix) and len(z_prefix):\n",
    "        xy_prefix = f'_{x_prefix}-{y_prefix}'\n",
    "        xyz_prefix = f'_{x_prefix}-{y_prefix}-{z_prefix}'\n",
    "        \n",
    "        xr_prefix = f'.{x_prefix}'\n",
    "        yr_prefix = f'.{x_prefix}-{y_prefix}'\n",
    "        zr_prefix = f'.{x_prefix}-{y_prefix}-{z_prefix}'\n",
    "\n",
    "    key = f\"data{metadata_type}{xyz_prefix}\"\n",
    "    config = {\n",
    "        key : {\n",
    "            \"path\": {\n",
    "                \"train\": {\n",
    "                    \"data_lbl\": f\"{data_dir}/trn_X_Y{xy_prefix}.npz\",\n",
    "                    \"data_info\": f\"{data_dir}/raw_data/train{xr_prefix}.raw.txt\",\n",
    "                    \"lbl_info\": f\"{data_dir}/raw_data/label{yr_prefix}.raw.txt\",\n",
    "                    \"data_lbl_filterer\": f\"{data_dir}/filter_labels_train{xy_prefix}.txt\",\n",
    "                    \"cat_meta\": {\n",
    "                        \"prefix\": \"cat\",\n",
    "                        \"data_meta\": f\"{data_dir}/category_trn_X_Y{xyz_prefix}.npz\",\n",
    "                        \"lbl_meta\": f\"{data_dir}/category_lbl_X_Y{xyz_prefix}.npz\",\n",
    "                        \"meta_info\": f\"{data_dir}/raw_data/category{zr_prefix}.raw.txt\"\n",
    "                    }\n",
    "                },\n",
    "                \"test\": {\n",
    "                    \"data_lbl\": f\"{data_dir}/tst_X_Y{xy_prefix}.npz\",\n",
    "                    \"data_info\": f\"{data_dir}/raw_data/test{xr_prefix}.raw.txt\",\n",
    "                    \"lbl_info\": f\"{data_dir}/raw_data/label{yr_prefix}.raw.txt\",\n",
    "                    \"data_lbl_filterer\": f\"{data_dir}/filter_labels_test{xy_prefix}.txt\",\n",
    "                    \"cat_meta\": {\n",
    "                        \"prefix\": \"cat\",\n",
    "                        \"data_meta\": f\"{data_dir}/category_tst_X_Y{xyz_prefix}.npz\",\n",
    "                        \"lbl_meta\": f\"{data_dir}/category_lbl_X_Y{xyz_prefix}.npz\",\n",
    "                        \"meta_info\": f\"{data_dir}/raw_data/category{zr_prefix}.raw.txt\"\n",
    "                    }\n",
    "                }\n",
    "            },\n",
    "            \"parameters\": PARAM,\n",
    "        }\n",
    "    }\n",
    "    \n",
    "    if len(metadata_type) == 0:\n",
    "        del config[key]['path']['train']['cat_meta']\n",
    "        del config[key]['path']['test']['cat_meta']\n",
    "\n",
    "    return config\n",
    "    "
   ]
  },
  {
   "cell_type": "code",
   "execution_count": null,
   "id": "b8ba6d3e-27bf-4e44-b00a-381b41a3ffa7",
   "metadata": {},
   "outputs": [],
   "source": [
    "#| export\n",
    "def parse_args():\n",
    "    parser = argparse.ArgumentParser()\n",
    "    parser.add_argument('--data_dir', type=str, required=True)\n",
    "    parser.add_argument('--metadata_type', type=str, default='')\n",
    "    parser.add_argument('--x_prefix', type=str, default='')\n",
    "    parser.add_argument('--y_prefix', type=str, default='')\n",
    "    parser.add_argument('--z_prefix', type=str, default='')\n",
    "    return parser.parse_args()\n",
    "    "
   ]
  },
  {
   "cell_type": "markdown",
   "id": "40919755-0ef7-45b2-8393-6423b7dcb46d",
   "metadata": {},
   "source": [
    "## `__main__`"
   ]
  },
  {
   "cell_type": "code",
   "execution_count": null,
   "id": "314767c7-6f81-45ad-a402-384e17cf8d7e",
   "metadata": {},
   "outputs": [],
   "source": [
    "#| export\n",
    "if __name__ == '__main__':\n",
    "    args = parse_args()\n",
    "    \n",
    "    config = get_wikipedia_config(args.data_dir, args.metadata_type, args.x_prefix, args.y_prefix, args.z_prefix)\n",
    "    os.makedirs(f'{args.data_dir}/configs/', exist_ok=True)\n",
    "\n",
    "    metadata_type = f'_{args.metadata_type}' if len(args.metadata_type) else ''\n",
    "    prefix = f'_{args.x_prefix}-{args.y_prefix}-{args.z_prefix}' if len(args.x_prefix) and len(args.y_prefix) and len(args.z_prefix) else ''\n",
    "    with open(f'{args.data_dir}/configs/data{metadata_type}{prefix}.json', 'w') as file:\n",
    "        json.dump(config, file, indent=4)\n",
    "        "
   ]
  },
  {
   "cell_type": "code",
   "execution_count": null,
   "id": "71ac9094-adae-4588-9564-b4fdddad6e72",
   "metadata": {},
   "outputs": [],
   "source": []
  },
  {
   "cell_type": "code",
   "execution_count": null,
   "id": "e20fd01b-0dec-410e-a793-ac7d4e034e94",
   "metadata": {},
   "outputs": [
    {
     "data": {
      "text/plain": [
       "{'data_category': {'path': {'train': {'data_lbl': '/home/scai/phd/aiz218323/scratch/datasets/benchmarks/20250123-LF-WikiSeeAlsoTitles-320K//trn_X_Y_old-new.npz',\n",
       "    'data_info': '/home/scai/phd/aiz218323/scratch/datasets/benchmarks/20250123-LF-WikiSeeAlsoTitles-320K//raw_data/train.old.raw.txt',\n",
       "    'lbl_info': '/home/scai/phd/aiz218323/scratch/datasets/benchmarks/20250123-LF-WikiSeeAlsoTitles-320K//raw_data/label.old-new.raw.txt',\n",
       "    'data_lbl_filterer': '/home/scai/phd/aiz218323/scratch/datasets/benchmarks/20250123-LF-WikiSeeAlsoTitles-320K//filter_labels_train_old-new.txt',\n",
       "    'cat_meta': {'prefix': 'cat',\n",
       "     'data_meta': '/home/scai/phd/aiz218323/scratch/datasets/benchmarks/20250123-LF-WikiSeeAlsoTitles-320K//category_trn_X_Y_old-new-new.npz',\n",
       "     'lbl_meta': '/home/scai/phd/aiz218323/scratch/datasets/benchmarks/20250123-LF-WikiSeeAlsoTitles-320K//category_lbl_X_Y_old-new-new.npz',\n",
       "     'meta_info': '/home/scai/phd/aiz218323/scratch/datasets/benchmarks/20250123-LF-WikiSeeAlsoTitles-320K//raw_data/category.old-new-new.raw.txt'}},\n",
       "   'test': {'data_lbl': '/home/scai/phd/aiz218323/scratch/datasets/benchmarks/20250123-LF-WikiSeeAlsoTitles-320K//tst_X_Y_old-new.npz',\n",
       "    'data_info': '/home/scai/phd/aiz218323/scratch/datasets/benchmarks/20250123-LF-WikiSeeAlsoTitles-320K//raw_data/test.old.raw.txt',\n",
       "    'lbl_info': '/home/scai/phd/aiz218323/scratch/datasets/benchmarks/20250123-LF-WikiSeeAlsoTitles-320K//raw_data/label.old-new.raw.txt',\n",
       "    'data_lbl_filterer': '/home/scai/phd/aiz218323/scratch/datasets/benchmarks/20250123-LF-WikiSeeAlsoTitles-320K//filter_labels_test_old-new.txt',\n",
       "    'cat_meta': {'prefix': 'cat',\n",
       "     'data_meta': '/home/scai/phd/aiz218323/scratch/datasets/benchmarks/20250123-LF-WikiSeeAlsoTitles-320K//category_tst_X_Y_old-new-new.npz',\n",
       "     'lbl_meta': '/home/scai/phd/aiz218323/scratch/datasets/benchmarks/20250123-LF-WikiSeeAlsoTitles-320K//category_lbl_X_Y_old-new-new.npz',\n",
       "     'meta_info': '/home/scai/phd/aiz218323/scratch/datasets/benchmarks/20250123-LF-WikiSeeAlsoTitles-320K//raw_data/category.old-new-new.raw.txt'}}},\n",
       "  'parameters': {'transform_type': 'xc',\n",
       "   'smp_features': [('lbl2data', 1, 2),\n",
       "    ('hlk2data', 1, 1),\n",
       "    ('hlk2lbl2data', 2, 1)],\n",
       "   'pad_token': 0,\n",
       "   'oversample': False,\n",
       "   'sampling_features': [('lbl2data', 2),\n",
       "    ('hlk2data', 1),\n",
       "    ('hlk2lbl2data', 1)],\n",
       "   'num_labels': 1,\n",
       "   'num_metadata': 1,\n",
       "   'metadata_name': None,\n",
       "   'info_column_names': ['identifier', 'input_text'],\n",
       "   'use_tokenizer': True,\n",
       "   'tokenizer': 'bert-base-cased',\n",
       "   'tokenization_column': 'input_text',\n",
       "   'main_max_data_sequence_length': 32,\n",
       "   'main_max_lbl_sequence_length': 32,\n",
       "   'meta_max_sequence_length': 32,\n",
       "   'padding': False,\n",
       "   'return_tensors': None,\n",
       "   'sep': '->',\n",
       "   'prompt_func': None,\n",
       "   'pad_side': 'right',\n",
       "   'drop': True,\n",
       "   'ret_t': True,\n",
       "   'in_place': True,\n",
       "   'collapse': True,\n",
       "   'device': 'cpu',\n",
       "   'inp': 'data',\n",
       "   'targ': 'lbl2data',\n",
       "   'ptr': 'lbl2data_data2ptr',\n",
       "   'n_lbl_samples': None,\n",
       "   'data_info_keys': None,\n",
       "   'lbl_info_keys': None,\n",
       "   'n_slbl_samples': 1,\n",
       "   'main_oversample': False,\n",
       "   'n_data_meta_samples': None,\n",
       "   'n_lbl_meta_samples': None,\n",
       "   'meta_info_keys': None,\n",
       "   'n_sdata_meta_samples': 1,\n",
       "   'n_slbl_meta_samples': 1,\n",
       "   'meta_oversample': False}}}"
      ]
     },
     "execution_count": null,
     "metadata": {},
     "output_type": "execute_result"
    }
   ],
   "source": [
    "data_dir = \"/home/scai/phd/aiz218323/scratch/datasets/benchmarks/20250123-LF-WikiSeeAlsoTitles-320K/\"\n",
    "config = get_wikipedia_config(data_dir, metadata_type='category', x_prefix='old', y_prefix='new', z_prefix='new')\n",
    "\n",
    "config"
   ]
  },
  {
   "cell_type": "code",
   "execution_count": null,
   "id": "ee034713-b909-456f-ba61-8e6447735011",
   "metadata": {},
   "outputs": [],
   "source": []
  }
 ],
 "metadata": {
  "kernelspec": {
   "display_name": "python3",
   "language": "python",
   "name": "python3"
  }
 },
 "nbformat": 4,
 "nbformat_minor": 5
}
