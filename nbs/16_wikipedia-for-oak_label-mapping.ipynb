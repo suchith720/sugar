{
 "cells": [
  {
   "cell_type": "code",
   "execution_count": null,
   "id": "f87c36a3-cdb6-4c3e-9ac3-79cb86f512c3",
   "metadata": {},
   "outputs": [],
   "source": [
    "import numpy as np, os, pandas as pd\n",
    "from xcai.basics import *\n",
    "from sugar.statistics import save_labels, save_metadata"
   ]
  },
  {
   "cell_type": "markdown",
   "id": "abd4b0e1-3bfa-4bf5-bfe4-78a7f4eab8cf",
   "metadata": {},
   "source": [
    "## Load data"
   ]
  },
  {
   "cell_type": "code",
   "execution_count": null,
   "id": "821a9a95-9423-4a29-81b9-d03387fb7808",
   "metadata": {},
   "outputs": [],
   "source": [
    "data_dir = '/home/scai/phd/aiz218323/scratch/datasets/benchmarks/'\n",
    "config_file = 'wikiseealsotitles'\n",
    "config_key = 'data_meta'\n",
    "\n",
    "use_sxc_sampler = True\n",
    "pkl_dir = '/scratch/scai/phd/aiz218323/datasets/processed/'"
   ]
  },
  {
   "cell_type": "code",
   "execution_count": null,
   "id": "88d7ac6e-a44f-4840-9ae3-59ead694d885",
   "metadata": {},
   "outputs": [],
   "source": [
    "pkl_file = f'{pkl_dir}/mogicX/wikiseealsotitles_data-meta_distilbert-base-uncased'\n",
    "pkl_file = f'{pkl_file}_sxc' if use_sxc_sampler else f'{pkl_file}_xcs'\n",
    "pkl_file = f'{pkl_file}.joblib'"
   ]
  },
  {
   "cell_type": "code",
   "execution_count": null,
   "id": "647aa9d4-ed98-40c6-a759-e810568a6e1d",
   "metadata": {},
   "outputs": [
    {
     "data": {
      "text/plain": [
       "'/scratch/scai/phd/aiz218323/datasets/processed//mogicX/wikiseealsotitles_data-meta_distilbert-base-uncased_sxc.joblib'"
      ]
     },
     "execution_count": null,
     "metadata": {},
     "output_type": "execute_result"
    }
   ],
   "source": [
    "pkl_file"
   ]
  },
  {
   "cell_type": "code",
   "execution_count": null,
   "id": "d0c2cf2f-a1d6-41a4-8c19-e79f156c81e9",
   "metadata": {},
   "outputs": [],
   "source": [
    "block = build_block(pkl_file, config_file, use_sxc_sampler, config_key, data_dir=data_dir)"
   ]
  },
  {
   "cell_type": "code",
   "execution_count": null,
   "id": "df7ce6e9-e362-4d18-a015-d54fd524fc81",
   "metadata": {},
   "outputs": [],
   "source": [
    "n_split = int(0.5 * block.train.dset.n_data)\n",
    "rnd_idx = np.random.permutation(block.train.dset.n_data)\n",
    "\n",
    "trn_dset_1 = block.train.dset._getitems(rnd_idx[:n_split])\n",
    "trn_dset_2 = block.train.dset._getitems(rnd_idx[n_split:])"
   ]
  },
  {
   "cell_type": "code",
   "execution_count": null,
   "id": "eca5965b-9c13-474a-b15e-eb8be24a51f8",
   "metadata": {},
   "outputs": [],
   "source": []
  },
  {
   "cell_type": "code",
   "execution_count": null,
   "id": "a2eea66c-1b87-422a-b94e-19436ab4424b",
   "metadata": {},
   "outputs": [],
   "source": [
    "save_dir = f'{data_dir}/LF-WikiSeeAlsoTitles-320K-split-for-OAK'\n",
    "os.makedirs(save_dir, exist_ok=True)\n",
    "\n",
    "save_labels(save_dir, trn_dset_1, block.test.dset)\n",
    "save_metadata(save_dir, trn_dset_1, block.test.dset)"
   ]
  },
  {
   "cell_type": "code",
   "execution_count": null,
   "id": "61aa4a91-23a1-4828-9867-3b24fa5e8299",
   "metadata": {},
   "outputs": [],
   "source": []
  },
  {
   "cell_type": "code",
   "execution_count": null,
   "id": "88b41948-5b44-4c34-a942-bb2afeab2296",
   "metadata": {},
   "outputs": [],
   "source": [
    "save_dir = f'{data_dir}/LF-WikiSeeAlsoTitles-320K-split-for-Linker'\n",
    "os.makedirs(save_dir, exist_ok=True)\n",
    "\n",
    "save_labels(save_dir, trn_dset_2, block.test.dset)\n",
    "save_metadata(save_dir, trn_dset_2, block.test.dset)"
   ]
  },
  {
   "cell_type": "code",
   "execution_count": null,
   "id": "a8a3d077-3700-4a3d-810e-86237163ee16",
   "metadata": {},
   "outputs": [],
   "source": []
  },
  {
   "cell_type": "markdown",
   "id": "64377daa-10e4-4f93-9f17-3903fc45bcde",
   "metadata": {},
   "source": [
    "## Label mapping"
   ]
  },
  {
   "cell_type": "code",
   "execution_count": null,
   "id": "509cc15b-a881-45a6-9557-79f7615fc703",
   "metadata": {},
   "outputs": [],
   "source": [
    "from sugar.core import *"
   ]
  },
  {
   "cell_type": "code",
   "execution_count": null,
   "id": "1aeee0ef-dc94-4bc2-b16b-0e18e49f0a16",
   "metadata": {},
   "outputs": [],
   "source": [
    "old_file = f'{data_dir}/(mapped)LF-WikiSeeAlsoTitles-320K/raw_data/label.raw.txt'\n",
    "old_label_ids, old_label_txt = load_raw_txt(old_file, encoding='latin-1')\n",
    "\n",
    "new_file = f'{data_dir}/20250123-LF-WikiSeeAlsoTitles-320K/raw_data/label.raw.txt'\n",
    "new_label_ids, new_label_txt = load_raw_txt(new_file, encoding='utf-8')"
   ]
  },
  {
   "cell_type": "code",
   "execution_count": null,
   "id": "c7118a74-deb4-49ee-a458-8376253dddb2",
   "metadata": {},
   "outputs": [
    {
     "name": "stdout",
     "output_type": "stream",
     "text": [
      "258510 312330 1205595\n"
     ]
    }
   ],
   "source": [
    "common_ids = set(old_label_ids).intersection(set(new_label_ids))\n",
    "print(len(common_ids), len(old_label_ids), len(new_label_ids))"
   ]
  },
  {
   "cell_type": "code",
   "execution_count": null,
   "id": "a074f4aa-6ab2-4ddb-b96f-124ceeaf6e96",
   "metadata": {},
   "outputs": [],
   "source": []
  },
  {
   "cell_type": "code",
   "execution_count": null,
   "id": "7aa59586-2b29-42b1-8544-b677fd90eebf",
   "metadata": {},
   "outputs": [],
   "source": [
    "old_label_ids2idx = {k:i for i,k in enumerate(old_label_ids)} "
   ]
  },
  {
   "cell_type": "code",
   "execution_count": null,
   "id": "e4c26743-a5aa-4258-86a7-7560049cbb92",
   "metadata": {},
   "outputs": [],
   "source": [
    "pred_label_idx = np.load('/home/scai/phd/aiz218323/scratch/outputs/mogic/12_momos-for-wikiseealsotitles-meta-encoder-002/predictions/wikiseealsotitles-20250123-label_mapping.npy')"
   ]
  },
  {
   "cell_type": "code",
   "execution_count": null,
   "id": "dd2fb6c3-4b44-4f9d-b19e-456bd98140a1",
   "metadata": {},
   "outputs": [],
   "source": [
    "new2old_label = [old_label_ids2idx[o] if o in old_label_ids2idx else pred_label_idx[i] for i,o in enumerate(new_label_ids)]"
   ]
  },
  {
   "cell_type": "code",
   "execution_count": null,
   "id": "ab9537a9-6b66-4b95-a444-af0f7cd9f1c0",
   "metadata": {},
   "outputs": [],
   "source": [
    "save_dir = '/home/scai/phd/aiz218323/scratch/outputs/mogic/12_momos-for-wikiseealsotitles-meta-encoder-002/predictions'\n",
    "np.save(f'{save_dir}/wikiseealsotitles-20250123-label_mapping_final.npy', new2old_label)"
   ]
  },
  {
   "cell_type": "code",
   "execution_count": null,
   "id": "e80e39bb-ae88-4260-a0d2-45421dc50693",
   "metadata": {},
   "outputs": [],
   "source": []
  },
  {
   "cell_type": "code",
   "execution_count": null,
   "id": "64f4055a-ff2c-45c5-ad36-77b5673558d7",
   "metadata": {},
   "outputs": [],
   "source": [
    "label_comp_df = pd.DataFrame({'Old labels': [old_label_txt[i] for i in new2old_label], 'New labels': new_label_txt})\n",
    "\n",
    "save_dir = '/home/scai/phd/aiz218323/scratch/outputs/mogic/12_momos-for-wikiseealsotitles-meta-encoder-002/predictions'\n",
    "label_comp_df.to_csv(f'{save_dir}/wikiseealsotitles-20250123-label_mapping_comparison.csv', index=False)"
   ]
  },
  {
   "cell_type": "code",
   "execution_count": null,
   "id": "55708710-af8a-49b0-b780-e993c06a03f3",
   "metadata": {},
   "outputs": [],
   "source": []
  },
  {
   "cell_type": "code",
   "execution_count": null,
   "id": "31067a05-f9d2-4a47-93b3-035e2c17e460",
   "metadata": {},
   "outputs": [
    {
     "data": {
      "text/html": [
       "<div>\n",
       "<style scoped>\n",
       "    .dataframe tbody tr th:only-of-type {\n",
       "        vertical-align: middle;\n",
       "    }\n",
       "\n",
       "    .dataframe tbody tr th {\n",
       "        vertical-align: top;\n",
       "    }\n",
       "\n",
       "    .dataframe thead th {\n",
       "        text-align: right;\n",
       "    }\n",
       "</style>\n",
       "<table border=\"1\" class=\"dataframe\">\n",
       "  <thead>\n",
       "    <tr style=\"text-align: right;\">\n",
       "      <th></th>\n",
       "      <th>Old labels</th>\n",
       "      <th>New labels</th>\n",
       "    </tr>\n",
       "  </thead>\n",
       "  <tbody>\n",
       "    <tr>\n",
       "      <th>0</th>\n",
       "      <td>Bishop of Brechin</td>\n",
       "      <td>Diocese of Brechin</td>\n",
       "    </tr>\n",
       "    <tr>\n",
       "      <th>1</th>\n",
       "      <td>List of places in Angus</td>\n",
       "      <td>List of places in Angus</td>\n",
       "    </tr>\n",
       "    <tr>\n",
       "      <th>2</th>\n",
       "      <td>List of Category A listed buildings in Angus</td>\n",
       "      <td>List of Category A listed buildings in Angus</td>\n",
       "    </tr>\n",
       "    <tr>\n",
       "      <th>3</th>\n",
       "      <td>Earl of Angus</td>\n",
       "      <td>Earl of Angus</td>\n",
       "    </tr>\n",
       "    <tr>\n",
       "      <th>4</th>\n",
       "      <td>Shires of Scotland</td>\n",
       "      <td>List of counties of Scotland 1890–1975</td>\n",
       "    </tr>\n",
       "    <tr>\n",
       "      <th>...</th>\n",
       "      <td>...</td>\n",
       "      <td>...</td>\n",
       "    </tr>\n",
       "    <tr>\n",
       "      <th>1205590</th>\n",
       "      <td>Young British Artists</td>\n",
       "      <td>Robert Taylor (artist)</td>\n",
       "    </tr>\n",
       "    <tr>\n",
       "      <th>1205591</th>\n",
       "      <td>Great Turkish War</td>\n",
       "      <td>Great Turkish Invasion</td>\n",
       "    </tr>\n",
       "    <tr>\n",
       "      <th>1205592</th>\n",
       "      <td>Shelling of Stepanakert</td>\n",
       "      <td>Battle of Manzikert</td>\n",
       "    </tr>\n",
       "    <tr>\n",
       "      <th>1205593</th>\n",
       "      <td>Second Crusade</td>\n",
       "      <td>Siege of Manzikert (1054)</td>\n",
       "    </tr>\n",
       "    <tr>\n",
       "      <th>1205594</th>\n",
       "      <td>Basketbol SÃÂ¼per Ligi</td>\n",
       "      <td>2024–25 Basketbol Süper Ligi</td>\n",
       "    </tr>\n",
       "  </tbody>\n",
       "</table>\n",
       "<p>1205595 rows × 2 columns</p>\n",
       "</div>"
      ],
      "text/plain": [
       "                                           Old labels  \\\n",
       "0                                   Bishop of Brechin   \n",
       "1                             List of places in Angus   \n",
       "2        List of Category A listed buildings in Angus   \n",
       "3                                       Earl of Angus   \n",
       "4                                  Shires of Scotland   \n",
       "...                                               ...   \n",
       "1205590                         Young British Artists   \n",
       "1205591                             Great Turkish War   \n",
       "1205592                       Shelling of Stepanakert   \n",
       "1205593                                Second Crusade   \n",
       "1205594                       Basketbol SÃÂ¼per Ligi   \n",
       "\n",
       "                                           New labels  \n",
       "0                                  Diocese of Brechin  \n",
       "1                             List of places in Angus  \n",
       "2        List of Category A listed buildings in Angus  \n",
       "3                                       Earl of Angus  \n",
       "4              List of counties of Scotland 1890–1975  \n",
       "...                                               ...  \n",
       "1205590                        Robert Taylor (artist)  \n",
       "1205591                        Great Turkish Invasion  \n",
       "1205592                           Battle of Manzikert  \n",
       "1205593                     Siege of Manzikert (1054)  \n",
       "1205594                  2024–25 Basketbol Süper Ligi  \n",
       "\n",
       "[1205595 rows x 2 columns]"
      ]
     },
     "execution_count": null,
     "metadata": {},
     "output_type": "execute_result"
    }
   ],
   "source": [
    "label_comp_df"
   ]
  },
  {
   "cell_type": "code",
   "execution_count": null,
   "id": "8c3cba46-24c7-4c78-9ef7-1f0563fe3fa7",
   "metadata": {},
   "outputs": [],
   "source": []
  },
  {
   "cell_type": "code",
   "execution_count": null,
   "id": "7cee673b-76a2-483b-a78a-833437c6d183",
   "metadata": {},
   "outputs": [],
   "source": [
    "old_file = f'{data_dir}/(mapped)LF-WikiSeeAlsoTitles-320K/raw_data/label.raw.txt'\n",
    "old_label_ids, old_label_txt = load_raw_txt(old_file, encoding='latin-1')\n",
    "\n",
    "new_file = f'{data_dir}/20250123-LF-WikiSeeAlsoTitles-320K/raw_data/label.raw.txt'\n",
    "new_label_ids, new_label_txt = load_raw_txt(new_file, encoding='utf-8')\n",
    "\n",
    "old_label_ids2idx = {k:i for i,k in enumerate(old_label_ids)}\n",
    "\n",
    "pred_label_idx = np.load('/home/scai/phd/aiz218323/scratch/outputs/mogic/12_momos-for-wikiseealsotitles-meta-encoder-002/predictions/wikiseealsotitles-20250123-label_mapping.npy')\n",
    "new2old_label = [old_label_ids2idx[o] if o in old_label_ids2idx else pred_label_idx[i] for i,o in enumerate(new_label_ids)]\n",
    "\n",
    "save_dir = '/home/scai/phd/aiz218323/scratch/outputs/mogic/12_momos-for-wikiseealsotitles-meta-encoder-002/predictions'\n",
    "np.save(f'{save_dir}/wikiseealsotitles-20250123-label_mapping_final.npy', new2old_label)"
   ]
  },
  {
   "cell_type": "code",
   "execution_count": null,
   "id": "79fb9ce1-9391-4607-a53a-bbd4b4bfda3f",
   "metadata": {},
   "outputs": [],
   "source": [
    "label_comp_df = pd.DataFrame({'Old labels': [old_label_txt[i] for i in new2old_label], 'New labels': new_label_txt})\n",
    "\n",
    "save_dir = '/home/scai/phd/aiz218323/scratch/outputs/mogic/12_momos-for-wikiseealsotitles-meta-encoder-002/predictions'\n",
    "label_comp_df.to_csv(f'{save_dir}/wikiseealsotitles-20250123-label_mapping_comparison.csv', index=False)"
   ]
  },
  {
   "cell_type": "code",
   "execution_count": null,
   "id": "5cb24c4b-c479-4abd-9025-c781bf18c693",
   "metadata": {},
   "outputs": [],
   "source": [
    "label_comp_df"
   ]
  },
  {
   "cell_type": "code",
   "execution_count": null,
   "id": "24fd5ec0-8543-45c3-b774-ceece705bb7d",
   "metadata": {},
   "outputs": [],
   "source": []
  },
  {
   "cell_type": "code",
   "execution_count": null,
   "id": "343a6061-3073-41d6-86e7-b77e9639b183",
   "metadata": {},
   "outputs": [],
   "source": []
  }
 ],
 "metadata": {
  "kernelspec": {
   "display_name": "python3",
   "language": "python",
   "name": "python3"
  }
 },
 "nbformat": 4,
 "nbformat_minor": 5
}
