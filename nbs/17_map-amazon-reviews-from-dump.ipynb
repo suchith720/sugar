{
 "cells": [
  {
   "cell_type": "code",
   "execution_count": null,
   "id": "285d8c86-cda4-4431-b277-68263b1fe0a4",
   "metadata": {},
   "outputs": [],
   "source": [
    "#| default_exp 17_map-amazon-reviews-from-dump"
   ]
  },
  {
   "cell_type": "code",
   "execution_count": null,
   "id": "c8140464-74f1-4b3f-addd-793d192aa84c",
   "metadata": {},
   "outputs": [],
   "source": [
    "%load_ext autoreload\n",
    "%autoreload 2"
   ]
  },
  {
   "cell_type": "code",
   "execution_count": null,
   "id": "5c309244-5b8d-4f4b-bf56-46f444b71fb4",
   "metadata": {},
   "outputs": [],
   "source": [
    "#| export\n",
    "import scipy.sparse as sp, argparse, numpy as np\n",
    "\n",
    "from tqdm.auto import tqdm\n",
    "from pathlib import Path\n",
    "from timeit import default_timer as timer\n",
    "\n",
    "from sugar.map_amazon_dump import *"
   ]
  },
  {
   "cell_type": "markdown",
   "id": "2f3b7657-753b-4876-a6c8-ed27ff419090",
   "metadata": {},
   "source": [
    "## Load data"
   ]
  },
  {
   "cell_type": "code",
   "execution_count": null,
   "id": "fef95e33-0fe1-4f06-be5e-fa378c57b031",
   "metadata": {},
   "outputs": [
    {
     "data": {
      "application/vnd.jupyter.widget-view+json": {
       "model_id": "de0e5a4b807345e79838c4d84f813cbd",
       "version_major": 2,
       "version_minor": 0
      },
      "text/plain": [
       "  0%|          | 0/2 [00:00<?, ?it/s]"
      ]
     },
     "metadata": {},
     "output_type": "display_data"
    }
   ],
   "source": [
    "cache_dir = '/home/scai/phd/aiz218323/scratch/datasets/amazon/dumps/raw/review_categories/'\n",
    "data_dir = '/home/scai/phd/aiz218323/scratch/datasets/benchmarks/LF-Amazon-131K/'\n",
    "items = load_items(cache_dir, data_dir, key='parent_asin', condition_type='a23')"
   ]
  },
  {
   "cell_type": "code",
   "execution_count": null,
   "id": "d1b64b18-9873-46f8-bc15-54c796e990b9",
   "metadata": {},
   "outputs": [
    {
     "data": {
      "text/plain": [
       "{'rating': 3.0,\n",
       " 'title': 'Delicious but too expensive',\n",
       " 'text': 'It’s candy, I eat it for a treat',\n",
       " 'images': [],\n",
       " 'asin': 'B000IXWDFO',\n",
       " 'parent_asin': 'B000IXWDFO',\n",
       " 'user_id': 'AFNT6ZJCYQN3WDIKUSWHJDXNND2Q',\n",
       " 'timestamp': 1676512805768,\n",
       " 'helpful_vote': 0,\n",
       " 'verified_purchase': True}"
      ]
     },
     "execution_count": null,
     "metadata": {},
     "output_type": "execute_result"
    }
   ],
   "source": [
    "items[0]"
   ]
  },
  {
   "cell_type": "markdown",
   "id": "50e371c6-bd09-45fb-87a6-186836a5d5f7",
   "metadata": {},
   "source": [
    "## Extract reviews"
   ]
  },
  {
   "cell_type": "code",
   "execution_count": null,
   "id": "d689d5ca-6de0-4d4f-b452-9766156a0be8",
   "metadata": {},
   "outputs": [],
   "source": [
    "#| export\n",
    "def title_proc(o): \n",
    "    return (o['title'], o['rating'])\n",
    "    \n",
    "def text_proc(o): \n",
    "    return (o['text'], o['rating'])\n",
    "\n",
    "def title_text_proc(o):\n",
    "    return (o['title'] + ' ' + o['text'], o['rating'])\n",
    "    "
   ]
  },
  {
   "cell_type": "code",
   "execution_count": null,
   "id": "0535c45f-31f8-4c7f-83b7-4c45cba8db54",
   "metadata": {},
   "outputs": [],
   "source": [
    "#| export\n",
    "REVIEW_PROCS = {\n",
    "    'title': title_proc, \n",
    "    'text': text_proc, \n",
    "    'title_text': title_text_proc,\n",
    "}"
   ]
  },
  {
   "cell_type": "code",
   "execution_count": null,
   "id": "508f1a68-5621-4fa3-8475-de97bb80e4f0",
   "metadata": {},
   "outputs": [],
   "source": [
    "#| export\n",
    "def get_review_proc(dtype):\n",
    "    assert dtype in REVIEW_PROCS, f'Invalid review processing function: {dtype}.'\n",
    "    return REVIEW_PROCS[dtype]\n",
    "\n",
    "def extract_review_info(items, dtype, key):\n",
    "    func = get_review_proc(dtype)\n",
    "    reviews = dict()\n",
    "    for o in tqdm(items, total=len(items)): reviews.setdefault(o[key], []).append(func(o))\n",
    "    return reviews\n",
    "    "
   ]
  },
  {
   "cell_type": "code",
   "execution_count": null,
   "id": "ff99a0d1-d5cd-482e-b078-7093644c5630",
   "metadata": {},
   "outputs": [
    {
     "data": {
      "application/vnd.jupyter.widget-view+json": {
       "model_id": "1985fe31cca64b5e8c1f9cb7846287de",
       "version_major": 2,
       "version_minor": 0
      },
      "text/plain": [
       "  0%|          | 0/221229 [00:00<?, ?it/s]"
      ]
     },
     "metadata": {},
     "output_type": "display_data"
    }
   ],
   "source": [
    "review_mapping = extract_review_info(items, 'text', 'parent_asin')"
   ]
  },
  {
   "cell_type": "code",
   "execution_count": null,
   "id": "7548c21e-ab04-44bc-86a6-12770c3f85dc",
   "metadata": {},
   "outputs": [
    {
     "data": {
      "text/plain": [
       "[('It’s candy, I eat it for a treat', 3.0),\n",
       " ('Love Hersheys milk chocolate', 5.0),\n",
       " ('Bought a so called Giant Hershey bar a week ago, the first giant I bought in awhile.<br />  I still can\\'t believe how much they shrunk their bars down \"again\".<br /> Its as thin as a reg Hershey bar now and it will soon be as thin as todays Halloween mini\\'s that also was several times thicker in size.<br />  Hershey bars today are nowhere near the size they once were. Their size is nothing but joke for what they cost us now. I told my wife to never buy any Hersheys again!  Other brands offer a much better deal, taste just as good or better & Im happy to see stores offering so many more brands today.<br /> These simply cost too much being such small portions today & now they discovered metal inside them?  You must be chitting me, is this to add more weight so we get even less chocolate? Hey it is sold by weight?..lol<br />  Oh well\\' most our family was done with the Hershey brand when most their candy was no longer made in USA anyway but now my kids/grand kids all say they will never put it in their mouths again.<br />  If I\\'m anywhere near them they wont ever taste it again, that\\'s a sure bet.<br /> Ill also toss every Hershey product in the trash on Halloween.<br /> Glad todays kids are growing up learning just how bad Hershey\\'s actually is & here we all thought the exact opposite back in the dark ages. The fact of it all is they are utter trash & care more about money for sure! Its just a low grade product they sell tons of today due to all its wonderful marketing. Well no they sell 1/4 ton with their bars shrinking so much.<br /> With all its metal & other trash fillers inside ain\\'t it just fabulous?<br /> If your buying it for family/freinds to eat I can only hope & pray it dont make your loved ones deathly ill? Sooner or later it just may do exactly that.',\n",
       "  1.0),\n",
       " ('Good', 5.0),\n",
       " ('The King Size was meant in thickness where I misunderstood as length...there needs to be a better description of King Size.',\n",
       "  5.0),\n",
       " ('2 day delivery', 5.0),\n",
       " ('good buy', 5.0),\n",
       " ('yum ummm', 5.0),\n",
       " ('I love Hershey’s chocolate because it helps me to calm down and sleep well. Yummy! I recommend this to anyone who loves chocolate because it’s way cheaper than at a store. 10 stars ⭐️',\n",
       "  5.0),\n",
       " (\"It's hershey. It's perfect.\", 5.0),\n",
       " ('Yummy', 5.0),\n",
       " ('Arrived in great shape. Fresh chocolate. Would buy again.', 5.0),\n",
       " ('Excellent! Except now I cannot find a deal as good as mine any more. Maybe the price was advertised too low or wrong in the first place.',\n",
       "  5.0),\n",
       " ('The bars will be getting thinner and thinner as we get larger and larger.',\n",
       "  5.0),\n",
       " ('Exactly what they said it would be:  A box of King size Hershey bars.  Tasted fine. Received very quickly.',\n",
       "  5.0),\n",
       " ('Product arrived as described no complaints no broken bars no melted chocolate',\n",
       "  5.0),\n",
       " ('smaller than expected', 3.0),\n",
       " ('Expiring in 2,months. Freshness and integrity . We sell them too', 3.0),\n",
       " (' ', 1.0),\n",
       " ('I bought this for my sweetheart for valentines day. He is a no fuss kinda guy. He loved it. He sticks them in the freezer and munched for weeks. Great value for all the bars you get. Chocolately goodness maximized.',\n",
       "  5.0),\n",
       " ('Just like the ones you get at the grocery stores except for a better price.<br />Its like getting the on sale price every time you buy.  Great for gifts or, if<br />you are a chocolate addict that needs your daily fix, this is a less expensive way to go.<br />Once they stopped packing it in ice a little too early for our hot summers and it arrived melted.',\n",
       "  5.0),\n",
       " ('My bars were STALE. I had decided to try a safer means to purchase my beloved Hershey bars because of CoVid-19 and I should have wore my mask and gloves and went to my local gas station where they are much cheaper and FRESH!',\n",
       "  2.0),\n",
       " ('These are the plastic wrapped candy bars, not the foil wrapped ones (as pictured). If the plastic ones are what you need, then this is a great option for you ... the seller packed them nicely with an ice pack. They just did not work for my purposes so they had to go back!',\n",
       "  3.0),\n",
       " (\"It's a tasty, motivational snack.\", 5.0),\n",
       " (\"Nothing better than the sweet taste of Hershey's chocolate\", 5.0),\n",
       " (\"Usually I get the Hershey's bar with almonds but rediscovered the simple pleasures of the plain version. The thickness of the bar makes eating every &#34;block&#34; a decadent experience.\",\n",
       "  5.0),\n",
       " (\"Obviously best chocolate ever. I love the size for when I'm really craving but I can break it for when I'm not. That's good stuff\",\n",
       "  5.0),\n",
       " ('hersheys bars - what else is there to say?', 5.0),\n",
       " ('It’s Hershey’s chocolate....if you don’t like chocolate you will not like these bars.',\n",
       "  5.0),\n",
       " (\"The Hershey's brand of chocolate is legendary, and while other purveyors of chocolate bars keeps shrinking their product, it is refreshing to find a box of milk chocolate bars that retain their historic quantity as well a quality. Although boutique brands may offer a more decadent milk chocolate confection, Hershey's still reigns supreme in availability and delicious taste. These bars were made for S'mores, and of course of individual enjoyment.\",\n",
       "  5.0),\n",
       " (\"What can I say. It's Hersheys and it's chocolate. Duh!\", 5.0),\n",
       " ('The box was opened.  Only 17 bars were in the box.', 1.0),\n",
       " ('I like it', 5.0),\n",
       " ('This Hershey candy is the best of all my candy choices.', 4.0),\n",
       " ('I bought the Hershey Bars for my family.', 5.0),\n",
       " (\"Fresh Hershey's Chocolate.  Need I say more.\", 5.0),\n",
       " (\"Price wasn't so much of a savings, but needed them for a birthday party.  all fresh (no old white chocolate) and tastes just like I remember.\",\n",
       "  4.0),\n",
       " (\"I actually love Hershey's milk chocolate; it's a comfort food from my childhood.  Unfortunately, it just doesn't travel well.  I ordered two boxes; both had melted during transit so the bars were coated in white.\",\n",
       "  2.0),\n",
       " ('Mmmmm....chocolate.', 5.0),\n",
       " (\"I am thoroughly disgusted with this order! I purchased 3 cases of Hershey's King size bars to hand out, attached to a thank you note to give to the veterans returning on Honor Flight tomorrow evening. I just opened one of the left over bars, and it is melted and white. I'm so upset thinking I'll be handing out white, stale chocolate to our veterans. I only pray not all of the candy bars are like the one I opened. Two of the cases were shipped together, and another case arrived a few days later.\",\n",
       "  1.0),\n",
       " ('Just as I expected', 5.0),\n",
       " ('just what we wanted', 5.0),\n",
       " ('I have purchased this twice now for my son. He’s 20 and happily gobbles them up.',\n",
       "  5.0),\n",
       " ('Ok', 5.0),\n",
       " ('Love ‘em', 5.0),\n",
       " ('Very much liked', 5.0),\n",
       " (\"I might say these aren't Italian Gianduja.  They are gone.  They were snuck.  They were slivered. They were fought over, and lastly they were shared.  Thank God for chocolate being delivered when store shopping  is a bit iffy!\",\n",
       "  5.0),\n",
       " ('Two were inedible from the heat.', 4.0),\n",
       " (\"they arrived and what's not to love about chocolate and it didn't melt before it got to me. These are the bigger bars.\",\n",
       "  5.0),\n",
       " ('Totally great - I better not order these too often - so good, I eat them pretty fast! :)',\n",
       "  5.0),\n",
       " ('I bought these for my girlfriend and I can tell you she loved it and loved me😉',\n",
       "  5.0),\n",
       " ('I get a lot of chocolate so can break apart and add in cream pies, perfect for the fire department as well as the local police station just to help them with blood sugar issues on the job.',\n",
       "  5.0),\n",
       " ('Love chocolate. I would melt and eat with a spoon', 5.0),\n",
       " ('I buy these boxes of chocolate bars when they are at a good price. Be careful as prices change frequently and I only purchase at a certain price point. Hershey\\'s chocolate bars are my favorite, but I will not spend a \"ridiculous\" amount of money for them. They are sometimes $10.00 more than when previously bought. When this happens and I am running low on supply, I go to Sam\\'s Club to purchase (The price there is usually $23-$24 for the pack of 18 King size bars',\n",
       "  4.0),\n",
       " (\"What can I say...... Hershey's.\", 5.0),\n",
       " ('The chocolate was old.  It was discolored and brittle.  The candy bars were loose inside the box.  I ate one bar and threw the rest away.  Terrible.  Never again.',\n",
       "  5.0),\n",
       " ('Nice thick bars .<br />Full size and great for gifting', 5.0),\n",
       " ('Yummy Hersheys chocolate never disappoints. Excellent packaging. Thanks',\n",
       "  5.0),\n",
       " ('Great idea to get these instead of getting almost $3 hershey bars from the store! Getting these is basically paying $1.60 for a bar! Packaging was great, none of them broken, & taste great! Highly recommend them if you or your family crave Hershey bars here and there lol',\n",
       "  5.0),\n",
       " (\"I love my Hershey's Candy Bar Thanks\", 5.0),\n",
       " ('As expected. Always a hit at Halloween', 4.0),\n",
       " ('Has a nice flavor & taste good.', 5.0),\n",
       " ('Dont order these chocolate bars unless you have superior will power. I ate them all in 5 days. burp!',\n",
       "  5.0),\n",
       " ('I opened the package and the box was open and when I opened one of the candy bars, the chocolate was old.',\n",
       "  1.0),\n",
       " ('Always liked Herseys Candy', 5.0),\n",
       " ('My mom LOVES Hershey bars and she was just in the hospital. I stopped by to let their dog out and I found her stash and my diabetes went outta control at the thought of the sugar from a Hershey Bar flooding my bloodstream, so I gave in and took one. Well, my mom got released after 6 days and I told her I had one. Well, she made sure I knew I had to replace it! Mind you, she is skinny as all heck and honestly has more money than she knows what to do with so she could get her own Hershey Bar replacement, but it is my mom so I obliged. I obliged with an entire box of bars! She is so happy, delighted and now there are delicious Hershey Bars for EVERYONE!',\n",
       "  5.0),\n",
       " ('Classic', 5.0)]"
      ]
     },
     "execution_count": null,
     "metadata": {},
     "output_type": "execute_result"
    }
   ],
   "source": [
    "review_mapping['B000IXWDFO']"
   ]
  },
  {
   "cell_type": "code",
   "execution_count": null,
   "id": "e5956ab6-9c40-421c-b132-ee1967909dc0",
   "metadata": {},
   "outputs": [],
   "source": [
    "#| export\n",
    "def create_vocab_and_item2idx(mapping):\n",
    "    mapping_item2idx, vocab = dict(), dict()\n",
    "    for k,v in tqdm(mapping.items()):\n",
    "        for o in v:\n",
    "            idx = vocab.setdefault(o[0], len(vocab))\n",
    "            l = mapping_item2idx.setdefault(k, [])\n",
    "            l.append((idx,o[1]))\n",
    "    return vocab, mapping_item2idx\n",
    "    "
   ]
  },
  {
   "cell_type": "code",
   "execution_count": null,
   "id": "972b283e-380a-460b-8d12-a84871d773f3",
   "metadata": {},
   "outputs": [],
   "source": [
    "#| export\n",
    "def get_vocabulary(mapping):\n",
    "    vocab, mapping_item2idx = create_vocab_and_item2idx(mapping)\n",
    "\n",
    "    vocab_txt = sorted(vocab, key=lambda x: vocab[x])\n",
    "    vocab_ids = list(range(len(vocab_txt)))\n",
    "\n",
    "    return vocab_ids, vocab_txt, mapping_item2idx\n",
    "    "
   ]
  },
  {
   "cell_type": "code",
   "execution_count": null,
   "id": "d81b45b2-5688-45eb-ba60-c63d0b4386f4",
   "metadata": {},
   "outputs": [
    {
     "data": {
      "application/vnd.jupyter.widget-view+json": {
       "model_id": "8bedb7e73d90479c9cb956081e7ca3d8",
       "version_major": 2,
       "version_minor": 0
      },
      "text/plain": [
       "  0%|          | 0/4418 [00:00<?, ?it/s]"
      ]
     },
     "metadata": {},
     "output_type": "display_data"
    }
   ],
   "source": [
    "vocab_ids, vocab_txt, mapping_item2idx = get_vocabulary(review_mapping)"
   ]
  },
  {
   "cell_type": "code",
   "execution_count": null,
   "id": "158d77f6-b974-4c8a-9954-bed3a4661cb5",
   "metadata": {},
   "outputs": [
    {
     "data": {
      "text/plain": [
       "[(0,\n",
       "  1,\n",
       "  2,\n",
       "  3,\n",
       "  4,\n",
       "  5,\n",
       "  6,\n",
       "  7,\n",
       "  8,\n",
       "  9,\n",
       "  10,\n",
       "  11,\n",
       "  12,\n",
       "  13,\n",
       "  14,\n",
       "  15,\n",
       "  16,\n",
       "  17,\n",
       "  18,\n",
       "  19,\n",
       "  20,\n",
       "  21,\n",
       "  22,\n",
       "  23,\n",
       "  24,\n",
       "  25,\n",
       "  26,\n",
       "  27,\n",
       "  28,\n",
       "  29,\n",
       "  30,\n",
       "  31,\n",
       "  32,\n",
       "  33,\n",
       "  34,\n",
       "  35,\n",
       "  36,\n",
       "  37,\n",
       "  38,\n",
       "  39,\n",
       "  40,\n",
       "  41,\n",
       "  42,\n",
       "  43,\n",
       "  44,\n",
       "  45,\n",
       "  46,\n",
       "  47,\n",
       "  48,\n",
       "  49,\n",
       "  50,\n",
       "  51,\n",
       "  52,\n",
       "  53,\n",
       "  54,\n",
       "  55,\n",
       "  56,\n",
       "  57,\n",
       "  58,\n",
       "  59,\n",
       "  60,\n",
       "  61,\n",
       "  62,\n",
       "  63,\n",
       "  64,\n",
       "  65,\n",
       "  66),\n",
       " (3.0,\n",
       "  5.0,\n",
       "  1.0,\n",
       "  5.0,\n",
       "  5.0,\n",
       "  5.0,\n",
       "  5.0,\n",
       "  5.0,\n",
       "  5.0,\n",
       "  5.0,\n",
       "  5.0,\n",
       "  5.0,\n",
       "  5.0,\n",
       "  5.0,\n",
       "  5.0,\n",
       "  5.0,\n",
       "  3.0,\n",
       "  3.0,\n",
       "  1.0,\n",
       "  5.0,\n",
       "  5.0,\n",
       "  2.0,\n",
       "  3.0,\n",
       "  5.0,\n",
       "  5.0,\n",
       "  5.0,\n",
       "  5.0,\n",
       "  5.0,\n",
       "  5.0,\n",
       "  5.0,\n",
       "  5.0,\n",
       "  1.0,\n",
       "  5.0,\n",
       "  4.0,\n",
       "  5.0,\n",
       "  5.0,\n",
       "  4.0,\n",
       "  2.0,\n",
       "  5.0,\n",
       "  1.0,\n",
       "  5.0,\n",
       "  5.0,\n",
       "  5.0,\n",
       "  5.0,\n",
       "  5.0,\n",
       "  5.0,\n",
       "  5.0,\n",
       "  4.0,\n",
       "  5.0,\n",
       "  5.0,\n",
       "  5.0,\n",
       "  5.0,\n",
       "  5.0,\n",
       "  4.0,\n",
       "  5.0,\n",
       "  5.0,\n",
       "  5.0,\n",
       "  5.0,\n",
       "  5.0,\n",
       "  5.0,\n",
       "  4.0,\n",
       "  5.0,\n",
       "  5.0,\n",
       "  1.0,\n",
       "  5.0,\n",
       "  5.0,\n",
       "  5.0)]"
      ]
     },
     "execution_count": null,
     "metadata": {},
     "output_type": "execute_result"
    }
   ],
   "source": [
    "list(zip(*mapping_item2idx['B000IXWDFO']))"
   ]
  },
  {
   "cell_type": "markdown",
   "id": "0e3627f7-465d-45fa-9b33-eeeba4d5b860",
   "metadata": {},
   "source": [
    "## Construct matrix"
   ]
  },
  {
   "cell_type": "code",
   "execution_count": null,
   "id": "03286190-ab4d-44e8-afb6-4e0bad89414b",
   "metadata": {},
   "outputs": [],
   "source": [
    "#| export\n",
    "def get_matrix_from_item2idx(mapping, vocab_size, ids=None):\n",
    "    data, indices, indptr = [], [], [0]\n",
    "    ids = list(mapping) if ids is None else ids\n",
    "    for i in tqdm(ids):\n",
    "        if i in mapping:\n",
    "            item_idx, item_val = list(zip(*mapping[i]))\n",
    "            data.extend(item_val)\n",
    "            indices.extend(item_idx)\n",
    "        indptr.append(len(data))\n",
    "    mat = sp.csr_matrix((data, indices, indptr), shape=(len(ids), vocab_size), dtype=np.float32)\n",
    "    mat.sort_indices()\n",
    "    mat.sum_duplicates()\n",
    "    return mat, ids\n",
    "    "
   ]
  },
  {
   "cell_type": "code",
   "execution_count": null,
   "id": "342b4d22-792e-4375-a8d4-a33d9d795862",
   "metadata": {},
   "outputs": [],
   "source": [
    "#| export\n",
    "def get_matrix(mapping_item2idx, vocab_size, trn_ids, tst_ids, lbl_ids):\n",
    "    trn_mat, trn_ids = get_matrix_from_item2idx(mapping_item2idx, vocab_size, trn_ids)\n",
    "    tst_mat, tst_ids = get_matrix_from_item2idx(mapping_item2idx, vocab_size, tst_ids)\n",
    "    lbl_mat, lbl_ids = get_matrix_from_item2idx(mapping_item2idx, vocab_size, lbl_ids)\n",
    "    return trn_mat, tst_mat, lbl_mat\n",
    "    "
   ]
  },
  {
   "cell_type": "code",
   "execution_count": null,
   "id": "657aa6c6-f645-4320-9862-703d27ab9a11",
   "metadata": {},
   "outputs": [],
   "source": [
    "#| export\n",
    "def get_metadata(cache_dir, data_dir, meta_type, key, condition_type, do_filter=True):\n",
    "    items = load_items(cache_dir, data_dir, key, condition_type, Path(data_dir).stem)\n",
    "    \n",
    "    review_mapping = extract_review_info(items, meta_type, key)\n",
    "\n",
    "    metadata_ids, metadata_txt, mapping_item2idx = get_vocabulary(review_mapping)\n",
    "    trn_ids, tst_ids, lbl_ids = get_ids(data_dir)\n",
    "    trn_mat, tst_mat, lbl_mat = get_matrix(mapping_item2idx, len(metadata_ids), trn_ids, tst_ids, lbl_ids)\n",
    "\n",
    "    if do_filter:\n",
    "        metadata_ids, metadata_txt, trn_mat, tst_mat, lbl_mat = filter_vocab(metadata_ids, metadata_txt, trn_mat, tst_mat, lbl_mat)\n",
    "        \n",
    "    return trn_mat, tst_mat, lbl_mat, metadata_ids, metadata_txt\n",
    "    "
   ]
  },
  {
   "cell_type": "markdown",
   "id": "5d732e29-0f69-4924-9b19-ead65213a995",
   "metadata": {},
   "source": [
    "## `__main__`"
   ]
  },
  {
   "cell_type": "code",
   "execution_count": null,
   "id": "c4efd53a-81da-4522-9924-49a93dec92e8",
   "metadata": {},
   "outputs": [],
   "source": [
    "#| export\n",
    "def parse_args():\n",
    "    parser = argparse.ArgumentParser()\n",
    "    parser.add_argument('--cache_dir', type=str, required=True)\n",
    "    parser.add_argument('--data_dir', type=str, required=True)\n",
    "    parser.add_argument('--key', type=str, default='parent_asin')\n",
    "    parser.add_argument('--condition_type', type=str, default=None)\n",
    "    parser.add_argument('--review_type', type=str, required=True)\n",
    "    parser.add_argument('--no_filter', action='store_false')\n",
    "    return parser.parse_args()\n",
    "    "
   ]
  },
  {
   "cell_type": "code",
   "execution_count": null,
   "id": "7f2a5058-c663-4f2a-b1cc-7c2d19894c74",
   "metadata": {},
   "outputs": [],
   "source": [
    "#| export\n",
    "if __name__ == '__main__':\n",
    "    start_time = timer()\n",
    "\n",
    "    args = parse_args()\n",
    "\n",
    "    trn_mat, tst_mat, lbl_mat, metadata_ids, metadata_txt = get_metadata(args.cache_dir, args.data_dir, meta_type=args.review_type, \n",
    "                                                                         key=args.key, condition_type=args.condition_type, \n",
    "                                                                         do_filter=args.no_filter)\n",
    "    save_metadata(args.data_dir, trn_mat, tst_mat, lbl_mat, metadata_ids, metadata_txt, f'review_{args.review_type}')\n",
    "    \n",
    "    end_time = timer()\n",
    "    print(f'Time elapsed: {end_time-start_time:.2f} seconds.')\n",
    "    "
   ]
  }
 ],
 "metadata": {
  "kernelspec": {
   "display_name": "python3",
   "language": "python",
   "name": "python3"
  }
 },
 "nbformat": 4,
 "nbformat_minor": 5
}
