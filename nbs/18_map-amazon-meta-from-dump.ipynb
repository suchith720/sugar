{
 "cells": [
  {
   "cell_type": "code",
   "execution_count": null,
   "id": "285d8c86-cda4-4431-b277-68263b1fe0a4",
   "metadata": {},
   "outputs": [],
   "source": [
    "#| default_exp 18_map-amazon-meta-from-dump"
   ]
  },
  {
   "cell_type": "code",
   "execution_count": null,
   "id": "24d55517-2bec-4e87-95cd-da4703538702",
   "metadata": {},
   "outputs": [],
   "source": [
    "#| hide\n",
    "from nbdev.showdoc import *\n",
    "import nbdev; nbdev.nbdev_export()"
   ]
  },
  {
   "cell_type": "code",
   "execution_count": null,
   "id": "5c309244-5b8d-4f4b-bf56-46f444b71fb4",
   "metadata": {},
   "outputs": [],
   "source": [
    "#| export\n",
    "from timeit import default_timer as timer\n",
    "\n",
    "from sugar.map_amazon_dump import *"
   ]
  },
  {
   "cell_type": "code",
   "execution_count": null,
   "id": "218c0ecd-243a-4bfb-8fb2-d12f784871a4",
   "metadata": {},
   "outputs": [],
   "source": [
    "#| export\n",
    "if __name__ == '__main__':\n",
    "    start_time = timer()\n",
    "\n",
    "    args = parse_args()\n",
    "\n",
    "    trn_mat, tst_mat, lbl_mat, metadata_ids, metadata_txt = get_metadata(args.cache_dir, args.data_dir, meta_type=args.metadata_type, \n",
    "                                                                         key=args.key, condition_type=args.condition_type, \n",
    "                                                                         do_filter=args.no_filter)\n",
    "    save_metadata(args.data_dir, trn_mat, tst_mat, lbl_mat, metadata_ids, metadata_txt, args.metadata_type)\n",
    "    \n",
    "    end_time = timer()\n",
    "    print(f'Time elapsed: {end_time-start_time:.2f} seconds.')"
   ]
  }
 ],
 "metadata": {
  "kernelspec": {
   "display_name": "python3",
   "language": "python",
   "name": "python3"
  }
 },
 "nbformat": 4,
 "nbformat_minor": 5
}
