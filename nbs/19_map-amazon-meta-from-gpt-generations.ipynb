{
 "cells": [
  {
   "cell_type": "code",
   "execution_count": null,
   "id": "285d8c86-cda4-4431-b277-68263b1fe0a4",
   "metadata": {},
   "outputs": [],
   "source": [
    "#| default_exp 19_map-amazon-meta-from-gpt-generations"
   ]
  },
  {
   "cell_type": "code",
   "execution_count": null,
   "id": "24d55517-2bec-4e87-95cd-da4703538702",
   "metadata": {},
   "outputs": [],
   "source": [
    "#| hide\n",
    "from nbdev.showdoc import *\n",
    "import nbdev; nbdev.nbdev_export()"
   ]
  },
  {
   "cell_type": "code",
   "execution_count": null,
   "id": "5c309244-5b8d-4f4b-bf56-46f444b71fb4",
   "metadata": {},
   "outputs": [],
   "source": [
    "#| export\n",
    "import pandas as pd, re, numpy as np, os, scipy.sparse as sp\n",
    "from tqdm.auto import tqdm"
   ]
  },
  {
   "cell_type": "code",
   "execution_count": null,
   "id": "d6212eb4-ae49-44f0-95c9-8d7bb477f553",
   "metadata": {},
   "outputs": [],
   "source": [
    "#| export\n",
    "from sugar.core import *"
   ]
  },
  {
   "cell_type": "markdown",
   "id": "f5906047-fdb8-42cb-8a53-68453152bc02",
   "metadata": {},
   "source": [
    "## Helper code"
   ]
  },
  {
   "cell_type": "code",
   "execution_count": null,
   "id": "5e48e4f8-9e99-4734-aa95-2a919ca96bae",
   "metadata": {},
   "outputs": [],
   "source": [
    "#| export\n",
    "def extract_text_between_tags(text, tag='Label'):\n",
    "    pattern = fr\"<{tag}>(.*?)</{tag}>\"\n",
    "    match = re.search(pattern, text)\n",
    "    return match.group(1).strip() if match else ''\n",
    "    "
   ]
  },
  {
   "cell_type": "code",
   "execution_count": null,
   "id": "ed0e5d15-1044-4975-8bf1-213794d3ca2d",
   "metadata": {},
   "outputs": [],
   "source": [
    "#| export\n",
    "def extract_generations(df, tag='Label'):\n",
    "    generations = []\n",
    "    for i in range(df.shape[0]):\n",
    "        text = df['raw_model_response'].iloc[i]\n",
    "        text = extract_text_between_tags(text, tag=tag)\n",
    "        generations.append(text)\n",
    "    title = df['title'].tolist()\n",
    "    return title, generations\n",
    "    "
   ]
  },
  {
   "cell_type": "code",
   "execution_count": null,
   "id": "fa2d0ca4-4167-4437-bd32-198e9ae9207c",
   "metadata": {},
   "outputs": [],
   "source": [
    "#| export\n",
    "def get_file_key(fname):\n",
    "    key = re.match(r'[a-z]*([0-9]+).tsv', fname)\n",
    "    return int(key.group(1))\n",
    "    "
   ]
  },
  {
   "cell_type": "code",
   "execution_count": null,
   "id": "d5aadedf-f32f-4ed0-8f54-58dc7104a79d",
   "metadata": {},
   "outputs": [],
   "source": [
    "#| export\n",
    "def collate_generations(data_dir, tag='Label'):\n",
    "    title, generations = [], []\n",
    "\n",
    "    for fname in tqdm(sorted(os.listdir(data_dir), key=get_file_key)):\n",
    "        df = pd.read_table(f'{data_dir}/{fname}')\n",
    "        df.fillna('', inplace=True)\n",
    "        t, g = extract_generations(df, tag=tag)\n",
    "        title.extend(t)\n",
    "        generations.extend(g)\n",
    "\n",
    "    return title, generations\n",
    "    "
   ]
  },
  {
   "cell_type": "code",
   "execution_count": null,
   "id": "e54b5cf2-c6ac-4668-83af-32a8ee19b726",
   "metadata": {},
   "outputs": [],
   "source": [
    "#| export\n",
    "def collate_metadata(data_dir, tag, sep=None):\n",
    "    title, generation = collate_generations(data_dir, tag=tag)\n",
    "    metadata = [[text] if sep is None else [o.strip(sep) for o in text.split(sep)] for text in generation]\n",
    "    return title, metadata\n",
    "    "
   ]
  },
  {
   "cell_type": "code",
   "execution_count": null,
   "id": "a8ad130f-53d2-487f-8fef-b113ee0d84d6",
   "metadata": {},
   "outputs": [],
   "source": []
  },
  {
   "cell_type": "code",
   "execution_count": null,
   "id": "8fdd7cb6-1626-4a40-bd5b-32e6e25efb88",
   "metadata": {},
   "outputs": [],
   "source": [
    "data_dir = '/home/scai/phd/aiz218323/scratch/datasets/benchmarks/LF-AmazonTitles-1.3M_generations/test-outputs/'\n",
    "\n",
    "fname = os.listdir(data_dir)[0]\n",
    "df = pd.read_table(f'{data_dir}/{fname}')\n",
    "df.fillna('', inplace=True)"
   ]
  },
  {
   "cell_type": "code",
   "execution_count": null,
   "id": "c1983fe2-5f9b-4201-9cbf-5fbd4eb51eda",
   "metadata": {},
   "outputs": [
    {
     "data": {
      "application/vnd.jupyter.widget-view+json": {
       "model_id": "8561641f1e2541268dee4ede1d7bca65",
       "version_major": 2,
       "version_minor": 0
      },
      "text/plain": [
       "  0%|          | 0/49 [00:00<?, ?it/s]"
      ]
     },
     "metadata": {},
     "output_type": "display_data"
    }
   ],
   "source": [
    "data_dir = '/home/scai/phd/aiz218323/scratch/datasets/benchmarks/LF-AmazonTitles-1.3M_generations/test-outputs/'\n",
    "tst_title, tst_entity = collate_generations(data_dir)"
   ]
  },
  {
   "cell_type": "code",
   "execution_count": null,
   "id": "9a7ef065-c334-4fab-a612-1b5206c4b2f2",
   "metadata": {},
   "outputs": [
    {
     "data": {
      "text/plain": [
       "['Adult:Spec_Attribute, Ballet:Spec_Attribute, Tutu:Product, Cheetah:Spec_Attribute, Pink:Spec_Attribute',\n",
       " \"Why:Not_Sure, Don't:Not_Sure, They:Not_Sure, Just:Not_Sure, Quit:Other_Entity, ?:O, DVD:Product, Roundtable:Other_Entity, Discussion:Other_Entity, ::O, What:O, Families:Other_Entity, and:O, Friends:Other_Entity, need:O, to:O, Know:O, About:O, Addiction:Other_Entity, and:O, Recovery:Other_Entity\",\n",
       " 'Girls:Spec_Attribute, Ballet:Product, Tutu:Product, Zebra:Spec_Attribute, Hot:Spec_Attribute, Pink:Spec_Attribute',\n",
       " 'Adult:Spec_Attribute, Ballet:Spec_Attribute, Tutu:Product, Purple:Spec_Attribute',\n",
       " \"Hilda:Personal_Name, Boswell's:Personal_Name, Omnibus:Other_Entity, -:O, A:O, Treasury:Other_Entity, of:O, Favorites:Other_Entity\",\n",
       " 'Ballet:Spec_Attribute, Dress-Up:Spec_Attribute, Fairy:Spec_Attribute, Tutu:Product',\n",
       " 'The:O, Greatest:Spec_Attribute, Book:Product, on:O, \"Dispensational:Other_Entity, Truth\":Other_Entity, in:O, the:O, World:Other_Entity',\n",
       " 'Chess:Product, for:O, Young:Spec_Attribute, Beginners:Spec_Attribute',\n",
       " 'Heavenly:Other_Entity, Highway:Other_Entity, Hymns:Other_Entity, ::O, Shaped-Note:Other_Entity, Hymnal:Other_Entity',\n",
       " \"The:O, Berenstains':Personal_Name, B:Other_Entity, Book:Media_Title, (:O, Bright:Other_Entity, &:O, Early:Other_Entity, Books:Other_Entity, ):O\"]"
      ]
     },
     "execution_count": null,
     "metadata": {},
     "output_type": "execute_result"
    }
   ],
   "source": [
    "tst_entity[:10]"
   ]
  },
  {
   "cell_type": "code",
   "execution_count": null,
   "id": "4eb0b8d0-63e4-41da-87f7-227712a02eb6",
   "metadata": {},
   "outputs": [],
   "source": []
  },
  {
   "cell_type": "code",
   "execution_count": null,
   "id": "4525b121-f284-4397-a0d9-e36cf3f1a25a",
   "metadata": {},
   "outputs": [
    {
     "data": {
      "application/vnd.jupyter.widget-view+json": {
       "model_id": "586208f59bc3415ca0225561b1dbcd91",
       "version_major": 2,
       "version_minor": 0
      },
      "text/plain": [
       "  0%|          | 0/49 [00:00<?, ?it/s]"
      ]
     },
     "metadata": {},
     "output_type": "display_data"
    }
   ],
   "source": [
    "data_dir = '/home/scai/phd/aiz218323/scratch/datasets/benchmarks/LF-AmazonTitles-1.3M_generations/test-outputs/'\n",
    "tst_title, tst_category = collate_generations(data_dir, tag='Category')"
   ]
  },
  {
   "cell_type": "code",
   "execution_count": null,
   "id": "e6e3361e-4b30-46db-8b7e-be00d05a13a9",
   "metadata": {},
   "outputs": [
    {
     "data": {
      "text/plain": [
       "['Adult Ballet Tutu Cheetah Pink',\n",
       " \"Why Don't They Just Quit? DVD Roundtable Discussion: What Families and Friends need to Know About Addiction and Recovery\",\n",
       " 'Girls Ballet Tutu Zebra Hot Pink',\n",
       " 'Adult Ballet Tutu Purple',\n",
       " \"Hilda Boswell's Omnibus - A Treasury of Favorites\",\n",
       " 'Ballet Dress-Up Fairy Tutu',\n",
       " 'The Greatest Book on \"Dispensational Truth\" in the World',\n",
       " 'Chess for Young Beginners',\n",
       " 'Heavenly Highway Hymns: Shaped-Note Hymnal',\n",
       " \"The Berenstains' B Book (Bright & Early Books)\"]"
      ]
     },
     "execution_count": null,
     "metadata": {},
     "output_type": "execute_result"
    }
   ],
   "source": [
    "tst_title[:10]"
   ]
  },
  {
   "cell_type": "code",
   "execution_count": null,
   "id": "0cde24d0-70e9-4109-92e6-aa22597b1ece",
   "metadata": {},
   "outputs": [],
   "source": []
  },
  {
   "cell_type": "markdown",
   "id": "81a567ec-deab-44c9-aef9-72892f5f0197",
   "metadata": {},
   "source": [
    "## Visualize generation"
   ]
  },
  {
   "cell_type": "code",
   "execution_count": null,
   "id": "b7609cfc-924f-48c0-898e-c67066ce2565",
   "metadata": {},
   "outputs": [],
   "source": [
    "import joblib\n",
    "\n",
    "from xcai.basics import *\n",
    "from xcai.analysis import *"
   ]
  },
  {
   "cell_type": "code",
   "execution_count": null,
   "id": "4edef751-d1f6-4aaf-9c64-9e9466e4d121",
   "metadata": {},
   "outputs": [],
   "source": [
    "pkl_file = '/home/scai/phd/aiz218323/scratch/datasets/processed/mogicX/amazontitles_data-meta_distilbert-base-uncased_sxc.joblib'\n",
    "block = joblib.load(pkl_file)"
   ]
  },
  {
   "cell_type": "code",
   "execution_count": null,
   "id": "4686cd1e-7685-412a-87a9-ee67474691da",
   "metadata": {},
   "outputs": [],
   "source": [
    "dset = TextDataset(XCDataset._initialize(block.test.dset))"
   ]
  },
  {
   "cell_type": "code",
   "execution_count": null,
   "id": "e0ee5011-1797-4a53-9668-c6fcd18a2ab9",
   "metadata": {},
   "outputs": [],
   "source": []
  },
  {
   "cell_type": "code",
   "execution_count": null,
   "id": "29205a7b-7ab3-4441-9501-605608881f0d",
   "metadata": {},
   "outputs": [],
   "source": [
    "#| export\n",
    "def map_generation_to_data(data_dir, gen_title, gen_meta_text, data_type='test', prepend_title=True):\n",
    "    fname = f'{data_dir}/test.raw.txt' if data_type == 'test' else f'{data_dir}/train.raw.txt'\n",
    "    ids, text = load_raw_file(fname)\n",
    "    \n",
    "    mapping = {k:v for k,v in zip(gen_title, gen_meta_text)}\n",
    "    if prepend_title: meta_text = [f'{o} :: {mapping[o]}' if o in mapping else o for o in text]\n",
    "    else: meta_text = [mapping.get(o, '') for o in text]\n",
    "\n",
    "    return ids, text, meta_text\n"
   ]
  },
  {
   "cell_type": "code",
   "execution_count": null,
   "id": "f4e9c637-70b3-41c1-8c2d-c134f726de8b",
   "metadata": {},
   "outputs": [],
   "source": [
    "data_dir = '/home/scai/phd/aiz218323/scratch/datasets/benchmarks/(mapped)LF-AmazonTitles-1.3M/raw_data/'"
   ]
  },
  {
   "cell_type": "code",
   "execution_count": null,
   "id": "c18d997c-7504-41e3-ae85-32403446e45d",
   "metadata": {},
   "outputs": [],
   "source": [
    "tst_ids, tst_text, tst_entity_text = map_generation_to_data(data_dir, tst_title, tst_entity, prepend_title=False)"
   ]
  },
  {
   "cell_type": "code",
   "execution_count": null,
   "id": "e007b525-f43d-4769-8100-08f239ab9da9",
   "metadata": {},
   "outputs": [],
   "source": [
    "_, _, tst_category_text = map_generation_to_data(data_dir, tst_title, tst_category, prepend_title=False)"
   ]
  },
  {
   "cell_type": "code",
   "execution_count": null,
   "id": "4f1751a7-ae8f-4b1e-a5cb-43c2e9170404",
   "metadata": {},
   "outputs": [],
   "source": []
  },
  {
   "cell_type": "code",
   "execution_count": null,
   "id": "230e1bd7-5cf6-4e3c-8957-848170764e69",
   "metadata": {},
   "outputs": [],
   "source": [
    "dset.dset.data.data_info['entity_text'] = tst_entity_text\n",
    "dset.dset.data.data_info['category_text'] = tst_category_text\n",
    "\n",
    "dset.dset.data.data_info_keys.extend(['entity_text', 'category_text'])"
   ]
  },
  {
   "cell_type": "code",
   "execution_count": null,
   "id": "80b09a4a-b6b7-4be7-aa69-1e7d3c736762",
   "metadata": {},
   "outputs": [],
   "source": []
  },
  {
   "cell_type": "code",
   "execution_count": null,
   "id": "afd209cf-013f-41f3-9928-329ee6638f9d",
   "metadata": {},
   "outputs": [
    {
     "name": "stdout",
     "output_type": "stream",
     "text": [
      "\u001b[5m\u001b[7m\u001b[34mdata_input_text\u001b[0m \u001b[34m: Integrated Chinese: Level 1, Part 2 Character Workbook (Traditional & Simplified Character) (Chinese Edition) 3rd (third) Edition by Tao-Chung Yao published by Cheng & Tsui (2008) Paperback\u001b[0m\n",
      "\u001b[5m\u001b[7m\u001b[91mdata_entity_text\u001b[0m \u001b[91m: Integrated:Other_Entity, Chinese:Other_Entity, ::O, Level:Spec_Attribute, 1:Spec_Attribute, ,:O, Part:Spec_Attribute, 2:Spec_Attribute, Character:Spec_Attribute, Workbook:Product, (:O, Traditional:Spec_Attribute, &:O, Simplified:Spec_Attribute, Character:Spec_Attribute, ):O, (:O, Chinese:Other_Entity, Edition:Spec_Attribute, ):O, 3rd:Spec_Attribute, (:O, third:Spec_Attribute, ):O, Edition:Spec_Attribute, by:O, Tao-Chung:Personal_Name, Yao:Personal_Name, published:O, by:O, Cheng:Brand, &:O, Tsui:Brand, (:O, 2008:Spec_Attribute, ):O, Paperback:Spec_Attribute\u001b[0m\n",
      "\u001b[5m\u001b[7m\u001b[36mdata_category_text\u001b[0m \u001b[36m: Language Learning Book\u001b[0m\n",
      "\u001b[5m\u001b[7m\u001b[96mlbl2data_input_text\u001b[0m \u001b[96m: ['Integrated Chinese: Textbook Simplified Characters, Level 1, Part 2 Simplified Text (Chinese Edition)', 'Integrated Chinese: Level 2, Part 1 Workbook (Simplified and Traditional Character, 3rd Edition) (Chinese Edition)', 'Integrated Chinese: Level 1, Part 2 Workbook (Simplified Character) (Chinese Edition)', 'Integrated Chinese: Level 2, Part 1 (Simplified and Traditional Character) Textbook (Chinese Edition)', 'Integrated Chinese: Level 1, Part 2 Audio CDs (3rd Edition) (Chinese Edition)', 'Integrated Chinese: Level 2, Part 1 (Simplified and Traditional Character) Character Workbook (Cheng & Tsui Chinese Language Series) (Chinese Edition)']\u001b[0m\n",
      "\u001b[5m\u001b[7m\u001b[94mcat2data_input_text\u001b[0m \u001b[94m: ['Books']\u001b[0m\n",
      "\u001b[5m\u001b[7m\u001b[90mcat2lbl2data_input_text\u001b[0m \u001b[90m: [['Books'], ['Books'], ['Books'], ['Books'], ['Books'], ['Books']]\u001b[0m\n",
      "\n",
      "\u001b[5m\u001b[7m\u001b[34mdata_input_text\u001b[0m \u001b[34m: Baffin Unisex Cush Insulated Slipper Booty\u001b[0m\n",
      "\u001b[5m\u001b[7m\u001b[91mdata_entity_text\u001b[0m \u001b[91m: Baffin:Brand, Unisex:Spec_Attribute, Cush:Product_Models, Insulated:Spec_Attribute, Slipper:Product, Booty:Product\u001b[0m\n",
      "\u001b[5m\u001b[7m\u001b[36mdata_category_text\u001b[0m \u001b[36m: Footwear\u001b[0m\n",
      "\u001b[5m\u001b[7m\u001b[96mlbl2data_input_text\u001b[0m \u001b[96m: ['Light My Fire Titanium Spork', '35 Degree Below Winter Insoles - 2 Pairs', 'Baffin Base Camp Insulated Bootie', 'Baffin Unisex Cush Insulated Slipper']\u001b[0m\n",
      "\u001b[5m\u001b[7m\u001b[94mcat2data_input_text\u001b[0m \u001b[94m: ['Clothing, Shoes & Jewelry', 'Women', 'Men', 'Shoes', 'Shoes & Accessories: International Shipping Available', 'Slippers', 'B', 'Winter Promo', 'Baffin']\u001b[0m\n",
      "\u001b[5m\u001b[7m\u001b[90mcat2lbl2data_input_text\u001b[0m \u001b[90m: [['Sports & Outdoors', 'Outdoor Gear', 'Camping & Hiking', 'Camp Kitchen', 'Dishes & Utensils', 'Flatware'], ['Health & Personal Care', 'Foot Care', 'Health Care', 'Inserts & Insoles', 'Insoles'], ['Clothing, Shoes & Jewelry', 'Men', 'Shoes', 'Slippers'], ['Clothing, Shoes & Jewelry', 'Women', 'Men', 'Shoes', 'Shoes & Accessories: International Shipping Available', 'Slippers', 'B', 'Winter Promo', 'Baffin']]\u001b[0m\n",
      "\n",
      "\u001b[5m\u001b[7m\u001b[34mdata_input_text\u001b[0m \u001b[34m: Bergin Nut Company Organic Medjool Dates, 14-Ounce Bags (Pack of 2)\u001b[0m\n",
      "\u001b[5m\u001b[7m\u001b[91mdata_entity_text\u001b[0m \u001b[91m: Bergin:Brand, Nut:Brand, Company:Brand, Organic:Spec_Attribute, Medjool:Product, Dates:Product, ,:O, 14-Ounce:Spec_Attribute, Bags:Spec_Attribute, (:O, Pack:Spec_Attribute, of:O, 2:Spec_Attribute, ):O\u001b[0m\n",
      "\u001b[5m\u001b[7m\u001b[36mdata_category_text\u001b[0m \u001b[36m: Food & Grocery\u001b[0m\n",
      "\u001b[5m\u001b[7m\u001b[96mlbl2data_input_text\u001b[0m \u001b[96m: ['Navitas Naturals Organic Raw Cacao Powder, 16-Ounce Pouches (Pack of 2)', 'Paderno World Cuisine A4982799 Tri-Blade Plastic Spiral Vegetable Slicer', 'RAW ORGANIC ALMOND BUTTER 16 OZ', 'Grassfed Organic Ghee 7.8 Oz - Pure Indian Foods(R) Brand', 'Navitas Naturals Organic Raw Chia Seeds,  1 Pound  Pouches', 'Nutiva Organic Chia Seeds, 12-Ounce Bag', 'Natural Value Coconut Milk, 13.5 Ounce Cans (Pack of 12)', 'Navitas Naturals Organic Raw Maca Powder,  1 Pound  Pouches', 'Navitas Naturals Organic Coconut Palm Sugar,  1 Pound  Pouches (Pack of 2)', 'Navitas Naturals Organic Goji Berries,  1 Pound  Pouches', 'Now Foods Certified Organic Walnuts, Raw Halves and Pieces (Unsalted), 12-Ounce Bag', \"Bob's Red Mill Natural Raw Sunflower Seeds, 20-Ounce Packages (Pack of 4)\", 'Raw Organic Cashew Butter-16 ozs.', 'Blanched Almond Meal Flour, 5 lbs.', \"Bob's Red Mill Shredded Coconut Unsweetened, 12-Ounce Bags (Pack of 4)\", 'Nutiva Organic Shelled Hemp Seed, 12-Ounce Pouches (Pack of 2)', '5 Lbs Almonds, Imported Italian, Organic, Non Pasteurized (Raw)', 'Navitas Naturals Organic Lucuma Powder, 8-Ounce Pouches (Pack of 2)', 'Coconut Secret Raw Organic Vegan Coconut Aminos 8 Fl Oz', 'Kevala Organic Tahini 16 oz', 'Artisana - 100% Organic Raw Coconut Butter - 16 oz.', 'Sunfood Goji Berries, Certified Organic, Non-GMO, 8oz', \"Let's Do Organic Creamed Coconut, 7-Ounce Boxes (Pack of 6)\", 'Enjoy Life Semi-Sweet Chocolate Chips, Gluten, Dairy, nut & Soy Free, Mini Chips, 10-Ounce Bags (Pack of 6)', 'Native Forest Organic Classic Coconut Milk, 13.5-Ounce Cans (Pack of 12)', \"Bob's Red Mill Organic Coconut Flour, 16-Ounce Units (Pack of 4)\", \"Bob's Red Mill Flaked Coconut Unsweetened,  4 - 12-Ounce Bags\", \"Newman's Own Organics Organic California Raisins, 15-Ounce Cans (Pack of 6)\", 'U.S.A Grown Garbanzo Beans 5 LBS | 100% Non-Irradiated | Certified Kosher Parve | Non-GMO Project Verified |Identity Preserved (We tell you which field we grew it in)', \"Let's Do Organic Shredded, Unsweetened Coconut, 8-Ounce Packages (Pack of 12)\", 'Navitas Naturals Organic Mulberries, 8-Ounce Pouch', 'Terrasoul Superfoods Raw Unpasteurized Organic Almonds (Sproutable), 2 lbs', \"Bob's Red Mill Organic Whole Grain Buckwheat Groats Raw, 16-Ounce Packages (Pack of 4)\", 'Bergin Nut Company Brazil Nuts Whole Raw, 16-Ounce Bags (Pack of 2)', 'Tangy Camu Camu Powder Sunfood 3.5 oz Bag', \"Bob's Red Mill All-Natural Sun-Dried Raisins Unsulphured Nat, 16-Ounce Packages (Pack of 4)\", 'Braga Organic Farms Pumpkin Seeds, Raw, 2 Pound', \"Bob's Red Mill Organic Grain Quinoa, 26-Ounce Packages (Pack of 4)\", 'YS Organic Bee Farms CERTIFIED ORGANIC RAW HONEY 100% CERTIFIED ORGANIC HONEY Raw, Unprocessed, Unpasteurized - Kosher 32oz', 'Manitoba Harvest Hemp Hearts Shelled Hemp Seed, 8 Ounce Bags (Pack of 2)', 'Nutiva Organic Extra Virgin Coconut Oil, 15-Ounce (Pack of 2)', 'Raw Organic Cashews (1 Pound Bag)', 'Navitas Naturals Organic Raw Cashews,  1 Pound  Pouch (Pack of 2)', 'Spicy World Whole Raw Cashews, 3 Pound', 'Raw Whole Macadamias (1 Pound Bag)', 'Braga Organic Farms Dried Cranberries, 2 Pound', 'Jansal Valley Medjool Dates, 1 Pound', 'Spicy World Almonds Whole (Natural and Raw), 4 Pound', 'Raw Organic Cashews-5 lbs.', 'Bergin Nut Company Organic Medjool Dates, 14 Ounce Bag', 'Navitas Naturals Organic Raw Cacao Powder, 8-Ounce Pouches (Pack of 2)', 'Two Pounds Of Dates Pitted - We Got Nuts', 'Two Pounds Of Medjool Dates - We Got Nuts', 'Go Raw Sprouted Pumpkin Seeds, 1 Pound Bags (Pack of 2)', \"Newman's Own Organics California Prunes  6-Ounce Pouches (Pack of 12)\", 'Braga Organic Farms Cashews, Raw, 2 Pound', 'Braga Organic Farms Almonds, Natural, 2 Pound', \"Bob's Red Mill Organic Oats Rolled Regular, 32-Ounce (Pack of 4)\", '4 lbs Organic (USDA Certified) Sun Dried California Raisins by SunMaid 2 x 2lbs Resealable Bags', 'Dried Fruit APRICOT, 100% Organic Unsulphured, 1Lb', 'United With Earth Medjool Dates, 16-Ounce Containers (Pack of 4)', 'Mariani Pitted Dates 100% Natural Fat Free, 40-Ounce', 'Jumbo Medjool Dates (1 Pound Bag) - Sincerely Nuts', 'Made In Nature Organic Club Pack, Calimyrna Figs, 40-Ounce', 'SunFood Sweet Mesquite Powder Organic -- 8 oz', 'Raw Organic Almonds (1 Pound Bulk) - Sincerely Nuts', 'Davis Lewis Orchards Pitted Organic Deglet Date, 10 Ounce', 'Made In Nature Organic Plums, Pitted, Dried and Unsulfured, 6-Ounce Bags (Pack of 6)', 'Sincerely NutsÂ® Medjool Dates 5 LB', 'Bergin Nut Company Almonds, Raw Almonds, 16-Ounce Bags (Pack of 2)', 'Bergin Nut Company Walnuts Halves and Pieces, 11-Ounce Bags (Pack of 3)', 'Medjool Dates, 1 LB by We Got Nuts']\u001b[0m\n",
      "\u001b[5m\u001b[7m\u001b[94mcat2data_input_text\u001b[0m \u001b[94m: ['Grocery & Gourmet Food']\u001b[0m\n",
      "\u001b[5m\u001b[7m\u001b[90mcat2lbl2data_input_text\u001b[0m \u001b[90m: [['Grocery & Gourmet Food'], ['Home & Kitchen', 'Kitchen & Dining', 'Kitchen Utensils & Gadgets', 'Graters, Peelers & Slicers', 'Mandolines & Slicers'], ['Grocery & Gourmet Food'], ['Grocery & Gourmet Food'], ['Grocery & Gourmet Food'], ['Grocery & Gourmet Food'], ['Grocery & Gourmet Food', 'Cooking & Baking'], ['Grocery & Gourmet Food'], ['Grocery & Gourmet Food'], ['Grocery & Gourmet Food'], ['Grocery & Gourmet Food', 'Cooking & Baking', 'Nuts & Seeds', 'Cashews'], ['Grocery & Gourmet Food'], ['Grocery & Gourmet Food'], ['Grocery & Gourmet Food'], ['Grocery & Gourmet Food'], ['Grocery & Gourmet Food'], ['Grocery & Gourmet Food'], ['Grocery & Gourmet Food'], ['Grocery & Gourmet Food'], ['Grocery & Gourmet Food'], ['Grocery & Gourmet Food'], ['Health & Personal Care', 'Vitamins & Dietary Supplements', 'Herbal Supplements'], ['Grocery & Gourmet Food'], ['Grocery & Gourmet Food'], ['Grocery & Gourmet Food'], ['Grocery & Gourmet Food'], ['Grocery & Gourmet Food'], ['Grocery & Gourmet Food'], ['Grocery & Gourmet Food'], ['Grocery & Gourmet Food'], ['Grocery & Gourmet Food'], ['Grocery & Gourmet Food'], ['Grocery & Gourmet Food'], ['Grocery & Gourmet Food'], ['Health & Personal Care', 'Vitamins & Dietary Supplements', 'Herbal Supplements'], ['Grocery & Gourmet Food'], ['Grocery & Gourmet Food'], ['Grocery & Gourmet Food'], ['Grocery & Gourmet Food', 'Cooking & Baking', 'Syrups, Sugars & Sweeteners', 'Honey'], ['Grocery & Gourmet Food'], ['Grocery & Gourmet Food'], ['Grocery & Gourmet Food'], ['Grocery & Gourmet Food'], ['Grocery & Gourmet Food'], ['Grocery & Gourmet Food'], ['Grocery & Gourmet Food'], ['Grocery & Gourmet Food'], ['Grocery & Gourmet Food'], ['Grocery & Gourmet Food'], ['Grocery & Gourmet Food'], ['Grocery & Gourmet Food'], ['Grocery & Gourmet Food'], ['Grocery & Gourmet Food'], ['Grocery & Gourmet Food'], ['Grocery & Gourmet Food'], ['Grocery & Gourmet Food'], ['Grocery & Gourmet Food'], ['Grocery & Gourmet Food'], ['Grocery & Gourmet Food'], ['Grocery & Gourmet Food'], ['Grocery & Gourmet Food'], ['Grocery & Gourmet Food'], ['Grocery & Gourmet Food'], ['Grocery & Gourmet Food'], ['Grocery & Gourmet Food'], ['Grocery & Gourmet Food'], ['Grocery & Gourmet Food'], ['Grocery & Gourmet Food'], ['Grocery & Gourmet Food'], ['Grocery & Gourmet Food'], ['Grocery & Gourmet Food'], ['Grocery & Gourmet Food']]\u001b[0m\n",
      "\n",
      "\u001b[5m\u001b[7m\u001b[34mdata_input_text\u001b[0m \u001b[34m: Different Directions\u001b[0m\n",
      "\u001b[5m\u001b[7m\u001b[91mdata_entity_text\u001b[0m \u001b[91m: Different:Other_Entity, Directions:Other_Entity\u001b[0m\n",
      "\u001b[5m\u001b[7m\u001b[36mdata_category_text\u001b[0m \u001b[36m: Music Album\u001b[0m\n",
      "\u001b[5m\u001b[7m\u001b[96mlbl2data_input_text\u001b[0m \u001b[96m: [\"A Song's Best Friend - John Denver Remembered\", 'Celebration of Life - The Last Recordings', 'Earth Songs', 'One World', 'Rick Sings Nelson/Rudy the Fifth', 'Forever John', 'The John Denver Collection [Laserlight]']\u001b[0m\n",
      "\u001b[5m\u001b[7m\u001b[94mcat2data_input_text\u001b[0m \u001b[94m: ['CDs & Vinyl', 'Pop', 'Rock', 'Singer-Songwriters', 'Soft Rock', 'Country', 'Folk Rock', 'Folk', 'Digital Music']\u001b[0m\n",
      "\u001b[5m\u001b[7m\u001b[90mcat2lbl2data_input_text\u001b[0m \u001b[90m: [['Movies & TV', 'CDs & Vinyl', 'TV', 'Pop', 'Rock', 'Singer-Songwriters', 'Soft Rock', 'Folk Rock'], ['CDs & Vinyl', 'Pop', 'Rock', 'Singer-Songwriters', 'Soft Rock', 'Folk'], ['CDs & Vinyl', 'Pop', 'Rock', 'Folk Rock'], ['CDs & Vinyl', 'Pop', 'Rock', 'Singer-Songwriters', 'Soft Rock', 'Folk Rock', 'Folk'], ['CDs & Vinyl', 'Pop', 'Rock', 'Singer-Songwriters', 'Country', 'Folk', 'Oldies & Retro', 'Rockabilly', 'Country Rock', 'Oldies'], ['CDs & Vinyl', 'Pop', 'Rock', 'Singer-Songwriters', 'Soft Rock', 'Folk Rock', 'Folk', 'Easy Listening'], ['CDs & Vinyl', 'Pop', 'Rock', 'Singer-Songwriters', 'Soft Rock', 'Country', \"Today's Country\", 'Folk Rock', 'Folk', 'Country Rock', 'Oldies', 'Easy Listening']]\u001b[0m\n",
      "\n",
      "\u001b[5m\u001b[7m\u001b[34mdata_input_text\u001b[0m \u001b[34m: Gleanings of Freedom: Free and Slave Labor along the Mason-Dixon Line, 1790-1860 (Working Class in American History)\u001b[0m\n",
      "\u001b[5m\u001b[7m\u001b[91mdata_entity_text\u001b[0m \u001b[91m: Gleanings:Other_Entity, of:O, Freedom:Other_Entity, ::O, Free:Other_Entity, and:O, Slave:Other_Entity, Labor:Other_Entity, along:O, the:O, Mason-Dixon:Other_Entity, Line:Other_Entity, ,:O, 1790-1860:Other_Entity, (:O, Working:Other_Entity, Class:Other_Entity, in:O, American:Other_Entity, History:Other_Entity, ):O\u001b[0m\n",
      "\u001b[5m\u001b[7m\u001b[36mdata_category_text\u001b[0m \u001b[36m: American History Book\u001b[0m\n",
      "\u001b[5m\u001b[7m\u001b[96mlbl2data_input_text\u001b[0m \u001b[96m: ['The Chesapeake House: Architectural Investigation by Colonial Williamsburg', 'Joining Places: Slave Neighborhoods in the Old South (The John Hope Franklin Series in African American History and Culture)']\u001b[0m\n",
      "\u001b[5m\u001b[7m\u001b[94mcat2data_input_text\u001b[0m \u001b[94m: ['Books']\u001b[0m\n",
      "\u001b[5m\u001b[7m\u001b[90mcat2lbl2data_input_text\u001b[0m \u001b[90m: [['Books'], ['Books']]\u001b[0m\n",
      "\n",
      "\u001b[5m\u001b[7m\u001b[34mdata_input_text\u001b[0m \u001b[34m: 1.\u001b[0m\n",
      "\u001b[5m\u001b[7m\u001b[91mdata_entity_text\u001b[0m \u001b[91m: 1:O, .:O\u001b[0m\n",
      "\u001b[5m\u001b[7m\u001b[36mdata_category_text\u001b[0m \u001b[36m: Not_Sure\u001b[0m\n",
      "\u001b[5m\u001b[7m\u001b[96mlbl2data_input_text\u001b[0m \u001b[96m: ['Tyranny']\u001b[0m\n",
      "\u001b[5m\u001b[7m\u001b[94mcat2data_input_text\u001b[0m \u001b[94m: ['CDs & Vinyl', 'Health & Personal Care', 'Pop', 'Rock', 'Personal Care', 'Metal', 'Deodorants', 'Feminine Care']\u001b[0m\n",
      "\u001b[5m\u001b[7m\u001b[90mcat2lbl2data_input_text\u001b[0m \u001b[90m: [['CDs & Vinyl', 'Alternative Rock', 'Indie & Lo-Fi', 'Indie Rock', 'Pop', 'Rock', 'Metal', 'Progressive', 'Progressive Rock', 'Pop Metal']]\u001b[0m\n",
      "\n",
      "\u001b[5m\u001b[7m\u001b[34mdata_input_text\u001b[0m \u001b[34m: Final Fantasy XIII-2: The Complete Official Guide - Collector's Edition\u001b[0m\n",
      "\u001b[5m\u001b[7m\u001b[91mdata_entity_text\u001b[0m \u001b[91m: Final:Media_Title, Fantasy:Media_Title, XIII-2:Media_Title, ::O, The:O, Complete:Other_Entity, Official:Other_Entity, Guide:Other_Entity, -:O, Collector's:Other_Entity, Edition:Other_Entity\u001b[0m\n",
      "\u001b[5m\u001b[7m\u001b[36mdata_category_text\u001b[0m \u001b[36m: Video Game Guide\u001b[0m\n",
      "\u001b[5m\u001b[7m\u001b[96mlbl2data_input_text\u001b[0m \u001b[96m: ['Dawn: The Worlds of Final Fantasy', 'The Sky: The Art of Final Fantasy Slipcased Edition', 'Conception II: Children of the Seven Stars - PlayStation Vita', \"Watch Dogs Collector's Edition: Prima Official Game Guide\", 'Final Fantasy X-X2 HD Remaster Official Strategy Guide', 'Tomb Raider Limited Edition Strategy Guide', \"Assassin's Creed III - The Complete Official Guide - Collector's Edition\", \"Dark Souls II Collector's Edition Strategy Guide\", 'BioShock Infinite Limited Edition Strategy Guide (Bradygames Strategy Guides)', 'South Park: The Stick of Truth: Prima Official Game Guide (Prima Official Game Guides)', 'Resident Evil 6 Limited Edition Strategy Guide', 'Fable Anniversary: Prima Official Game Guide (Prima Official Game Guides)', 'Titanfall Limited Edition: Prima Official Game Guide', \"The Legend of Zelda: A Link Between Worlds Collector's Edition: Prima Official Game Guide\", 'The Legend of Zelda Box Set: Prima Official Game Guide', 'Disgaea D2: A Brighter Darkness: Prima Official Game Guide', 'Final Fantasy IX Official Strategy Guide (Video Game Books)', 'Final Fantasy VIII Official Strategy Guide (Video Game Books)', 'Square Enix DC Comics Variant Play Arts Kai Batman Red Costume Action Figure']\u001b[0m\n",
      "\u001b[5m\u001b[7m\u001b[94mcat2data_input_text\u001b[0m \u001b[94m: ['Books']\u001b[0m\n",
      "\u001b[5m\u001b[7m\u001b[90mcat2lbl2data_input_text\u001b[0m \u001b[90m: [['Books'], ['Books'], ['Video Games', 'Games', 'PlayStation Vita'], ['Books'], ['Books'], ['Books'], ['Books'], ['Books'], ['Books'], ['Books'], ['Books'], ['Books'], ['Books'], ['Books'], ['Books'], ['Books'], ['Books'], ['Books'], ['Toys & Games', 'Grown-Up Toys', 'Action & Toy Figures']]\u001b[0m\n",
      "\n",
      "\u001b[5m\u001b[7m\u001b[34mdata_input_text\u001b[0m \u001b[34m: Borderlands/La Frontera: The New Mestiza\u001b[0m\n",
      "\u001b[5m\u001b[7m\u001b[91mdata_entity_text\u001b[0m \u001b[91m: Borderlands:Other_Entity, /:O, La:Other_Entity, Frontera:Other_Entity, ::O, The:O, New:Other_Entity, Mestiza:Other_Entity\u001b[0m\n",
      "\u001b[5m\u001b[7m\u001b[36mdata_category_text\u001b[0m \u001b[36m: Cultural Studies Book\u001b[0m\n",
      "\u001b[5m\u001b[7m\u001b[96mlbl2data_input_text\u001b[0m \u001b[96m: ['Monkey: Folk Novel of China', 'The Wretched of the Earth', 'Orientalism', 'The House on Mango Street', \"The Bhagavad-Gita : Krishna's Counsel in Time of War (Bantam Classics)\", 'Bless Me, Ultima', 'Teaching to Transgress: Education as the Practice of Freedom (Harvest in Translation)', 'Decolonizing Methodologies: Research and Indigenous Peoples', 'Conquest: Sexual Violence and American Indian Genocide', 'Tao Te Ching', 'Pedagogy of the Oppressed, 30th Anniversary Edition', \"Man's Search For Meaning\", 'Five Dialogues', \"Aristotle's Nicomachean Ethics (Focus Philosophical Library Series)\", 'The Epic of Gilgamesh: An English Verison with an Introduction', 'The Epic of Gilgamesh (Penguin Classics)', 'Gender Trouble: Feminism and the Subversion of Identity (Routledge Classics)', 'The History of Sexuality, Vol. 1: An Introduction', 'Black Feminist Thought: Knowledge, Consciousness, and the Politics of Empowerment (Routledge Classics)', '...y no se lo tragÃ³ la tierra / ...And the Earth Did Not Devour Him (English and Spanish Edition)', 'Mexico Profundo: Reclaiming a Civilization', 'Dreaming in Cuban', 'The Buddha of Suburbia', 'Feminist Theory: From Margin to Center', 'Feminism without Borders: Decolonizing Theory, Practicing Solidarity', 'Woman Hollering Creek: And Other Stories', 'Tierra de todos: Nuestro momento para crear una naciÃ³n de iguales (Vintage Espanol) (Spanish Edition)', 'Down These Mean Streets', 'George Washington Gomez: A Mexicotexan Novel', 'Beautiful SeÃ±oritas & Other Plays', \"Death and the King's Horseman: Authoritative Text, Backgrounds and Contexts, Criticism, Norton\", 'Rain God', 'An Account, Much Abbreviated, of the Destruction of the Indies With Related Texts', 'We Came All the Way from Cuba So You Could Dress Like This?: Stories', 'Making Face, Making Soul/Haciendo Caras: Creative and Critical Perspectives by Feminists of Color', 'Song of the Hummingbird', 'Mornings in Jenin: A Novel', 'Ancient Futures: Lessons from Ladakh for a Globalizing World', 'The Woman Who Watches Over the World: A Native Memoir', 'CanÃ\\xadcula: Snapshots of a Girlhood en la Frontera', 'Latino Images in Film: Stereotypes, Subversion, and Resistance (Texas Film and Media Studies Series)', 'A Xicana Codex of Changing Consciousness: Writings, 2000â\\x80\\x932010']\u001b[0m\n",
      "\u001b[5m\u001b[7m\u001b[94mcat2data_input_text\u001b[0m \u001b[94m: ['Books']\u001b[0m\n",
      "\u001b[5m\u001b[7m\u001b[90mcat2lbl2data_input_text\u001b[0m \u001b[90m: [['Books'], ['Books'], ['Books'], ['Books'], ['Books'], ['Books'], ['Books'], ['Books'], ['Books'], ['Books'], ['Books'], ['Books'], ['Books'], ['Books'], ['Books'], ['Books'], ['Books'], ['Books'], ['Books'], ['Books'], ['Books'], ['Books'], ['Books'], ['Books'], ['Books'], ['Books'], ['Books'], ['Books'], ['Books'], ['Books'], ['Books'], ['Books'], ['Books'], ['Books'], ['Books'], ['Books'], ['Books'], ['Books'], ['Books'], ['Books'], ['Books'], ['Books']]\u001b[0m\n",
      "\n",
      "\u001b[5m\u001b[7m\u001b[34mdata_input_text\u001b[0m \u001b[34m: Study Guide for Technical Analysis Explained : The Successful Investor's Guide to Spotting Investment Trends and Turning Points\u001b[0m\n",
      "\u001b[5m\u001b[7m\u001b[91mdata_entity_text\u001b[0m \u001b[91m: Study:Other_Entity, Guide:Other_Entity, for:Other_Entity, Technical:Other_Entity, Analysis:Other_Entity, Explained:Other_Entity, ::O, The:O, Successful:Spec_Attribute, Investor's:Other_Entity, Guide:Other_Entity, to:O, Spotting:Other_Entity, Investment:Other_Entity, Trends:Other_Entity, and:O, Turning:Other_Entity, Points:Other_Entity\u001b[0m\n",
      "\u001b[5m\u001b[7m\u001b[36mdata_category_text\u001b[0m \u001b[36m: Investment Book\u001b[0m\n",
      "\u001b[5m\u001b[7m\u001b[96mlbl2data_input_text\u001b[0m \u001b[96m: ['The How to Make Money in Stocks Complete Investing System: Your Ultimate Guide to Winning in Good Times and Bad', 'How to Make Money in Stocks Getting Started: A Guide to Putting Can Slim Concepts into Action', 'Trading for a Living: Psychology, Trading Tactics, Money Management', 'Japanese Candlestick Charting Techniques, Second Edition', 'High probability trading : take the steps to become a successful trader', 'Technical Analysis of the Financial Markets: A Comprehensive Guide to Trading Methods and Applications (New York Institute of Finance)', 'Trend Following (Updated Edition): Learn to Make Millions in Up or Down Markets', 'Mastering the Trade, Second Edition: Proven Techniques for Profiting from Intraday and Swing Trading Setups', 'Trading Systems and Methods, + Website', 'Technical Analysis For Dummies', 'Candlestick Charting Explained: Timeless Techniques for Trading Stocks and Futures', 'Trading with Intermarket Analysis: A Visual Approach to Beating the Financial Markets Using Exchange-Traded Funds', 'Beyond Candlesticks: New Japanese Charting Techniques Revealed', 'The Definitive Guide to Point and Figure: A Comprehensive Guide to the Theory and Practical Use of the Point and Figure Charting Method', 'Technical Analysis of Stock Trends', 'Visual Guide to Elliott Wave Trading', \"Technical Analysis Explained, Fifth Edition: The Successful Investor's Guide to Spotting Investment Trends and Turning Points\", 'Bollinger on Bollinger Bands', 'Technically Speaking', 'Candlestick Charting Explained Workbook:  Step-by-Step Exercises and Tests to Help You Master Candlestick Charting', 'The Encyclopedia Of Technical Market Indicators, Second Edition', 'Investment Psychology Explained: Classic Strategies to Beat the Markets', \"Technician's Guide to Day and Swing Trading\", 'George Lindsay and the Art of Technical Analysis: Trading Systems of a Market Master']\u001b[0m\n",
      "\u001b[5m\u001b[7m\u001b[94mcat2data_input_text\u001b[0m \u001b[94m: ['Books']\u001b[0m\n",
      "\u001b[5m\u001b[7m\u001b[90mcat2lbl2data_input_text\u001b[0m \u001b[90m: [['Books'], ['Books'], ['Books'], ['Books'], ['Books'], ['Books'], ['Books'], ['Books'], ['Books'], ['Books'], ['Books'], ['Books'], ['Books'], ['Books'], ['Books'], ['Books'], ['Books'], ['Books'], ['Books'], ['Books'], ['Books'], ['Books'], ['Books'], ['Books']]\u001b[0m\n",
      "\n",
      "\u001b[5m\u001b[7m\u001b[34mdata_input_text\u001b[0m \u001b[34m: Downton Abbey \"Jeweled Heirlooms Boxed\" Silver Tone Belle Epoch Pearshape Blue Sapphire Drop Earrings\u001b[0m\n",
      "\u001b[5m\u001b[7m\u001b[91mdata_entity_text\u001b[0m \u001b[91m: Downton:Media_Title, Abbey:Media_Title, \":O, Jeweled:Spec_Attribute, Heirlooms:Spec_Attribute, Boxed:Spec_Attribute, \":O, Silver:Spec_Attribute, Tone:Spec_Attribute, Belle:Spec_Attribute, Epoch:Spec_Attribute, Pearshape:Spec_Attribute, Blue:Spec_Attribute, Sapphire:Spec_Attribute, Drop:Spec_Attribute, Earrings:Product\u001b[0m\n",
      "\u001b[5m\u001b[7m\u001b[36mdata_category_text\u001b[0m \u001b[36m: Jewelry\u001b[0m\n",
      "\u001b[5m\u001b[7m\u001b[96mlbl2data_input_text\u001b[0m \u001b[96m: ['Cesar Canine Cuisine Variety Pack (Filet Mignon, Porterhouse Steak) for Small Dogs, 3.5-Ounce Trays (Pack of 24)', 'Exquisite Seed Bead Sequined Leaf Clutch Purse Evening Handbag w/ Hidden Handle']\u001b[0m\n",
      "\u001b[5m\u001b[7m\u001b[94mcat2data_input_text\u001b[0m \u001b[94m: ['Clothing, Shoes & Jewelry', 'Novelty, Costumes & More', 'Women', 'Jewelry', 'Novelty', 'Earrings', 'Fashion', 'Jewelry: International Shipping Available', 'Shop by Designer', 'Drop & Dangle']\u001b[0m\n",
      "\u001b[5m\u001b[7m\u001b[90mcat2lbl2data_input_text\u001b[0m \u001b[90m: [['Pet Supplies', 'Dogs', 'Food', 'Wet', 'Canned'], ['Clothing, Shoes & Jewelry', 'Women', 'Handbags & Wallets', 'Evening Bags']]\u001b[0m\n",
      "\n"
     ]
    }
   ],
   "source": [
    "dset.show()"
   ]
  },
  {
   "cell_type": "code",
   "execution_count": null,
   "id": "18d4cd45-a050-4683-877a-1da10e43832e",
   "metadata": {},
   "outputs": [],
   "source": []
  },
  {
   "cell_type": "markdown",
   "id": "7d753ae0-54d1-47dd-80d6-829c8e42229d",
   "metadata": {},
   "source": [
    "## Extract and save raw file"
   ]
  },
  {
   "cell_type": "code",
   "execution_count": null,
   "id": "4ebbb126-1c8e-44d1-97af-920b6b7be3b3",
   "metadata": {},
   "outputs": [],
   "source": [
    "#| export\n",
    "def extract_and_save_generations(generation_dir, data_dir, data_type, tag, save_tag, prepend_title):\n",
    "    gen_title, gen_text = collate_generations(generation_dir, tag=tag)\n",
    "\n",
    "    ids, text, meta_text = map_generation_to_data(data_dir, gen_title, gen_text, data_type, prepend_title)\n",
    "    \n",
    "    fname = f'{data_dir}/test_{save_tag}.raw.txt' if data_type == 'test' else f'{data_dir}/train_{save_tag}.raw.txt'\n",
    "    save_raw_file(fname, ids, meta_text) \n",
    "    "
   ]
  },
  {
   "cell_type": "code",
   "execution_count": null,
   "id": "cfcfeac2-ff2e-4cbd-98ae-de5e2713cfed",
   "metadata": {},
   "outputs": [],
   "source": []
  },
  {
   "cell_type": "code",
   "execution_count": null,
   "id": "f91ba28f-680d-4b32-9a5f-0fb358e402e2",
   "metadata": {},
   "outputs": [],
   "source": [
    "tag = 'Label'\n",
    "data_dir = '/home/scai/phd/aiz218323/scratch/datasets/benchmarks/(mapped)LF-AmazonTitles-1.3M/raw_data/'"
   ]
  },
  {
   "cell_type": "code",
   "execution_count": null,
   "id": "c087d90c-f3b2-427c-ae8a-cfccd39a6334",
   "metadata": {},
   "outputs": [
    {
     "data": {
      "application/vnd.jupyter.widget-view+json": {
       "model_id": "c363dd7b735f4dd8bdb5e554df0f6842",
       "version_major": 2,
       "version_minor": 0
      },
      "text/plain": [
       "  0%|          | 0/49 [00:00<?, ?it/s]"
      ]
     },
     "metadata": {},
     "output_type": "display_data"
    }
   ],
   "source": [
    "generation_dir = '/home/scai/phd/aiz218323/scratch/datasets/benchmarks/LF-AmazonTitles-1.3M_generations/test-outputs/'\n",
    "data_type = 'test'\n",
    "extract_and_save_generations(generation_dir, data_dir, data_type, tag)"
   ]
  },
  {
   "cell_type": "code",
   "execution_count": null,
   "id": "69fdaf47-aac2-4560-930b-2d9a2609ed48",
   "metadata": {},
   "outputs": [
    {
     "data": {
      "application/vnd.jupyter.widget-view+json": {
       "model_id": "2a193859be034c689fd2301c7aa0060d",
       "version_major": 2,
       "version_minor": 0
      },
      "text/plain": [
       "  0%|          | 0/113 [00:00<?, ?it/s]"
      ]
     },
     "metadata": {},
     "output_type": "display_data"
    }
   ],
   "source": [
    "generation_dir = '/home/scai/phd/aiz218323/scratch/datasets/benchmarks/LF-AmazonTitles-1.3M_generations/train-outputs/'\n",
    "data_type = 'train'\n",
    "extract_and_save_generations(generation_dir, data_dir, data_type, tag)"
   ]
  },
  {
   "cell_type": "code",
   "execution_count": null,
   "id": "af0a9b0e-8488-4b95-9fcc-dfcd4361b913",
   "metadata": {},
   "outputs": [],
   "source": []
  },
  {
   "cell_type": "code",
   "execution_count": null,
   "id": "ea5318f2-bdc5-4249-8dcd-bcb917ce146a",
   "metadata": {},
   "outputs": [],
   "source": [
    "tag = 'Category'"
   ]
  },
  {
   "cell_type": "code",
   "execution_count": null,
   "id": "a4aa6453-e4d1-4322-b607-4e24a2666f3c",
   "metadata": {},
   "outputs": [
    {
     "data": {
      "application/vnd.jupyter.widget-view+json": {
       "model_id": "28011732535440c08e5e7b8dceef6347",
       "version_major": 2,
       "version_minor": 0
      },
      "text/plain": [
       "  0%|          | 0/49 [00:00<?, ?it/s]"
      ]
     },
     "metadata": {},
     "output_type": "display_data"
    }
   ],
   "source": [
    "generation_dir = '/home/scai/phd/aiz218323/scratch/datasets/benchmarks/LF-AmazonTitles-1.3M_generations/test-outputs/'\n",
    "data_type = 'test'\n",
    "extract_and_save_generations(generation_dir, data_dir, data_type, tag, save_tag='category', prepend_title=True)"
   ]
  },
  {
   "cell_type": "code",
   "execution_count": null,
   "id": "189359f8-6104-450d-8273-7ba616e99629",
   "metadata": {},
   "outputs": [
    {
     "data": {
      "application/vnd.jupyter.widget-view+json": {
       "model_id": "b6cc0f13c4d041b388efaa7124dde208",
       "version_major": 2,
       "version_minor": 0
      },
      "text/plain": [
       "  0%|          | 0/113 [00:00<?, ?it/s]"
      ]
     },
     "metadata": {},
     "output_type": "display_data"
    }
   ],
   "source": [
    "generation_dir = '/home/scai/phd/aiz218323/scratch/datasets/benchmarks/LF-AmazonTitles-1.3M_generations/train-outputs/'\n",
    "data_type = 'train'\n",
    "extract_and_save_generations(generation_dir, data_dir, data_type, tag, save_tag='category', prepend_title=True)"
   ]
  },
  {
   "cell_type": "code",
   "execution_count": null,
   "id": "9e5ac85f-7d23-4493-a72d-fe41bda119a7",
   "metadata": {},
   "outputs": [],
   "source": []
  },
  {
   "cell_type": "markdown",
   "id": "4642c500-1282-4873-b61e-db53a4fec26c",
   "metadata": {},
   "source": [
    "## Extract and save metadata"
   ]
  },
  {
   "cell_type": "code",
   "execution_count": null,
   "id": "76c8a630-c8ee-486a-81a5-2f1a0dd7f39e",
   "metadata": {},
   "outputs": [],
   "source": [
    "sep = None\n",
    "data_dir = '/home/scai/phd/aiz218323/scratch/datasets/benchmarks/(mapped)LF-AmazonTitles-1.3M/raw_data/'"
   ]
  },
  {
   "cell_type": "code",
   "execution_count": null,
   "id": "6e3b5115-46aa-410f-9068-0b036a32a6a9",
   "metadata": {},
   "outputs": [
    {
     "data": {
      "application/vnd.jupyter.widget-view+json": {
       "model_id": "973e71e66ecf4bff9f7c56ef1f2c076a",
       "version_major": 2,
       "version_minor": 0
      },
      "text/plain": [
       "  0%|          | 0/49 [00:00<?, ?it/s]"
      ]
     },
     "metadata": {},
     "output_type": "display_data"
    }
   ],
   "source": [
    "meta_dir = '/home/scai/phd/aiz218323/scratch/datasets/benchmarks/LF-AmazonTitles-1.3M_generations/test-outputs/'\n",
    "tst_title, tst_metadata = collate_metadata(meta_dir, tag=tag, sep=sep)"
   ]
  },
  {
   "cell_type": "code",
   "execution_count": null,
   "id": "fd2c832a-49a9-4274-aed9-a8099ac04edf",
   "metadata": {},
   "outputs": [
    {
     "data": {
      "application/vnd.jupyter.widget-view+json": {
       "model_id": "a31693346ee54d7bab51d07d2c8179f2",
       "version_major": 2,
       "version_minor": 0
      },
      "text/plain": [
       "  0%|          | 0/113 [00:00<?, ?it/s]"
      ]
     },
     "metadata": {},
     "output_type": "display_data"
    }
   ],
   "source": [
    "meta_dir = '/home/scai/phd/aiz218323/scratch/datasets/benchmarks/LF-AmazonTitles-1.3M_generations/train-outputs/'\n",
    "trn_title, trn_metadata = collate_metadata(meta_dir, tag=tag, sep=sep)"
   ]
  },
  {
   "cell_type": "code",
   "execution_count": null,
   "id": "a6cd7f8a-b5c3-4f1a-aee5-cce42c75682b",
   "metadata": {},
   "outputs": [],
   "source": []
  },
  {
   "cell_type": "code",
   "execution_count": null,
   "id": "0e5dc1e1-6220-488e-9db3-8173c21ef804",
   "metadata": {},
   "outputs": [],
   "source": [
    "mapping = dict()\n",
    "mapping.update({k:v for k,v in zip(trn_title, trn_metadata)})\n",
    "mapping.update({k:v for k,v in zip(tst_title, tst_metadata)})"
   ]
  },
  {
   "cell_type": "code",
   "execution_count": null,
   "id": "9258b193-9e8f-4051-a06b-d3ab88e34a94",
   "metadata": {},
   "outputs": [
    {
     "data": {
      "application/vnd.jupyter.widget-view+json": {
       "model_id": "233d5e4cbb16404590bd4fbfa98ec862",
       "version_major": 2,
       "version_minor": 0
      },
      "text/plain": [
       "  0%|          | 0/2829653 [00:00<?, ?it/s]"
      ]
     },
     "metadata": {},
     "output_type": "display_data"
    }
   ],
   "source": [
    "vocab, mapping_item2idx = create_vocab_and_item2idx(mapping)"
   ]
  },
  {
   "cell_type": "code",
   "execution_count": null,
   "id": "74daab45-95e1-41bd-b6ee-fb1dcac0b246",
   "metadata": {},
   "outputs": [],
   "source": [
    "vocab_ids = list(range(len(vocab)))\n",
    "vocab_text = sorted(vocab, key=lambda x: vocab[x])"
   ]
  },
  {
   "cell_type": "code",
   "execution_count": null,
   "id": "e01add46-8993-47e2-aa4e-036c9dd5051e",
   "metadata": {},
   "outputs": [],
   "source": []
  },
  {
   "cell_type": "code",
   "execution_count": null,
   "id": "02bf77da-a3ab-46d4-8d03-e00ea6aa9cf3",
   "metadata": {},
   "outputs": [],
   "source": [
    "trn_ids, trn_text = load_raw_file(f'{data_dir}/train.raw.txt')\n",
    "tst_ids, tst_text = load_raw_file(f'{data_dir}/test.raw.txt')\n",
    "lbl_ids, lbl_text = load_raw_file(f'{data_dir}/label.raw.txt')"
   ]
  },
  {
   "cell_type": "code",
   "execution_count": null,
   "id": "19eb1d29-2a9e-4eec-8c45-59598d39a867",
   "metadata": {},
   "outputs": [
    {
     "data": {
      "application/vnd.jupyter.widget-view+json": {
       "model_id": "d2ddeebcf15f44b0853d933fe940c82a",
       "version_major": 2,
       "version_minor": 0
      },
      "text/plain": [
       "  0%|          | 0/2248619 [00:00<?, ?it/s]"
      ]
     },
     "metadata": {},
     "output_type": "display_data"
    }
   ],
   "source": [
    "trn_matrix, trn_ids = get_matrix_from_item2idx(mapping_item2idx, len(vocab), ids=trn_text)"
   ]
  },
  {
   "cell_type": "code",
   "execution_count": null,
   "id": "78e9e5da-ffad-451b-b691-c29c6a674acb",
   "metadata": {},
   "outputs": [
    {
     "data": {
      "application/vnd.jupyter.widget-view+json": {
       "model_id": "a7f55e5d749a42fa9eb287461d47516e",
       "version_major": 2,
       "version_minor": 0
      },
      "text/plain": [
       "  0%|          | 0/970237 [00:00<?, ?it/s]"
      ]
     },
     "metadata": {},
     "output_type": "display_data"
    }
   ],
   "source": [
    "tst_matrix, tst_ids = get_matrix_from_item2idx(mapping_item2idx, len(vocab), ids=tst_text)"
   ]
  },
  {
   "cell_type": "code",
   "execution_count": null,
   "id": "be13cfde-e159-4bbc-b4ac-649297fbfe6a",
   "metadata": {},
   "outputs": [
    {
     "data": {
      "application/vnd.jupyter.widget-view+json": {
       "model_id": "26f1d3000e6e47ee901d32acdeada0ec",
       "version_major": 2,
       "version_minor": 0
      },
      "text/plain": [
       "  0%|          | 0/1305265 [00:00<?, ?it/s]"
      ]
     },
     "metadata": {},
     "output_type": "display_data"
    }
   ],
   "source": [
    "lbl_matrix, lbl_ids = get_matrix_from_item2idx(mapping_item2idx, len(vocab), ids=lbl_text)"
   ]
  },
  {
   "cell_type": "code",
   "execution_count": null,
   "id": "b41e3f5c-c933-4bfa-9147-7781c949c2f5",
   "metadata": {},
   "outputs": [],
   "source": []
  },
  {
   "cell_type": "code",
   "execution_count": null,
   "id": "1022700f-f59c-48d0-8bad-b67871a18f84",
   "metadata": {},
   "outputs": [],
   "source": [
    "def filter_vocab(vocab_ids, vocab_txt, trn_mat, tst_mat, lbl_mat=None):\n",
    "    valid_idx = np.where(trn_mat.getnnz(axis=0) > 0)[0]\n",
    "    if lbl_mat is not None:\n",
    "        lbl_idx = np.where(lbl_mat.getnnz(axis=0) > 0)[0]\n",
    "        valid_idx = np.union1d(valid_idx, lbl_idx)\n",
    "\n",
    "    trn_mat = trn_mat[:, valid_idx].copy()\n",
    "    tst_mat = tst_mat[:, valid_idx].copy()\n",
    "    if lbl_mat is not None: \n",
    "        lbl_mat = lbl_mat[:, valid_idx].copy()\n",
    "    \n",
    "    vocab_ids, vocab_txt = [vocab_ids[i] for i in valid_idx], [vocab_txt[i] for i in valid_idx]\n",
    "\n",
    "    return vocab_ids, vocab_txt, trn_mat, tst_mat, lbl_mat\n",
    "    "
   ]
  },
  {
   "cell_type": "code",
   "execution_count": null,
   "id": "09aeeaa3-705b-42d3-88b5-62bcb66d0072",
   "metadata": {},
   "outputs": [],
   "source": []
  },
  {
   "cell_type": "code",
   "execution_count": null,
   "id": "9b397f51-24e3-48dd-a7fe-48e8257a3581",
   "metadata": {},
   "outputs": [],
   "source": [
    "vocab_ids, vocab_txt, trn_mat, tst_mat, lbl_mat = filter_vocab(vocab_ids, vocab_text, trn_matrix, tst_matrix, lbl_matrix)"
   ]
  },
  {
   "cell_type": "code",
   "execution_count": null,
   "id": "3bf2181e-a3f6-436d-90bb-48251063985f",
   "metadata": {},
   "outputs": [],
   "source": [
    "def save_metadata(save_dir, trn_mat, tst_mat, lbl_mat, metadata_ids, metadata_txt, key, model):\n",
    "    sp.save_npz(f'{save_dir}/{key}_{model}_trn_X_Y.npz', trn_mat)\n",
    "    sp.save_npz(f'{save_dir}/{key}_{model}_tst_X_Y.npz', tst_mat)\n",
    "    sp.save_npz(f'{save_dir}/{key}_{model}_lbl_X_Y.npz', lbl_mat)\n",
    "\n",
    "    save_raw_file(f'{save_dir}/raw_data/{key}_{model}.raw.csv', metadata_ids, metadata_txt)\n",
    "    "
   ]
  },
  {
   "cell_type": "code",
   "execution_count": null,
   "id": "42fe4f89-c8cb-444c-9325-100e61119d26",
   "metadata": {},
   "outputs": [],
   "source": [
    "data_dir = '/home/scai/phd/aiz218323/scratch/datasets/benchmarks/(mapped)LF-AmazonTitles-1.3M/'"
   ]
  },
  {
   "cell_type": "code",
   "execution_count": null,
   "id": "cc93ec44-e01f-4b1e-a822-ea21f8396016",
   "metadata": {},
   "outputs": [],
   "source": [
    "save_entities(data_dir, trn_mat, tst_mat, lbl_mat, vocab_ids, vocab_txt, 'category', 'gpt')"
   ]
  },
  {
   "cell_type": "code",
   "execution_count": null,
   "id": "1f2d66e6-8be2-4a4b-9477-009a63088e31",
   "metadata": {},
   "outputs": [],
   "source": []
  },
  {
   "cell_type": "markdown",
   "id": "02b05bb9-16c8-45ff-a52d-9b104a72b1e3",
   "metadata": {},
   "source": [
    "## `__main__`"
   ]
  },
  {
   "cell_type": "code",
   "execution_count": null,
   "id": "001232ef-ed2f-4f83-8ee6-94111514ba2f",
   "metadata": {},
   "outputs": [],
   "source": [
    "#| export\n",
    "def parse_args():\n",
    "    parser = argparse.ArgumentParser()\n",
    "    parser.add_argument('--generation_dir', type=str, required=True)\n",
    "    parser.add_argument('--data_dir', type=str, required=True)\n",
    "    parser.add_argument('--tag', type=str, default='Label')\n",
    "    parser.add_argument('--data_type', type=str, default=None)\n",
    "    parser.add_argument('--save_tag', type=str, default='entity')\n",
    "    return parser.parse_args()\n",
    "    "
   ]
  },
  {
   "cell_type": "code",
   "execution_count": null,
   "id": "929029ca-49e5-4a0b-b03b-76e8b31a712c",
   "metadata": {},
   "outputs": [],
   "source": [
    "#| export\n",
    "if __name__ == '__main__':\n",
    "    start_time = timer()\n",
    "\n",
    "    args = parse_args()\n",
    "    extract_and_save_generations(args.generation_dir, args.data_dir, args.data_type, args.tag, args.save_tag)\n",
    "    \n",
    "    end_time = timer()\n",
    "    print(f'Time elapsed: {end_time-start_time:.2f} seconds.')\n",
    "    "
   ]
  },
  {
   "cell_type": "code",
   "execution_count": null,
   "id": "43e2dc75-b93d-4d38-80ee-e60c2f15295a",
   "metadata": {},
   "outputs": [],
   "source": []
  }
 ],
 "metadata": {
  "kernelspec": {
   "display_name": "python3",
   "language": "python",
   "name": "python3"
  }
 },
 "nbformat": 4,
 "nbformat_minor": 5
}
