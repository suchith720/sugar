{
 "cells": [
  {
   "cell_type": "code",
   "execution_count": null,
   "id": "285d8c86-cda4-4431-b277-68263b1fe0a4",
   "metadata": {},
   "outputs": [],
   "source": [
    "#| default_exp 19_map-amazon-meta-from-gpt-generations"
   ]
  },
  {
   "cell_type": "code",
   "execution_count": null,
   "id": "24d55517-2bec-4e87-95cd-da4703538702",
   "metadata": {},
   "outputs": [],
   "source": [
    "#| hide\n",
    "from nbdev.showdoc import *\n",
    "import nbdev; nbdev.nbdev_export()"
   ]
  },
  {
   "cell_type": "code",
   "execution_count": null,
   "id": "5c309244-5b8d-4f4b-bf56-46f444b71fb4",
   "metadata": {},
   "outputs": [],
   "source": [
    "#| export\n",
    "import pandas as pd, re, numpy as np, os\n",
    "from tqdm.auto import tqdm"
   ]
  },
  {
   "cell_type": "code",
   "execution_count": null,
   "id": "d6212eb4-ae49-44f0-95c9-8d7bb477f553",
   "metadata": {},
   "outputs": [],
   "source": [
    "#| export\n",
    "from sugar.core import load_raw_file, save_raw_file"
   ]
  },
  {
   "cell_type": "code",
   "execution_count": null,
   "id": "5e48e4f8-9e99-4734-aa95-2a919ca96bae",
   "metadata": {},
   "outputs": [],
   "source": [
    "#| export\n",
    "def extract_text_between_tags(text, tag='Label'):\n",
    "    pattern = fr\"<{tag}>(.*?)</{tag}>\"\n",
    "    match = re.search(pattern, text)\n",
    "    return match.group(1).strip() if match else ''\n",
    "    "
   ]
  },
  {
   "cell_type": "code",
   "execution_count": null,
   "id": "ed0e5d15-1044-4975-8bf1-213794d3ca2d",
   "metadata": {},
   "outputs": [],
   "source": [
    "#| export\n",
    "def extract_generations(df, tag='Label'):\n",
    "    generations = []\n",
    "    for i in range(df.shape[0]):\n",
    "        text = df['raw_model_response'].iloc[i]\n",
    "        text = extract_text_between_tags(text, tag=tag)\n",
    "        generations.append(text)\n",
    "    title = df['title'].tolist()\n",
    "    return title, generations\n",
    "    "
   ]
  },
  {
   "cell_type": "code",
   "execution_count": null,
   "id": "fa2d0ca4-4167-4437-bd32-198e9ae9207c",
   "metadata": {},
   "outputs": [],
   "source": [
    "#| export\n",
    "def get_file_key(fname):\n",
    "    key = re.match(r'[a-z]*([0-9]+).tsv', fname)\n",
    "    return int(key.group(1))\n",
    "    "
   ]
  },
  {
   "cell_type": "code",
   "execution_count": null,
   "id": "d5aadedf-f32f-4ed0-8f54-58dc7104a79d",
   "metadata": {},
   "outputs": [],
   "source": [
    "#| export\n",
    "def collate_generations(data_dir, tag='Label'):\n",
    "    title, generations = [], []\n",
    "\n",
    "    for fname in tqdm(sorted(os.listdir(data_dir), key=get_file_key)):\n",
    "        df = pd.read_table(f'{data_dir}/{fname}')\n",
    "        df.fillna('', inplace=True)\n",
    "        t, g = extract_generations(df, tag=tag)\n",
    "        title.extend(t)\n",
    "        generations.extend(g)\n",
    "\n",
    "    return title, generations\n",
    "    "
   ]
  },
  {
   "cell_type": "code",
   "execution_count": null,
   "id": "a8ad130f-53d2-487f-8fef-b113ee0d84d6",
   "metadata": {},
   "outputs": [],
   "source": []
  },
  {
   "cell_type": "code",
   "execution_count": null,
   "id": "c1983fe2-5f9b-4201-9cbf-5fbd4eb51eda",
   "metadata": {},
   "outputs": [
    {
     "data": {
      "application/vnd.jupyter.widget-view+json": {
       "model_id": "6abb4eb59dbd4ef1a0f255680fe6de6e",
       "version_major": 2,
       "version_minor": 0
      },
      "text/plain": [
       "  0%|          | 0/49 [00:00<?, ?it/s]"
      ]
     },
     "metadata": {},
     "output_type": "display_data"
    }
   ],
   "source": [
    "data_dir = '/home/scai/phd/aiz218323/scratch/datasets/benchmarks/LF-AmazonTitles-1.3M_generations/test-outputs/'\n",
    "tst_title, tst_text = collate_generations(data_dir)"
   ]
  },
  {
   "cell_type": "code",
   "execution_count": null,
   "id": "8fdd7cb6-1626-4a40-bd5b-32e6e25efb88",
   "metadata": {},
   "outputs": [],
   "source": [
    "data_dir = '/home/scai/phd/aiz218323/scratch/datasets/benchmarks/LF-AmazonTitles-1.3M_generations/test-outputs/'\n",
    "\n",
    "fname = os.listdir(data_dir)[0]\n",
    "df = pd.read_table(f'{data_dir}/{fname}')\n",
    "df.fillna('', inplace=True)"
   ]
  },
  {
   "cell_type": "code",
   "execution_count": null,
   "id": "08ee0f77-c1a2-4903-a8a2-b5906042bba6",
   "metadata": {},
   "outputs": [],
   "source": []
  },
  {
   "cell_type": "code",
   "execution_count": null,
   "id": "f4e9c637-70b3-41c1-8c2d-c134f726de8b",
   "metadata": {},
   "outputs": [],
   "source": [
    "data_dir = '/home/scai/phd/aiz218323/scratch/datasets/benchmarks/(mapped)LF-AmazonTitles-1.3M/raw_data/'"
   ]
  },
  {
   "cell_type": "code",
   "execution_count": null,
   "id": "05021dc3-8c7c-42cb-acab-d033a4686b19",
   "metadata": {},
   "outputs": [],
   "source": [
    "fname = f'{data_dir}/test.raw.txt'\n",
    "ids, text = load_raw_file(fname)\n",
    "\n",
    "mapping = {k:v for k,v in zip(tst_title, tst_text)}\n",
    "\n",
    "entity_text = [f'{o} :: {mapping[o]}' if o in mapping else o for o in text]\n",
    "save_raw_file(f'{data_dir}/test.entity.txt', ids, entity_text)"
   ]
  },
  {
   "cell_type": "code",
   "execution_count": null,
   "id": "18d4cd45-a050-4683-877a-1da10e43832e",
   "metadata": {},
   "outputs": [],
   "source": []
  },
  {
   "cell_type": "code",
   "execution_count": null,
   "id": "4ebbb126-1c8e-44d1-97af-920b6b7be3b3",
   "metadata": {},
   "outputs": [],
   "source": [
    "#| export\n",
    "def extract_and_save_generations(generation_dir, data_dir, data_type, tag, save_tag):\n",
    "    gen_title, gen_text = collate_generations(generation_dir)\n",
    "    fname = f'{data_dir}/test.raw.txt' if data_type == 'test' else f'{data_dir}/train.raw.txt'\n",
    "    ids, text = load_raw_file(fname)\n",
    "    \n",
    "    mapping = {k:v for k,v in zip(gen_title, gen_text)}\n",
    "    \n",
    "    entity_text = [f'{o} :: {mapping[o]}' if o in mapping else o for o in text]\n",
    "    fname = f'{data_dir}/test_{save_tag}.raw.txt' if data_type == 'test' else f'{data_dir}/train_{save_tag}.raw.txt'\n",
    "    save_raw_file(fname, ids, entity_text)\n",
    "    "
   ]
  },
  {
   "cell_type": "code",
   "execution_count": null,
   "id": "cfcfeac2-ff2e-4cbd-98ae-de5e2713cfed",
   "metadata": {},
   "outputs": [],
   "source": []
  },
  {
   "cell_type": "code",
   "execution_count": null,
   "id": "f91ba28f-680d-4b32-9a5f-0fb358e402e2",
   "metadata": {},
   "outputs": [],
   "source": [
    "tag = 'Label'\n",
    "data_dir = '/home/scai/phd/aiz218323/scratch/datasets/benchmarks/(mapped)LF-AmazonTitles-1.3M/raw_data/'"
   ]
  },
  {
   "cell_type": "code",
   "execution_count": null,
   "id": "c087d90c-f3b2-427c-ae8a-cfccd39a6334",
   "metadata": {},
   "outputs": [
    {
     "data": {
      "application/vnd.jupyter.widget-view+json": {
       "model_id": "c363dd7b735f4dd8bdb5e554df0f6842",
       "version_major": 2,
       "version_minor": 0
      },
      "text/plain": [
       "  0%|          | 0/49 [00:00<?, ?it/s]"
      ]
     },
     "metadata": {},
     "output_type": "display_data"
    }
   ],
   "source": [
    "generation_dir = '/home/scai/phd/aiz218323/scratch/datasets/benchmarks/LF-AmazonTitles-1.3M_generations/test-outputs/'\n",
    "data_type = 'test'\n",
    "extract_and_save_generations(generation_dir, data_dir, data_type, tag)"
   ]
  },
  {
   "cell_type": "code",
   "execution_count": null,
   "id": "69fdaf47-aac2-4560-930b-2d9a2609ed48",
   "metadata": {},
   "outputs": [
    {
     "data": {
      "application/vnd.jupyter.widget-view+json": {
       "model_id": "2a193859be034c689fd2301c7aa0060d",
       "version_major": 2,
       "version_minor": 0
      },
      "text/plain": [
       "  0%|          | 0/113 [00:00<?, ?it/s]"
      ]
     },
     "metadata": {},
     "output_type": "display_data"
    }
   ],
   "source": [
    "generation_dir = '/home/scai/phd/aiz218323/scratch/datasets/benchmarks/LF-AmazonTitles-1.3M_generations/train-outputs/'\n",
    "data_type = 'train'\n",
    "extract_and_save_generations(generation_dir, data_dir, data_type, tag)"
   ]
  },
  {
   "cell_type": "markdown",
   "id": "02b05bb9-16c8-45ff-a52d-9b104a72b1e3",
   "metadata": {},
   "source": [
    "## `__main__`"
   ]
  },
  {
   "cell_type": "code",
   "execution_count": null,
   "id": "001232ef-ed2f-4f83-8ee6-94111514ba2f",
   "metadata": {},
   "outputs": [],
   "source": [
    "#| export\n",
    "def parse_args():\n",
    "    parser = argparse.ArgumentParser()\n",
    "    parser.add_argument('--generation_dir', type=str, required=True)\n",
    "    parser.add_argument('--data_dir', type=str, required=True)\n",
    "    parser.add_argument('--tag', type=str, default='Label')\n",
    "    parser.add_argument('--data_type', type=str, default=None)\n",
    "    parser.add_argument('--save_tag', type=str, default='entity')\n",
    "    return parser.parse_args()\n",
    "    "
   ]
  },
  {
   "cell_type": "code",
   "execution_count": null,
   "id": "929029ca-49e5-4a0b-b03b-76e8b31a712c",
   "metadata": {},
   "outputs": [],
   "source": [
    "#| export\n",
    "if __name__ == '__main__':\n",
    "    start_time = timer()\n",
    "\n",
    "    args = parse_args()\n",
    "    extract_and_save_generations(args.generation_dir, args.data_dir, args.data_type, args.tag, args.save_tag)\n",
    "    \n",
    "    end_time = timer()\n",
    "    print(f'Time elapsed: {end_time-start_time:.2f} seconds.')\n",
    "    "
   ]
  },
  {
   "cell_type": "code",
   "execution_count": null,
   "id": "43e2dc75-b93d-4d38-80ee-e60c2f15295a",
   "metadata": {},
   "outputs": [],
   "source": []
  }
 ],
 "metadata": {
  "kernelspec": {
   "display_name": "python3",
   "language": "python",
   "name": "python3"
  }
 },
 "nbformat": 4,
 "nbformat_minor": 5
}
