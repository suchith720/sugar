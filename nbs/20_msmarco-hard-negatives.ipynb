{
 "cells": [
  {
   "cell_type": "code",
   "execution_count": 14,
   "id": "4f0ac7ca-382a-4bc2-aaa9-a79fe3ada1eb",
   "metadata": {},
   "outputs": [],
   "source": [
    "#| default_exp 20_msmarco-hard-negatives"
   ]
  },
  {
   "cell_type": "code",
   "execution_count": 15,
   "id": "245babbb-afc5-4379-817e-61e9866eaa4a",
   "metadata": {},
   "outputs": [],
   "source": [
    "%reload_ext autoreload\n",
    "%autoreload 2"
   ]
  },
  {
   "cell_type": "code",
   "execution_count": 35,
   "id": "46f55735-b87a-4382-a9e2-513c06b30083",
   "metadata": {},
   "outputs": [],
   "source": [
    "#| export\n",
    "import pickle, scipy.sparse as sp, numpy as np, argparse, os\n",
    "from tqdm.auto import tqdm\n",
    "from typing import Optional, List\n",
    "\n",
    "from xcai.main import *\n",
    "from sugar.core import *"
   ]
  },
  {
   "cell_type": "markdown",
   "id": "cef0d789-3c09-4568-9af0-05b5b1a43f56",
   "metadata": {},
   "source": [
    "## Setup"
   ]
  },
  {
   "cell_type": "code",
   "execution_count": 23,
   "id": "324c9af6-a05a-4def-b9ef-0f63a0a416b1",
   "metadata": {},
   "outputs": [],
   "source": [
    "#| export\n",
    "def load_msmarco_hard_negatives(fname:str, data_ids:Optional[List]=None):\n",
    "    with open(fname, 'rb') as file:\n",
    "        negatives = pickle.load(file)\n",
    "\n",
    "    data_ids = list(negatives) if data_ids is None else data_ids\n",
    "\n",
    "    lbl_id2idx = dict()\n",
    "    data, indices, indptr = [], [], [0]\n",
    "    for idx in tqdm(data_ids):\n",
    "        if idx in negatives:\n",
    "            data.extend(list(negatives[idx].values()))\n",
    "            for i in negatives[idx]:\n",
    "                index = lbl_id2idx.setdefault(i, len(lbl_id2idx))\n",
    "                indices.append(index)\n",
    "        indptr.append(len(data))\n",
    "\n",
    "    lbl_ids = sorted(lbl_id2idx, key=lambda x: lbl_id2idx[x])\n",
    "    return data_ids, lbl_ids, sp.csr_matrix((data, indices, indptr), dtype=np.float32)\n",
    "    "
   ]
  },
  {
   "cell_type": "code",
   "execution_count": 24,
   "id": "596b17ff-b577-4eff-bf88-a6bd2e69a2d5",
   "metadata": {},
   "outputs": [],
   "source": [
    "pkl_dir = '/scratch/scai/phd/aiz218323/datasets/processed/'\n",
    "\n",
    "config_file = '/scratch/scai/phd/aiz218323/datasets/msmarco/XC/configs/entity_gpt_exact.json'\n",
    "config_key = 'data_entity-gpt_exact'\n",
    "\n",
    "use_sxc_sampler = True\n",
    "\n",
    "pkl_file = f'{pkl_dir}/mogicX/msmarco_data-meta_distilbert-base-uncased_sxc.joblib'\n",
    "\n",
    "os.makedirs(os.path.dirname(pkl_file), exist_ok=True)\n",
    "block = build_block(pkl_file, config_file, use_sxc_sampler, config_key, do_build=False, only_test=False)"
   ]
  },
  {
   "cell_type": "code",
   "execution_count": null,
   "id": "f0cba6cb-8059-43d4-8dc9-66a87b4a4883",
   "metadata": {},
   "outputs": [],
   "source": []
  },
  {
   "cell_type": "code",
   "execution_count": 8,
   "id": "ce835f59-d186-4b87-b27c-9015efe324d4",
   "metadata": {},
   "outputs": [],
   "source": [
    "data_dir = \"/home/scai/phd/aiz218323/scratch/datasets/msmarco/negatives\"\n",
    "fname = f\"{data_dir}/cross-encoder-ms-marco-MiniLM-L-6-v2-scores.pkl\""
   ]
  },
  {
   "cell_type": "code",
   "execution_count": null,
   "id": "4d588f31-a4b6-4ebc-84c0-8a936164ea00",
   "metadata": {},
   "outputs": [],
   "source": []
  },
  {
   "cell_type": "code",
   "execution_count": 25,
   "id": "e9bee6ee-97e1-4df6-9f03-4ad5d753d653",
   "metadata": {},
   "outputs": [],
   "source": [
    "trn_ids = [int(i) for i in block.train.dset.data.data_info['identifier']]\n",
    "tst_ids = [int(i) for i in block.test.dset.data.data_info['identifier']]"
   ]
  },
  {
   "cell_type": "code",
   "execution_count": null,
   "id": "0e7cf6ae-7202-4762-9c9f-d50ae8ea1b17",
   "metadata": {},
   "outputs": [],
   "source": []
  },
  {
   "cell_type": "code",
   "execution_count": 27,
   "id": "601b5e88-aaca-48e4-a45b-88573df732e7",
   "metadata": {},
   "outputs": [
    {
     "data": {
      "application/vnd.jupyter.widget-view+json": {
       "model_id": "569ae82318d3490691e8deaebcda23fe",
       "version_major": 2,
       "version_minor": 0
      },
      "text/plain": [
       "  0%|          | 0/502939 [00:00<?, ?it/s]"
      ]
     },
     "metadata": {},
     "output_type": "display_data"
    }
   ],
   "source": [
    "data_ids, neg_ids, data_neg = load_msmarco_hard_negatives(fname, trn_ids)\n",
    "lbl_neg = sp.csr_matrix((block.n_lbl, data_neg.shape[1]), dtype=np.float32)"
   ]
  },
  {
   "cell_type": "code",
   "execution_count": null,
   "id": "9e1aa9a1-e360-4840-a04f-9792722855e8",
   "metadata": {},
   "outputs": [],
   "source": []
  },
  {
   "cell_type": "code",
   "execution_count": 28,
   "id": "95deaf29-3d40-4637-ae9f-ca748600c7c0",
   "metadata": {},
   "outputs": [],
   "source": [
    "sp.save_npz(f'{data_dir}/negatives_trn_X_Y.npz', data_neg)\n",
    "sp.save_npz(f'{data_dir}/negatives_lbl_X_Y_exact.npz', lbl_neg)"
   ]
  },
  {
   "cell_type": "code",
   "execution_count": 29,
   "id": "3b643742-da2e-4653-ab2f-c70b37918763",
   "metadata": {},
   "outputs": [],
   "source": [
    "fname = '/home/scai/phd/aiz218323/scratch/datasets/msmarco/XC/raw_data/label.raw.txt'\n",
    "lbl_ids, lbl_txt = load_raw_file(fname)\n",
    "lbl_map = {k:v for k,v in zip(lbl_ids, lbl_txt)}"
   ]
  },
  {
   "cell_type": "code",
   "execution_count": 30,
   "id": "a814a2c5-8c46-49a8-9448-4c6826133b11",
   "metadata": {},
   "outputs": [],
   "source": [
    "neg_txt = [lbl_map[str(i)] for i in neg_ids]"
   ]
  },
  {
   "cell_type": "code",
   "execution_count": 31,
   "id": "a874bbf3-c984-45fc-821d-26b6e8d0622c",
   "metadata": {},
   "outputs": [],
   "source": [
    "save_raw_file(f'{data_dir}/raw_data/negatives.raw.txt', neg_ids, neg_txt)"
   ]
  },
  {
   "cell_type": "code",
   "execution_count": null,
   "id": "9894c71d-f5ac-456e-aff0-0a03336e629d",
   "metadata": {},
   "outputs": [],
   "source": []
  },
  {
   "cell_type": "markdown",
   "id": "4cc9bd58-f941-4fe3-83ec-772392e1c24f",
   "metadata": {},
   "source": [
    "## Driver"
   ]
  },
  {
   "cell_type": "code",
   "execution_count": 34,
   "id": "b26fa787-1be7-4ac0-998b-f44b1e9cb6da",
   "metadata": {},
   "outputs": [],
   "source": [
    "#| export\n",
    "def parse_args():\n",
    "    parser = argparse.ArgumentParser()\n",
    "    parser.add_argument('--pkl_dir', type=str, required=True)\n",
    "    parser.add_argument('--data_dir', type=str, required=True)\n",
    "    return parser.parse_args()\n",
    "    "
   ]
  },
  {
   "cell_type": "code",
   "execution_count": null,
   "id": "dd023c79-096f-4cfd-884f-7ca4bc91aad0",
   "metadata": {},
   "outputs": [],
   "source": [
    "#| export\n",
    "if __name__ == '__main__':\n",
    "    args = parse_args()\n",
    "    \n",
    "    config_file = f'{args.data_dir}/XC/configs/entity_gpt_exact.json'\n",
    "    config_key = 'data_entity-gpt_exact'\n",
    "    \n",
    "    use_sxc_sampler = True\n",
    "    pkl_file = f'{args.pkl_dir}/mogicX/msmarco_data-meta_distilbert-base-uncased_sxc.joblib'\n",
    "    os.makedirs(os.path.dirname(pkl_file), exist_ok=True)\n",
    "    block = build_block(pkl_file, config_file, use_sxc_sampler, config_key, do_build=False, only_test=False)\n",
    "\n",
    "    neg_file = f\"{args.data_dir}/negatives/cross-encoder-ms-marco-MiniLM-L-6-v2-scores.pkl\"\n",
    "\n",
    "    trn_ids = [int(i) for i in block.train.dset.data.data_info['identifier']]\n",
    "    data_ids, neg_ids, data_neg = load_msmarco_hard_negatives(neg_file, trn_ids)\n",
    "    lbl_neg = sp.csr_matrix((block.n_lbl, data_neg.shape[1]), dtype=np.float32)\n",
    "    \n",
    "    sp.save_npz(f'{args.data_dir}/XC/negatives_trn_X_Y.npz', data_neg)\n",
    "    sp.save_npz(f'{args.data_dir}/XC/negatives_lbl_X_Y_exact.npz', lbl_neg)\n",
    "\n",
    "    lbl_file = f'{args.data_dir}/XC/raw_data/label.raw.txt'\n",
    "    lbl_ids, lbl_txt = load_raw_file(lbl_file)\n",
    "    lbl_map = {k:v for k,v in zip(lbl_ids, lbl_txt)}\n",
    "\n",
    "    neg_txt = [lbl_map[str(i)] for i in neg_ids]\n",
    "    save_raw_file(f'{args.data_dir}/XC/raw_data/negatives.raw.txt', neg_ids, neg_txt)\n",
    "    "
   ]
  }
 ],
 "metadata": {
  "kernelspec": {
   "display_name": "Python 3 (ipykernel)",
   "language": "python",
   "name": "python3"
  },
  "language_info": {
   "codemirror_mode": {
    "name": "ipython",
    "version": 3
   },
   "file_extension": ".py",
   "mimetype": "text/x-python",
   "name": "python",
   "nbconvert_exporter": "python",
   "pygments_lexer": "ipython3",
   "version": "3.10.16"
  }
 },
 "nbformat": 4,
 "nbformat_minor": 5
}
