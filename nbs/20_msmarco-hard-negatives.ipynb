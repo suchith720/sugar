{
 "cells": [
  {
   "cell_type": "code",
   "execution_count": 1,
   "id": "4f0ac7ca-382a-4bc2-aaa9-a79fe3ada1eb",
   "metadata": {},
   "outputs": [],
   "source": [
    "#| default_exp 20_msmarco-hard-negatives"
   ]
  },
  {
   "cell_type": "code",
   "execution_count": 2,
   "id": "245babbb-afc5-4379-817e-61e9866eaa4a",
   "metadata": {},
   "outputs": [],
   "source": [
    "%reload_ext autoreload\n",
    "%autoreload 2"
   ]
  },
  {
   "cell_type": "code",
   "execution_count": 3,
   "id": "46f55735-b87a-4382-a9e2-513c06b30083",
   "metadata": {},
   "outputs": [],
   "source": [
    "#| export\n",
    "import pickle, scipy.sparse as sp, numpy as np, argparse, os\n",
    "from tqdm.auto import tqdm\n",
    "from typing import Optional, List\n",
    "\n",
    "from xcai.main import *\n",
    "from sugar.core import *"
   ]
  },
  {
   "cell_type": "markdown",
   "id": "cef0d789-3c09-4568-9af0-05b5b1a43f56",
   "metadata": {},
   "source": [
    "## Setup"
   ]
  },
  {
   "cell_type": "code",
   "execution_count": 4,
   "id": "324c9af6-a05a-4def-b9ef-0f63a0a416b1",
   "metadata": {},
   "outputs": [],
   "source": [
    "#| export\n",
    "def load_msmarco_ce_scores(fname:str, data_ids:Optional[List]=None):\n",
    "    with open(fname, 'rb') as file:\n",
    "        negatives = pickle.load(file)\n",
    "\n",
    "    data_ids = list(negatives) if data_ids is None else data_ids\n",
    "\n",
    "    lbl_id2idx = dict()\n",
    "    data, indices, indptr = [], [], [0]\n",
    "    for idx in tqdm(data_ids):\n",
    "        if idx in negatives:\n",
    "            data.extend(list(negatives[idx].values()))\n",
    "            for i in negatives[idx]:\n",
    "                index = lbl_id2idx.setdefault(i, len(lbl_id2idx))\n",
    "                indices.append(index)\n",
    "        indptr.append(len(data))\n",
    "\n",
    "    lbl_ids = sorted(lbl_id2idx, key=lambda x: lbl_id2idx[x])\n",
    "    return data_ids, lbl_ids, sp.csr_matrix((data, indices, indptr), dtype=np.float32)\n",
    "    "
   ]
  },
  {
   "cell_type": "code",
   "execution_count": null,
   "id": "4001c2d8-d4bf-49e1-b4f5-3004e12548b8",
   "metadata": {},
   "outputs": [],
   "source": []
  },
  {
   "cell_type": "code",
   "execution_count": 5,
   "id": "596b17ff-b577-4eff-bf88-a6bd2e69a2d5",
   "metadata": {},
   "outputs": [],
   "source": [
    "pkl_dir = '/scratch/scai/phd/aiz218323/datasets/processed/'\n",
    "\n",
    "config_file = '/scratch/scai/phd/aiz218323/datasets/msmarco/XC/configs/data_exact.json'\n",
    "config_key = 'data'\n",
    "\n",
    "use_sxc_sampler = True\n",
    "\n",
    "pkl_file = f'{pkl_dir}/mogicX/msmarco_data_distilbert-base-uncased_sxc_exact.joblib'\n",
    "\n",
    "os.makedirs(os.path.dirname(pkl_file), exist_ok=True)\n",
    "block = build_block(pkl_file, config_file, use_sxc_sampler, config_key, do_build=True, only_test=False)\n",
    "\n",
    "data_dir = \"/home/scai/phd/aiz218323/scratch/datasets/msmarco/\""
   ]
  },
  {
   "cell_type": "code",
   "execution_count": 94,
   "id": "e9bee6ee-97e1-4df6-9f03-4ad5d753d653",
   "metadata": {},
   "outputs": [],
   "source": [
    "trn_ids = [int(i) for i in block.train.dset.data.data_info['identifier']]\n",
    "tst_ids = [int(i) for i in block.test.dset.data.data_info['identifier']]"
   ]
  },
  {
   "cell_type": "code",
   "execution_count": null,
   "id": "17cbc260-ed3a-435f-90cb-61ef2cfad431",
   "metadata": {},
   "outputs": [],
   "source": []
  },
  {
   "cell_type": "code",
   "execution_count": 95,
   "id": "601b5e88-aaca-48e4-a45b-88573df732e7",
   "metadata": {},
   "outputs": [
    {
     "data": {
      "application/vnd.jupyter.widget-view+json": {
       "model_id": "28271292c83d40b2b1b9e89b0a55e0c6",
       "version_major": 2,
       "version_minor": 0
      },
      "text/plain": [
       "  0%|          | 0/502939 [00:00<?, ?it/s]"
      ]
     },
     "metadata": {},
     "output_type": "display_data"
    }
   ],
   "source": [
    "fname = f\"{data_dir}/negatives/cross-encoder-ms-marco-MiniLM-L-6-v2-scores.pkl\"\n",
    "\n",
    "data_ids, ce_ids, data_ce = load_msmarco_ce_scores(fname, trn_ids)\n",
    "lbl_ce = sp.csr_matrix((block.n_lbl, data_ce.shape[1]), dtype=np.float32)"
   ]
  },
  {
   "cell_type": "code",
   "execution_count": 96,
   "id": "95deaf29-3d40-4637-ae9f-ca748600c7c0",
   "metadata": {},
   "outputs": [],
   "source": [
    "sp.save_npz(f'{data_dir}/XC/ce-scores_trn_X_Y.npz', data_ce)\n",
    "sp.save_npz(f'{data_dir}/XC/ce-scores_lbl_X_Y_exact.npz', lbl_ce)"
   ]
  },
  {
   "cell_type": "code",
   "execution_count": null,
   "id": "7776d3f8-007e-4d5a-a82a-451563aa1c97",
   "metadata": {},
   "outputs": [],
   "source": []
  },
  {
   "cell_type": "code",
   "execution_count": 97,
   "id": "3b643742-da2e-4653-ab2f-c70b37918763",
   "metadata": {},
   "outputs": [],
   "source": [
    "fname = f'{data_dir}/XC/raw_data/label.raw.txt'\n",
    "all_lbl_ids, all_lbl_txt = load_raw_file(fname)\n",
    "all_lbl_map = {k:v for k,v in zip(all_lbl_ids, all_lbl_txt)}"
   ]
  },
  {
   "cell_type": "code",
   "execution_count": 98,
   "id": "a814a2c5-8c46-49a8-9448-4c6826133b11",
   "metadata": {},
   "outputs": [],
   "source": [
    "ce_txt = [all_lbl_map[str(i)] for i in ce_ids]"
   ]
  },
  {
   "cell_type": "code",
   "execution_count": 99,
   "id": "a874bbf3-c984-45fc-821d-26b6e8d0622c",
   "metadata": {},
   "outputs": [],
   "source": [
    "save_raw_file(f'{data_dir}/XC/raw_data/ce-scores.raw.txt', ce_ids, ce_txt)"
   ]
  },
  {
   "cell_type": "code",
   "execution_count": null,
   "id": "07ac54ec-b672-4c1c-bd5d-a88e55fef535",
   "metadata": {},
   "outputs": [],
   "source": []
  },
  {
   "cell_type": "code",
   "execution_count": 101,
   "id": "cee4232b-5601-4ce8-8aa9-44e14f629f12",
   "metadata": {},
   "outputs": [],
   "source": [
    "data_lbl = block.train.dset.data.data_lbl.copy().astype(np.float32)\n",
    "data_lbl.sort_indices()\n",
    "\n",
    "lbl_ids = block.train.dset.data.lbl_info['identifier']"
   ]
  },
  {
   "cell_type": "code",
   "execution_count": 5,
   "id": "9894c71d-f5ac-456e-aff0-0a03336e629d",
   "metadata": {},
   "outputs": [],
   "source": [
    "def align_with_matrix_labels(inp_mat, inp_lbl_ids, targ_lbl_id2idx, targ_shape, use_data=False):\n",
    "    indices = [targ_lbl_id2idx[inp_lbl_ids[i]] for i in inp_mat.indices]\n",
    "    indptr = inp_mat.indptr\n",
    "    data = inp_mat.data if use_data else np.ones(len(indices))\n",
    "    \n",
    "    return sp.csr_matrix((data, indices, indptr), dtype=np.float32, shape=targ_shape)\n",
    "    "
   ]
  },
  {
   "cell_type": "code",
   "execution_count": null,
   "id": "610ce136-9469-4d76-855b-7375e53929d4",
   "metadata": {},
   "outputs": [],
   "source": [
    "ce_id2idx = {str(id): idx for idx,id in enumerate(ce_ids)}\n",
    "data_lbl_ce_align = align_with_matrix_labels(data_lbl, lbl_ids, ce_id2idx, data_ce.shape)\n",
    "data_lbl_ce_align.sort_indices()"
   ]
  },
  {
   "cell_type": "code",
   "execution_count": null,
   "id": "bbb32caf-ef69-4b6e-bb03-296a72b5a6ed",
   "metadata": {},
   "outputs": [],
   "source": [
    "data_lbl_ce_align = data_lbl_ce_align.multiply(data_ce)"
   ]
  },
  {
   "cell_type": "code",
   "execution_count": 104,
   "id": "098fe456-386e-4b33-9d35-bf99280ffd35",
   "metadata": {},
   "outputs": [],
   "source": [
    "lbl_id2idx = {str(id): idx for idx,id in enumerate(lbl_ids)}\n",
    "data_lbl = align_with_matrix_labels(data_lbl_ce_align, ce_ids, ce_id2idx, data_lbl.shape, use_data=True)\n",
    "data_lbl.sort_indices()"
   ]
  },
  {
   "cell_type": "code",
   "execution_count": 105,
   "id": "9da6362c-765e-40b1-bf02-6667cab52b50",
   "metadata": {},
   "outputs": [],
   "source": [
    "sp.save_npz(f'{data_dir}/XC/trn_X_Y_ce-exact.npz', data_lbl)"
   ]
  },
  {
   "cell_type": "code",
   "execution_count": 106,
   "id": "e65994b3-5305-44a2-af74-0e430f37d746",
   "metadata": {},
   "outputs": [],
   "source": [
    "x_idx, y_idx = data_lbl_ce_align.nonzero()"
   ]
  },
  {
   "cell_type": "code",
   "execution_count": 107,
   "id": "375e4311-4f7a-410a-b2b5-353ed1eb92c8",
   "metadata": {},
   "outputs": [],
   "source": [
    "data_ce[x_idx, y_idx] = 0\n",
    "data_ce.eliminate_zeros()"
   ]
  },
  {
   "cell_type": "code",
   "execution_count": 108,
   "id": "bcc1b8dc-5450-4d02-a296-4f2240f0f8bd",
   "metadata": {},
   "outputs": [],
   "source": [
    "sp.save_npz(f'{data_dir}/XC/ce-negatives_trn_X_Y.npz', data_ce)\n",
    "sp.save_npz(f'{data_dir}/XC/ce-negatives_lbl_X_Y_exact.npz', lbl_ce)"
   ]
  },
  {
   "cell_type": "markdown",
   "id": "4cc9bd58-f941-4fe3-83ec-772392e1c24f",
   "metadata": {},
   "source": [
    "## Driver"
   ]
  },
  {
   "cell_type": "code",
   "execution_count": 34,
   "id": "b26fa787-1be7-4ac0-998b-f44b1e9cb6da",
   "metadata": {},
   "outputs": [],
   "source": [
    "#| export\n",
    "def parse_args():\n",
    "    parser = argparse.ArgumentParser()\n",
    "    parser.add_argument('--pkl_dir', type=str, required=True)\n",
    "    parser.add_argument('--data_dir', type=str, required=True)\n",
    "    return parser.parse_args()\n",
    "    "
   ]
  },
  {
   "cell_type": "code",
   "execution_count": null,
   "id": "dd023c79-096f-4cfd-884f-7ca4bc91aad0",
   "metadata": {},
   "outputs": [],
   "source": [
    "#| export\n",
    "if __name__ == '__main__':\n",
    "    args = parse_args()\n",
    "    \n",
    "    config_file = f'{args.data_dir}/XC/configs/data_exact.json'\n",
    "    config_key = 'data'\n",
    "    \n",
    "    use_sxc_sampler = True\n",
    "    pkl_file = f'{args.pkl_dir}/mogicX/msmarco_data_distilbert-base-uncased_sxc_exact.joblib'\n",
    "    os.makedirs(os.path.dirname(pkl_file), exist_ok=True)\n",
    "    block = build_block(pkl_file, config_file, use_sxc_sampler, config_key, do_build=False, only_test=False)\n",
    "\n",
    "    ce_file = f\"{args.data_dir}/negatives/cross-encoder-ms-marco-MiniLM-L-6-v2-scores.pkl\"\n",
    "\n",
    "    # save ce score information\n",
    "    trn_ids = [int(i) for i in block.train.dset.data.data_info['identifier']]\n",
    "    data_ids, ce_ids, data_ce = load_msmarco_ce_scores(ce_file, trn_ids)\n",
    "    lbl_ce = sp.csr_matrix((block.n_lbl, data_ce.shape[1]), dtype=np.float32)\n",
    "    \n",
    "    sp.save_npz(f'{args.data_dir}/XC/ce-scores_trn_X_Y.npz', data_ce)\n",
    "    sp.save_npz(f'{args.data_dir}/XC/ce-scores_lbl_X_Y_exact.npz', lbl_ce)\n",
    "\n",
    "    all_lbl_ids, all_lbl_txt = load_raw_file(f'{args.data_dir}/XC/raw_data/label.raw.txt')\n",
    "    all_lbl_map = {k:v for k,v in zip(all_lbl_ids, all_lbl_txt)}\n",
    "\n",
    "    ce_txt = [all_lbl_map[str(i)] for i in ce_ids]\n",
    "    save_raw_file(f'{args.data_dir}/XC/raw_data/ce-scores.raw.txt', ce_ids, ce_txt)\n",
    "\n",
    "    # save ce scores for positives\n",
    "    data_lbl = block.train.dset.data.data_lbl.copy().astype(np.float32)\n",
    "    data_lbl.sort_indices()\n",
    "    lbl_ids = block.train.dset.data.lbl_info['identifier']\n",
    "\n",
    "    def align_with_matrix_labels(inp_data_lbl, inp_lbl_ids, targ_lbl_id2idx, targ_shape, use_data=False):\n",
    "        indices = [targ_lbl_id2idx[inp_lbl_ids[i]] for i in inp_data_lbl.indices]\n",
    "        indptr = inp_data_lbl.indptr\n",
    "        data = inp_data_lbl.data if use_data else np.ones(len(indices))\n",
    "        return sp.csr_matrix((data, indices, indptr), dtype=np.float32, shape=targ_shape)\n",
    "\n",
    "    ce_id2idx = {str(id): idx for idx,id in enumerate(ce_ids)}\n",
    "    data_lbl_ce_align = align_with_matrix_labels(data_lbl, lbl_ids, ce_id2idx, data_ce.shape)\n",
    "    data_lbl_ce_align.sort_indices()\n",
    "\n",
    "    data_lbl_ce_align = data_lbl_ce_align.multiply(data_ce)\n",
    "\n",
    "    lbl_id2idx = {str(id): idx for idx,id in enumerate(lbl_ids)}\n",
    "    data_lbl = align_with_matrix_labels(data_lbl_ce_align, ce_ids, ce_id2idx, data_lbl.shape, use_data=True)\n",
    "    data_lbl.sort_indices()\n",
    "    \n",
    "    sp.save_npz(f'{args.data_dir}/XC/trn_X_Y_ce-exact.npz', data_lbl)\n",
    "\n",
    "    # save ce scores for negatives\n",
    "    x_idx, y_idx = data_lbl_ce_align.nonzero()\n",
    "    data_ce[x_idx, y_idx] = 0\n",
    "    data_ce.eliminate_zeros()\n",
    "\n",
    "    sp.save_npz(f'{args.data_dir}/XC/ce-negatives_trn_X_Y.npz', data_ce)\n",
    "    sp.save_npz(f'{args.data_dir}/XC/ce-negatives_lbl_X_Y_exact.npz', lbl_ce)\n",
    "    "
   ]
  }
 ],
 "metadata": {
  "kernelspec": {
   "display_name": "Python 3 (ipykernel)",
   "language": "python",
   "name": "python3"
  },
  "language_info": {
   "codemirror_mode": {
    "name": "ipython",
    "version": 3
   },
   "file_extension": ".py",
   "mimetype": "text/x-python",
   "name": "python",
   "nbconvert_exporter": "python",
   "pygments_lexer": "ipython3",
   "version": "3.13.2"
  }
 },
 "nbformat": 4,
 "nbformat_minor": 5
}
