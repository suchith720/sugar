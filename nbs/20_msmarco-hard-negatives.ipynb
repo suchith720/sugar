{
 "cells": [
  {
   "cell_type": "code",
   "execution_count": 1,
   "id": "4f0ac7ca-382a-4bc2-aaa9-a79fe3ada1eb",
   "metadata": {},
   "outputs": [],
   "source": [
    "#| default_exp 20_msmarco-hard-negatives"
   ]
  },
  {
   "cell_type": "code",
   "execution_count": 2,
   "id": "245babbb-afc5-4379-817e-61e9866eaa4a",
   "metadata": {},
   "outputs": [],
   "source": [
    "%reload_ext autoreload\n",
    "%autoreload 2"
   ]
  },
  {
   "cell_type": "code",
   "execution_count": 5,
   "id": "46f55735-b87a-4382-a9e2-513c06b30083",
   "metadata": {},
   "outputs": [],
   "source": [
    "#| export\n",
    "import pickle, scipy.sparse as sp\n",
    "from tqdm.auto import tqdm\n",
    "\n",
    "from sugar.core import *"
   ]
  },
  {
   "cell_type": "markdown",
   "id": "cef0d789-3c09-4568-9af0-05b5b1a43f56",
   "metadata": {},
   "source": [
    "## Setup"
   ]
  },
  {
   "cell_type": "code",
   "execution_count": 4,
   "id": "324c9af6-a05a-4def-b9ef-0f63a0a416b1",
   "metadata": {},
   "outputs": [],
   "source": [
    "#| export\n",
    "def load_msmarco_hard_negatives(fname, query_ids):\n",
    "    with open(fname, 'rb') as file:\n",
    "        o = pickle.load(file)\n",
    "    \n",
    "    data, indices, indptr = [], [], [0]\n",
    "    for i in tqdm(query_ids):\n",
    "        if i in o:\n",
    "            data.extend(list(o[i].values()))\n",
    "            indices.extend(list(o[i].keys()))\n",
    "        indptr.append(len(data))\n",
    "    \n",
    "    return sp.csr_matrix((data, indices, indptr))\n",
    "    "
   ]
  },
  {
   "cell_type": "code",
   "execution_count": 6,
   "id": "ce835f59-d186-4b87-b27c-9015efe324d4",
   "metadata": {},
   "outputs": [],
   "source": [
    "data_dir = \"/home/scai/phd/aiz218323/scratch/datasets/msmarco/negatives\"\n",
    "fname = f\"{data_dir}/cross-encoder-ms-marco-MiniLM-L-6-v2-scores.pkl\""
   ]
  },
  {
   "cell_type": "code",
   "execution_count": null,
   "id": "4adb74f6-d66d-413f-9ccf-a51524ed8272",
   "metadata": {},
   "outputs": [],
   "source": [
    "query_ids = [int(i) for i in block.train.dset.data.data_info['identifier']]\n",
    "neg = load_msmarco_hard_negatives(fname, query_ids)"
   ]
  },
  {
   "cell_type": "code",
   "execution_count": null,
   "id": "d5556807-0a22-40f2-afee-45944153f9ad",
   "metadata": {},
   "outputs": [],
   "source": [
    "lbl_ids = [int(i) for i in block.train.dset.data.lbl_info['identifier']]\n",
    "ids = set(lbl_ids)\n",
    "meta_ids = [i for i in range(neg.shape[1]) if i not in ids]\n",
    "\n",
    "n1 = neg[:, lbl_ids]\n",
    "n2 = neg[:, meta_ids]\n",
    "\n",
    "neg_ids = lbl_ids + meta_ids\n",
    "neg = sp.hstack([n1, n2])\n",
    "\n",
    "sp.save_npz(f'{data_dir}/negatives_trn_X_Y.npz', neg)\n",
    "sp.save_npz(f'{data_dir}/negatives_lbl_X_Y.npz', sp.csr_matrix((523598, 8841823), dtype=np.float64))"
   ]
  },
  {
   "cell_type": "code",
   "execution_count": null,
   "id": "fe108abe-922e-486e-ab93-8c39519ea314",
   "metadata": {},
   "outputs": [],
   "source": [
    "fname = '/home/scai/phd/aiz218323/scratch/datasets/msmarco/XC/raw_data/label.raw.txt'\n",
    "lbl_ids, lbl_txt = load_raw_file(fname)\n",
    "lbl_info = {k:v for k,v in zip(lbl_ids, lbl_txt)}\n",
    "\n",
    "neg_txt = [lbl_info[str(i)] for i in neg_ids]\n",
    "save_raw_file(f'{data_dir}/negatives.raw.txt', neg_ids, neg_txt)"
   ]
  },
  {
   "cell_type": "markdown",
   "id": "4cc9bd58-f941-4fe3-83ec-772392e1c24f",
   "metadata": {},
   "source": [
    "## Driver"
   ]
  },
  {
   "cell_type": "code",
   "execution_count": null,
   "id": "dd023c79-096f-4cfd-884f-7ca4bc91aad0",
   "metadata": {},
   "outputs": [],
   "source": [
    "#| export\n",
    "if __name__ == '__main__':\n",
    "    data_dir = \"/home/scai/phd/aiz218323/scratch/datasets/msmarco/negatives\"\n",
    "    fname = f\"{data_dir}/cross-encoder-ms-marco-MiniLM-L-6-v2-scores.pkl\"\n",
    "\n",
    "    query_ids = [int(i) for i in block.train.dset.data.data_info['identifier']]\n",
    "    neg = load_msmarco_hard_negatives(fname, query_ids)\n",
    "\n",
    "    lbl_ids = [int(i) for i in block.train.dset.data.lbl_info['identifier']]\n",
    "    ids = set(lbl_ids)\n",
    "    meta_ids = [i for i in range(neg.shape[1]) if i not in ids]\n",
    "    \n",
    "    n1 = neg[:, lbl_ids]\n",
    "    n2 = neg[:, meta_ids]\n",
    "    \n",
    "    neg_ids = lbl_ids + meta_ids\n",
    "    neg = sp.hstack([n1, n2])\n",
    "    \n",
    "    sp.save_npz(f'{data_dir}/negatives_trn_X_Y.npz', neg)\n",
    "    sp.save_npz(f'{data_dir}/negatives_lbl_X_Y.npz', sp.csr_matrix((523598, 8841823), dtype=np.float64))\n",
    "\n",
    "    fname = '/home/scai/phd/aiz218323/scratch/datasets/msmarco/XC/raw_data/label.raw.txt'\n",
    "    lbl_ids, lbl_txt = load_raw_file(fname)\n",
    "    lbl_info = {k:v for k,v in zip(lbl_ids, lbl_txt)}\n",
    "    \n",
    "    neg_txt = [lbl_info[str(i)] for i in neg_ids]\n",
    "    save_raw_file(f'{data_dir}/negatives.raw.txt', neg_ids, neg_txt)\n",
    "    "
   ]
  }
 ],
 "metadata": {
  "kernelspec": {
   "display_name": "Python 3 (ipykernel)",
   "language": "python",
   "name": "python3"
  },
  "language_info": {
   "codemirror_mode": {
    "name": "ipython",
    "version": 3
   },
   "file_extension": ".py",
   "mimetype": "text/x-python",
   "name": "python",
   "nbconvert_exporter": "python",
   "pygments_lexer": "ipython3",
   "version": "3.10.16"
  }
 },
 "nbformat": 4,
 "nbformat_minor": 5
}
