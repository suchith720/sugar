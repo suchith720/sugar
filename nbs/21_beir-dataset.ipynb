{
 "cells": [
  {
   "cell_type": "code",
   "execution_count": 2,
   "id": "fd0bcf04-28fd-47f3-b4c8-9780f17a48b9",
   "metadata": {},
   "outputs": [],
   "source": [
    "#| default_exp 21_beir-dataset"
   ]
  },
  {
   "cell_type": "code",
   "execution_count": 3,
   "id": "bccdfff0-1785-4b79-aad4-b07aa2600973",
   "metadata": {},
   "outputs": [],
   "source": [
    "#| hide\n",
    "from nbdev.showdoc import *\n",
    "import nbdev; nbdev.nbdev_export()"
   ]
  },
  {
   "cell_type": "code",
   "execution_count": 4,
   "id": "f7351b34-7e4e-4724-9101-1c2c91c926d6",
   "metadata": {},
   "outputs": [],
   "source": [
    "#| export\n",
    "import os, json, pandas as pd, scipy.sparse as sp, numpy as np, argparse\n",
    "\n",
    "from tqdm.auto import tqdm\n",
    "from datasets import load_dataset\n",
    "from dataclasses import dataclass\n",
    "from huggingface_hub import snapshot_download\n",
    "\n",
    "from sugar.core import *"
   ]
  },
  {
   "cell_type": "markdown",
   "id": "f5e22cb9-2ebc-47ec-be3e-7fb736ef667f",
   "metadata": {},
   "source": [
    "## Download data"
   ]
  },
  {
   "cell_type": "code",
   "execution_count": 4,
   "id": "1ff0150d-b2e2-48c2-9b32-1ae2563bebd3",
   "metadata": {},
   "outputs": [],
   "source": [
    "#| export \n",
    "def download_mteb(dset:str, data_dir=None):\n",
    "    if not os.path.exists(data_dir): os.makedirs(data_dir, exist_ok=True)\n",
    "    snapshot_download(repo_id=f\"mteb/{dset}\", repo_type=\"dataset\", local_dir=data_dir)\n",
    "    "
   ]
  },
  {
   "cell_type": "code",
   "execution_count": 5,
   "id": "2c00cc1d-b0cb-431c-91df-e7e987f52544",
   "metadata": {},
   "outputs": [],
   "source": [
    "data_dir = '/home/scai/phd/aiz218323/scratch/datasets/nq/'"
   ]
  },
  {
   "cell_type": "code",
   "execution_count": 7,
   "id": "e5b76a16-7f9e-43de-ae4e-fdeb04181b32",
   "metadata": {},
   "outputs": [
    {
     "data": {
      "application/vnd.jupyter.widget-view+json": {
       "model_id": "3e860e022e474c3eb227eb336411f053",
       "version_major": 2,
       "version_minor": 0
      },
      "text/plain": [
       "Fetching 6 files:   0%|          | 0/6 [00:00<?, ?it/s]"
      ]
     },
     "metadata": {},
     "output_type": "display_data"
    },
    {
     "data": {
      "application/vnd.jupyter.widget-view+json": {
       "model_id": "28b334cb5ce145da9dec9898bbe1e519",
       "version_major": 2,
       "version_minor": 0
      },
      "text/plain": [
       ".gitattributes:   0%|          | 0.00/2.41k [00:00<?, ?B/s]"
      ]
     },
     "metadata": {},
     "output_type": "display_data"
    },
    {
     "data": {
      "application/vnd.jupyter.widget-view+json": {
       "model_id": "8e743fc530d244f68cee78b3d49c9be9",
       "version_major": 2,
       "version_minor": 0
      },
      "text/plain": [
       "README.md:   0%|          | 0.00/7.41k [00:00<?, ?B/s]"
      ]
     },
     "metadata": {},
     "output_type": "display_data"
    }
   ],
   "source": [
    "download_mteb('nq', data_dir)"
   ]
  },
  {
   "cell_type": "markdown",
   "id": "0e0981e5-3c2b-4658-8086-ecf2821c50c8",
   "metadata": {},
   "source": [
    "## Load data"
   ]
  },
  {
   "cell_type": "code",
   "execution_count": 14,
   "id": "fbf60ea6-0e6f-4989-adcf-4ccfd26c7342",
   "metadata": {},
   "outputs": [],
   "source": [
    "#| export\n",
    "def load_queries(fname):\n",
    "    queries = dict()\n",
    "    with open(fname, 'r') as file:\n",
    "        for line in file:\n",
    "            data = json.loads(line)\n",
    "            queries[data['_id']] = data['text']\n",
    "    return queries\n",
    "        "
   ]
  },
  {
   "cell_type": "code",
   "execution_count": 20,
   "id": "2f3c4cb2-a9c5-4ee2-ba78-60fd4eee1f89",
   "metadata": {},
   "outputs": [],
   "source": [
    "#| export\n",
    "def load_labels(fname):\n",
    "    labels, lid_to_idx = [], dict()\n",
    "    with open(fname, 'r') as file:\n",
    "        for idx,line in enumerate(file):\n",
    "            data = json.loads(line)\n",
    "            lid_to_idx[data['_id']] = idx\n",
    "            labels.append(data['text'])\n",
    "    return labels, lid_to_idx\n",
    "        "
   ]
  },
  {
   "cell_type": "code",
   "execution_count": 93,
   "id": "0beab1d5-dad3-43ef-a953-58a730288c03",
   "metadata": {},
   "outputs": [],
   "source": [
    "#| export\n",
    "def load_qrels(fname, lbl_id2idx=None):\n",
    "    qrels = pd.read_table(fname)\n",
    "    # assert (qrels['score'] == 1).all(), 'Score should contain all 1s'\n",
    "\n",
    "    query_to_labels = dict()\n",
    "    for qid, lid, sc in tqdm(zip(qrels['query-id'], qrels['corpus-id'], qrels['score']), total=qrels.shape[0]):\n",
    "        if sc > 0 and str(lid) in lbl_id2idx: query_to_labels.setdefault(qid, []).append(str(lid) if lbl_id2idx is None else lbl_id2idx[str(lid)])\n",
    "    \n",
    "    return query_to_labels\n",
    "    "
   ]
  },
  {
   "cell_type": "code",
   "execution_count": 40,
   "id": "4311e098-d6bd-4724-962b-614816be362e",
   "metadata": {},
   "outputs": [
    {
     "data": {
      "text/plain": [
       "'/home/scai/phd/aiz218323/scratch/datasets/nq/'"
      ]
     },
     "execution_count": 40,
     "metadata": {},
     "output_type": "execute_result"
    }
   ],
   "source": [
    "data_dir"
   ]
  },
  {
   "cell_type": "code",
   "execution_count": 23,
   "id": "d4869893-0aad-47c1-9506-35bc1156a4e8",
   "metadata": {},
   "outputs": [],
   "source": [
    "queries = load_queries(f'{data_dir}/queries.jsonl')"
   ]
  },
  {
   "cell_type": "code",
   "execution_count": 24,
   "id": "7aba15ce-42e5-4a90-a903-15fad617be49",
   "metadata": {},
   "outputs": [],
   "source": [
    "labels, lid_to_idx = load_labels(f'{data_dir}/corpus.jsonl')"
   ]
  },
  {
   "cell_type": "code",
   "execution_count": 43,
   "id": "c35bf4f4-26b8-462a-80f3-263d500b5561",
   "metadata": {},
   "outputs": [
    {
     "data": {
      "application/vnd.jupyter.widget-view+json": {
       "model_id": "9a809aa849aa483781d64c75ef80a8d4",
       "version_major": 2,
       "version_minor": 0
      },
      "text/plain": [
       "  0%|          | 0/4201 [00:00<?, ?it/s]"
      ]
     },
     "metadata": {},
     "output_type": "display_data"
    }
   ],
   "source": [
    "tst_qrels = load_qrels(f'{data_dir}/qrels/test.tsv', lid_to_idx)"
   ]
  },
  {
   "cell_type": "markdown",
   "id": "807abc10-21d5-48da-a1c3-03af90d52823",
   "metadata": {},
   "source": [
    "## Construct matrix"
   ]
  },
  {
   "cell_type": "code",
   "execution_count": 45,
   "id": "61654609-438c-452f-a02a-750c350bbce4",
   "metadata": {},
   "outputs": [
    {
     "data": {
      "application/vnd.jupyter.widget-view+json": {
       "model_id": "6fd27dbb6ac0477c9a61f2595e8384cb",
       "version_major": 2,
       "version_minor": 0
      },
      "text/plain": [
       "  0%|          | 0/3452 [00:00<?, ?it/s]"
      ]
     },
     "metadata": {},
     "output_type": "display_data"
    }
   ],
   "source": [
    "tst_mat, tst_ids = get_matrix_from_item2idx(tst_qrels, len(labels))"
   ]
  },
  {
   "cell_type": "code",
   "execution_count": 58,
   "id": "1f0145aa-98f4-4ba6-a4dc-ab7b595059a2",
   "metadata": {},
   "outputs": [],
   "source": [
    "#| export\n",
    "def get_matrix(fname, lbl_id2idx):\n",
    "    mapping = load_qrels(fname, lbl_id2idx)\n",
    "    return get_matrix_from_item2idx(mapping, len(lbl_id2idx))\n",
    "    "
   ]
  },
  {
   "cell_type": "code",
   "execution_count": 59,
   "id": "1b676fae-555a-4d28-825c-283f9e2b4e6d",
   "metadata": {},
   "outputs": [],
   "source": [
    "#| export\n",
    "@dataclass\n",
    "class QueryInfo:\n",
    "    mat: sp.csr_matrix\n",
    "    ids: list\n",
    "    txt: list\n",
    "\n",
    "    def sample_labels(self, lbl_idx:list):\n",
    "        data_idx = np.where(self.mat.getnnz(axis=1) > 0)[0]\n",
    "        \n",
    "        self.mat = self.mat[:, lbl_idx][data_idx, :]\n",
    "        self.ids = [self.ids[i] for i in data_idx]\n",
    "        self.txt = [self.txt[i] for i in data_idx]\n",
    "\n",
    "@dataclass\n",
    "class LabelInfo:\n",
    "    ids: list\n",
    "    txt: list\n",
    "\n",
    "    def sample(self, valid_idx:list):\n",
    "        self.ids = [self.ids[i] for i in valid_idx]\n",
    "        self.txt = [self.txt[i] for i in valid_idx]\n",
    "    "
   ]
  },
  {
   "cell_type": "code",
   "execution_count": 73,
   "id": "38871f9f-4100-4ab0-adb3-5b2faa13db80",
   "metadata": {},
   "outputs": [],
   "source": [
    "#| export\n",
    "def get_dataset(query_file:str, lbl_file:str, tst_file:str, trn_file:str=None):\n",
    "    queries = load_queries(query_file)\n",
    "    \n",
    "    lbl_txt, lbl_id2idx = load_labels(lbl_file)\n",
    "    lbl_ids = sorted(lbl_id2idx, key=lambda x: lbl_id2idx[x])\n",
    "    lbl_info = LabelInfo(lbl_ids, lbl_txt)\n",
    "    \n",
    "    tst_mat, tst_ids = get_matrix(tst_file, lbl_id2idx)\n",
    "    tst_txt = [queries[o] for o in tst_ids]\n",
    "    tst_info = QueryInfo(tst_mat, tst_ids, tst_txt)\n",
    "\n",
    "    if trn_file is not None:\n",
    "        trn_mat, trn_ids = get_matrix(trn_file, lbl_id2idx)\n",
    "        trn_txt = [queries[o] for o in trn_ids]\n",
    "        trn_info = QueryInfo(trn_mat, trn_ids, trn_txt)\n",
    "        return trn_info, tst_info, lbl_info\n",
    "        \n",
    "    return None, tst_info, lbl_info\n",
    "    "
   ]
  },
  {
   "cell_type": "code",
   "execution_count": 83,
   "id": "9715ce76-7b54-4d0b-af4f-4349428d9c91",
   "metadata": {},
   "outputs": [],
   "source": [
    "#| export\n",
    "def save_dataset(save_dir, tst_info, lbl_info, trn_info=None, suffix=''):\n",
    "    os.makedirs(save_dir, exist_ok=True)\n",
    "    x_suffix = f'_{suffix}' if len(suffix) else ''\n",
    "\n",
    "    if trn_info is not None: sp.save_npz(f'{save_dir}/trn_X_Y{x_suffix}.npz', trn_info.mat)\n",
    "    sp.save_npz(f'{save_dir}/tst_X_Y{x_suffix}.npz', tst_info.mat)\n",
    "    \n",
    "    os.makedirs(f'{save_dir}/raw_data', exist_ok=True)\n",
    "    y_suffix = f'.{suffix}' if len(suffix) else ''\n",
    "    if trn_info is not None: save_raw_file(f'{save_dir}/raw_data/train.raw.csv', trn_info.ids, trn_info.txt)\n",
    "    save_raw_file(f'{save_dir}/raw_data/test.raw.csv', tst_info.ids, tst_info.txt)\n",
    "    save_raw_file(f'{save_dir}/raw_data/label{y_suffix}.raw.csv', lbl_info.ids, lbl_info.txt)\n",
    "    "
   ]
  },
  {
   "cell_type": "code",
   "execution_count": 72,
   "id": "1821e826-f8c7-4712-bdb5-ee2142013627",
   "metadata": {},
   "outputs": [],
   "source": [
    "#| export\n",
    "def sample_dataset(tst_info, lbl_info, trn_info=None, sampling_type=None):\n",
    "    if sampling_type == 'exact':\n",
    "        valid_idx = np.where(trn_info.mat.getnnz(axis=0) > 0)[0] if trn_info is None else np.array([], dtype=tst_info.mat.dtype)\n",
    "        tst_valid_idx = np.where(tst_info.mat.getnnz(axis=0) > 0)[0]\n",
    "        valid_idx = np.union1d(trn_valid_idx, tst_valid_idx)\n",
    "    elif sampling_type == 'xc':\n",
    "        valid_idx = np.where(trn_info.mat.getnnz(axis=0) > 0)[0]\n",
    "    else:\n",
    "        raise ValueError(f'Invalid sampling value: {sampling_type}.')\n",
    "            \n",
    "    trn_info.sample_labels(valid_idx)\n",
    "    tst_info.sample_labels(valid_idx)\n",
    "    lbl_info.sample(valid_idx)\n",
    "    "
   ]
  },
  {
   "cell_type": "code",
   "execution_count": 77,
   "id": "a29fc25a-4719-4f58-924c-c9ce63110b4c",
   "metadata": {},
   "outputs": [],
   "source": [
    "#| export\n",
    "def get_and_save_dataset(query_file:str, lbl_file:str, tst_file:str, trn_file:str=None, save_dir:str=None, sampling_type=None, suffix=''):\n",
    "    trn_info, tst_info, lbl_info = get_dataset(query_file, lbl_file, tst_file, trn_file)\n",
    "    if sampling_type is not None: sample_dataset(tst_info, lbl_info, trn_info, sampling_type)\n",
    "    if save_dir is not None: save_dataset(save_dir, tst_info, lbl_info, trn_info, suffix)\n",
    "    return trn_info, tst_info, lbl_info\n",
    "    "
   ]
  },
  {
   "cell_type": "code",
   "execution_count": null,
   "id": "e21bea71-9b8d-42c8-98c2-a5c70d6d92f5",
   "metadata": {},
   "outputs": [],
   "source": [
    "#| export\n",
    "def parse_args():\n",
    "    parser = argparse.ArgumentParser()\n",
    "    parser.add_argument('--download', action='store_true')\n",
    "    parser.add_argument('--dataset', type=str)\n",
    "    \n",
    "    parser.add_argument('--data_dir', type=str, required=True)\n",
    "    parser.add_argument('--save_dir', type=str)\n",
    "    \n",
    "    return parser.parse_args()\n",
    "    "
   ]
  },
  {
   "cell_type": "code",
   "execution_count": null,
   "id": "06dba77d-3b75-4bdc-8ab5-d1d3ec195c2d",
   "metadata": {},
   "outputs": [],
   "source": [
    "#| export\n",
    "if __name__ == '__main__':\n",
    "    args = parse_args()\n",
    "    if args.download: \n",
    "        download_mteb(args.dataset, args.data_dir)\n",
    "    else:\n",
    "        get_and_save_dataset(f'{args.data_dir}/queries.jsonl', f'{args.data_dir}/corpus.jsonl', f'{args.data_dir}/qrels/test.tsv', \n",
    "                             save_dir=args.save_dir)\n",
    "                          "
   ]
  },
  {
   "cell_type": "code",
   "execution_count": null,
   "id": "e9ef72fa-c8fe-4876-ad5c-906e492d3e16",
   "metadata": {},
   "outputs": [],
   "source": []
  },
  {
   "cell_type": "code",
   "execution_count": 92,
   "id": "124d1709-ea6b-489c-880b-635989ee4dd0",
   "metadata": {},
   "outputs": [
    {
     "data": {
      "application/vnd.jupyter.widget-view+json": {
       "model_id": "8abd5fd74a50467aa6ab5ffa51615dac",
       "version_major": 2,
       "version_minor": 0
      },
      "text/plain": [
       "  0%|          | 0/4201 [00:00<?, ?it/s]"
      ]
     },
     "metadata": {},
     "output_type": "display_data"
    },
    {
     "data": {
      "application/vnd.jupyter.widget-view+json": {
       "model_id": "3a9f754d16f14c208a6f1ae5263f4b7d",
       "version_major": 2,
       "version_minor": 0
      },
      "text/plain": [
       "  0%|          | 0/3452 [00:00<?, ?it/s]"
      ]
     },
     "metadata": {},
     "output_type": "display_data"
    }
   ],
   "source": [
    "data_dir = '/home/scai/phd/aiz218323/scratch/datasets/nq/'\n",
    "save_dir = '/home/scai/phd/aiz218323/scratch/datasets/nq/XC'\n",
    "\n",
    "query_file, lbl_file, tst_file = f'{data_dir}/queries.jsonl', f'{data_dir}/corpus.jsonl', f'{data_dir}/qrels/test.tsv'\n",
    "trn_info, tst_info, lbl_info = get_and_save_dataset(query_file, lbl_file,tst_file, save_dir=save_dir)"
   ]
  },
  {
   "cell_type": "code",
   "execution_count": null,
   "id": "af948ebe-d420-48b4-a8e6-a9deab258167",
   "metadata": {},
   "outputs": [],
   "source": []
  },
  {
   "cell_type": "code",
   "execution_count": null,
   "id": "8d0e85df-a139-43c5-b922-729410206eb8",
   "metadata": {},
   "outputs": [],
   "source": []
  }
 ],
 "metadata": {
  "kernelspec": {
   "display_name": "Python 3 (ipykernel)",
   "language": "python",
   "name": "python3"
  },
  "language_info": {
   "codemirror_mode": {
    "name": "ipython",
    "version": 3
   },
   "file_extension": ".py",
   "mimetype": "text/x-python",
   "name": "python",
   "nbconvert_exporter": "python",
   "pygments_lexer": "ipython3",
   "version": "3.10.16"
  }
 },
 "nbformat": 4,
 "nbformat_minor": 5
}
