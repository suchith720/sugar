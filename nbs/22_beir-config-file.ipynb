{
 "cells": [
  {
   "cell_type": "code",
   "execution_count": 3,
   "id": "815af87f-d545-4519-8f3f-6727aa212d4c",
   "metadata": {},
   "outputs": [],
   "source": [
    "#| default_exp 22_beir-config-file"
   ]
  },
  {
   "cell_type": "code",
   "execution_count": 2,
   "id": "b30ff76d-86b8-4946-8e99-a9c2ebbd54bd",
   "metadata": {},
   "outputs": [],
   "source": [
    "#| hide\n",
    "from nbdev.showdoc import *\n",
    "import nbdev; nbdev.nbdev_export()"
   ]
  },
  {
   "cell_type": "code",
   "execution_count": 3,
   "id": "a89ccb4b-4e09-4788-8ee6-abd334e9c97c",
   "metadata": {},
   "outputs": [],
   "source": [
    "#| export\n",
    "import json, os, argparse\n",
    "\n",
    "from typing import Optional\n",
    "from xcai.config import PARAM"
   ]
  },
  {
   "cell_type": "markdown",
   "id": "12ec37bd-ed06-4f54-94a0-e97941f5c890",
   "metadata": {},
   "source": [
    "## `MSMARCO` config"
   ]
  },
  {
   "cell_type": "code",
   "execution_count": 12,
   "id": "8f672d0e-d02c-485f-adcc-778bc490dd2d",
   "metadata": {},
   "outputs": [],
   "source": [
    "#| export\n",
    "def get_config_key(model:Optional[str]='', meta_type:Optional[str]='', suffix:Optional[str]=''):\n",
    "    key = \"\"\n",
    "    if len(model): key = f\"{key}-{model}\" if len(key) else model\n",
    "    if len(meta_type): key = f\"{key}-{meta_type}\" if len(key) else meta_type\n",
    "    if len(suffix): key = f\"{key}_{suffix}\"\n",
    "    return f\"data_lbl_{key}\"\n",
    "    "
   ]
  },
  {
   "cell_type": "code",
   "execution_count": 13,
   "id": "a511b364-00db-498e-96d5-1dab5de328bb",
   "metadata": {},
   "outputs": [],
   "source": [
    "#| export\n",
    "def get_dataset_config(data_dir:str, model:Optional[str]='', meta_prefix:Optional[str]='lnk', \n",
    "                       meta_type:Optional[str]='', suffix:Optional[str]='', add_trn_cfg:Optional[bool]=True, \n",
    "                       add_linker_cfg:Optional[bool]=True, **kwargs):\n",
    "    cfg_key = get_config_key(model, meta_type, suffix)\n",
    "    \n",
    "    suffix = f'_{suffix}' if len(suffix) else ''\n",
    "    \n",
    "    meta_suffix = f'{meta_suffix}_' if len(meta_suffix) else ''\n",
    "    if len(model): meta_suffix = f'{meta_suffix}{model}_'\n",
    "\n",
    "    PARAM[\"main_max_lbl_sequence_length\"] = 512\n",
    "    PARAM[\"main_max_data_sequence_length\"] = 300\n",
    "    for k,v in kwargs.items():\n",
    "        if k in PARAM and v is not None: PARAM[k] = v\n",
    "            \n",
    "    cfg = {\n",
    "        cfg_key: {\n",
    "            \"path\": {},\n",
    "            \"parameters\": PARAM,\n",
    "        }\n",
    "    }\n",
    "    \n",
    "    if add_trn_cfg:\n",
    "        trn_cfg = {\n",
    "            \"data_lbl\": f\"{data_dir}/trn_X_Y{suffix}.npz\",\n",
    "            \"data_info\": f\"{data_dir}/raw_data/train.raw.csv\",\n",
    "            \"lbl_info\": f\"{data_dir}/raw_data/label{suffix}.raw.csv\",\n",
    "        }\n",
    "        if add_linker_cfg:\n",
    "            trn_meta_cfg = {\n",
    "                \"prefix\": meta_prefix,\n",
    "                \"data_meta\": f\"{data_dir}/{meta_suffix}trn_X_Y.npz\",\n",
    "                \"lbl_meta\": f\"{data_dir}/{meta_suffix}lbl_X_Y{suffix}.npz\",\n",
    "                \"meta_info\": f\"{data_dir}/raw_data/{meta_suffix[:-1]}.raw.csv\"\n",
    "            }\n",
    "            trn_cfg[f\"{meta_prefix}_meta\"] = trn_meta_cfg\n",
    "        cfg[cfg_key][\"path\"][\"train\"] = trn_cfg\n",
    "\n",
    "    tst_cfg = {\n",
    "        \"data_lbl\": f\"{data_dir}/tst_X_Y{suffix}.npz\",\n",
    "        \"data_info\": f\"{data_dir}/raw_data/test.raw.csv\",\n",
    "        \"lbl_info\": f\"{data_dir}/raw_data/label{suffix}.raw.csv\",\n",
    "    }\n",
    "    if add_linker_cfg:\n",
    "        tst_meta_cfg = {\n",
    "            \"prefix\": meta_prefix,\n",
    "            \"data_meta\": f\"{data_dir}/{meta_suffix}tst_X_Y.npz\",\n",
    "            \"lbl_meta\": f\"{data_dir}/{meta_suffix}lbl_X_Y{suffix}.npz\",\n",
    "            \"meta_info\": f\"{data_dir}/raw_data/{meta_suffix[:-1]}.raw.csv\"\n",
    "        }\n",
    "        tst_cfg[f\"{meta_prefix}_meta\"] = tst_meta_cfg\n",
    "    cfg[cfg_key][\"path\"][\"test\"] = tst_cfg\n",
    "    \n",
    "    return cfg\n",
    "    "
   ]
  },
  {
   "cell_type": "code",
   "execution_count": 14,
   "id": "b8ba6d3e-27bf-4e44-b00a-381b41a3ffa7",
   "metadata": {},
   "outputs": [],
   "source": [
    "#| export\n",
    "def parse_args():\n",
    "    parser = argparse.ArgumentParser()\n",
    "    parser.add_argument('--data_dir', type=str, required=True)\n",
    "    parser.add_argument('--model', type=str, default='')\n",
    "    parser.add_argument('--meta_prefix', type=str, default='')\n",
    "    parser.add_argument('--meta_type', type=str, default='')\n",
    "    parser.add_argument('--suffix', type=str, default='')\n",
    "    parser.add_argument('--add_trn_cfg', type=int, default=1)\n",
    "    parser.add_argument('--add_linker_cfg', type=int, default=1)\n",
    "    parser.add_argument('--add_linker_cfg', type=int, default=1)\n",
    "    parser.add_argument('--main_max_data_sequence_length', type=int, default=None)\n",
    "    parser.add_argument('--main_max_lbl_sequence_length', type=int, default=None)\n",
    "    return parser.parse_args()\n",
    "    "
   ]
  },
  {
   "cell_type": "markdown",
   "id": "40919755-0ef7-45b2-8393-6423b7dcb46d",
   "metadata": {},
   "source": [
    "## `__main__`"
   ]
  },
  {
   "cell_type": "code",
   "execution_count": 14,
   "id": "314767c7-6f81-45ad-a402-384e17cf8d7e",
   "metadata": {},
   "outputs": [],
   "source": [
    "#| export\n",
    "if __name__ == '__main__':\n",
    "    args = parse_args()\n",
    "    \n",
    "    config = get_dataset_config(args.data_dir, args.model, args.meta_prefix, args.meta_type, args.suffix, \n",
    "                                add_trn_cfg=args.add_trn_cfg, add_linker_cfg=args.add_linker_cfg,\n",
    "                                main_max_data_sequence_length=args.main_max_data_sequence_length,\n",
    "                                main_max_lbl_sequence_length=args.main_max_lbl_sequence_length)\n",
    "    os.makedirs(f'{args.data_dir}/configs/', exist_ok=True)\n",
    "\n",
    "    fname = get_config_key(args.model, args.meta_type, args.suffix)\n",
    "    \n",
    "    with open(f'{args.data_dir}/configs/{fname}.json', 'w') as file:\n",
    "        json.dump(config, file, indent=4)\n",
    "        "
   ]
  },
  {
   "cell_type": "code",
   "execution_count": null,
   "id": "71ac9094-adae-4588-9564-b4fdddad6e72",
   "metadata": {},
   "outputs": [],
   "source": []
  },
  {
   "cell_type": "code",
   "execution_count": 53,
   "id": "e20fd01b-0dec-410e-a793-ac7d4e034e94",
   "metadata": {
    "scrolled": true
   },
   "outputs": [],
   "source": [
    "data_dir = \"/home/scai/phd/aiz218323/scratch/datasets/nq/XC/\"\n",
    "config = get_dataset_config(data_dir, add_trn_cfg=False, add_linker_cfg=False)"
   ]
  },
  {
   "cell_type": "code",
   "execution_count": 54,
   "id": "ee034713-b909-456f-ba61-8e6447735011",
   "metadata": {
    "scrolled": true
   },
   "outputs": [
    {
     "data": {
      "text/plain": [
       "{'data': {'path': {'test': {'data_lbl': '/home/scai/phd/aiz218323/scratch/datasets/nq/XC//tst_X_Y.npz',\n",
       "    'data_info': '/home/scai/phd/aiz218323/scratch/datasets/nq/XC//raw_data/test.raw.txt',\n",
       "    'lbl_info': '/home/scai/phd/aiz218323/scratch/datasets/nq/XC//raw_data/label.raw.txt'}},\n",
       "  'parameters': {'transform_type': 'xc',\n",
       "   'smp_features': [('lbl2data', 1, 2),\n",
       "    ('hlk2data', 1, 1),\n",
       "    ('hlk2lbl2data', 2, 1)],\n",
       "   'pad_token': 0,\n",
       "   'oversample': False,\n",
       "   'sampling_features': [('lbl2data', 2),\n",
       "    ('hlk2data', 1),\n",
       "    ('hlk2lbl2data', 1)],\n",
       "   'num_labels': 1,\n",
       "   'num_metadata': 1,\n",
       "   'metadata_name': None,\n",
       "   'info_column_names': ['identifier', 'input_text'],\n",
       "   'use_tokenizer': True,\n",
       "   'tokenizer': 'distilbert-base-uncased',\n",
       "   'tokenization_column': 'input_text',\n",
       "   'main_max_data_sequence_length': 32,\n",
       "   'main_max_lbl_sequence_length': 32,\n",
       "   'meta_max_sequence_length': 32,\n",
       "   'padding': False,\n",
       "   'return_tensors': None,\n",
       "   'sep': '->',\n",
       "   'prompt_func': None,\n",
       "   'pad_side': 'right',\n",
       "   'drop': True,\n",
       "   'ret_t': True,\n",
       "   'in_place': True,\n",
       "   'collapse': True,\n",
       "   'device': 'cpu',\n",
       "   'inp': 'data',\n",
       "   'targ': 'lbl2data',\n",
       "   'ptr': 'lbl2data_data2ptr',\n",
       "   'n_lbl_samples': None,\n",
       "   'data_info_keys': None,\n",
       "   'lbl_info_keys': None,\n",
       "   'n_slbl_samples': 1,\n",
       "   'main_oversample': False,\n",
       "   'n_data_meta_samples': None,\n",
       "   'n_lbl_meta_samples': None,\n",
       "   'meta_info_keys': None,\n",
       "   'n_sdata_meta_samples': 1,\n",
       "   'n_slbl_meta_samples': 1,\n",
       "   'meta_oversample': False,\n",
       "   'use_meta_distribution': False,\n",
       "   'use_main_distribution': False}}}"
      ]
     },
     "execution_count": 54,
     "metadata": {},
     "output_type": "execute_result"
    }
   ],
   "source": [
    "config"
   ]
  },
  {
   "cell_type": "code",
   "execution_count": null,
   "id": "428d89b7-9e12-41c9-83cf-466085246f6f",
   "metadata": {},
   "outputs": [],
   "source": []
  }
 ],
 "metadata": {
  "kernelspec": {
   "display_name": "Python 3 (ipykernel)",
   "language": "python",
   "name": "python3"
  },
  "language_info": {
   "codemirror_mode": {
    "name": "ipython",
    "version": 3
   },
   "file_extension": ".py",
   "mimetype": "text/x-python",
   "name": "python",
   "nbconvert_exporter": "python",
   "pygments_lexer": "ipython3",
   "version": "3.13.2"
  }
 },
 "nbformat": 4,
 "nbformat_minor": 5
}
