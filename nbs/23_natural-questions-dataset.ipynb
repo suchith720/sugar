{
 "cells": [
  {
   "cell_type": "code",
   "execution_count": 1,
   "id": "fd0bcf04-28fd-47f3-b4c8-9780f17a48b9",
   "metadata": {},
   "outputs": [],
   "source": [
    "#| default_exp 23_natural-questions-dataset"
   ]
  },
  {
   "cell_type": "code",
   "execution_count": 2,
   "id": "bccdfff0-1785-4b79-aad4-b07aa2600973",
   "metadata": {},
   "outputs": [],
   "source": [
    "#| hide\n",
    "from nbdev.showdoc import *\n",
    "import nbdev; nbdev.nbdev_export()"
   ]
  },
  {
   "cell_type": "code",
   "execution_count": 3,
   "id": "f7351b34-7e4e-4724-9101-1c2c91c926d6",
   "metadata": {},
   "outputs": [],
   "source": [
    "#| export\n",
    "import os, json, pandas as pd, scipy.sparse as sp, numpy as np, argparse\n",
    "\n",
    "from tqdm.auto import tqdm\n",
    "from datasets import load_dataset\n",
    "from dataclasses import dataclass\n",
    "from huggingface_hub import snapshot_download\n",
    "\n",
    "from sugar.core import *"
   ]
  },
  {
   "cell_type": "markdown",
   "id": "f5e22cb9-2ebc-47ec-be3e-7fb736ef667f",
   "metadata": {},
   "source": [
    "# Download data"
   ]
  },
  {
   "cell_type": "markdown",
   "id": "1576cdfa-94a5-4482-835c-31d15c211668",
   "metadata": {},
   "source": [
    "## `Kaggle`"
   ]
  },
  {
   "cell_type": "markdown",
   "id": "b941b976-1a8f-43d1-bf32-0770447bcf49",
   "metadata": {},
   "source": [
    "### Load data"
   ]
  },
  {
   "cell_type": "markdown",
   "id": "20505395-6f0d-465c-a49e-d415d91709cb",
   "metadata": {},
   "source": [
    "https://www.kaggle.com/datasets/yuitc2502/dpr-dataset"
   ]
  },
  {
   "cell_type": "code",
   "execution_count": 73,
   "id": "009ae27b-488d-42a9-82e6-7c3ac05a4368",
   "metadata": {},
   "outputs": [],
   "source": [
    "#| export\n",
    "def load_kaggle_data(fname, key='positive_ctxs'):\n",
    "    with open(fname) as file:\n",
    "        content = json.load(file)\n",
    "\n",
    "    queries, labels, lbl_id2idx = [], [], {}\n",
    "    data, indices, indptr = [], [], [0]\n",
    "    for o in tqdm(content):\n",
    "        queries.append(o['question'])\n",
    "        if key in o:\n",
    "            for lbl in o[key]:\n",
    "                lbl_id = lbl['id'] if 'id' in lbl else lbl['passage_id']\n",
    "        \n",
    "                if lbl_id in lbl_id2idx: \n",
    "                    idx = lbl_id2idx[lbl_id]\n",
    "                else:\n",
    "                    idx = len(lbl_id2idx)\n",
    "                    lbl_id2idx[lbl_id] = len(lbl_id2idx)\n",
    "                    labels.append(lbl['text'])\n",
    "                data.append(1)\n",
    "                indices.append(idx)\n",
    "            indptr.append(len(indices))\n",
    "    matrix = sp.csr_matrix((data, indices, indptr), dtype=np.float32)\n",
    "    return queries, labels, lbl_id2idx, matrix\n",
    "    "
   ]
  },
  {
   "cell_type": "code",
   "execution_count": 56,
   "id": "1b676fae-555a-4d28-825c-283f9e2b4e6d",
   "metadata": {},
   "outputs": [],
   "source": [
    "#| export\n",
    "@dataclass\n",
    "class QueryInfo:\n",
    "    mat: sp.csr_matrix\n",
    "    ids: list\n",
    "    txt: list\n",
    "\n",
    "    def sample_labels(self, lbl_idx:list):\n",
    "        data_idx = np.where(self.mat.getnnz(axis=1) > 0)[0]\n",
    "        \n",
    "        self.mat = self.mat[:, lbl_idx][data_idx, :]\n",
    "        self.ids = [self.ids[i] for i in data_idx]\n",
    "        self.txt = [self.txt[i] for i in data_idx]\n",
    "\n",
    "@dataclass\n",
    "class LabelInfo:\n",
    "    ids: list\n",
    "    txt: list\n",
    "\n",
    "    def sample(self, valid_idx:list):\n",
    "        self.ids = [self.ids[i] for i in valid_idx]\n",
    "        self.txt = [self.txt[i] for i in valid_idx]\n",
    "    "
   ]
  },
  {
   "cell_type": "code",
   "execution_count": 57,
   "id": "bf18b2e8-88de-4bae-b26b-220f017f12c2",
   "metadata": {},
   "outputs": [],
   "source": [
    "#| export\n",
    "def get_kaggle_dataset(fname, key='positive_ctxs'):\n",
    "    qry_txt, lbl_txt, lbl_id2idx, qry_mat = load_kaggle_data(fname, key)\n",
    "\n",
    "    qry_info = QueryInfo(qry_mat, qry_txt, qry_txt)\n",
    "    \n",
    "    lbl_ids = sorted(lbl_id2idx, key=lambda x: lbl_id2idx[x])\n",
    "    lbl_info = LabelInfo(lbl_ids, lbl_txt)\n",
    "    \n",
    "    return qry_info, lbl_info\n",
    "    "
   ]
  },
  {
   "cell_type": "code",
   "execution_count": 58,
   "id": "81db135d-9844-4806-add9-eebb3befb414",
   "metadata": {},
   "outputs": [],
   "source": [
    "data_dir = '/home/scai/phd/aiz218323/scratch/datasets/nq/'\n",
    "train_file = f'{data_dir}/nq-train.json'"
   ]
  },
  {
   "cell_type": "code",
   "execution_count": 46,
   "id": "972f0118-9e21-4096-83bd-1225cecb088b",
   "metadata": {},
   "outputs": [
    {
     "data": {
      "application/vnd.jupyter.widget-view+json": {
       "model_id": "f966a444e3eb4d87ab62efea375eb125",
       "version_major": 2,
       "version_minor": 0
      },
      "text/plain": [
       "  0%|          | 0/4 [00:00<?, ?it/s]"
      ]
     },
     "metadata": {},
     "output_type": "display_data"
    }
   ],
   "source": [
    "queries, labels, lbl_id2idx, matrix = load_kaggle_data(train_file, key='positive_ctxs')"
   ]
  },
  {
   "cell_type": "code",
   "execution_count": 59,
   "id": "32eb6b76-c879-4149-a0ac-319bb5cfacb3",
   "metadata": {},
   "outputs": [
    {
     "data": {
      "application/vnd.jupyter.widget-view+json": {
       "model_id": "257ad8508538422eae1975a1828de4db",
       "version_major": 2,
       "version_minor": 0
      },
      "text/plain": [
       "  0%|          | 0/4 [00:00<?, ?it/s]"
      ]
     },
     "metadata": {},
     "output_type": "display_data"
    }
   ],
   "source": [
    "qry_info, lbl_info = get_kaggle_dataset(train_file, key='positive_ctxs')"
   ]
  },
  {
   "cell_type": "code",
   "execution_count": 75,
   "id": "4094a26c-3de2-4223-91b5-e3590bc18127",
   "metadata": {},
   "outputs": [],
   "source": [
    "matrix.sum_duplicates()"
   ]
  },
  {
   "cell_type": "code",
   "execution_count": 76,
   "id": "f323d81c-b599-44d9-a02a-5b463e093eb9",
   "metadata": {},
   "outputs": [],
   "source": [
    "matrix.sort_indices()"
   ]
  },
  {
   "cell_type": "code",
   "execution_count": 67,
   "id": "d1ab879d-990e-468e-b19b-8cd959034217",
   "metadata": {},
   "outputs": [],
   "source": [
    "with open(train_file) as file:\n",
    "    train_data = json.load(file)"
   ]
  },
  {
   "cell_type": "code",
   "execution_count": 69,
   "id": "334519a2-1174-4e7e-aaf5-06487bafd4bc",
   "metadata": {
    "scrolled": true
   },
   "outputs": [
    {
     "data": {
      "text/plain": [
       "[{'title': 'Big Little Lies (TV series)',\n",
       "  'text': 'series garnered several accolades. It received 16 Emmy Award nominations and won eight, including Outstanding Limited Series and acting awards for Kidman, Skarsgård, and Dern. The trio also won Golden Globe Awards in addition to a Golden Globe Award for Best Miniseries or Television Film win for the series. Kidman and Skarsgård also received Screen Actors Guild Awards for their performances. Despite originally being billed as a miniseries, HBO renewed the series for a second season. Production on the second season began in March 2018 and is set to premiere in 2019. All seven episodes are being written by Kelley',\n",
       "  'score': 1000,\n",
       "  'title_score': 1,\n",
       "  'passage_id': '18768923'},\n",
       " {'id': '18768923',\n",
       "  'title': 'Big Little Lies (TV series)',\n",
       "  'text': 'series garnered several accolades. It received 16 Emmy Award nominations and won eight, including Outstanding Limited Series and acting awards for Kidman, Skarsgård, and Dern. The trio also won Golden Globe Awards in addition to a Golden Globe Award for Best Miniseries or Television Film win for the series. Kidman and Skarsgård also received Screen Actors Guild Awards for their performances. Despite originally being billed as a miniseries, HBO renewed the series for a second season. Production on the second season began in March 2018 and is set to premiere in 2019. All seven episodes are being written by Kelley',\n",
       "  'score': '82.65207',\n",
       "  'has_answer': True},\n",
       " {'id': '18768930',\n",
       "  'title': 'Big Little Lies (TV series)',\n",
       "  'text': 'were shot in Pacific Grove and Carmel Highlands as well. On October 16, 2016, HBO released the first teaser trailer for the series. On December 5, 2016, HBO released a full length trailer for the series. On February 7, 2017, the series held its official premiere at the TCL Chinese Theatre in Los Angeles, California. Internationally, the series premiered on February 20, 2017, in Australia on Showcase, and on March 13, 2017, in the United Kingdom and Ireland on Sky Atlantic. The show was initially conceived of and billed as a miniseries of seven episodes. In the wake of the',\n",
       "  'score': '79.26525',\n",
       "  'has_answer': True},\n",
       " {'id': '18768925',\n",
       "  'title': 'Big Little Lies (TV series)',\n",
       "  'text': 'that television series would be written by David E. Kelley. On May 8, 2015, it was announced that HBO had given the production a series order and that in addition to writing, Kelley would also executive produce. On October 23, 2015, it was reported that Jean-Marc Vallée was in talks to direct the first episode of the series with the potential to direct more. On December 17, 2015, it was announced that Vallée would direct all seven episodes of the series. On November 28, 2016, it was announced that the series would premiere on February 19, 2017. Alongside the initial',\n",
       "  'score': '78.53847',\n",
       "  'has_answer': True},\n",
       " {'id': '18768932',\n",
       "  'title': 'Big Little Lies (TV series)',\n",
       "  'text': 'show garnered an array of critical accolades, he changed his mind: \"It\\'d be great to reunite the team and to do it. Are we going to be able to do it, altogether? I wish.\" In July 2017, two weeks after the series was nominated for the Primetime Emmy Award for Outstanding Limited Series, HBO revealed that a second season was possible, and that Moriarty had been asked to write a story for it. In December 2017, after the Critics\\' Choice Television Award and Golden Globe Award nomination voting periods were over, HBO officially renewed the series for a seven-episode second',\n",
       "  'score': '77.6103',\n",
       "  'has_answer': True},\n",
       " {'id': '18768935',\n",
       "  'title': 'Big Little Lies (TV series)',\n",
       "  'text': 'shows of 2017. A soundtrack for the series was released on Google Play and iTunes on March 31, 2017. The first season was released on Blu-ray and DVD on August 1, 2017. Big Little Lies (TV series) Big Little Lies is an American drama television series, based on the novel of the same name by Liane Moriarty, that premiered on February 19, 2017, on HBO. Created and written by David E. Kelley, the series\\' seven-episode first season was directed by Jean-Marc Vallée. \"Big Little Lies\" stars Nicole Kidman, Reese Witherspoon and Shailene Woodley and tells the story of three emotionally',\n",
       "  'score': '75.914474',\n",
       "  'has_answer': True}]"
      ]
     },
     "execution_count": 69,
     "metadata": {},
     "output_type": "execute_result"
    }
   ],
   "source": [
    "train_data[0]['positive_ctxs']"
   ]
  },
  {
   "cell_type": "markdown",
   "id": "0e0981e5-3c2b-4658-8086-ecf2821c50c8",
   "metadata": {},
   "source": [
    "### Save data"
   ]
  },
  {
   "cell_type": "code",
   "execution_count": 63,
   "id": "9715ce76-7b54-4d0b-af4f-4349428d9c91",
   "metadata": {},
   "outputs": [],
   "source": [
    "#| export\n",
    "def save_dataset(save_dir, lbl_info, tst_info=None, trn_info=None, suffix=''):\n",
    "    os.makedirs(save_dir, exist_ok=True)\n",
    "    x_suffix = f'_{suffix}' if len(suffix) else ''\n",
    "\n",
    "    if trn_info is not None: sp.save_npz(f'{save_dir}/trn_X_Y{x_suffix}.npz', trn_info.mat)\n",
    "    if tst_info is not None: sp.save_npz(f'{save_dir}/tst_X_Y{x_suffix}.npz', tst_info.mat)\n",
    "    \n",
    "    os.makedirs(f'{save_dir}/raw_data', exist_ok=True)\n",
    "    y_suffix = f'.{suffix}' if len(suffix) else ''\n",
    "    if trn_info is not None: save_raw_file(f'{save_dir}/raw_data/train.raw.csv', trn_info.ids, trn_info.txt)\n",
    "    if tst_info is not None: save_raw_file(f'{save_dir}/raw_data/test.raw.csv', tst_info.ids, tst_info.txt)\n",
    "    save_raw_file(f'{save_dir}/raw_data/label{y_suffix}.raw.csv', lbl_info.ids, lbl_info.txt)\n",
    "    "
   ]
  },
  {
   "cell_type": "code",
   "execution_count": 64,
   "id": "a29fc25a-4719-4f58-924c-c9ce63110b4c",
   "metadata": {},
   "outputs": [],
   "source": [
    "#| export\n",
    "def get_and_save_kaggle_dataset(fname:str, key='positive_ctxs', save_dir:str=None, suffix=''):\n",
    "    qry_info, lbl_info = get_kaggle_dataset(fname, key=key)\n",
    "    if save_dir is not None: save_dataset(save_dir, lbl_info, trn_info=qry_info, suffix=suffix)\n",
    "    return qry_info, lbl_info\n",
    "    "
   ]
  },
  {
   "cell_type": "code",
   "execution_count": 70,
   "id": "e21bea71-9b8d-42c8-98c2-a5c70d6d92f5",
   "metadata": {},
   "outputs": [],
   "source": [
    "#| export\n",
    "def parse_args():\n",
    "    parser = argparse.ArgumentParser()\n",
    "    parser.add_argument('--fname', type=str, required=True)\n",
    "    parser.add_argument('--key', type=str, default='positive_ctxs')\n",
    "    parser.add_argument('--save_dir', type=str, default=None)\n",
    "    parser.add_argument('--suffix', type=str, default='')\n",
    "    \n",
    "    return parser.parse_args()\n",
    "    "
   ]
  },
  {
   "cell_type": "code",
   "execution_count": null,
   "id": "06dba77d-3b75-4bdc-8ab5-d1d3ec195c2d",
   "metadata": {},
   "outputs": [],
   "source": [
    "#| export\n",
    "if __name__ == '__main__':\n",
    "    args = parse_args()\n",
    "    get_and_save_kaggle_dataset(args.fname, key=args.key, save_dir=args.save_dir, suffix=args.suffix)\n",
    "                          "
   ]
  },
  {
   "cell_type": "code",
   "execution_count": null,
   "id": "e9ef72fa-c8fe-4876-ad5c-906e492d3e16",
   "metadata": {},
   "outputs": [],
   "source": []
  },
  {
   "cell_type": "code",
   "execution_count": 66,
   "id": "124d1709-ea6b-489c-880b-635989ee4dd0",
   "metadata": {},
   "outputs": [
    {
     "data": {
      "application/vnd.jupyter.widget-view+json": {
       "model_id": "81cadc20b7f14338a4678d56c92efb26",
       "version_major": 2,
       "version_minor": 0
      },
      "text/plain": [
       "  0%|          | 0/4 [00:00<?, ?it/s]"
      ]
     },
     "metadata": {},
     "output_type": "display_data"
    }
   ],
   "source": [
    "fname = '/home/scai/phd/aiz218323/scratch/datasets/nq/nq-train.json'\n",
    "save_dir = '/home/scai/phd/aiz218323/scratch/datasets/nq/XC'\n",
    "\n",
    "trn_info, lbl_info = get_and_save_kaggle_dataset(fname, save_dir=save_dir, suffix='kaggle')"
   ]
  },
  {
   "cell_type": "code",
   "execution_count": null,
   "id": "af948ebe-d420-48b4-a8e6-a9deab258167",
   "metadata": {},
   "outputs": [],
   "source": []
  },
  {
   "cell_type": "code",
   "execution_count": null,
   "id": "8d0e85df-a139-43c5-b922-729410206eb8",
   "metadata": {},
   "outputs": [],
   "source": []
  }
 ],
 "metadata": {
  "kernelspec": {
   "display_name": "Python 3 (ipykernel)",
   "language": "python",
   "name": "python3"
  },
  "language_info": {
   "codemirror_mode": {
    "name": "ipython",
    "version": 3
   },
   "file_extension": ".py",
   "mimetype": "text/x-python",
   "name": "python",
   "nbconvert_exporter": "python",
   "pygments_lexer": "ipython3",
   "version": "3.10.16"
  }
 },
 "nbformat": 4,
 "nbformat_minor": 5
}
