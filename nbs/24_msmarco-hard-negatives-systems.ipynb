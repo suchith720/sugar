{
 "cells": [
  {
   "cell_type": "code",
   "execution_count": 1,
   "id": "4f0ac7ca-382a-4bc2-aaa9-a79fe3ada1eb",
   "metadata": {},
   "outputs": [],
   "source": [
    "#| default_exp 24_msmarco-hard-negatives-systems"
   ]
  },
  {
   "cell_type": "code",
   "execution_count": 2,
   "id": "245babbb-afc5-4379-817e-61e9866eaa4a",
   "metadata": {},
   "outputs": [],
   "source": [
    "%reload_ext autoreload\n",
    "%autoreload 2"
   ]
  },
  {
   "cell_type": "code",
   "execution_count": 44,
   "id": "46f55735-b87a-4382-a9e2-513c06b30083",
   "metadata": {},
   "outputs": [],
   "source": [
    "#| export\n",
    "import pickle, scipy.sparse as sp, numpy as np, argparse, os, json\n",
    "from xclib.utils.sparse import retain_topk\n",
    "from tqdm.auto import tqdm\n",
    "from typing import Dict\n",
    "\n",
    "from sugar.core import *"
   ]
  },
  {
   "cell_type": "markdown",
   "id": "cef0d789-3c09-4568-9af0-05b5b1a43f56",
   "metadata": {},
   "source": [
    "## Setup"
   ]
  },
  {
   "cell_type": "code",
   "execution_count": 7,
   "id": "318ee085-3321-4417-86d9-6e30cbb22b2f",
   "metadata": {},
   "outputs": [],
   "source": [
    "fname = '/Users/suchith720/Projects/data/msmarco-hard-negatives.jsonl'"
   ]
  },
  {
   "cell_type": "code",
   "execution_count": 38,
   "id": "4616ac10-4985-468a-91af-489b46cab863",
   "metadata": {},
   "outputs": [],
   "source": [
    "#| export\n",
    "def load_negatives_system_info(fname:str):\n",
    "    negatives, systems = {}, {}\n",
    "    with open(fname) as file:\n",
    "        for line in file:\n",
    "            c = json.loads(line)\n",
    "            for k,v in c['neg'].items():\n",
    "                sys_id = systems.setdefault(k, len(systems))\n",
    "                negatives[c['qid']] = {o:sys_id for o in v}\n",
    "    return systems, negatives\n",
    "                "
   ]
  },
  {
   "cell_type": "code",
   "execution_count": 29,
   "id": "ff89e492-b744-4256-8d0d-93664d6273cf",
   "metadata": {},
   "outputs": [
    {
     "name": "stdout",
     "output_type": "stream",
     "text": [
      "CPU times: user 1min 1s, sys: 1.53 s, total: 1min 2s\n",
      "Wall time: 1min 2s\n"
     ]
    }
   ],
   "source": [
    "%%time\n",
    "systems, negatives = load_negatives_system_info(fname)"
   ]
  },
  {
   "cell_type": "code",
   "execution_count": 31,
   "id": "26c25a19-7f37-4d7f-a4e1-f84e3a64e6c5",
   "metadata": {},
   "outputs": [
    {
     "data": {
      "text/plain": [
       "13"
      ]
     },
     "execution_count": 31,
     "metadata": {},
     "output_type": "execute_result"
    }
   ],
   "source": [
    "len(systems)"
   ]
  },
  {
   "cell_type": "code",
   "execution_count": 45,
   "id": "392c00da-9a30-4102-b067-30a0624b9af3",
   "metadata": {},
   "outputs": [],
   "source": [
    "#| export\n",
    "def create_system_matrix(data_meta:sp.csr_matrix, data_info:Dict, meta_idx2id:Dict):\n",
    "    data = list()\n",
    "    for i, (p,q) in tqdm(enumerate(zip(data_meta.indptr, data_meta.indptr[1:])), total=data_meta.shape[0]):\n",
    "        negs = negatives[int(data_info[i])]\n",
    "        data.extend([negs[int(meta_idx2id[j])] for j in data_meta.indices[p:q]])\n",
    "    return sp.csr_matrix((data, data_meta.indices, data_meta.indptr), dtype=np.int64, shape=data_meta.shape)\n"
   ]
  },
  {
   "cell_type": "code",
   "execution_count": 46,
   "id": "dc733fcc-93ae-4343-b817-64bd4eb2ffe3",
   "metadata": {},
   "outputs": [],
   "source": [
    "#| export\n",
    "def get_topk_scores_per_system(data_meta:sp.csr_matrix, systems:Dict, data_sys:sp.csr_matrix, topk:int=5):\n",
    "    scores = sp.csr_matrix(data_meta.shape)\n",
    "    for k,v in systems.items():\n",
    "        mask = data_sys.copy()\n",
    "        mask.data[:] = np.where(mask.data == v, 1, 0)\n",
    "        mask.eliminate_zeros()\n",
    "        scores += retain_topk(data_meta.multiply(mask), k=topk)\n",
    "    return scores\n",
    "    "
   ]
  },
  {
   "cell_type": "markdown",
   "id": "8cb44203-ca47-434a-9874-01233e457cc0",
   "metadata": {},
   "source": [
    "## Driver"
   ]
  },
  {
   "cell_type": "code",
   "execution_count": 41,
   "id": "612f60ee-3414-4c2a-849f-0d9d7818779a",
   "metadata": {},
   "outputs": [],
   "source": [
    "#| export\n",
    "def parse_args():\n",
    "    parser = argparse.ArgumentParser()\n",
    "    parser.add_argument('--data_meta', type=str, required=True)\n",
    "    parser.add_argument('--data_info', type=str, required=True)\n",
    "    parser.add_argument('--meta_info', type=str, required=True)\n",
    "    parser.add_argument('--negatives', type=str, required=True)\n",
    "    parser.add_argument('--topk', type=int, default=5)\n",
    "    \n",
    "    return parser.parse_args()\n",
    "    "
   ]
  },
  {
   "cell_type": "code",
   "execution_count": 47,
   "id": "90a86fd7-6859-40c6-b947-5ddcaec5c8d1",
   "metadata": {},
   "outputs": [],
   "source": [
    "data_meta_file = \"/data/datasets/msmarco/XC//ce-negatives_trn_X_Y.npz\"\n",
    "data_info_file = \"/data/datasets/msmarco/XC//raw_data/train.raw.txt\"\n",
    "meta_info_file =  \"/data/datasets/msmarco/XC//raw_data/ce-scores.raw.txt\"\n",
    "\n",
    "neg_file = \"/data/datasets/msmarco/ce_scores/msmarco-hard-negatives.jsonl\"\n",
    "\n",
    "topk = 5"
   ]
  },
  {
   "cell_type": "code",
   "execution_count": 48,
   "id": "36bd4854-7c41-4c91-a35f-fb9ddbc54aaa",
   "metadata": {},
   "outputs": [
    {
     "name": "stderr",
     "output_type": "stream",
     "text": [
      "usage: ipykernel_launcher.py [-h] --data_meta DATA_META --data_info DATA_INFO\n",
      "                             --meta_info META_INFO --negatives NEGATIVES\n",
      "                             [--topk TOPK]\n",
      "ipykernel_launcher.py: error: the following arguments are required: --data_meta, --data_info, --meta_info, --negatives\n"
     ]
    },
    {
     "ename": "SystemExit",
     "evalue": "2",
     "output_type": "error",
     "traceback": [
      "An exception has occurred, use %tb to see the full traceback.\n",
      "\u001b[0;31mSystemExit\u001b[0m\u001b[0;31m:\u001b[0m 2\n"
     ]
    },
    {
     "name": "stderr",
     "output_type": "stream",
     "text": [
      "/Users/suchith720/miniconda3/envs/mogic/lib/python3.13/site-packages/IPython/core/interactiveshell.py:3587: UserWarning: To exit: use 'exit', 'quit', or Ctrl-D.\n",
      "  warn(\"To exit: use 'exit', 'quit', or Ctrl-D.\", stacklevel=1)\n"
     ]
    }
   ],
   "source": [
    "#| export\n",
    "if __name__ == '__main__':\n",
    "    input_args = parse_args()\n",
    "    \n",
    "    data_meta = sp.load_npz(input_args.data_meta)\n",
    "    data_info, _ = load_raw_file(input_args.data_info)\n",
    "    meta_info, _ = load_raw_file(input_args.meta_info)\n",
    "\n",
    "    systems, negatives = load_negatives_system_info(input_args.negatives)\n",
    "\n",
    "    meta_idx2id = {k:v for k,v in enumerate(meta_info)}\n",
    "    data_sys = create_system_matrix(data_meta, data_info, meta_idx2id)\n",
    "\n",
    "    scores = get_topk_scores_per_system(data_meta, systems, data_sys, topk=input_args.topk)\n",
    "\n",
    "    file_parts = data_meta_file.split('_', maxsplit=1)\n",
    "    out_file = file_parts[0] + f'-topk-{topk:02d}_' + file_parts[1]\n",
    "    sp.save_npz(out_file, scores)\n",
    "    "
   ]
  },
  {
   "cell_type": "code",
   "execution_count": null,
   "id": "e01e0b19-dc80-4302-8b3c-3e846eb3b994",
   "metadata": {},
   "outputs": [],
   "source": []
  }
 ],
 "metadata": {
  "kernelspec": {
   "display_name": "Python 3 (ipykernel)",
   "language": "python",
   "name": "python3"
  },
  "language_info": {
   "codemirror_mode": {
    "name": "ipython",
    "version": 3
   },
   "file_extension": ".py",
   "mimetype": "text/x-python",
   "name": "python",
   "nbconvert_exporter": "python",
   "pygments_lexer": "ipython3",
   "version": "3.13.2"
  }
 },
 "nbformat": 4,
 "nbformat_minor": 5
}
