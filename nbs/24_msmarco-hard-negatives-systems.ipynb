{
 "cells": [
  {
   "cell_type": "code",
   "execution_count": 1,
   "id": "4f0ac7ca-382a-4bc2-aaa9-a79fe3ada1eb",
   "metadata": {},
   "outputs": [],
   "source": [
    "#| default_exp 24_msmarco-hard-negatives-systems"
   ]
  },
  {
   "cell_type": "code",
   "execution_count": 2,
   "id": "245babbb-afc5-4379-817e-61e9866eaa4a",
   "metadata": {},
   "outputs": [],
   "source": [
    "%reload_ext autoreload\n",
    "%autoreload 2"
   ]
  },
  {
   "cell_type": "code",
   "execution_count": 6,
   "id": "46f55735-b87a-4382-a9e2-513c06b30083",
   "metadata": {},
   "outputs": [],
   "source": [
    "#| export\n",
    "import pickle, scipy.sparse as sp, numpy as np, argparse, os, json\n",
    "from tqdm.auto import tqdm\n",
    "from typing import Optional, List\n",
    "\n",
    "from xcai.main import *\n",
    "from sugar.core import *"
   ]
  },
  {
   "cell_type": "markdown",
   "id": "cef0d789-3c09-4568-9af0-05b5b1a43f56",
   "metadata": {},
   "source": [
    "## Setup"
   ]
  },
  {
   "cell_type": "code",
   "execution_count": 7,
   "id": "318ee085-3321-4417-86d9-6e30cbb22b2f",
   "metadata": {},
   "outputs": [],
   "source": [
    "fname = '/Users/suchith720/Projects/data/msmarco-hard-negatives.jsonl'"
   ]
  },
  {
   "cell_type": "code",
   "execution_count": 32,
   "id": "4616ac10-4985-468a-91af-489b46cab863",
   "metadata": {},
   "outputs": [],
   "source": [
    "#| export\n",
    "def load_negatives_system_info(fname):\n",
    "    negatives, systems = {}, {}\n",
    "    with open(fname) as file:\n",
    "        for line in file:\n",
    "            c = json.loads(line)\n",
    "            for k,v in c['neg'].items():\n",
    "                sys_id = systems.setdefault(k, len(systems))\n",
    "                negatives[c['qid']] = {o:sys_id for o in v}\n",
    "    return systems, negatives\n",
    "                "
   ]
  },
  {
   "cell_type": "code",
   "execution_count": 29,
   "id": "ff89e492-b744-4256-8d0d-93664d6273cf",
   "metadata": {},
   "outputs": [
    {
     "name": "stdout",
     "output_type": "stream",
     "text": [
      "CPU times: user 1min 1s, sys: 1.53 s, total: 1min 2s\n",
      "Wall time: 1min 2s\n"
     ]
    }
   ],
   "source": [
    "%%time\n",
    "systems, negatives = load_negatives_system_info(fname)"
   ]
  },
  {
   "cell_type": "code",
   "execution_count": 31,
   "id": "26c25a19-7f37-4d7f-a4e1-f84e3a64e6c5",
   "metadata": {},
   "outputs": [
    {
     "data": {
      "text/plain": [
       "13"
      ]
     },
     "execution_count": 31,
     "metadata": {},
     "output_type": "execute_result"
    }
   ],
   "source": [
    "len(systems)"
   ]
  },
  {
   "cell_type": "code",
   "execution_count": null,
   "id": "c46be226-63a1-4d7d-a654-2569696f159f",
   "metadata": {},
   "outputs": [],
   "source": []
  },
  {
   "cell_type": "code",
   "execution_count": null,
   "id": "379fdab4-5cb9-410c-a14a-030bb45df0c5",
   "metadata": {},
   "outputs": [],
   "source": []
  },
  {
   "cell_type": "code",
   "execution_count": null,
   "id": "1b87374a-d682-4218-bfb5-7de4b6f401d6",
   "metadata": {},
   "outputs": [],
   "source": []
  }
 ],
 "metadata": {
  "kernelspec": {
   "display_name": "Python 3 (ipykernel)",
   "language": "python",
   "name": "python3"
  },
  "language_info": {
   "codemirror_mode": {
    "name": "ipython",
    "version": 3
   },
   "file_extension": ".py",
   "mimetype": "text/x-python",
   "name": "python",
   "nbconvert_exporter": "python",
   "pygments_lexer": "ipython3",
   "version": "3.13.2"
  }
 },
 "nbformat": 4,
 "nbformat_minor": 5
}
